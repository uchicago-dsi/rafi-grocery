{
 "cells": [
  {
   "cell_type": "markdown",
   "id": "6fbf6ea8-1a05-4633-9ba5-16d6dfc8848d",
   "metadata": {
    "tags": []
   },
   "source": [
    "IL Top 10 - david "
   ]
  },
  {
   "cell_type": "code",
   "execution_count": 81,
   "id": "91f98324-c3ed-42a1-816a-6f712271c5cd",
   "metadata": {
    "tags": []
   },
   "outputs": [],
   "source": [
    "import numpy as np\n",
    "import pandas as pd\n",
    "import geopandas as gpd\n",
    "import matplotlib\n",
    "from matplotlib import pyplot as plt\n",
    "pd.set_option('display.max_columns',None)\n",
    "import seaborn as sns\n",
    "from shapely.geometry import Point, Polygon\n",
    "import math\n",
    "import plotly.express as px\n",
    "from thefuzz import fuzz\n",
    "from thefuzz import process"
   ]
  },
  {
   "cell_type": "code",
   "execution_count": 82,
   "id": "b9df2f86-65cd-4606-ab4b-6a6503970527",
   "metadata": {
    "tags": []
   },
   "outputs": [
    {
     "data": {
      "text/html": [
       "<div>\n",
       "<style scoped>\n",
       "    .dataframe tbody tr th:only-of-type {\n",
       "        vertical-align: middle;\n",
       "    }\n",
       "\n",
       "    .dataframe tbody tr th {\n",
       "        vertical-align: top;\n",
       "    }\n",
       "\n",
       "    .dataframe thead th {\n",
       "        text-align: right;\n",
       "    }\n",
       "</style>\n",
       "<table border=\"1\" class=\"dataframe\">\n",
       "  <thead>\n",
       "    <tr style=\"text-align: right;\">\n",
       "      <th></th>\n",
       "      <th>COMPANY</th>\n",
       "      <th>ADDRESS LINE 1</th>\n",
       "      <th>CITY</th>\n",
       "      <th>STATE</th>\n",
       "      <th>ZIPCODE</th>\n",
       "      <th>ZIP4</th>\n",
       "      <th>COUNTY CODE</th>\n",
       "      <th>AREA CODE</th>\n",
       "      <th>IDCODE</th>\n",
       "      <th>LOCATION EMPLOYEE SIZE CODE</th>\n",
       "      <th>LOCATION SALES VOLUME CODE</th>\n",
       "      <th>PRIMARY SIC CODE</th>\n",
       "      <th>SIC6_DESCRIPTIONS</th>\n",
       "      <th>PRIMARY NAICS CODE</th>\n",
       "      <th>NAICS8 DESCRIPTIONS</th>\n",
       "      <th>SIC CODE</th>\n",
       "      <th>SIC6_DESCRIPTIONS (SIC)</th>\n",
       "      <th>SIC CODE 1</th>\n",
       "      <th>SIC6_DESCRIPTIONS (SIC1)</th>\n",
       "      <th>SIC CODE 2</th>\n",
       "      <th>SIC6_DESCRIPTIONS(SIC2)</th>\n",
       "      <th>SIC CODE 3</th>\n",
       "      <th>SIC6_DESCRIPTIONS(SIC3)</th>\n",
       "      <th>SIC CODE 4</th>\n",
       "      <th>SIC6_DESCRIPTIONS(SIC4)</th>\n",
       "      <th>ARCHIVE VERSION YEAR</th>\n",
       "      <th>YELLOW PAGE CODE</th>\n",
       "      <th>EMPLOYEE SIZE (5) - LOCATION</th>\n",
       "      <th>SALES VOLUME (9) - LOCATION</th>\n",
       "      <th>BUSINESS STATUS CODE</th>\n",
       "      <th>INDUSTRY SPECIFIC FIRST BYTE</th>\n",
       "      <th>YEAR ESTABLISHED</th>\n",
       "      <th>OFFICE SIZE CODE</th>\n",
       "      <th>COMPANY HOLDING STATUS</th>\n",
       "      <th>ABI</th>\n",
       "      <th>SUBSIDIARY NUMBER</th>\n",
       "      <th>PARENT NUMBER</th>\n",
       "      <th>PARENT ACTUAL EMPLOYEE SIZE</th>\n",
       "      <th>PARENT ACTUAL SALES VOLUME</th>\n",
       "      <th>PARENT EMPLOYEE SIZE CODE</th>\n",
       "      <th>PARENT SALES VOLUME CODE</th>\n",
       "      <th>SITE NUMBER</th>\n",
       "      <th>ADDRESS TYPE INDICATOR</th>\n",
       "      <th>POPULATION CODE</th>\n",
       "      <th>CENSUS TRACT</th>\n",
       "      <th>CENSUS BLOCK</th>\n",
       "      <th>LATITUDE</th>\n",
       "      <th>LONGITUDE</th>\n",
       "      <th>MATCH CODE</th>\n",
       "      <th>CBSA CODE</th>\n",
       "      <th>CBSA LEVEL</th>\n",
       "      <th>CSA CODE</th>\n",
       "      <th>FIPS CODE</th>\n",
       "    </tr>\n",
       "  </thead>\n",
       "  <tbody>\n",
       "    <tr>\n",
       "      <th>0</th>\n",
       "      <td>GOMART</td>\n",
       "      <td>55 POSTAL PLZ</td>\n",
       "      <td>MORGANTOWN</td>\n",
       "      <td>WV</td>\n",
       "      <td>26508</td>\n",
       "      <td>7005.0</td>\n",
       "      <td>61.0</td>\n",
       "      <td>304</td>\n",
       "      <td>2</td>\n",
       "      <td>C</td>\n",
       "      <td>C</td>\n",
       "      <td>541103</td>\n",
       "      <td>CONVENIENCE STORES</td>\n",
       "      <td>44512001.0</td>\n",
       "      <td>CONVENIENCE STORES</td>\n",
       "      <td>554101.0</td>\n",
       "      <td>SERVICE STATIONS-GASOLINE &amp; OIL</td>\n",
       "      <td>554110.0</td>\n",
       "      <td>ALTERNATIVE FUELS</td>\n",
       "      <td>NaN</td>\n",
       "      <td>NaN</td>\n",
       "      <td>NaN</td>\n",
       "      <td>NaN</td>\n",
       "      <td>NaN</td>\n",
       "      <td>NaN</td>\n",
       "      <td>2022</td>\n",
       "      <td>21303.0</td>\n",
       "      <td>13.0</td>\n",
       "      <td>2482.0</td>\n",
       "      <td>2</td>\n",
       "      <td>NaN</td>\n",
       "      <td>NaN</td>\n",
       "      <td>NaN</td>\n",
       "      <td>NaN</td>\n",
       "      <td>998372387</td>\n",
       "      <td>NaN</td>\n",
       "      <td>124929449.0</td>\n",
       "      <td>50.0</td>\n",
       "      <td>389500.0</td>\n",
       "      <td>E</td>\n",
       "      <td>I</td>\n",
       "      <td>998372387.0</td>\n",
       "      <td>NaN</td>\n",
       "      <td>7</td>\n",
       "      <td>11000.0</td>\n",
       "      <td>3.0</td>\n",
       "      <td>39.594376</td>\n",
       "      <td>-79.954437</td>\n",
       "      <td>P</td>\n",
       "      <td>34060.0</td>\n",
       "      <td>2.0</td>\n",
       "      <td>390.0</td>\n",
       "      <td>54061.0</td>\n",
       "    </tr>\n",
       "    <tr>\n",
       "      <th>1</th>\n",
       "      <td>7-ELEVEN</td>\n",
       "      <td>485 E MAIN ST</td>\n",
       "      <td>EL CENTRO</td>\n",
       "      <td>CA</td>\n",
       "      <td>92243</td>\n",
       "      <td>2619.0</td>\n",
       "      <td>25.0</td>\n",
       "      <td>760</td>\n",
       "      <td>2</td>\n",
       "      <td>B</td>\n",
       "      <td>C</td>\n",
       "      <td>541103</td>\n",
       "      <td>CONVENIENCE STORES</td>\n",
       "      <td>44512001.0</td>\n",
       "      <td>CONVENIENCE STORES</td>\n",
       "      <td>554101.0</td>\n",
       "      <td>SERVICE STATIONS-GASOLINE &amp; OIL</td>\n",
       "      <td>NaN</td>\n",
       "      <td>NaN</td>\n",
       "      <td>NaN</td>\n",
       "      <td>NaN</td>\n",
       "      <td>NaN</td>\n",
       "      <td>NaN</td>\n",
       "      <td>NaN</td>\n",
       "      <td>NaN</td>\n",
       "      <td>2022</td>\n",
       "      <td>NaN</td>\n",
       "      <td>6.0</td>\n",
       "      <td>1273.0</td>\n",
       "      <td>2</td>\n",
       "      <td>W</td>\n",
       "      <td>NaN</td>\n",
       "      <td>NaN</td>\n",
       "      <td>NaN</td>\n",
       "      <td>495660326</td>\n",
       "      <td>NaN</td>\n",
       "      <td>5863311.0</td>\n",
       "      <td>800.0</td>\n",
       "      <td>1272634.0</td>\n",
       "      <td>H</td>\n",
       "      <td>K</td>\n",
       "      <td>495660326.0</td>\n",
       "      <td>NaN</td>\n",
       "      <td>7</td>\n",
       "      <td>11400.0</td>\n",
       "      <td>3.0</td>\n",
       "      <td>32.792679</td>\n",
       "      <td>-115.536058</td>\n",
       "      <td>0</td>\n",
       "      <td>20940.0</td>\n",
       "      <td>2.0</td>\n",
       "      <td>0.0</td>\n",
       "      <td>6025.0</td>\n",
       "    </tr>\n",
       "    <tr>\n",
       "      <th>2</th>\n",
       "      <td>EL SOL MARKET</td>\n",
       "      <td>110 W MAIN ST</td>\n",
       "      <td>WESTMORLAND</td>\n",
       "      <td>CA</td>\n",
       "      <td>92281</td>\n",
       "      <td>NaN</td>\n",
       "      <td>25.0</td>\n",
       "      <td>760</td>\n",
       "      <td>2</td>\n",
       "      <td>B</td>\n",
       "      <td>C</td>\n",
       "      <td>541105</td>\n",
       "      <td>GROCERS-RETAIL</td>\n",
       "      <td>44511003.0</td>\n",
       "      <td>SUPERMARKETS/OTHER GROCERY (EXC CONVENIENCE) STRS</td>\n",
       "      <td>NaN</td>\n",
       "      <td>NaN</td>\n",
       "      <td>NaN</td>\n",
       "      <td>NaN</td>\n",
       "      <td>NaN</td>\n",
       "      <td>NaN</td>\n",
       "      <td>NaN</td>\n",
       "      <td>NaN</td>\n",
       "      <td>NaN</td>\n",
       "      <td>NaN</td>\n",
       "      <td>2022</td>\n",
       "      <td>39106.0</td>\n",
       "      <td>5.0</td>\n",
       "      <td>1061.0</td>\n",
       "      <td>9</td>\n",
       "      <td>NaN</td>\n",
       "      <td>NaN</td>\n",
       "      <td>NaN</td>\n",
       "      <td>NaN</td>\n",
       "      <td>519605455</td>\n",
       "      <td>NaN</td>\n",
       "      <td>NaN</td>\n",
       "      <td>NaN</td>\n",
       "      <td>NaN</td>\n",
       "      <td>NaN</td>\n",
       "      <td>NaN</td>\n",
       "      <td>NaN</td>\n",
       "      <td>NaN</td>\n",
       "      <td>3</td>\n",
       "      <td>10200.0</td>\n",
       "      <td>1.0</td>\n",
       "      <td>33.051800</td>\n",
       "      <td>-115.581800</td>\n",
       "      <td>X</td>\n",
       "      <td>20940.0</td>\n",
       "      <td>2.0</td>\n",
       "      <td>0.0</td>\n",
       "      <td>6025.0</td>\n",
       "    </tr>\n",
       "    <tr>\n",
       "      <th>3</th>\n",
       "      <td>COOL SPRINGS GROCERY</td>\n",
       "      <td>241 WILDWOOD ST</td>\n",
       "      <td>MORGANTOWN</td>\n",
       "      <td>WV</td>\n",
       "      <td>26505</td>\n",
       "      <td>3141.0</td>\n",
       "      <td>61.0</td>\n",
       "      <td>304</td>\n",
       "      <td>2</td>\n",
       "      <td>A</td>\n",
       "      <td>A</td>\n",
       "      <td>541105</td>\n",
       "      <td>GROCERS-RETAIL</td>\n",
       "      <td>44511003.0</td>\n",
       "      <td>SUPERMARKETS/OTHER GROCERY (EXC CONVENIENCE) STRS</td>\n",
       "      <td>NaN</td>\n",
       "      <td>NaN</td>\n",
       "      <td>NaN</td>\n",
       "      <td>NaN</td>\n",
       "      <td>NaN</td>\n",
       "      <td>NaN</td>\n",
       "      <td>NaN</td>\n",
       "      <td>NaN</td>\n",
       "      <td>NaN</td>\n",
       "      <td>NaN</td>\n",
       "      <td>2022</td>\n",
       "      <td>39106.0</td>\n",
       "      <td>2.0</td>\n",
       "      <td>382.0</td>\n",
       "      <td>9</td>\n",
       "      <td>NaN</td>\n",
       "      <td>NaN</td>\n",
       "      <td>NaN</td>\n",
       "      <td>NaN</td>\n",
       "      <td>817953730</td>\n",
       "      <td>NaN</td>\n",
       "      <td>NaN</td>\n",
       "      <td>NaN</td>\n",
       "      <td>NaN</td>\n",
       "      <td>NaN</td>\n",
       "      <td>NaN</td>\n",
       "      <td>NaN</td>\n",
       "      <td>NaN</td>\n",
       "      <td>7</td>\n",
       "      <td>10400.0</td>\n",
       "      <td>4.0</td>\n",
       "      <td>39.652885</td>\n",
       "      <td>-79.986398</td>\n",
       "      <td>P</td>\n",
       "      <td>34060.0</td>\n",
       "      <td>2.0</td>\n",
       "      <td>390.0</td>\n",
       "      <td>54061.0</td>\n",
       "    </tr>\n",
       "    <tr>\n",
       "      <th>4</th>\n",
       "      <td>CIRCLE K</td>\n",
       "      <td>123 E MAIN ST</td>\n",
       "      <td>WESTMORLAND</td>\n",
       "      <td>CA</td>\n",
       "      <td>92281</td>\n",
       "      <td>NaN</td>\n",
       "      <td>25.0</td>\n",
       "      <td>760</td>\n",
       "      <td>2</td>\n",
       "      <td>B</td>\n",
       "      <td>C</td>\n",
       "      <td>541103</td>\n",
       "      <td>CONVENIENCE STORES</td>\n",
       "      <td>44512001.0</td>\n",
       "      <td>CONVENIENCE STORES</td>\n",
       "      <td>554101.0</td>\n",
       "      <td>SERVICE STATIONS-GASOLINE &amp; OIL</td>\n",
       "      <td>NaN</td>\n",
       "      <td>NaN</td>\n",
       "      <td>NaN</td>\n",
       "      <td>NaN</td>\n",
       "      <td>NaN</td>\n",
       "      <td>NaN</td>\n",
       "      <td>NaN</td>\n",
       "      <td>NaN</td>\n",
       "      <td>2022</td>\n",
       "      <td>NaN</td>\n",
       "      <td>6.0</td>\n",
       "      <td>1273.0</td>\n",
       "      <td>2</td>\n",
       "      <td>F</td>\n",
       "      <td>NaN</td>\n",
       "      <td>NaN</td>\n",
       "      <td>NaN</td>\n",
       "      <td>855113817</td>\n",
       "      <td>NaN</td>\n",
       "      <td>450720289.0</td>\n",
       "      <td>650.0</td>\n",
       "      <td>4981020.0</td>\n",
       "      <td>H</td>\n",
       "      <td>J</td>\n",
       "      <td>NaN</td>\n",
       "      <td>NaN</td>\n",
       "      <td>3</td>\n",
       "      <td>10200.0</td>\n",
       "      <td>1.0</td>\n",
       "      <td>33.051800</td>\n",
       "      <td>-115.581800</td>\n",
       "      <td>X</td>\n",
       "      <td>20940.0</td>\n",
       "      <td>2.0</td>\n",
       "      <td>0.0</td>\n",
       "      <td>6025.0</td>\n",
       "    </tr>\n",
       "  </tbody>\n",
       "</table>\n",
       "</div>"
      ],
      "text/plain": [
       "                COMPANY   ADDRESS LINE 1         CITY STATE  ZIPCODE    ZIP4  \\\n",
       "0                GOMART    55 POSTAL PLZ   MORGANTOWN    WV    26508  7005.0   \n",
       "1              7-ELEVEN    485 E MAIN ST    EL CENTRO    CA    92243  2619.0   \n",
       "2         EL SOL MARKET    110 W MAIN ST  WESTMORLAND    CA    92281     NaN   \n",
       "3  COOL SPRINGS GROCERY  241 WILDWOOD ST   MORGANTOWN    WV    26505  3141.0   \n",
       "4              CIRCLE K    123 E MAIN ST  WESTMORLAND    CA    92281     NaN   \n",
       "\n",
       "   COUNTY CODE  AREA CODE  IDCODE LOCATION EMPLOYEE SIZE CODE  \\\n",
       "0         61.0        304       2                           C   \n",
       "1         25.0        760       2                           B   \n",
       "2         25.0        760       2                           B   \n",
       "3         61.0        304       2                           A   \n",
       "4         25.0        760       2                           B   \n",
       "\n",
       "  LOCATION SALES VOLUME CODE  PRIMARY SIC CODE   SIC6_DESCRIPTIONS  \\\n",
       "0                          C            541103  CONVENIENCE STORES   \n",
       "1                          C            541103  CONVENIENCE STORES   \n",
       "2                          C            541105      GROCERS-RETAIL   \n",
       "3                          A            541105      GROCERS-RETAIL   \n",
       "4                          C            541103  CONVENIENCE STORES   \n",
       "\n",
       "   PRIMARY NAICS CODE                                NAICS8 DESCRIPTIONS  \\\n",
       "0          44512001.0                                 CONVENIENCE STORES   \n",
       "1          44512001.0                                 CONVENIENCE STORES   \n",
       "2          44511003.0  SUPERMARKETS/OTHER GROCERY (EXC CONVENIENCE) STRS   \n",
       "3          44511003.0  SUPERMARKETS/OTHER GROCERY (EXC CONVENIENCE) STRS   \n",
       "4          44512001.0                                 CONVENIENCE STORES   \n",
       "\n",
       "   SIC CODE          SIC6_DESCRIPTIONS (SIC)  SIC CODE 1  \\\n",
       "0  554101.0  SERVICE STATIONS-GASOLINE & OIL    554110.0   \n",
       "1  554101.0  SERVICE STATIONS-GASOLINE & OIL         NaN   \n",
       "2       NaN                              NaN         NaN   \n",
       "3       NaN                              NaN         NaN   \n",
       "4  554101.0  SERVICE STATIONS-GASOLINE & OIL         NaN   \n",
       "\n",
       "  SIC6_DESCRIPTIONS (SIC1)  SIC CODE 2 SIC6_DESCRIPTIONS(SIC2)  SIC CODE 3  \\\n",
       "0        ALTERNATIVE FUELS         NaN                     NaN         NaN   \n",
       "1                      NaN         NaN                     NaN         NaN   \n",
       "2                      NaN         NaN                     NaN         NaN   \n",
       "3                      NaN         NaN                     NaN         NaN   \n",
       "4                      NaN         NaN                     NaN         NaN   \n",
       "\n",
       "  SIC6_DESCRIPTIONS(SIC3)  SIC CODE 4 SIC6_DESCRIPTIONS(SIC4)  \\\n",
       "0                     NaN         NaN                     NaN   \n",
       "1                     NaN         NaN                     NaN   \n",
       "2                     NaN         NaN                     NaN   \n",
       "3                     NaN         NaN                     NaN   \n",
       "4                     NaN         NaN                     NaN   \n",
       "\n",
       "   ARCHIVE VERSION YEAR  YELLOW PAGE CODE  EMPLOYEE SIZE (5) - LOCATION  \\\n",
       "0                  2022           21303.0                          13.0   \n",
       "1                  2022               NaN                           6.0   \n",
       "2                  2022           39106.0                           5.0   \n",
       "3                  2022           39106.0                           2.0   \n",
       "4                  2022               NaN                           6.0   \n",
       "\n",
       "   SALES VOLUME (9) - LOCATION  BUSINESS STATUS CODE  \\\n",
       "0                       2482.0                     2   \n",
       "1                       1273.0                     2   \n",
       "2                       1061.0                     9   \n",
       "3                        382.0                     9   \n",
       "4                       1273.0                     2   \n",
       "\n",
       "  INDUSTRY SPECIFIC FIRST BYTE  YEAR ESTABLISHED  OFFICE SIZE CODE  \\\n",
       "0                          NaN               NaN               NaN   \n",
       "1                            W               NaN               NaN   \n",
       "2                          NaN               NaN               NaN   \n",
       "3                          NaN               NaN               NaN   \n",
       "4                            F               NaN               NaN   \n",
       "\n",
       "   COMPANY HOLDING STATUS        ABI  SUBSIDIARY NUMBER  PARENT NUMBER  \\\n",
       "0                     NaN  998372387                NaN    124929449.0   \n",
       "1                     NaN  495660326                NaN      5863311.0   \n",
       "2                     NaN  519605455                NaN            NaN   \n",
       "3                     NaN  817953730                NaN            NaN   \n",
       "4                     NaN  855113817                NaN    450720289.0   \n",
       "\n",
       "   PARENT ACTUAL EMPLOYEE SIZE  PARENT ACTUAL SALES VOLUME  \\\n",
       "0                         50.0                    389500.0   \n",
       "1                        800.0                   1272634.0   \n",
       "2                          NaN                         NaN   \n",
       "3                          NaN                         NaN   \n",
       "4                        650.0                   4981020.0   \n",
       "\n",
       "  PARENT EMPLOYEE SIZE CODE PARENT SALES VOLUME CODE  SITE NUMBER  \\\n",
       "0                         E                        I  998372387.0   \n",
       "1                         H                        K  495660326.0   \n",
       "2                       NaN                      NaN          NaN   \n",
       "3                       NaN                      NaN          NaN   \n",
       "4                         H                        J          NaN   \n",
       "\n",
       "  ADDRESS TYPE INDICATOR  POPULATION CODE  CENSUS TRACT  CENSUS BLOCK  \\\n",
       "0                    NaN                7       11000.0           3.0   \n",
       "1                    NaN                7       11400.0           3.0   \n",
       "2                    NaN                3       10200.0           1.0   \n",
       "3                    NaN                7       10400.0           4.0   \n",
       "4                    NaN                3       10200.0           1.0   \n",
       "\n",
       "    LATITUDE   LONGITUDE MATCH CODE  CBSA CODE  CBSA LEVEL  CSA CODE  \\\n",
       "0  39.594376  -79.954437          P    34060.0         2.0     390.0   \n",
       "1  32.792679 -115.536058          0    20940.0         2.0       0.0   \n",
       "2  33.051800 -115.581800          X    20940.0         2.0       0.0   \n",
       "3  39.652885  -79.986398          P    34060.0         2.0     390.0   \n",
       "4  33.051800 -115.581800          X    20940.0         2.0       0.0   \n",
       "\n",
       "   FIPS CODE  \n",
       "0    54061.0  \n",
       "1     6025.0  \n",
       "2     6025.0  \n",
       "3    54061.0  \n",
       "4     6025.0  "
      ]
     },
     "execution_count": 82,
     "metadata": {},
     "output_type": "execute_result"
    }
   ],
   "source": [
    "stores_2022 = pd.read_csv('/srv/data/my_shared_data_folder/rafi/2022_Business_Academic_QCQ_grocery.csv')\n",
    "stores_2022.drop(['Unnamed: 0'],inplace=True,axis=1)\n",
    "territories = ['PR', 'FM', 'MP', 'GU', 'VI', 'MH']\n",
    "stores_2022 = stores_2022.drop(stores_2022[stores_2022['STATE'].isin(territories)].index)\n",
    "stores_2022.head()"
   ]
  },
  {
   "cell_type": "code",
   "execution_count": 83,
   "id": "25dfb102-6da9-4742-b99d-9ea382ed9096",
   "metadata": {
    "tags": []
   },
   "outputs": [
    {
     "data": {
      "text/html": [
       "<div>\n",
       "<style scoped>\n",
       "    .dataframe tbody tr th:only-of-type {\n",
       "        vertical-align: middle;\n",
       "    }\n",
       "\n",
       "    .dataframe tbody tr th {\n",
       "        vertical-align: top;\n",
       "    }\n",
       "\n",
       "    .dataframe thead th {\n",
       "        text-align: right;\n",
       "    }\n",
       "</style>\n",
       "<table border=\"1\" class=\"dataframe\">\n",
       "  <thead>\n",
       "    <tr style=\"text-align: right;\">\n",
       "      <th></th>\n",
       "      <th>COMPANY</th>\n",
       "      <th>ADDRESS LINE 1</th>\n",
       "      <th>CITY</th>\n",
       "      <th>STATE</th>\n",
       "      <th>ZIPCODE</th>\n",
       "      <th>ZIP4</th>\n",
       "      <th>COUNTY CODE</th>\n",
       "      <th>AREA CODE</th>\n",
       "      <th>IDCODE</th>\n",
       "      <th>LOCATION EMPLOYEE SIZE CODE</th>\n",
       "      <th>LOCATION SALES VOLUME CODE</th>\n",
       "      <th>PRIMARY SIC CODE</th>\n",
       "      <th>SIC6_DESCRIPTIONS</th>\n",
       "      <th>PRIMARY NAICS CODE</th>\n",
       "      <th>NAICS8 DESCRIPTIONS</th>\n",
       "      <th>SIC CODE</th>\n",
       "      <th>SIC6_DESCRIPTIONS (SIC)</th>\n",
       "      <th>SIC CODE 1</th>\n",
       "      <th>SIC6_DESCRIPTIONS (SIC1)</th>\n",
       "      <th>SIC CODE 2</th>\n",
       "      <th>SIC6_DESCRIPTIONS(SIC2)</th>\n",
       "      <th>SIC CODE 3</th>\n",
       "      <th>SIC6_DESCRIPTIONS(SIC3)</th>\n",
       "      <th>SIC CODE 4</th>\n",
       "      <th>SIC6_DESCRIPTIONS(SIC4)</th>\n",
       "      <th>ARCHIVE VERSION YEAR</th>\n",
       "      <th>YELLOW PAGE CODE</th>\n",
       "      <th>EMPLOYEE SIZE (5) - LOCATION</th>\n",
       "      <th>SALES VOLUME (9) - LOCATION</th>\n",
       "      <th>BUSINESS STATUS CODE</th>\n",
       "      <th>INDUSTRY SPECIFIC FIRST BYTE</th>\n",
       "      <th>YEAR ESTABLISHED</th>\n",
       "      <th>OFFICE SIZE CODE</th>\n",
       "      <th>COMPANY HOLDING STATUS</th>\n",
       "      <th>ABI</th>\n",
       "      <th>SUBSIDIARY NUMBER</th>\n",
       "      <th>PARENT NUMBER</th>\n",
       "      <th>PARENT ACTUAL EMPLOYEE SIZE</th>\n",
       "      <th>PARENT ACTUAL SALES VOLUME</th>\n",
       "      <th>PARENT EMPLOYEE SIZE CODE</th>\n",
       "      <th>PARENT SALES VOLUME CODE</th>\n",
       "      <th>SITE NUMBER</th>\n",
       "      <th>ADDRESS TYPE INDICATOR</th>\n",
       "      <th>POPULATION CODE</th>\n",
       "      <th>CENSUS TRACT</th>\n",
       "      <th>CENSUS BLOCK</th>\n",
       "      <th>LATITUDE</th>\n",
       "      <th>LONGITUDE</th>\n",
       "      <th>MATCH CODE</th>\n",
       "      <th>CBSA CODE</th>\n",
       "      <th>CBSA LEVEL</th>\n",
       "      <th>CSA CODE</th>\n",
       "      <th>FIPS CODE</th>\n",
       "    </tr>\n",
       "  </thead>\n",
       "  <tbody>\n",
       "    <tr>\n",
       "      <th>0</th>\n",
       "      <td>GOMART</td>\n",
       "      <td>55 POSTAL PLZ</td>\n",
       "      <td>MORGANTOWN</td>\n",
       "      <td>WV</td>\n",
       "      <td>26508</td>\n",
       "      <td>7005.0</td>\n",
       "      <td>61.0</td>\n",
       "      <td>304</td>\n",
       "      <td>2</td>\n",
       "      <td>C</td>\n",
       "      <td>C</td>\n",
       "      <td>541103</td>\n",
       "      <td>CONVENIENCE STORES</td>\n",
       "      <td>44512001.0</td>\n",
       "      <td>CONVENIENCE STORES</td>\n",
       "      <td>554101.0</td>\n",
       "      <td>SERVICE STATIONS-GASOLINE &amp; OIL</td>\n",
       "      <td>554110.0</td>\n",
       "      <td>ALTERNATIVE FUELS</td>\n",
       "      <td>NaN</td>\n",
       "      <td>NaN</td>\n",
       "      <td>NaN</td>\n",
       "      <td>NaN</td>\n",
       "      <td>NaN</td>\n",
       "      <td>NaN</td>\n",
       "      <td>2022</td>\n",
       "      <td>21303.0</td>\n",
       "      <td>13.0</td>\n",
       "      <td>2482.0</td>\n",
       "      <td>2</td>\n",
       "      <td>NaN</td>\n",
       "      <td>NaN</td>\n",
       "      <td>NaN</td>\n",
       "      <td>NaN</td>\n",
       "      <td>998372387</td>\n",
       "      <td>NaN</td>\n",
       "      <td>124929449.0</td>\n",
       "      <td>50.0</td>\n",
       "      <td>389500.0</td>\n",
       "      <td>E</td>\n",
       "      <td>I</td>\n",
       "      <td>998372387.0</td>\n",
       "      <td>NaN</td>\n",
       "      <td>7</td>\n",
       "      <td>11000.0</td>\n",
       "      <td>3.0</td>\n",
       "      <td>39.594376</td>\n",
       "      <td>-79.954437</td>\n",
       "      <td>P</td>\n",
       "      <td>34060.0</td>\n",
       "      <td>2.0</td>\n",
       "      <td>390.0</td>\n",
       "      <td>54061.0</td>\n",
       "    </tr>\n",
       "    <tr>\n",
       "      <th>1</th>\n",
       "      <td>7-ELEVEN</td>\n",
       "      <td>485 E MAIN ST</td>\n",
       "      <td>EL CENTRO</td>\n",
       "      <td>CA</td>\n",
       "      <td>92243</td>\n",
       "      <td>2619.0</td>\n",
       "      <td>25.0</td>\n",
       "      <td>760</td>\n",
       "      <td>2</td>\n",
       "      <td>B</td>\n",
       "      <td>C</td>\n",
       "      <td>541103</td>\n",
       "      <td>CONVENIENCE STORES</td>\n",
       "      <td>44512001.0</td>\n",
       "      <td>CONVENIENCE STORES</td>\n",
       "      <td>554101.0</td>\n",
       "      <td>SERVICE STATIONS-GASOLINE &amp; OIL</td>\n",
       "      <td>NaN</td>\n",
       "      <td>NaN</td>\n",
       "      <td>NaN</td>\n",
       "      <td>NaN</td>\n",
       "      <td>NaN</td>\n",
       "      <td>NaN</td>\n",
       "      <td>NaN</td>\n",
       "      <td>NaN</td>\n",
       "      <td>2022</td>\n",
       "      <td>NaN</td>\n",
       "      <td>6.0</td>\n",
       "      <td>1273.0</td>\n",
       "      <td>2</td>\n",
       "      <td>W</td>\n",
       "      <td>NaN</td>\n",
       "      <td>NaN</td>\n",
       "      <td>NaN</td>\n",
       "      <td>495660326</td>\n",
       "      <td>NaN</td>\n",
       "      <td>5863311.0</td>\n",
       "      <td>800.0</td>\n",
       "      <td>1272634.0</td>\n",
       "      <td>H</td>\n",
       "      <td>K</td>\n",
       "      <td>495660326.0</td>\n",
       "      <td>NaN</td>\n",
       "      <td>7</td>\n",
       "      <td>11400.0</td>\n",
       "      <td>3.0</td>\n",
       "      <td>32.792679</td>\n",
       "      <td>-115.536058</td>\n",
       "      <td>0</td>\n",
       "      <td>20940.0</td>\n",
       "      <td>2.0</td>\n",
       "      <td>0.0</td>\n",
       "      <td>6025.0</td>\n",
       "    </tr>\n",
       "    <tr>\n",
       "      <th>2</th>\n",
       "      <td>EL SOL MARKET</td>\n",
       "      <td>110 W MAIN ST</td>\n",
       "      <td>WESTMORLAND</td>\n",
       "      <td>CA</td>\n",
       "      <td>92281</td>\n",
       "      <td>NaN</td>\n",
       "      <td>25.0</td>\n",
       "      <td>760</td>\n",
       "      <td>2</td>\n",
       "      <td>B</td>\n",
       "      <td>C</td>\n",
       "      <td>541105</td>\n",
       "      <td>GROCERS-RETAIL</td>\n",
       "      <td>44511003.0</td>\n",
       "      <td>SUPERMARKETS/OTHER GROCERY (EXC CONVENIENCE) STRS</td>\n",
       "      <td>NaN</td>\n",
       "      <td>NaN</td>\n",
       "      <td>NaN</td>\n",
       "      <td>NaN</td>\n",
       "      <td>NaN</td>\n",
       "      <td>NaN</td>\n",
       "      <td>NaN</td>\n",
       "      <td>NaN</td>\n",
       "      <td>NaN</td>\n",
       "      <td>NaN</td>\n",
       "      <td>2022</td>\n",
       "      <td>39106.0</td>\n",
       "      <td>5.0</td>\n",
       "      <td>1061.0</td>\n",
       "      <td>9</td>\n",
       "      <td>NaN</td>\n",
       "      <td>NaN</td>\n",
       "      <td>NaN</td>\n",
       "      <td>NaN</td>\n",
       "      <td>519605455</td>\n",
       "      <td>NaN</td>\n",
       "      <td>NaN</td>\n",
       "      <td>NaN</td>\n",
       "      <td>NaN</td>\n",
       "      <td>NaN</td>\n",
       "      <td>NaN</td>\n",
       "      <td>NaN</td>\n",
       "      <td>NaN</td>\n",
       "      <td>3</td>\n",
       "      <td>10200.0</td>\n",
       "      <td>1.0</td>\n",
       "      <td>33.051800</td>\n",
       "      <td>-115.581800</td>\n",
       "      <td>X</td>\n",
       "      <td>20940.0</td>\n",
       "      <td>2.0</td>\n",
       "      <td>0.0</td>\n",
       "      <td>6025.0</td>\n",
       "    </tr>\n",
       "    <tr>\n",
       "      <th>3</th>\n",
       "      <td>COOL SPRINGS GROCERY</td>\n",
       "      <td>241 WILDWOOD ST</td>\n",
       "      <td>MORGANTOWN</td>\n",
       "      <td>WV</td>\n",
       "      <td>26505</td>\n",
       "      <td>3141.0</td>\n",
       "      <td>61.0</td>\n",
       "      <td>304</td>\n",
       "      <td>2</td>\n",
       "      <td>A</td>\n",
       "      <td>A</td>\n",
       "      <td>541105</td>\n",
       "      <td>GROCERS-RETAIL</td>\n",
       "      <td>44511003.0</td>\n",
       "      <td>SUPERMARKETS/OTHER GROCERY (EXC CONVENIENCE) STRS</td>\n",
       "      <td>NaN</td>\n",
       "      <td>NaN</td>\n",
       "      <td>NaN</td>\n",
       "      <td>NaN</td>\n",
       "      <td>NaN</td>\n",
       "      <td>NaN</td>\n",
       "      <td>NaN</td>\n",
       "      <td>NaN</td>\n",
       "      <td>NaN</td>\n",
       "      <td>NaN</td>\n",
       "      <td>2022</td>\n",
       "      <td>39106.0</td>\n",
       "      <td>2.0</td>\n",
       "      <td>382.0</td>\n",
       "      <td>9</td>\n",
       "      <td>NaN</td>\n",
       "      <td>NaN</td>\n",
       "      <td>NaN</td>\n",
       "      <td>NaN</td>\n",
       "      <td>817953730</td>\n",
       "      <td>NaN</td>\n",
       "      <td>NaN</td>\n",
       "      <td>NaN</td>\n",
       "      <td>NaN</td>\n",
       "      <td>NaN</td>\n",
       "      <td>NaN</td>\n",
       "      <td>NaN</td>\n",
       "      <td>NaN</td>\n",
       "      <td>7</td>\n",
       "      <td>10400.0</td>\n",
       "      <td>4.0</td>\n",
       "      <td>39.652885</td>\n",
       "      <td>-79.986398</td>\n",
       "      <td>P</td>\n",
       "      <td>34060.0</td>\n",
       "      <td>2.0</td>\n",
       "      <td>390.0</td>\n",
       "      <td>54061.0</td>\n",
       "    </tr>\n",
       "    <tr>\n",
       "      <th>4</th>\n",
       "      <td>CIRCLE K</td>\n",
       "      <td>123 E MAIN ST</td>\n",
       "      <td>WESTMORLAND</td>\n",
       "      <td>CA</td>\n",
       "      <td>92281</td>\n",
       "      <td>NaN</td>\n",
       "      <td>25.0</td>\n",
       "      <td>760</td>\n",
       "      <td>2</td>\n",
       "      <td>B</td>\n",
       "      <td>C</td>\n",
       "      <td>541103</td>\n",
       "      <td>CONVENIENCE STORES</td>\n",
       "      <td>44512001.0</td>\n",
       "      <td>CONVENIENCE STORES</td>\n",
       "      <td>554101.0</td>\n",
       "      <td>SERVICE STATIONS-GASOLINE &amp; OIL</td>\n",
       "      <td>NaN</td>\n",
       "      <td>NaN</td>\n",
       "      <td>NaN</td>\n",
       "      <td>NaN</td>\n",
       "      <td>NaN</td>\n",
       "      <td>NaN</td>\n",
       "      <td>NaN</td>\n",
       "      <td>NaN</td>\n",
       "      <td>2022</td>\n",
       "      <td>NaN</td>\n",
       "      <td>6.0</td>\n",
       "      <td>1273.0</td>\n",
       "      <td>2</td>\n",
       "      <td>F</td>\n",
       "      <td>NaN</td>\n",
       "      <td>NaN</td>\n",
       "      <td>NaN</td>\n",
       "      <td>855113817</td>\n",
       "      <td>NaN</td>\n",
       "      <td>450720289.0</td>\n",
       "      <td>650.0</td>\n",
       "      <td>4981020.0</td>\n",
       "      <td>H</td>\n",
       "      <td>J</td>\n",
       "      <td>NaN</td>\n",
       "      <td>NaN</td>\n",
       "      <td>3</td>\n",
       "      <td>10200.0</td>\n",
       "      <td>1.0</td>\n",
       "      <td>33.051800</td>\n",
       "      <td>-115.581800</td>\n",
       "      <td>X</td>\n",
       "      <td>20940.0</td>\n",
       "      <td>2.0</td>\n",
       "      <td>0.0</td>\n",
       "      <td>6025.0</td>\n",
       "    </tr>\n",
       "  </tbody>\n",
       "</table>\n",
       "</div>"
      ],
      "text/plain": [
       "                COMPANY   ADDRESS LINE 1         CITY STATE  ZIPCODE    ZIP4  \\\n",
       "0                GOMART    55 POSTAL PLZ   MORGANTOWN    WV    26508  7005.0   \n",
       "1              7-ELEVEN    485 E MAIN ST    EL CENTRO    CA    92243  2619.0   \n",
       "2         EL SOL MARKET    110 W MAIN ST  WESTMORLAND    CA    92281     NaN   \n",
       "3  COOL SPRINGS GROCERY  241 WILDWOOD ST   MORGANTOWN    WV    26505  3141.0   \n",
       "4              CIRCLE K    123 E MAIN ST  WESTMORLAND    CA    92281     NaN   \n",
       "\n",
       "   COUNTY CODE  AREA CODE  IDCODE LOCATION EMPLOYEE SIZE CODE  \\\n",
       "0         61.0        304       2                           C   \n",
       "1         25.0        760       2                           B   \n",
       "2         25.0        760       2                           B   \n",
       "3         61.0        304       2                           A   \n",
       "4         25.0        760       2                           B   \n",
       "\n",
       "  LOCATION SALES VOLUME CODE  PRIMARY SIC CODE   SIC6_DESCRIPTIONS  \\\n",
       "0                          C            541103  CONVENIENCE STORES   \n",
       "1                          C            541103  CONVENIENCE STORES   \n",
       "2                          C            541105      GROCERS-RETAIL   \n",
       "3                          A            541105      GROCERS-RETAIL   \n",
       "4                          C            541103  CONVENIENCE STORES   \n",
       "\n",
       "   PRIMARY NAICS CODE                                NAICS8 DESCRIPTIONS  \\\n",
       "0          44512001.0                                 CONVENIENCE STORES   \n",
       "1          44512001.0                                 CONVENIENCE STORES   \n",
       "2          44511003.0  SUPERMARKETS/OTHER GROCERY (EXC CONVENIENCE) STRS   \n",
       "3          44511003.0  SUPERMARKETS/OTHER GROCERY (EXC CONVENIENCE) STRS   \n",
       "4          44512001.0                                 CONVENIENCE STORES   \n",
       "\n",
       "   SIC CODE          SIC6_DESCRIPTIONS (SIC)  SIC CODE 1  \\\n",
       "0  554101.0  SERVICE STATIONS-GASOLINE & OIL    554110.0   \n",
       "1  554101.0  SERVICE STATIONS-GASOLINE & OIL         NaN   \n",
       "2       NaN                              NaN         NaN   \n",
       "3       NaN                              NaN         NaN   \n",
       "4  554101.0  SERVICE STATIONS-GASOLINE & OIL         NaN   \n",
       "\n",
       "  SIC6_DESCRIPTIONS (SIC1)  SIC CODE 2 SIC6_DESCRIPTIONS(SIC2)  SIC CODE 3  \\\n",
       "0        ALTERNATIVE FUELS         NaN                     NaN         NaN   \n",
       "1                      NaN         NaN                     NaN         NaN   \n",
       "2                      NaN         NaN                     NaN         NaN   \n",
       "3                      NaN         NaN                     NaN         NaN   \n",
       "4                      NaN         NaN                     NaN         NaN   \n",
       "\n",
       "  SIC6_DESCRIPTIONS(SIC3)  SIC CODE 4 SIC6_DESCRIPTIONS(SIC4)  \\\n",
       "0                     NaN         NaN                     NaN   \n",
       "1                     NaN         NaN                     NaN   \n",
       "2                     NaN         NaN                     NaN   \n",
       "3                     NaN         NaN                     NaN   \n",
       "4                     NaN         NaN                     NaN   \n",
       "\n",
       "   ARCHIVE VERSION YEAR  YELLOW PAGE CODE  EMPLOYEE SIZE (5) - LOCATION  \\\n",
       "0                  2022           21303.0                          13.0   \n",
       "1                  2022               NaN                           6.0   \n",
       "2                  2022           39106.0                           5.0   \n",
       "3                  2022           39106.0                           2.0   \n",
       "4                  2022               NaN                           6.0   \n",
       "\n",
       "   SALES VOLUME (9) - LOCATION  BUSINESS STATUS CODE  \\\n",
       "0                       2482.0                     2   \n",
       "1                       1273.0                     2   \n",
       "2                       1061.0                     9   \n",
       "3                        382.0                     9   \n",
       "4                       1273.0                     2   \n",
       "\n",
       "  INDUSTRY SPECIFIC FIRST BYTE  YEAR ESTABLISHED  OFFICE SIZE CODE  \\\n",
       "0                          NaN               NaN               NaN   \n",
       "1                            W               NaN               NaN   \n",
       "2                          NaN               NaN               NaN   \n",
       "3                          NaN               NaN               NaN   \n",
       "4                            F               NaN               NaN   \n",
       "\n",
       "   COMPANY HOLDING STATUS        ABI  SUBSIDIARY NUMBER  PARENT NUMBER  \\\n",
       "0                     NaN  998372387                NaN    124929449.0   \n",
       "1                     NaN  495660326                NaN      5863311.0   \n",
       "2                     NaN  519605455                NaN            NaN   \n",
       "3                     NaN  817953730                NaN            NaN   \n",
       "4                     NaN  855113817                NaN    450720289.0   \n",
       "\n",
       "   PARENT ACTUAL EMPLOYEE SIZE  PARENT ACTUAL SALES VOLUME  \\\n",
       "0                         50.0                    389500.0   \n",
       "1                        800.0                   1272634.0   \n",
       "2                          NaN                         NaN   \n",
       "3                          NaN                         NaN   \n",
       "4                        650.0                   4981020.0   \n",
       "\n",
       "  PARENT EMPLOYEE SIZE CODE PARENT SALES VOLUME CODE  SITE NUMBER  \\\n",
       "0                         E                        I  998372387.0   \n",
       "1                         H                        K  495660326.0   \n",
       "2                       NaN                      NaN          NaN   \n",
       "3                       NaN                      NaN          NaN   \n",
       "4                         H                        J          NaN   \n",
       "\n",
       "  ADDRESS TYPE INDICATOR  POPULATION CODE  CENSUS TRACT  CENSUS BLOCK  \\\n",
       "0                    NaN                7       11000.0           3.0   \n",
       "1                    NaN                7       11400.0           3.0   \n",
       "2                    NaN                3       10200.0           1.0   \n",
       "3                    NaN                7       10400.0           4.0   \n",
       "4                    NaN                3       10200.0           1.0   \n",
       "\n",
       "    LATITUDE   LONGITUDE MATCH CODE  CBSA CODE  CBSA LEVEL  CSA CODE  \\\n",
       "0  39.594376  -79.954437          P    34060.0         2.0     390.0   \n",
       "1  32.792679 -115.536058          0    20940.0         2.0       0.0   \n",
       "2  33.051800 -115.581800          X    20940.0         2.0       0.0   \n",
       "3  39.652885  -79.986398          P    34060.0         2.0     390.0   \n",
       "4  33.051800 -115.581800          X    20940.0         2.0       0.0   \n",
       "\n",
       "   FIPS CODE  \n",
       "0    54061.0  \n",
       "1     6025.0  \n",
       "2     6025.0  \n",
       "3    54061.0  \n",
       "4     6025.0  "
      ]
     },
     "execution_count": 83,
     "metadata": {},
     "output_type": "execute_result"
    }
   ],
   "source": [
    "grocery_sic = stores_2022.loc[stores_2022[['PRIMARY SIC CODE', 'SIC CODE', 'SIC CODE 1', 'SIC CODE 2', 'SIC CODE 3', 'SIC CODE 4']].astype(str).apply(lambda x: x.str.startswith('5411')).any(axis=1)]\n",
    "grocery_sic.head()"
   ]
  },
  {
   "cell_type": "code",
   "execution_count": 84,
   "id": "f8da12d8-1357-4be4-a05e-c8568a6ce8a9",
   "metadata": {
    "tags": []
   },
   "outputs": [
    {
     "data": {
      "text/html": [
       "<div>\n",
       "<style scoped>\n",
       "    .dataframe tbody tr th:only-of-type {\n",
       "        vertical-align: middle;\n",
       "    }\n",
       "\n",
       "    .dataframe tbody tr th {\n",
       "        vertical-align: top;\n",
       "    }\n",
       "\n",
       "    .dataframe thead th {\n",
       "        text-align: right;\n",
       "    }\n",
       "</style>\n",
       "<table border=\"1\" class=\"dataframe\">\n",
       "  <thead>\n",
       "    <tr style=\"text-align: right;\">\n",
       "      <th></th>\n",
       "      <th>COMPANY</th>\n",
       "      <th>ADDRESS LINE 1</th>\n",
       "      <th>CITY</th>\n",
       "      <th>STATE</th>\n",
       "      <th>ZIPCODE</th>\n",
       "      <th>ZIP4</th>\n",
       "      <th>COUNTY CODE</th>\n",
       "      <th>AREA CODE</th>\n",
       "      <th>IDCODE</th>\n",
       "      <th>LOCATION EMPLOYEE SIZE CODE</th>\n",
       "      <th>LOCATION SALES VOLUME CODE</th>\n",
       "      <th>PRIMARY SIC CODE</th>\n",
       "      <th>SIC6_DESCRIPTIONS</th>\n",
       "      <th>PRIMARY NAICS CODE</th>\n",
       "      <th>NAICS8 DESCRIPTIONS</th>\n",
       "      <th>SIC CODE</th>\n",
       "      <th>SIC6_DESCRIPTIONS (SIC)</th>\n",
       "      <th>SIC CODE 1</th>\n",
       "      <th>SIC6_DESCRIPTIONS (SIC1)</th>\n",
       "      <th>SIC CODE 2</th>\n",
       "      <th>SIC6_DESCRIPTIONS(SIC2)</th>\n",
       "      <th>SIC CODE 3</th>\n",
       "      <th>SIC6_DESCRIPTIONS(SIC3)</th>\n",
       "      <th>SIC CODE 4</th>\n",
       "      <th>SIC6_DESCRIPTIONS(SIC4)</th>\n",
       "      <th>ARCHIVE VERSION YEAR</th>\n",
       "      <th>YELLOW PAGE CODE</th>\n",
       "      <th>EMPLOYEE SIZE (5) - LOCATION</th>\n",
       "      <th>SALES VOLUME (9) - LOCATION</th>\n",
       "      <th>BUSINESS STATUS CODE</th>\n",
       "      <th>INDUSTRY SPECIFIC FIRST BYTE</th>\n",
       "      <th>YEAR ESTABLISHED</th>\n",
       "      <th>OFFICE SIZE CODE</th>\n",
       "      <th>COMPANY HOLDING STATUS</th>\n",
       "      <th>ABI</th>\n",
       "      <th>SUBSIDIARY NUMBER</th>\n",
       "      <th>PARENT NUMBER</th>\n",
       "      <th>PARENT ACTUAL EMPLOYEE SIZE</th>\n",
       "      <th>PARENT ACTUAL SALES VOLUME</th>\n",
       "      <th>PARENT EMPLOYEE SIZE CODE</th>\n",
       "      <th>PARENT SALES VOLUME CODE</th>\n",
       "      <th>SITE NUMBER</th>\n",
       "      <th>ADDRESS TYPE INDICATOR</th>\n",
       "      <th>POPULATION CODE</th>\n",
       "      <th>CENSUS TRACT</th>\n",
       "      <th>CENSUS BLOCK</th>\n",
       "      <th>LATITUDE</th>\n",
       "      <th>LONGITUDE</th>\n",
       "      <th>MATCH CODE</th>\n",
       "      <th>CBSA CODE</th>\n",
       "      <th>CBSA LEVEL</th>\n",
       "      <th>CSA CODE</th>\n",
       "      <th>FIPS CODE</th>\n",
       "    </tr>\n",
       "  </thead>\n",
       "  <tbody>\n",
       "    <tr>\n",
       "      <th>203115</th>\n",
       "      <td>QUICKCHEK</td>\n",
       "      <td>1147 SUNRISE HWY</td>\n",
       "      <td>COPIAGUE</td>\n",
       "      <td>NY</td>\n",
       "      <td>11726</td>\n",
       "      <td>1330.0</td>\n",
       "      <td>103.0</td>\n",
       "      <td>631</td>\n",
       "      <td>2</td>\n",
       "      <td>C</td>\n",
       "      <td>D</td>\n",
       "      <td>541103</td>\n",
       "      <td>CONVENIENCE STORES</td>\n",
       "      <td>44512001.0</td>\n",
       "      <td>CONVENIENCE STORES</td>\n",
       "      <td>554101.0</td>\n",
       "      <td>SERVICE STATIONS-GASOLINE &amp; OIL</td>\n",
       "      <td>581208.0</td>\n",
       "      <td>RESTAURANTS</td>\n",
       "      <td>NaN</td>\n",
       "      <td>NaN</td>\n",
       "      <td>NaN</td>\n",
       "      <td>NaN</td>\n",
       "      <td>NaN</td>\n",
       "      <td>NaN</td>\n",
       "      <td>2022</td>\n",
       "      <td>NaN</td>\n",
       "      <td>17.0</td>\n",
       "      <td>3815.0</td>\n",
       "      <td>2</td>\n",
       "      <td>NaN</td>\n",
       "      <td>NaN</td>\n",
       "      <td>NaN</td>\n",
       "      <td>NaN</td>\n",
       "      <td>734290402</td>\n",
       "      <td>878225705.0</td>\n",
       "      <td>433922353.0</td>\n",
       "      <td>500.0</td>\n",
       "      <td>17360500.0</td>\n",
       "      <td>H</td>\n",
       "      <td>I</td>\n",
       "      <td>NaN</td>\n",
       "      <td>NaN</td>\n",
       "      <td>6</td>\n",
       "      <td>123701.0</td>\n",
       "      <td>4.0</td>\n",
       "      <td>40.689752</td>\n",
       "      <td>-73.405989</td>\n",
       "      <td>P</td>\n",
       "      <td>35620.0</td>\n",
       "      <td>2.0</td>\n",
       "      <td>408.0</td>\n",
       "      <td>36103.0</td>\n",
       "    </tr>\n",
       "    <tr>\n",
       "      <th>203276</th>\n",
       "      <td>MURPHY USA</td>\n",
       "      <td>505 SW 19TH ST</td>\n",
       "      <td>MOORE</td>\n",
       "      <td>OK</td>\n",
       "      <td>73160</td>\n",
       "      <td>5427.0</td>\n",
       "      <td>27.0</td>\n",
       "      <td>405</td>\n",
       "      <td>2</td>\n",
       "      <td>B</td>\n",
       "      <td>C</td>\n",
       "      <td>541103</td>\n",
       "      <td>CONVENIENCE STORES</td>\n",
       "      <td>44512001.0</td>\n",
       "      <td>CONVENIENCE STORES</td>\n",
       "      <td>554101.0</td>\n",
       "      <td>SERVICE STATIONS-GASOLINE &amp; OIL</td>\n",
       "      <td>754201.0</td>\n",
       "      <td>CAR WASHING &amp; POLISHING</td>\n",
       "      <td>NaN</td>\n",
       "      <td>NaN</td>\n",
       "      <td>NaN</td>\n",
       "      <td>NaN</td>\n",
       "      <td>NaN</td>\n",
       "      <td>NaN</td>\n",
       "      <td>2022</td>\n",
       "      <td>21303.0</td>\n",
       "      <td>5.0</td>\n",
       "      <td>1143.0</td>\n",
       "      <td>2</td>\n",
       "      <td>M</td>\n",
       "      <td>NaN</td>\n",
       "      <td>NaN</td>\n",
       "      <td>NaN</td>\n",
       "      <td>550042881</td>\n",
       "      <td>NaN</td>\n",
       "      <td>433922353.0</td>\n",
       "      <td>500.0</td>\n",
       "      <td>17360500.0</td>\n",
       "      <td>H</td>\n",
       "      <td>I</td>\n",
       "      <td>NaN</td>\n",
       "      <td>NaN</td>\n",
       "      <td>8</td>\n",
       "      <td>201604.0</td>\n",
       "      <td>2.0</td>\n",
       "      <td>35.320876</td>\n",
       "      <td>-97.492548</td>\n",
       "      <td>P</td>\n",
       "      <td>36420.0</td>\n",
       "      <td>2.0</td>\n",
       "      <td>416.0</td>\n",
       "      <td>40027.0</td>\n",
       "    </tr>\n",
       "    <tr>\n",
       "      <th>203323</th>\n",
       "      <td>MURPHY USA</td>\n",
       "      <td>39100 NATCHEZ DR</td>\n",
       "      <td>SLIDELL</td>\n",
       "      <td>LA</td>\n",
       "      <td>70461</td>\n",
       "      <td>2142.0</td>\n",
       "      <td>103.0</td>\n",
       "      <td>985</td>\n",
       "      <td>2</td>\n",
       "      <td>B</td>\n",
       "      <td>C</td>\n",
       "      <td>541103</td>\n",
       "      <td>CONVENIENCE STORES</td>\n",
       "      <td>44512001.0</td>\n",
       "      <td>CONVENIENCE STORES</td>\n",
       "      <td>554101.0</td>\n",
       "      <td>SERVICE STATIONS-GASOLINE &amp; OIL</td>\n",
       "      <td>554110.0</td>\n",
       "      <td>ALTERNATIVE FUELS</td>\n",
       "      <td>554101.0</td>\n",
       "      <td>SERVICE STATIONS-GASOLINE &amp; OIL</td>\n",
       "      <td>NaN</td>\n",
       "      <td>NaN</td>\n",
       "      <td>NaN</td>\n",
       "      <td>NaN</td>\n",
       "      <td>2022</td>\n",
       "      <td>NaN</td>\n",
       "      <td>6.0</td>\n",
       "      <td>1233.0</td>\n",
       "      <td>2</td>\n",
       "      <td>M</td>\n",
       "      <td>NaN</td>\n",
       "      <td>NaN</td>\n",
       "      <td>NaN</td>\n",
       "      <td>256437120</td>\n",
       "      <td>NaN</td>\n",
       "      <td>433922353.0</td>\n",
       "      <td>500.0</td>\n",
       "      <td>17360500.0</td>\n",
       "      <td>H</td>\n",
       "      <td>I</td>\n",
       "      <td>NaN</td>\n",
       "      <td>NaN</td>\n",
       "      <td>7</td>\n",
       "      <td>40710.0</td>\n",
       "      <td>1.0</td>\n",
       "      <td>30.280590</td>\n",
       "      <td>-89.749725</td>\n",
       "      <td>P</td>\n",
       "      <td>35380.0</td>\n",
       "      <td>2.0</td>\n",
       "      <td>406.0</td>\n",
       "      <td>22103.0</td>\n",
       "    </tr>\n",
       "    <tr>\n",
       "      <th>203392</th>\n",
       "      <td>MURPHY USA</td>\n",
       "      <td>2001 MURPHY</td>\n",
       "      <td>DONNA</td>\n",
       "      <td>TX</td>\n",
       "      <td>78537</td>\n",
       "      <td>1365.0</td>\n",
       "      <td>215.0</td>\n",
       "      <td>956</td>\n",
       "      <td>2</td>\n",
       "      <td>B</td>\n",
       "      <td>C</td>\n",
       "      <td>541103</td>\n",
       "      <td>CONVENIENCE STORES</td>\n",
       "      <td>44512001.0</td>\n",
       "      <td>CONVENIENCE STORES</td>\n",
       "      <td>NaN</td>\n",
       "      <td>NaN</td>\n",
       "      <td>NaN</td>\n",
       "      <td>NaN</td>\n",
       "      <td>NaN</td>\n",
       "      <td>NaN</td>\n",
       "      <td>NaN</td>\n",
       "      <td>NaN</td>\n",
       "      <td>NaN</td>\n",
       "      <td>NaN</td>\n",
       "      <td>2022</td>\n",
       "      <td>NaN</td>\n",
       "      <td>5.0</td>\n",
       "      <td>1124.0</td>\n",
       "      <td>2</td>\n",
       "      <td>M</td>\n",
       "      <td>2016.0</td>\n",
       "      <td>NaN</td>\n",
       "      <td>NaN</td>\n",
       "      <td>720780752</td>\n",
       "      <td>NaN</td>\n",
       "      <td>433922353.0</td>\n",
       "      <td>500.0</td>\n",
       "      <td>17360500.0</td>\n",
       "      <td>H</td>\n",
       "      <td>I</td>\n",
       "      <td>NaN</td>\n",
       "      <td>NaN</td>\n",
       "      <td>7</td>\n",
       "      <td>22104.0</td>\n",
       "      <td>2.0</td>\n",
       "      <td>26.187300</td>\n",
       "      <td>-98.051100</td>\n",
       "      <td>X</td>\n",
       "      <td>32580.0</td>\n",
       "      <td>2.0</td>\n",
       "      <td>365.0</td>\n",
       "      <td>48215.0</td>\n",
       "    </tr>\n",
       "    <tr>\n",
       "      <th>203475</th>\n",
       "      <td>MURPHY USA</td>\n",
       "      <td>1805 W LINCOLN ST</td>\n",
       "      <td>HARLINGEN</td>\n",
       "      <td>TX</td>\n",
       "      <td>78552</td>\n",
       "      <td>5909.0</td>\n",
       "      <td>61.0</td>\n",
       "      <td>956</td>\n",
       "      <td>2</td>\n",
       "      <td>B</td>\n",
       "      <td>C</td>\n",
       "      <td>541103</td>\n",
       "      <td>CONVENIENCE STORES</td>\n",
       "      <td>44512001.0</td>\n",
       "      <td>CONVENIENCE STORES</td>\n",
       "      <td>554110.0</td>\n",
       "      <td>ALTERNATIVE FUELS</td>\n",
       "      <td>554101.0</td>\n",
       "      <td>SERVICE STATIONS-GASOLINE &amp; OIL</td>\n",
       "      <td>NaN</td>\n",
       "      <td>NaN</td>\n",
       "      <td>NaN</td>\n",
       "      <td>NaN</td>\n",
       "      <td>NaN</td>\n",
       "      <td>NaN</td>\n",
       "      <td>2022</td>\n",
       "      <td>NaN</td>\n",
       "      <td>5.0</td>\n",
       "      <td>1171.0</td>\n",
       "      <td>2</td>\n",
       "      <td>M</td>\n",
       "      <td>NaN</td>\n",
       "      <td>NaN</td>\n",
       "      <td>NaN</td>\n",
       "      <td>592633705</td>\n",
       "      <td>NaN</td>\n",
       "      <td>433922353.0</td>\n",
       "      <td>500.0</td>\n",
       "      <td>17360500.0</td>\n",
       "      <td>H</td>\n",
       "      <td>I</td>\n",
       "      <td>NaN</td>\n",
       "      <td>NaN</td>\n",
       "      <td>7</td>\n",
       "      <td>12001.0</td>\n",
       "      <td>2.0</td>\n",
       "      <td>26.181187</td>\n",
       "      <td>-97.715393</td>\n",
       "      <td>P</td>\n",
       "      <td>15180.0</td>\n",
       "      <td>2.0</td>\n",
       "      <td>154.0</td>\n",
       "      <td>48061.0</td>\n",
       "    </tr>\n",
       "  </tbody>\n",
       "</table>\n",
       "</div>"
      ],
      "text/plain": [
       "           COMPANY     ADDRESS LINE 1       CITY STATE  ZIPCODE    ZIP4  \\\n",
       "203115   QUICKCHEK   1147 SUNRISE HWY   COPIAGUE    NY    11726  1330.0   \n",
       "203276  MURPHY USA     505 SW 19TH ST      MOORE    OK    73160  5427.0   \n",
       "203323  MURPHY USA   39100 NATCHEZ DR    SLIDELL    LA    70461  2142.0   \n",
       "203392  MURPHY USA        2001 MURPHY      DONNA    TX    78537  1365.0   \n",
       "203475  MURPHY USA  1805 W LINCOLN ST  HARLINGEN    TX    78552  5909.0   \n",
       "\n",
       "        COUNTY CODE  AREA CODE  IDCODE LOCATION EMPLOYEE SIZE CODE  \\\n",
       "203115        103.0        631       2                           C   \n",
       "203276         27.0        405       2                           B   \n",
       "203323        103.0        985       2                           B   \n",
       "203392        215.0        956       2                           B   \n",
       "203475         61.0        956       2                           B   \n",
       "\n",
       "       LOCATION SALES VOLUME CODE  PRIMARY SIC CODE   SIC6_DESCRIPTIONS  \\\n",
       "203115                          D            541103  CONVENIENCE STORES   \n",
       "203276                          C            541103  CONVENIENCE STORES   \n",
       "203323                          C            541103  CONVENIENCE STORES   \n",
       "203392                          C            541103  CONVENIENCE STORES   \n",
       "203475                          C            541103  CONVENIENCE STORES   \n",
       "\n",
       "        PRIMARY NAICS CODE NAICS8 DESCRIPTIONS  SIC CODE  \\\n",
       "203115          44512001.0  CONVENIENCE STORES  554101.0   \n",
       "203276          44512001.0  CONVENIENCE STORES  554101.0   \n",
       "203323          44512001.0  CONVENIENCE STORES  554101.0   \n",
       "203392          44512001.0  CONVENIENCE STORES       NaN   \n",
       "203475          44512001.0  CONVENIENCE STORES  554110.0   \n",
       "\n",
       "                SIC6_DESCRIPTIONS (SIC)  SIC CODE 1  \\\n",
       "203115  SERVICE STATIONS-GASOLINE & OIL    581208.0   \n",
       "203276  SERVICE STATIONS-GASOLINE & OIL    754201.0   \n",
       "203323  SERVICE STATIONS-GASOLINE & OIL    554110.0   \n",
       "203392                              NaN         NaN   \n",
       "203475                ALTERNATIVE FUELS    554101.0   \n",
       "\n",
       "               SIC6_DESCRIPTIONS (SIC1)  SIC CODE 2  \\\n",
       "203115                      RESTAURANTS         NaN   \n",
       "203276          CAR WASHING & POLISHING         NaN   \n",
       "203323                ALTERNATIVE FUELS    554101.0   \n",
       "203392                              NaN         NaN   \n",
       "203475  SERVICE STATIONS-GASOLINE & OIL         NaN   \n",
       "\n",
       "                SIC6_DESCRIPTIONS(SIC2)  SIC CODE 3 SIC6_DESCRIPTIONS(SIC3)  \\\n",
       "203115                              NaN         NaN                     NaN   \n",
       "203276                              NaN         NaN                     NaN   \n",
       "203323  SERVICE STATIONS-GASOLINE & OIL         NaN                     NaN   \n",
       "203392                              NaN         NaN                     NaN   \n",
       "203475                              NaN         NaN                     NaN   \n",
       "\n",
       "        SIC CODE 4 SIC6_DESCRIPTIONS(SIC4)  ARCHIVE VERSION YEAR  \\\n",
       "203115         NaN                     NaN                  2022   \n",
       "203276         NaN                     NaN                  2022   \n",
       "203323         NaN                     NaN                  2022   \n",
       "203392         NaN                     NaN                  2022   \n",
       "203475         NaN                     NaN                  2022   \n",
       "\n",
       "        YELLOW PAGE CODE  EMPLOYEE SIZE (5) - LOCATION  \\\n",
       "203115               NaN                          17.0   \n",
       "203276           21303.0                           5.0   \n",
       "203323               NaN                           6.0   \n",
       "203392               NaN                           5.0   \n",
       "203475               NaN                           5.0   \n",
       "\n",
       "        SALES VOLUME (9) - LOCATION  BUSINESS STATUS CODE  \\\n",
       "203115                       3815.0                     2   \n",
       "203276                       1143.0                     2   \n",
       "203323                       1233.0                     2   \n",
       "203392                       1124.0                     2   \n",
       "203475                       1171.0                     2   \n",
       "\n",
       "       INDUSTRY SPECIFIC FIRST BYTE  YEAR ESTABLISHED  OFFICE SIZE CODE  \\\n",
       "203115                          NaN               NaN               NaN   \n",
       "203276                            M               NaN               NaN   \n",
       "203323                            M               NaN               NaN   \n",
       "203392                            M            2016.0               NaN   \n",
       "203475                            M               NaN               NaN   \n",
       "\n",
       "        COMPANY HOLDING STATUS        ABI  SUBSIDIARY NUMBER  PARENT NUMBER  \\\n",
       "203115                     NaN  734290402        878225705.0    433922353.0   \n",
       "203276                     NaN  550042881                NaN    433922353.0   \n",
       "203323                     NaN  256437120                NaN    433922353.0   \n",
       "203392                     NaN  720780752                NaN    433922353.0   \n",
       "203475                     NaN  592633705                NaN    433922353.0   \n",
       "\n",
       "        PARENT ACTUAL EMPLOYEE SIZE  PARENT ACTUAL SALES VOLUME  \\\n",
       "203115                        500.0                  17360500.0   \n",
       "203276                        500.0                  17360500.0   \n",
       "203323                        500.0                  17360500.0   \n",
       "203392                        500.0                  17360500.0   \n",
       "203475                        500.0                  17360500.0   \n",
       "\n",
       "       PARENT EMPLOYEE SIZE CODE PARENT SALES VOLUME CODE  SITE NUMBER  \\\n",
       "203115                         H                        I          NaN   \n",
       "203276                         H                        I          NaN   \n",
       "203323                         H                        I          NaN   \n",
       "203392                         H                        I          NaN   \n",
       "203475                         H                        I          NaN   \n",
       "\n",
       "       ADDRESS TYPE INDICATOR  POPULATION CODE  CENSUS TRACT  CENSUS BLOCK  \\\n",
       "203115                    NaN                6      123701.0           4.0   \n",
       "203276                    NaN                8      201604.0           2.0   \n",
       "203323                    NaN                7       40710.0           1.0   \n",
       "203392                    NaN                7       22104.0           2.0   \n",
       "203475                    NaN                7       12001.0           2.0   \n",
       "\n",
       "         LATITUDE  LONGITUDE MATCH CODE  CBSA CODE  CBSA LEVEL  CSA CODE  \\\n",
       "203115  40.689752 -73.405989          P    35620.0         2.0     408.0   \n",
       "203276  35.320876 -97.492548          P    36420.0         2.0     416.0   \n",
       "203323  30.280590 -89.749725          P    35380.0         2.0     406.0   \n",
       "203392  26.187300 -98.051100          X    32580.0         2.0     365.0   \n",
       "203475  26.181187 -97.715393          P    15180.0         2.0     154.0   \n",
       "\n",
       "        FIPS CODE  \n",
       "203115    36103.0  \n",
       "203276    40027.0  \n",
       "203323    22103.0  \n",
       "203392    48215.0  \n",
       "203475    48061.0  "
      ]
     },
     "execution_count": 84,
     "metadata": {},
     "output_type": "execute_result"
    }
   ],
   "source": [
    "count_top10 = grocery_sic[(grocery_sic['PARENT NUMBER']== 433922353.0)]\n",
    "count_top10.tail()"
   ]
  },
  {
   "cell_type": "code",
   "execution_count": 8,
   "id": "d222cba2-95b5-4eb6-91da-0c2d4b1302e9",
   "metadata": {
    "tags": []
   },
   "outputs": [
    {
     "data": {
      "text/html": [
       "<div>\n",
       "<style scoped>\n",
       "    .dataframe tbody tr th:only-of-type {\n",
       "        vertical-align: middle;\n",
       "    }\n",
       "\n",
       "    .dataframe tbody tr th {\n",
       "        vertical-align: top;\n",
       "    }\n",
       "\n",
       "    .dataframe thead th {\n",
       "        text-align: right;\n",
       "    }\n",
       "</style>\n",
       "<table border=\"1\" class=\"dataframe\">\n",
       "  <thead>\n",
       "    <tr style=\"text-align: right;\">\n",
       "      <th></th>\n",
       "      <th>PARENT NUMBER</th>\n",
       "      <th>COUNT</th>\n",
       "      <th>Percent</th>\n",
       "    </tr>\n",
       "  </thead>\n",
       "  <tbody>\n",
       "    <tr>\n",
       "      <th>1067</th>\n",
       "      <td>nan</td>\n",
       "      <td>77818</td>\n",
       "      <td>49.287773</td>\n",
       "    </tr>\n",
       "    <tr>\n",
       "      <th>78</th>\n",
       "      <td>5863311.0</td>\n",
       "      <td>11939</td>\n",
       "      <td>7.561833</td>\n",
       "    </tr>\n",
       "    <tr>\n",
       "      <th>585</th>\n",
       "      <td>450720289.0</td>\n",
       "      <td>6814</td>\n",
       "      <td>4.315799</td>\n",
       "    </tr>\n",
       "    <tr>\n",
       "      <th>81</th>\n",
       "      <td>5889993.0</td>\n",
       "      <td>4397</td>\n",
       "      <td>2.784938</td>\n",
       "    </tr>\n",
       "    <tr>\n",
       "      <th>92</th>\n",
       "      <td>7521503.0</td>\n",
       "      <td>3574</td>\n",
       "      <td>2.263673</td>\n",
       "    </tr>\n",
       "    <tr>\n",
       "      <th>574</th>\n",
       "      <td>441412723.0</td>\n",
       "      <td>2499</td>\n",
       "      <td>1.582798</td>\n",
       "    </tr>\n",
       "    <tr>\n",
       "      <th>84</th>\n",
       "      <td>5995907.0</td>\n",
       "      <td>2493</td>\n",
       "      <td>1.578997</td>\n",
       "    </tr>\n",
       "    <tr>\n",
       "      <th>263</th>\n",
       "      <td>200026573.0</td>\n",
       "      <td>2217</td>\n",
       "      <td>1.404187</td>\n",
       "    </tr>\n",
       "    <tr>\n",
       "      <th>281</th>\n",
       "      <td>238136725.0</td>\n",
       "      <td>2105</td>\n",
       "      <td>1.333249</td>\n",
       "    </tr>\n",
       "    <tr>\n",
       "      <th>843</th>\n",
       "      <td>714232249.0</td>\n",
       "      <td>1760</td>\n",
       "      <td>1.114735</td>\n",
       "    </tr>\n",
       "    <tr>\n",
       "      <th>10</th>\n",
       "      <td>Other</td>\n",
       "      <td>42269</td>\n",
       "      <td>26.772018</td>\n",
       "    </tr>\n",
       "  </tbody>\n",
       "</table>\n",
       "</div>"
      ],
      "text/plain": [
       "     PARENT NUMBER  COUNT    Percent\n",
       "1067           nan  77818  49.287773\n",
       "78       5863311.0  11939   7.561833\n",
       "585    450720289.0   6814   4.315799\n",
       "81       5889993.0   4397   2.784938\n",
       "92       7521503.0   3574   2.263673\n",
       "574    441412723.0   2499   1.582798\n",
       "84       5995907.0   2493   1.578997\n",
       "263    200026573.0   2217   1.404187\n",
       "281    238136725.0   2105   1.333249\n",
       "843    714232249.0   1760   1.114735\n",
       "10           Other  42269  26.772018"
      ]
     },
     "execution_count": 8,
     "metadata": {},
     "output_type": "execute_result"
    }
   ],
   "source": [
    "grocery_t10_22 = grocery_sic.groupby('PARENT NUMBER', dropna=False).size().reset_index(name='COUNT')\n",
    "grocery_t10_22.sort_values('COUNT', ascending=False, inplace=True)\n",
    "\n",
    "\n",
    "other_row = grocery_t10_22.iloc[10:]\n",
    "other_column = other_row['COUNT'].sum()\n",
    "\n",
    "\n",
    "grocery_t10_22 = grocery_t10_22.iloc[:10]\n",
    "grocery_t10_22.loc[len(grocery_t10_22)] = [\"Other\", other_column]\n",
    "grocery_t10_22['PARENT NUMBER'] = grocery_t10_22['PARENT NUMBER'].astype(str)\n",
    "grocery_t10_22['Percent'] = grocery_t10_22['COUNT'] / len(grocery_sic) * 100\n",
    "grocery_t10_22"
   ]
  },
  {
   "cell_type": "code",
   "execution_count": 97,
   "id": "89355de5-5251-4374-bb9e-607bfab7abd1",
   "metadata": {
    "tags": []
   },
   "outputs": [
    {
     "data": {
      "text/html": [
       "<div>\n",
       "<style scoped>\n",
       "    .dataframe tbody tr th:only-of-type {\n",
       "        vertical-align: middle;\n",
       "    }\n",
       "\n",
       "    .dataframe tbody tr th {\n",
       "        vertical-align: top;\n",
       "    }\n",
       "\n",
       "    .dataframe thead th {\n",
       "        text-align: right;\n",
       "    }\n",
       "</style>\n",
       "<table border=\"1\" class=\"dataframe\">\n",
       "  <thead>\n",
       "    <tr style=\"text-align: right;\">\n",
       "      <th></th>\n",
       "      <th>COMPANY</th>\n",
       "      <th>ADDRESS LINE 1</th>\n",
       "      <th>CITY</th>\n",
       "      <th>STATE</th>\n",
       "      <th>ZIPCODE</th>\n",
       "      <th>ZIP4</th>\n",
       "      <th>COUNTY CODE</th>\n",
       "      <th>AREA CODE</th>\n",
       "      <th>IDCODE</th>\n",
       "      <th>LOCATION EMPLOYEE SIZE CODE</th>\n",
       "      <th>LOCATION SALES VOLUME CODE</th>\n",
       "      <th>PRIMARY SIC CODE</th>\n",
       "      <th>SIC6_DESCRIPTIONS</th>\n",
       "      <th>PRIMARY NAICS CODE</th>\n",
       "      <th>NAICS8 DESCRIPTIONS</th>\n",
       "      <th>SIC CODE</th>\n",
       "      <th>SIC6_DESCRIPTIONS (SIC)</th>\n",
       "      <th>SIC CODE 1</th>\n",
       "      <th>SIC6_DESCRIPTIONS (SIC1)</th>\n",
       "      <th>SIC CODE 2</th>\n",
       "      <th>SIC6_DESCRIPTIONS(SIC2)</th>\n",
       "      <th>SIC CODE 3</th>\n",
       "      <th>SIC6_DESCRIPTIONS(SIC3)</th>\n",
       "      <th>SIC CODE 4</th>\n",
       "      <th>SIC6_DESCRIPTIONS(SIC4)</th>\n",
       "      <th>ARCHIVE VERSION YEAR</th>\n",
       "      <th>YELLOW PAGE CODE</th>\n",
       "      <th>EMPLOYEE SIZE (5) - LOCATION</th>\n",
       "      <th>SALES VOLUME (9) - LOCATION</th>\n",
       "      <th>BUSINESS STATUS CODE</th>\n",
       "      <th>INDUSTRY SPECIFIC FIRST BYTE</th>\n",
       "      <th>YEAR ESTABLISHED</th>\n",
       "      <th>OFFICE SIZE CODE</th>\n",
       "      <th>COMPANY HOLDING STATUS</th>\n",
       "      <th>ABI</th>\n",
       "      <th>SUBSIDIARY NUMBER</th>\n",
       "      <th>PARENT NUMBER</th>\n",
       "      <th>PARENT ACTUAL EMPLOYEE SIZE</th>\n",
       "      <th>PARENT ACTUAL SALES VOLUME</th>\n",
       "      <th>PARENT EMPLOYEE SIZE CODE</th>\n",
       "      <th>PARENT SALES VOLUME CODE</th>\n",
       "      <th>SITE NUMBER</th>\n",
       "      <th>ADDRESS TYPE INDICATOR</th>\n",
       "      <th>POPULATION CODE</th>\n",
       "      <th>CENSUS TRACT</th>\n",
       "      <th>CENSUS BLOCK</th>\n",
       "      <th>LATITUDE</th>\n",
       "      <th>LONGITUDE</th>\n",
       "      <th>MATCH CODE</th>\n",
       "      <th>CBSA CODE</th>\n",
       "      <th>CBSA LEVEL</th>\n",
       "      <th>CSA CODE</th>\n",
       "      <th>FIPS CODE</th>\n",
       "      <th>TOP TEN</th>\n",
       "      <th>INDEPENDENT STORE</th>\n",
       "      <th>STORE TYPE</th>\n",
       "    </tr>\n",
       "  </thead>\n",
       "  <tbody>\n",
       "    <tr>\n",
       "      <th>13</th>\n",
       "      <td>KROGER</td>\n",
       "      <td>301 E MCKINLEY RD</td>\n",
       "      <td>OTTAWA</td>\n",
       "      <td>IL</td>\n",
       "      <td>61350</td>\n",
       "      <td>4805.0</td>\n",
       "      <td>99.0</td>\n",
       "      <td>815</td>\n",
       "      <td>2</td>\n",
       "      <td>E</td>\n",
       "      <td>F</td>\n",
       "      <td>541105</td>\n",
       "      <td>GROCERS-RETAIL</td>\n",
       "      <td>44511003.0</td>\n",
       "      <td>SUPERMARKETS/OTHER GROCERY (EXC CONVENIENCE) STRS</td>\n",
       "      <td>NaN</td>\n",
       "      <td>NaN</td>\n",
       "      <td>NaN</td>\n",
       "      <td>NaN</td>\n",
       "      <td>NaN</td>\n",
       "      <td>NaN</td>\n",
       "      <td>NaN</td>\n",
       "      <td>NaN</td>\n",
       "      <td>NaN</td>\n",
       "      <td>NaN</td>\n",
       "      <td>2022</td>\n",
       "      <td>39106.0</td>\n",
       "      <td>70.0</td>\n",
       "      <td>14158.0</td>\n",
       "      <td>2</td>\n",
       "      <td>P</td>\n",
       "      <td>NaN</td>\n",
       "      <td>NaN</td>\n",
       "      <td>NaN</td>\n",
       "      <td>152123287</td>\n",
       "      <td>NaN</td>\n",
       "      <td>7521503.0</td>\n",
       "      <td>1200.0</td>\n",
       "      <td>137888000.0</td>\n",
       "      <td>I</td>\n",
       "      <td>I</td>\n",
       "      <td>152123287.0</td>\n",
       "      <td>NaN</td>\n",
       "      <td>7</td>\n",
       "      <td>963500.0</td>\n",
       "      <td>1.0</td>\n",
       "      <td>41.323858</td>\n",
       "      <td>-88.836271</td>\n",
       "      <td>P</td>\n",
       "      <td>36837.0</td>\n",
       "      <td>1.0</td>\n",
       "      <td>176.0</td>\n",
       "      <td>17099.0</td>\n",
       "      <td>True</td>\n",
       "      <td>False</td>\n",
       "      <td>TOP TEN</td>\n",
       "    </tr>\n",
       "    <tr>\n",
       "      <th>86</th>\n",
       "      <td>CIRCLE K</td>\n",
       "      <td>290 MAIN ST</td>\n",
       "      <td>MARSEILLES</td>\n",
       "      <td>IL</td>\n",
       "      <td>61341</td>\n",
       "      <td>NaN</td>\n",
       "      <td>99.0</td>\n",
       "      <td>815</td>\n",
       "      <td>2</td>\n",
       "      <td>C</td>\n",
       "      <td>C</td>\n",
       "      <td>541103</td>\n",
       "      <td>CONVENIENCE STORES</td>\n",
       "      <td>44512001.0</td>\n",
       "      <td>CONVENIENCE STORES</td>\n",
       "      <td>554101.0</td>\n",
       "      <td>SERVICE STATIONS-GASOLINE &amp; OIL</td>\n",
       "      <td>554110.0</td>\n",
       "      <td>ALTERNATIVE FUELS</td>\n",
       "      <td>NaN</td>\n",
       "      <td>NaN</td>\n",
       "      <td>NaN</td>\n",
       "      <td>NaN</td>\n",
       "      <td>NaN</td>\n",
       "      <td>NaN</td>\n",
       "      <td>2022</td>\n",
       "      <td>21303.0</td>\n",
       "      <td>11.0</td>\n",
       "      <td>2225.0</td>\n",
       "      <td>2</td>\n",
       "      <td>F</td>\n",
       "      <td>NaN</td>\n",
       "      <td>NaN</td>\n",
       "      <td>NaN</td>\n",
       "      <td>312709629</td>\n",
       "      <td>NaN</td>\n",
       "      <td>450720289.0</td>\n",
       "      <td>650.0</td>\n",
       "      <td>4981020.0</td>\n",
       "      <td>H</td>\n",
       "      <td>J</td>\n",
       "      <td>NaN</td>\n",
       "      <td>NaN</td>\n",
       "      <td>5</td>\n",
       "      <td>962400.0</td>\n",
       "      <td>2.0</td>\n",
       "      <td>41.333000</td>\n",
       "      <td>-88.701000</td>\n",
       "      <td>X</td>\n",
       "      <td>36837.0</td>\n",
       "      <td>1.0</td>\n",
       "      <td>176.0</td>\n",
       "      <td>17099.0</td>\n",
       "      <td>True</td>\n",
       "      <td>False</td>\n",
       "      <td>TOP TEN</td>\n",
       "    </tr>\n",
       "    <tr>\n",
       "      <th>199</th>\n",
       "      <td>SPRING VALLEY SUPERMARKET</td>\n",
       "      <td>117 S SPALDING ST</td>\n",
       "      <td>SPRING VALLEY</td>\n",
       "      <td>IL</td>\n",
       "      <td>61362</td>\n",
       "      <td>2097.0</td>\n",
       "      <td>11.0</td>\n",
       "      <td>815</td>\n",
       "      <td>2</td>\n",
       "      <td>E</td>\n",
       "      <td>E</td>\n",
       "      <td>541105</td>\n",
       "      <td>GROCERS-RETAIL</td>\n",
       "      <td>44511003.0</td>\n",
       "      <td>SUPERMARKETS/OTHER GROCERY (EXC CONVENIENCE) STRS</td>\n",
       "      <td>542107.0</td>\n",
       "      <td>MEAT-RETAIL</td>\n",
       "      <td>NaN</td>\n",
       "      <td>NaN</td>\n",
       "      <td>NaN</td>\n",
       "      <td>NaN</td>\n",
       "      <td>NaN</td>\n",
       "      <td>NaN</td>\n",
       "      <td>NaN</td>\n",
       "      <td>NaN</td>\n",
       "      <td>2022</td>\n",
       "      <td>39106.0</td>\n",
       "      <td>60.0</td>\n",
       "      <td>8908.0</td>\n",
       "      <td>9</td>\n",
       "      <td>NaN</td>\n",
       "      <td>NaN</td>\n",
       "      <td>NaN</td>\n",
       "      <td>NaN</td>\n",
       "      <td>2994101</td>\n",
       "      <td>NaN</td>\n",
       "      <td>NaN</td>\n",
       "      <td>NaN</td>\n",
       "      <td>NaN</td>\n",
       "      <td>NaN</td>\n",
       "      <td>NaN</td>\n",
       "      <td>NaN</td>\n",
       "      <td>NaN</td>\n",
       "      <td>5</td>\n",
       "      <td>965200.0</td>\n",
       "      <td>2.0</td>\n",
       "      <td>41.323951</td>\n",
       "      <td>-89.199282</td>\n",
       "      <td>P</td>\n",
       "      <td>36837.0</td>\n",
       "      <td>1.0</td>\n",
       "      <td>176.0</td>\n",
       "      <td>17011.0</td>\n",
       "      <td>False</td>\n",
       "      <td>True</td>\n",
       "      <td>INDEPENDENT STORE</td>\n",
       "    </tr>\n",
       "    <tr>\n",
       "      <th>238</th>\n",
       "      <td>FREEDOM OIL CO</td>\n",
       "      <td>402 N MAIN ST</td>\n",
       "      <td>TOLUCA</td>\n",
       "      <td>IL</td>\n",
       "      <td>61369</td>\n",
       "      <td>9025.0</td>\n",
       "      <td>123.0</td>\n",
       "      <td>815</td>\n",
       "      <td>2</td>\n",
       "      <td>B</td>\n",
       "      <td>C</td>\n",
       "      <td>541103</td>\n",
       "      <td>CONVENIENCE STORES</td>\n",
       "      <td>44512001.0</td>\n",
       "      <td>CONVENIENCE STORES</td>\n",
       "      <td>554101.0</td>\n",
       "      <td>SERVICE STATIONS-GASOLINE &amp; OIL</td>\n",
       "      <td>NaN</td>\n",
       "      <td>NaN</td>\n",
       "      <td>NaN</td>\n",
       "      <td>NaN</td>\n",
       "      <td>NaN</td>\n",
       "      <td>NaN</td>\n",
       "      <td>NaN</td>\n",
       "      <td>NaN</td>\n",
       "      <td>2022</td>\n",
       "      <td>NaN</td>\n",
       "      <td>7.0</td>\n",
       "      <td>1545.0</td>\n",
       "      <td>2</td>\n",
       "      <td>NaN</td>\n",
       "      <td>NaN</td>\n",
       "      <td>NaN</td>\n",
       "      <td>NaN</td>\n",
       "      <td>308353358</td>\n",
       "      <td>NaN</td>\n",
       "      <td>452637325.0</td>\n",
       "      <td>17.0</td>\n",
       "      <td>52200.0</td>\n",
       "      <td>C</td>\n",
       "      <td>H</td>\n",
       "      <td>NaN</td>\n",
       "      <td>NaN</td>\n",
       "      <td>3</td>\n",
       "      <td>961500.0</td>\n",
       "      <td>2.0</td>\n",
       "      <td>41.005092</td>\n",
       "      <td>-89.133807</td>\n",
       "      <td>P</td>\n",
       "      <td>37900.0</td>\n",
       "      <td>2.0</td>\n",
       "      <td>0.0</td>\n",
       "      <td>17123.0</td>\n",
       "      <td>False</td>\n",
       "      <td>False</td>\n",
       "      <td>OTHER</td>\n",
       "    </tr>\n",
       "    <tr>\n",
       "      <th>316</th>\n",
       "      <td>SENECA FOOD MART</td>\n",
       "      <td>271 S MAIN ST</td>\n",
       "      <td>SENECA</td>\n",
       "      <td>IL</td>\n",
       "      <td>61360</td>\n",
       "      <td>9415.0</td>\n",
       "      <td>99.0</td>\n",
       "      <td>815</td>\n",
       "      <td>2</td>\n",
       "      <td>B</td>\n",
       "      <td>C</td>\n",
       "      <td>541105</td>\n",
       "      <td>GROCERS-RETAIL</td>\n",
       "      <td>44511003.0</td>\n",
       "      <td>SUPERMARKETS/OTHER GROCERY (EXC CONVENIENCE) STRS</td>\n",
       "      <td>209903.0</td>\n",
       "      <td>FOOD PRODUCTS &amp; MANUFACTURERS</td>\n",
       "      <td>NaN</td>\n",
       "      <td>NaN</td>\n",
       "      <td>NaN</td>\n",
       "      <td>NaN</td>\n",
       "      <td>NaN</td>\n",
       "      <td>NaN</td>\n",
       "      <td>NaN</td>\n",
       "      <td>NaN</td>\n",
       "      <td>2022</td>\n",
       "      <td>39106.0</td>\n",
       "      <td>8.0</td>\n",
       "      <td>1618.0</td>\n",
       "      <td>2</td>\n",
       "      <td>NaN</td>\n",
       "      <td>NaN</td>\n",
       "      <td>NaN</td>\n",
       "      <td>NaN</td>\n",
       "      <td>152142808</td>\n",
       "      <td>NaN</td>\n",
       "      <td>558247.0</td>\n",
       "      <td>75.0</td>\n",
       "      <td>1385280.0</td>\n",
       "      <td>E</td>\n",
       "      <td>K</td>\n",
       "      <td>NaN</td>\n",
       "      <td>NaN</td>\n",
       "      <td>4</td>\n",
       "      <td>963700.0</td>\n",
       "      <td>1.0</td>\n",
       "      <td>41.306622</td>\n",
       "      <td>-88.610207</td>\n",
       "      <td>P</td>\n",
       "      <td>36837.0</td>\n",
       "      <td>1.0</td>\n",
       "      <td>176.0</td>\n",
       "      <td>17099.0</td>\n",
       "      <td>False</td>\n",
       "      <td>False</td>\n",
       "      <td>OTHER</td>\n",
       "    </tr>\n",
       "    <tr>\n",
       "      <th>...</th>\n",
       "      <td>...</td>\n",
       "      <td>...</td>\n",
       "      <td>...</td>\n",
       "      <td>...</td>\n",
       "      <td>...</td>\n",
       "      <td>...</td>\n",
       "      <td>...</td>\n",
       "      <td>...</td>\n",
       "      <td>...</td>\n",
       "      <td>...</td>\n",
       "      <td>...</td>\n",
       "      <td>...</td>\n",
       "      <td>...</td>\n",
       "      <td>...</td>\n",
       "      <td>...</td>\n",
       "      <td>...</td>\n",
       "      <td>...</td>\n",
       "      <td>...</td>\n",
       "      <td>...</td>\n",
       "      <td>...</td>\n",
       "      <td>...</td>\n",
       "      <td>...</td>\n",
       "      <td>...</td>\n",
       "      <td>...</td>\n",
       "      <td>...</td>\n",
       "      <td>...</td>\n",
       "      <td>...</td>\n",
       "      <td>...</td>\n",
       "      <td>...</td>\n",
       "      <td>...</td>\n",
       "      <td>...</td>\n",
       "      <td>...</td>\n",
       "      <td>...</td>\n",
       "      <td>...</td>\n",
       "      <td>...</td>\n",
       "      <td>...</td>\n",
       "      <td>...</td>\n",
       "      <td>...</td>\n",
       "      <td>...</td>\n",
       "      <td>...</td>\n",
       "      <td>...</td>\n",
       "      <td>...</td>\n",
       "      <td>...</td>\n",
       "      <td>...</td>\n",
       "      <td>...</td>\n",
       "      <td>...</td>\n",
       "      <td>...</td>\n",
       "      <td>...</td>\n",
       "      <td>...</td>\n",
       "      <td>...</td>\n",
       "      <td>...</td>\n",
       "      <td>...</td>\n",
       "      <td>...</td>\n",
       "      <td>...</td>\n",
       "      <td>...</td>\n",
       "      <td>...</td>\n",
       "    </tr>\n",
       "    <tr>\n",
       "      <th>203321</th>\n",
       "      <td>AL A CARTE FOOD</td>\n",
       "      <td>2620 W CERMAK RD</td>\n",
       "      <td>CHICAGO</td>\n",
       "      <td>IL</td>\n",
       "      <td>60608</td>\n",
       "      <td>6171.0</td>\n",
       "      <td>31.0</td>\n",
       "      <td>773</td>\n",
       "      <td>2</td>\n",
       "      <td>A</td>\n",
       "      <td>B</td>\n",
       "      <td>541103</td>\n",
       "      <td>CONVENIENCE STORES</td>\n",
       "      <td>44512001.0</td>\n",
       "      <td>CONVENIENCE STORES</td>\n",
       "      <td>NaN</td>\n",
       "      <td>NaN</td>\n",
       "      <td>NaN</td>\n",
       "      <td>NaN</td>\n",
       "      <td>NaN</td>\n",
       "      <td>NaN</td>\n",
       "      <td>NaN</td>\n",
       "      <td>NaN</td>\n",
       "      <td>NaN</td>\n",
       "      <td>NaN</td>\n",
       "      <td>2022</td>\n",
       "      <td>21303.0</td>\n",
       "      <td>2.0</td>\n",
       "      <td>512.0</td>\n",
       "      <td>9</td>\n",
       "      <td>NaN</td>\n",
       "      <td>NaN</td>\n",
       "      <td>NaN</td>\n",
       "      <td>NaN</td>\n",
       "      <td>404191958</td>\n",
       "      <td>NaN</td>\n",
       "      <td>NaN</td>\n",
       "      <td>NaN</td>\n",
       "      <td>NaN</td>\n",
       "      <td>NaN</td>\n",
       "      <td>NaN</td>\n",
       "      <td>NaN</td>\n",
       "      <td>NaN</td>\n",
       "      <td>8</td>\n",
       "      <td>840700.0</td>\n",
       "      <td>3.0</td>\n",
       "      <td>41.852085</td>\n",
       "      <td>-87.691277</td>\n",
       "      <td>4</td>\n",
       "      <td>16980.0</td>\n",
       "      <td>2.0</td>\n",
       "      <td>176.0</td>\n",
       "      <td>17031.0</td>\n",
       "      <td>False</td>\n",
       "      <td>True</td>\n",
       "      <td>INDEPENDENT STORE</td>\n",
       "    </tr>\n",
       "    <tr>\n",
       "      <th>203333</th>\n",
       "      <td>LAKEVIEW FOODS INC</td>\n",
       "      <td>4106 N SHERIDAN RD</td>\n",
       "      <td>CHICAGO</td>\n",
       "      <td>IL</td>\n",
       "      <td>60613</td>\n",
       "      <td>2007.0</td>\n",
       "      <td>31.0</td>\n",
       "      <td>773</td>\n",
       "      <td>2</td>\n",
       "      <td>B</td>\n",
       "      <td>C</td>\n",
       "      <td>541105</td>\n",
       "      <td>GROCERS-RETAIL</td>\n",
       "      <td>44511003.0</td>\n",
       "      <td>SUPERMARKETS/OTHER GROCERY (EXC CONVENIENCE) STRS</td>\n",
       "      <td>NaN</td>\n",
       "      <td>NaN</td>\n",
       "      <td>NaN</td>\n",
       "      <td>NaN</td>\n",
       "      <td>NaN</td>\n",
       "      <td>NaN</td>\n",
       "      <td>NaN</td>\n",
       "      <td>NaN</td>\n",
       "      <td>NaN</td>\n",
       "      <td>NaN</td>\n",
       "      <td>2022</td>\n",
       "      <td>39106.0</td>\n",
       "      <td>5.0</td>\n",
       "      <td>1278.0</td>\n",
       "      <td>9</td>\n",
       "      <td>NaN</td>\n",
       "      <td>NaN</td>\n",
       "      <td>NaN</td>\n",
       "      <td>NaN</td>\n",
       "      <td>151164688</td>\n",
       "      <td>NaN</td>\n",
       "      <td>NaN</td>\n",
       "      <td>NaN</td>\n",
       "      <td>NaN</td>\n",
       "      <td>NaN</td>\n",
       "      <td>NaN</td>\n",
       "      <td>NaN</td>\n",
       "      <td>NaN</td>\n",
       "      <td>7</td>\n",
       "      <td>32100.0</td>\n",
       "      <td>3.0</td>\n",
       "      <td>41.956971</td>\n",
       "      <td>-87.654794</td>\n",
       "      <td>P</td>\n",
       "      <td>16980.0</td>\n",
       "      <td>2.0</td>\n",
       "      <td>176.0</td>\n",
       "      <td>17031.0</td>\n",
       "      <td>False</td>\n",
       "      <td>True</td>\n",
       "      <td>INDEPENDENT STORE</td>\n",
       "    </tr>\n",
       "    <tr>\n",
       "      <th>203352</th>\n",
       "      <td>THORNDALE MART INC</td>\n",
       "      <td>1104 W THORNDALE AVE</td>\n",
       "      <td>CHICAGO</td>\n",
       "      <td>IL</td>\n",
       "      <td>60660</td>\n",
       "      <td>3516.0</td>\n",
       "      <td>31.0</td>\n",
       "      <td>773</td>\n",
       "      <td>2</td>\n",
       "      <td>A</td>\n",
       "      <td>A</td>\n",
       "      <td>541103</td>\n",
       "      <td>CONVENIENCE STORES</td>\n",
       "      <td>44512001.0</td>\n",
       "      <td>CONVENIENCE STORES</td>\n",
       "      <td>NaN</td>\n",
       "      <td>NaN</td>\n",
       "      <td>NaN</td>\n",
       "      <td>NaN</td>\n",
       "      <td>NaN</td>\n",
       "      <td>NaN</td>\n",
       "      <td>NaN</td>\n",
       "      <td>NaN</td>\n",
       "      <td>NaN</td>\n",
       "      <td>NaN</td>\n",
       "      <td>2022</td>\n",
       "      <td>21303.0</td>\n",
       "      <td>1.0</td>\n",
       "      <td>256.0</td>\n",
       "      <td>9</td>\n",
       "      <td>NaN</td>\n",
       "      <td>NaN</td>\n",
       "      <td>NaN</td>\n",
       "      <td>NaN</td>\n",
       "      <td>427743704</td>\n",
       "      <td>NaN</td>\n",
       "      <td>NaN</td>\n",
       "      <td>NaN</td>\n",
       "      <td>NaN</td>\n",
       "      <td>NaN</td>\n",
       "      <td>NaN</td>\n",
       "      <td>NaN</td>\n",
       "      <td>NaN</td>\n",
       "      <td>7</td>\n",
       "      <td>30101.0</td>\n",
       "      <td>1.0</td>\n",
       "      <td>41.990189</td>\n",
       "      <td>-87.658514</td>\n",
       "      <td>P</td>\n",
       "      <td>16980.0</td>\n",
       "      <td>2.0</td>\n",
       "      <td>176.0</td>\n",
       "      <td>17031.0</td>\n",
       "      <td>False</td>\n",
       "      <td>True</td>\n",
       "      <td>INDEPENDENT STORE</td>\n",
       "    </tr>\n",
       "    <tr>\n",
       "      <th>203353</th>\n",
       "      <td>SMITH &amp; SMITH</td>\n",
       "      <td>S CHICAGO</td>\n",
       "      <td>CHICAGO</td>\n",
       "      <td>IL</td>\n",
       "      <td>60641</td>\n",
       "      <td>NaN</td>\n",
       "      <td>31.0</td>\n",
       "      <td>773</td>\n",
       "      <td>2</td>\n",
       "      <td>A</td>\n",
       "      <td>B</td>\n",
       "      <td>541105</td>\n",
       "      <td>GROCERS-RETAIL</td>\n",
       "      <td>44511003.0</td>\n",
       "      <td>SUPERMARKETS/OTHER GROCERY (EXC CONVENIENCE) STRS</td>\n",
       "      <td>NaN</td>\n",
       "      <td>NaN</td>\n",
       "      <td>NaN</td>\n",
       "      <td>NaN</td>\n",
       "      <td>NaN</td>\n",
       "      <td>NaN</td>\n",
       "      <td>NaN</td>\n",
       "      <td>NaN</td>\n",
       "      <td>NaN</td>\n",
       "      <td>NaN</td>\n",
       "      <td>2022</td>\n",
       "      <td>39106.0</td>\n",
       "      <td>3.0</td>\n",
       "      <td>767.0</td>\n",
       "      <td>9</td>\n",
       "      <td>NaN</td>\n",
       "      <td>NaN</td>\n",
       "      <td>NaN</td>\n",
       "      <td>NaN</td>\n",
       "      <td>427025988</td>\n",
       "      <td>NaN</td>\n",
       "      <td>NaN</td>\n",
       "      <td>NaN</td>\n",
       "      <td>NaN</td>\n",
       "      <td>NaN</td>\n",
       "      <td>NaN</td>\n",
       "      <td>NaN</td>\n",
       "      <td>NaN</td>\n",
       "      <td>8</td>\n",
       "      <td>831700.0</td>\n",
       "      <td>1.0</td>\n",
       "      <td>41.948300</td>\n",
       "      <td>-87.743900</td>\n",
       "      <td>X</td>\n",
       "      <td>16980.0</td>\n",
       "      <td>2.0</td>\n",
       "      <td>176.0</td>\n",
       "      <td>17031.0</td>\n",
       "      <td>False</td>\n",
       "      <td>True</td>\n",
       "      <td>INDEPENDENT STORE</td>\n",
       "    </tr>\n",
       "    <tr>\n",
       "      <th>203442</th>\n",
       "      <td>SOUTH LOOP MARKET</td>\n",
       "      <td>1720 S MICHIGAN AVE # 115</td>\n",
       "      <td>CHICAGO</td>\n",
       "      <td>IL</td>\n",
       "      <td>60616</td>\n",
       "      <td>5371.0</td>\n",
       "      <td>31.0</td>\n",
       "      <td>312</td>\n",
       "      <td>2</td>\n",
       "      <td>A</td>\n",
       "      <td>B</td>\n",
       "      <td>541105</td>\n",
       "      <td>GROCERS-RETAIL</td>\n",
       "      <td>44511003.0</td>\n",
       "      <td>SUPERMARKETS/OTHER GROCERY (EXC CONVENIENCE) STRS</td>\n",
       "      <td>NaN</td>\n",
       "      <td>NaN</td>\n",
       "      <td>NaN</td>\n",
       "      <td>NaN</td>\n",
       "      <td>NaN</td>\n",
       "      <td>NaN</td>\n",
       "      <td>NaN</td>\n",
       "      <td>NaN</td>\n",
       "      <td>NaN</td>\n",
       "      <td>NaN</td>\n",
       "      <td>2022</td>\n",
       "      <td>39106.0</td>\n",
       "      <td>3.0</td>\n",
       "      <td>767.0</td>\n",
       "      <td>9</td>\n",
       "      <td>NaN</td>\n",
       "      <td>2009.0</td>\n",
       "      <td>NaN</td>\n",
       "      <td>NaN</td>\n",
       "      <td>425080898</td>\n",
       "      <td>NaN</td>\n",
       "      <td>NaN</td>\n",
       "      <td>NaN</td>\n",
       "      <td>NaN</td>\n",
       "      <td>NaN</td>\n",
       "      <td>NaN</td>\n",
       "      <td>NaN</td>\n",
       "      <td>NaN</td>\n",
       "      <td>7</td>\n",
       "      <td>330100.0</td>\n",
       "      <td>2.0</td>\n",
       "      <td>41.858455</td>\n",
       "      <td>-87.624430</td>\n",
       "      <td>P</td>\n",
       "      <td>16980.0</td>\n",
       "      <td>2.0</td>\n",
       "      <td>176.0</td>\n",
       "      <td>17031.0</td>\n",
       "      <td>False</td>\n",
       "      <td>True</td>\n",
       "      <td>INDEPENDENT STORE</td>\n",
       "    </tr>\n",
       "  </tbody>\n",
       "</table>\n",
       "<p>5191 rows × 56 columns</p>\n",
       "</div>"
      ],
      "text/plain": [
       "                          COMPANY             ADDRESS LINE 1           CITY  \\\n",
       "13                         KROGER          301 E MCKINLEY RD         OTTAWA   \n",
       "86                       CIRCLE K                290 MAIN ST     MARSEILLES   \n",
       "199     SPRING VALLEY SUPERMARKET          117 S SPALDING ST  SPRING VALLEY   \n",
       "238                FREEDOM OIL CO              402 N MAIN ST         TOLUCA   \n",
       "316              SENECA FOOD MART              271 S MAIN ST         SENECA   \n",
       "...                           ...                        ...            ...   \n",
       "203321            AL A CARTE FOOD           2620 W CERMAK RD        CHICAGO   \n",
       "203333         LAKEVIEW FOODS INC         4106 N SHERIDAN RD        CHICAGO   \n",
       "203352         THORNDALE MART INC       1104 W THORNDALE AVE        CHICAGO   \n",
       "203353              SMITH & SMITH                  S CHICAGO        CHICAGO   \n",
       "203442          SOUTH LOOP MARKET  1720 S MICHIGAN AVE # 115        CHICAGO   \n",
       "\n",
       "       STATE  ZIPCODE    ZIP4  COUNTY CODE  AREA CODE  IDCODE  \\\n",
       "13        IL    61350  4805.0         99.0        815       2   \n",
       "86        IL    61341     NaN         99.0        815       2   \n",
       "199       IL    61362  2097.0         11.0        815       2   \n",
       "238       IL    61369  9025.0        123.0        815       2   \n",
       "316       IL    61360  9415.0         99.0        815       2   \n",
       "...      ...      ...     ...          ...        ...     ...   \n",
       "203321    IL    60608  6171.0         31.0        773       2   \n",
       "203333    IL    60613  2007.0         31.0        773       2   \n",
       "203352    IL    60660  3516.0         31.0        773       2   \n",
       "203353    IL    60641     NaN         31.0        773       2   \n",
       "203442    IL    60616  5371.0         31.0        312       2   \n",
       "\n",
       "       LOCATION EMPLOYEE SIZE CODE LOCATION SALES VOLUME CODE  \\\n",
       "13                               E                          F   \n",
       "86                               C                          C   \n",
       "199                              E                          E   \n",
       "238                              B                          C   \n",
       "316                              B                          C   \n",
       "...                            ...                        ...   \n",
       "203321                           A                          B   \n",
       "203333                           B                          C   \n",
       "203352                           A                          A   \n",
       "203353                           A                          B   \n",
       "203442                           A                          B   \n",
       "\n",
       "        PRIMARY SIC CODE   SIC6_DESCRIPTIONS  PRIMARY NAICS CODE  \\\n",
       "13                541105      GROCERS-RETAIL          44511003.0   \n",
       "86                541103  CONVENIENCE STORES          44512001.0   \n",
       "199               541105      GROCERS-RETAIL          44511003.0   \n",
       "238               541103  CONVENIENCE STORES          44512001.0   \n",
       "316               541105      GROCERS-RETAIL          44511003.0   \n",
       "...                  ...                 ...                 ...   \n",
       "203321            541103  CONVENIENCE STORES          44512001.0   \n",
       "203333            541105      GROCERS-RETAIL          44511003.0   \n",
       "203352            541103  CONVENIENCE STORES          44512001.0   \n",
       "203353            541105      GROCERS-RETAIL          44511003.0   \n",
       "203442            541105      GROCERS-RETAIL          44511003.0   \n",
       "\n",
       "                                      NAICS8 DESCRIPTIONS  SIC CODE  \\\n",
       "13      SUPERMARKETS/OTHER GROCERY (EXC CONVENIENCE) STRS       NaN   \n",
       "86                                     CONVENIENCE STORES  554101.0   \n",
       "199     SUPERMARKETS/OTHER GROCERY (EXC CONVENIENCE) STRS  542107.0   \n",
       "238                                    CONVENIENCE STORES  554101.0   \n",
       "316     SUPERMARKETS/OTHER GROCERY (EXC CONVENIENCE) STRS  209903.0   \n",
       "...                                                   ...       ...   \n",
       "203321                                 CONVENIENCE STORES       NaN   \n",
       "203333  SUPERMARKETS/OTHER GROCERY (EXC CONVENIENCE) STRS       NaN   \n",
       "203352                                 CONVENIENCE STORES       NaN   \n",
       "203353  SUPERMARKETS/OTHER GROCERY (EXC CONVENIENCE) STRS       NaN   \n",
       "203442  SUPERMARKETS/OTHER GROCERY (EXC CONVENIENCE) STRS       NaN   \n",
       "\n",
       "                SIC6_DESCRIPTIONS (SIC)  SIC CODE 1 SIC6_DESCRIPTIONS (SIC1)  \\\n",
       "13                                  NaN         NaN                      NaN   \n",
       "86      SERVICE STATIONS-GASOLINE & OIL    554110.0        ALTERNATIVE FUELS   \n",
       "199                         MEAT-RETAIL         NaN                      NaN   \n",
       "238     SERVICE STATIONS-GASOLINE & OIL         NaN                      NaN   \n",
       "316       FOOD PRODUCTS & MANUFACTURERS         NaN                      NaN   \n",
       "...                                 ...         ...                      ...   \n",
       "203321                              NaN         NaN                      NaN   \n",
       "203333                              NaN         NaN                      NaN   \n",
       "203352                              NaN         NaN                      NaN   \n",
       "203353                              NaN         NaN                      NaN   \n",
       "203442                              NaN         NaN                      NaN   \n",
       "\n",
       "        SIC CODE 2 SIC6_DESCRIPTIONS(SIC2)  SIC CODE 3  \\\n",
       "13             NaN                     NaN         NaN   \n",
       "86             NaN                     NaN         NaN   \n",
       "199            NaN                     NaN         NaN   \n",
       "238            NaN                     NaN         NaN   \n",
       "316            NaN                     NaN         NaN   \n",
       "...            ...                     ...         ...   \n",
       "203321         NaN                     NaN         NaN   \n",
       "203333         NaN                     NaN         NaN   \n",
       "203352         NaN                     NaN         NaN   \n",
       "203353         NaN                     NaN         NaN   \n",
       "203442         NaN                     NaN         NaN   \n",
       "\n",
       "       SIC6_DESCRIPTIONS(SIC3)  SIC CODE 4 SIC6_DESCRIPTIONS(SIC4)  \\\n",
       "13                         NaN         NaN                     NaN   \n",
       "86                         NaN         NaN                     NaN   \n",
       "199                        NaN         NaN                     NaN   \n",
       "238                        NaN         NaN                     NaN   \n",
       "316                        NaN         NaN                     NaN   \n",
       "...                        ...         ...                     ...   \n",
       "203321                     NaN         NaN                     NaN   \n",
       "203333                     NaN         NaN                     NaN   \n",
       "203352                     NaN         NaN                     NaN   \n",
       "203353                     NaN         NaN                     NaN   \n",
       "203442                     NaN         NaN                     NaN   \n",
       "\n",
       "        ARCHIVE VERSION YEAR  YELLOW PAGE CODE  EMPLOYEE SIZE (5) - LOCATION  \\\n",
       "13                      2022           39106.0                          70.0   \n",
       "86                      2022           21303.0                          11.0   \n",
       "199                     2022           39106.0                          60.0   \n",
       "238                     2022               NaN                           7.0   \n",
       "316                     2022           39106.0                           8.0   \n",
       "...                      ...               ...                           ...   \n",
       "203321                  2022           21303.0                           2.0   \n",
       "203333                  2022           39106.0                           5.0   \n",
       "203352                  2022           21303.0                           1.0   \n",
       "203353                  2022           39106.0                           3.0   \n",
       "203442                  2022           39106.0                           3.0   \n",
       "\n",
       "        SALES VOLUME (9) - LOCATION  BUSINESS STATUS CODE  \\\n",
       "13                          14158.0                     2   \n",
       "86                           2225.0                     2   \n",
       "199                          8908.0                     9   \n",
       "238                          1545.0                     2   \n",
       "316                          1618.0                     2   \n",
       "...                             ...                   ...   \n",
       "203321                        512.0                     9   \n",
       "203333                       1278.0                     9   \n",
       "203352                        256.0                     9   \n",
       "203353                        767.0                     9   \n",
       "203442                        767.0                     9   \n",
       "\n",
       "       INDUSTRY SPECIFIC FIRST BYTE  YEAR ESTABLISHED  OFFICE SIZE CODE  \\\n",
       "13                                P               NaN               NaN   \n",
       "86                                F               NaN               NaN   \n",
       "199                             NaN               NaN               NaN   \n",
       "238                             NaN               NaN               NaN   \n",
       "316                             NaN               NaN               NaN   \n",
       "...                             ...               ...               ...   \n",
       "203321                          NaN               NaN               NaN   \n",
       "203333                          NaN               NaN               NaN   \n",
       "203352                          NaN               NaN               NaN   \n",
       "203353                          NaN               NaN               NaN   \n",
       "203442                          NaN            2009.0               NaN   \n",
       "\n",
       "        COMPANY HOLDING STATUS        ABI  SUBSIDIARY NUMBER  PARENT NUMBER  \\\n",
       "13                         NaN  152123287                NaN      7521503.0   \n",
       "86                         NaN  312709629                NaN    450720289.0   \n",
       "199                        NaN    2994101                NaN            NaN   \n",
       "238                        NaN  308353358                NaN    452637325.0   \n",
       "316                        NaN  152142808                NaN       558247.0   \n",
       "...                        ...        ...                ...            ...   \n",
       "203321                     NaN  404191958                NaN            NaN   \n",
       "203333                     NaN  151164688                NaN            NaN   \n",
       "203352                     NaN  427743704                NaN            NaN   \n",
       "203353                     NaN  427025988                NaN            NaN   \n",
       "203442                     NaN  425080898                NaN            NaN   \n",
       "\n",
       "        PARENT ACTUAL EMPLOYEE SIZE  PARENT ACTUAL SALES VOLUME  \\\n",
       "13                           1200.0                 137888000.0   \n",
       "86                            650.0                   4981020.0   \n",
       "199                             NaN                         NaN   \n",
       "238                            17.0                     52200.0   \n",
       "316                            75.0                   1385280.0   \n",
       "...                             ...                         ...   \n",
       "203321                          NaN                         NaN   \n",
       "203333                          NaN                         NaN   \n",
       "203352                          NaN                         NaN   \n",
       "203353                          NaN                         NaN   \n",
       "203442                          NaN                         NaN   \n",
       "\n",
       "       PARENT EMPLOYEE SIZE CODE PARENT SALES VOLUME CODE  SITE NUMBER  \\\n",
       "13                             I                        I  152123287.0   \n",
       "86                             H                        J          NaN   \n",
       "199                          NaN                      NaN          NaN   \n",
       "238                            C                        H          NaN   \n",
       "316                            E                        K          NaN   \n",
       "...                          ...                      ...          ...   \n",
       "203321                       NaN                      NaN          NaN   \n",
       "203333                       NaN                      NaN          NaN   \n",
       "203352                       NaN                      NaN          NaN   \n",
       "203353                       NaN                      NaN          NaN   \n",
       "203442                       NaN                      NaN          NaN   \n",
       "\n",
       "       ADDRESS TYPE INDICATOR  POPULATION CODE  CENSUS TRACT  CENSUS BLOCK  \\\n",
       "13                        NaN                7      963500.0           1.0   \n",
       "86                        NaN                5      962400.0           2.0   \n",
       "199                       NaN                5      965200.0           2.0   \n",
       "238                       NaN                3      961500.0           2.0   \n",
       "316                       NaN                4      963700.0           1.0   \n",
       "...                       ...              ...           ...           ...   \n",
       "203321                    NaN                8      840700.0           3.0   \n",
       "203333                    NaN                7       32100.0           3.0   \n",
       "203352                    NaN                7       30101.0           1.0   \n",
       "203353                    NaN                8      831700.0           1.0   \n",
       "203442                    NaN                7      330100.0           2.0   \n",
       "\n",
       "         LATITUDE  LONGITUDE MATCH CODE  CBSA CODE  CBSA LEVEL  CSA CODE  \\\n",
       "13      41.323858 -88.836271          P    36837.0         1.0     176.0   \n",
       "86      41.333000 -88.701000          X    36837.0         1.0     176.0   \n",
       "199     41.323951 -89.199282          P    36837.0         1.0     176.0   \n",
       "238     41.005092 -89.133807          P    37900.0         2.0       0.0   \n",
       "316     41.306622 -88.610207          P    36837.0         1.0     176.0   \n",
       "...           ...        ...        ...        ...         ...       ...   \n",
       "203321  41.852085 -87.691277          4    16980.0         2.0     176.0   \n",
       "203333  41.956971 -87.654794          P    16980.0         2.0     176.0   \n",
       "203352  41.990189 -87.658514          P    16980.0         2.0     176.0   \n",
       "203353  41.948300 -87.743900          X    16980.0         2.0     176.0   \n",
       "203442  41.858455 -87.624430          P    16980.0         2.0     176.0   \n",
       "\n",
       "        FIPS CODE  TOP TEN  INDEPENDENT STORE         STORE TYPE  \n",
       "13        17099.0     True              False            TOP TEN  \n",
       "86        17099.0     True              False            TOP TEN  \n",
       "199       17011.0    False               True  INDEPENDENT STORE  \n",
       "238       17123.0    False              False              OTHER  \n",
       "316       17099.0    False              False              OTHER  \n",
       "...           ...      ...                ...                ...  \n",
       "203321    17031.0    False               True  INDEPENDENT STORE  \n",
       "203333    17031.0    False               True  INDEPENDENT STORE  \n",
       "203352    17031.0    False               True  INDEPENDENT STORE  \n",
       "203353    17031.0    False               True  INDEPENDENT STORE  \n",
       "203442    17031.0    False               True  INDEPENDENT STORE  \n",
       "\n",
       "[5191 rows x 56 columns]"
      ]
     },
     "execution_count": 97,
     "metadata": {},
     "output_type": "execute_result"
    }
   ],
   "source": [
    "gil=grocery_sic.query(\"STATE == 'IL'\")\n",
    "gil"
   ]
  },
  {
   "cell_type": "code",
   "execution_count": 85,
   "id": "c4eeb71a-ddad-4936-bba8-f6ff39a7a8c7",
   "metadata": {
    "tags": []
   },
   "outputs": [
    {
     "data": {
      "text/html": [
       "<div>\n",
       "<style scoped>\n",
       "    .dataframe tbody tr th:only-of-type {\n",
       "        vertical-align: middle;\n",
       "    }\n",
       "\n",
       "    .dataframe tbody tr th {\n",
       "        vertical-align: top;\n",
       "    }\n",
       "\n",
       "    .dataframe thead th {\n",
       "        text-align: right;\n",
       "    }\n",
       "</style>\n",
       "<table border=\"1\" class=\"dataframe\">\n",
       "  <thead>\n",
       "    <tr style=\"text-align: right;\">\n",
       "      <th></th>\n",
       "      <th>PARENT NUMBER</th>\n",
       "      <th>COUNT</th>\n",
       "      <th>Percent</th>\n",
       "    </tr>\n",
       "  </thead>\n",
       "  <tbody>\n",
       "    <tr>\n",
       "      <th>0</th>\n",
       "      <td>nan</td>\n",
       "      <td>77818</td>\n",
       "      <td>49.287773</td>\n",
       "    </tr>\n",
       "    <tr>\n",
       "      <th>1</th>\n",
       "      <td>5863311.0</td>\n",
       "      <td>11939</td>\n",
       "      <td>7.561833</td>\n",
       "    </tr>\n",
       "    <tr>\n",
       "      <th>2</th>\n",
       "      <td>450720289.0</td>\n",
       "      <td>6814</td>\n",
       "      <td>4.315799</td>\n",
       "    </tr>\n",
       "    <tr>\n",
       "      <th>3</th>\n",
       "      <td>5889993.0</td>\n",
       "      <td>4397</td>\n",
       "      <td>2.784938</td>\n",
       "    </tr>\n",
       "    <tr>\n",
       "      <th>4</th>\n",
       "      <td>7521503.0</td>\n",
       "      <td>3574</td>\n",
       "      <td>2.263673</td>\n",
       "    </tr>\n",
       "    <tr>\n",
       "      <th>5</th>\n",
       "      <td>441412723.0</td>\n",
       "      <td>2499</td>\n",
       "      <td>1.582798</td>\n",
       "    </tr>\n",
       "    <tr>\n",
       "      <th>6</th>\n",
       "      <td>5995907.0</td>\n",
       "      <td>2493</td>\n",
       "      <td>1.578997</td>\n",
       "    </tr>\n",
       "    <tr>\n",
       "      <th>7</th>\n",
       "      <td>200026573.0</td>\n",
       "      <td>2217</td>\n",
       "      <td>1.404187</td>\n",
       "    </tr>\n",
       "    <tr>\n",
       "      <th>8</th>\n",
       "      <td>238136725.0</td>\n",
       "      <td>2105</td>\n",
       "      <td>1.333249</td>\n",
       "    </tr>\n",
       "    <tr>\n",
       "      <th>9</th>\n",
       "      <td>714232249.0</td>\n",
       "      <td>1760</td>\n",
       "      <td>1.114735</td>\n",
       "    </tr>\n",
       "    <tr>\n",
       "      <th>10</th>\n",
       "      <td>433922353.0</td>\n",
       "      <td>1755</td>\n",
       "      <td>1.111569</td>\n",
       "    </tr>\n",
       "    <tr>\n",
       "      <th>11</th>\n",
       "      <td>Other</td>\n",
       "      <td>40514</td>\n",
       "      <td>25.660449</td>\n",
       "    </tr>\n",
       "  </tbody>\n",
       "</table>\n",
       "</div>"
      ],
      "text/plain": [
       "   PARENT NUMBER  COUNT    Percent\n",
       "0            nan  77818  49.287773\n",
       "1      5863311.0  11939   7.561833\n",
       "2    450720289.0   6814   4.315799\n",
       "3      5889993.0   4397   2.784938\n",
       "4      7521503.0   3574   2.263673\n",
       "5    441412723.0   2499   1.582798\n",
       "6      5995907.0   2493   1.578997\n",
       "7    200026573.0   2217   1.404187\n",
       "8    238136725.0   2105   1.333249\n",
       "9    714232249.0   1760   1.114735\n",
       "10   433922353.0   1755   1.111569\n",
       "11         Other  40514  25.660449"
      ]
     },
     "execution_count": 85,
     "metadata": {},
     "output_type": "execute_result"
    }
   ],
   "source": [
    "grocery_t10_22 = grocery_sic.groupby('PARENT NUMBER', dropna=False).size().reset_index(name='COUNT')\n",
    "grocery_t10_22.sort_values('COUNT', ascending=False, inplace=True)\n",
    "grocery_t10_22.reset_index(drop=True,inplace=True)\n",
    "# Create other row\n",
    "other_row = grocery_t10_22.iloc[11:]\n",
    "other_column = other_row['COUNT'].sum()\n",
    "# Remove other rows\n",
    "grocery_t10_22 = grocery_t10_22.iloc[:11]\n",
    "grocery_t10_22.loc[len(grocery_t10_22)] = [\"Other\", other_column]\n",
    "grocery_t10_22['PARENT NUMBER'] = grocery_t10_22['PARENT NUMBER'].astype(str)\n",
    "grocery_t10_22['Percent'] = grocery_t10_22['COUNT'] / len(grocery_sic) * 100\n",
    "grocery_t10_22.head(20)"
   ]
  },
  {
   "cell_type": "code",
   "execution_count": 86,
   "id": "a0cfb8f7-5f77-46cd-9aaa-8ee0356c3361",
   "metadata": {
    "tags": []
   },
   "outputs": [
    {
     "data": {
      "text/html": [
       "<div>\n",
       "<style scoped>\n",
       "    .dataframe tbody tr th:only-of-type {\n",
       "        vertical-align: middle;\n",
       "    }\n",
       "\n",
       "    .dataframe tbody tr th {\n",
       "        vertical-align: top;\n",
       "    }\n",
       "\n",
       "    .dataframe thead th {\n",
       "        text-align: right;\n",
       "    }\n",
       "</style>\n",
       "<table border=\"1\" class=\"dataframe\">\n",
       "  <thead>\n",
       "    <tr style=\"text-align: right;\">\n",
       "      <th></th>\n",
       "      <th>COMPANY</th>\n",
       "      <th>ADDRESS LINE 1</th>\n",
       "      <th>CITY</th>\n",
       "      <th>STATE</th>\n",
       "      <th>ZIPCODE</th>\n",
       "      <th>ZIP4</th>\n",
       "      <th>COUNTY CODE</th>\n",
       "      <th>AREA CODE</th>\n",
       "      <th>IDCODE</th>\n",
       "      <th>LOCATION EMPLOYEE SIZE CODE</th>\n",
       "      <th>LOCATION SALES VOLUME CODE</th>\n",
       "      <th>PRIMARY SIC CODE</th>\n",
       "      <th>SIC6_DESCRIPTIONS</th>\n",
       "      <th>PRIMARY NAICS CODE</th>\n",
       "      <th>NAICS8 DESCRIPTIONS</th>\n",
       "      <th>SIC CODE</th>\n",
       "      <th>SIC6_DESCRIPTIONS (SIC)</th>\n",
       "      <th>SIC CODE 1</th>\n",
       "      <th>SIC6_DESCRIPTIONS (SIC1)</th>\n",
       "      <th>SIC CODE 2</th>\n",
       "      <th>SIC6_DESCRIPTIONS(SIC2)</th>\n",
       "      <th>SIC CODE 3</th>\n",
       "      <th>SIC6_DESCRIPTIONS(SIC3)</th>\n",
       "      <th>SIC CODE 4</th>\n",
       "      <th>SIC6_DESCRIPTIONS(SIC4)</th>\n",
       "      <th>ARCHIVE VERSION YEAR</th>\n",
       "      <th>YELLOW PAGE CODE</th>\n",
       "      <th>EMPLOYEE SIZE (5) - LOCATION</th>\n",
       "      <th>SALES VOLUME (9) - LOCATION</th>\n",
       "      <th>BUSINESS STATUS CODE</th>\n",
       "      <th>INDUSTRY SPECIFIC FIRST BYTE</th>\n",
       "      <th>YEAR ESTABLISHED</th>\n",
       "      <th>OFFICE SIZE CODE</th>\n",
       "      <th>COMPANY HOLDING STATUS</th>\n",
       "      <th>ABI</th>\n",
       "      <th>SUBSIDIARY NUMBER</th>\n",
       "      <th>PARENT NUMBER</th>\n",
       "      <th>PARENT ACTUAL EMPLOYEE SIZE</th>\n",
       "      <th>PARENT ACTUAL SALES VOLUME</th>\n",
       "      <th>PARENT EMPLOYEE SIZE CODE</th>\n",
       "      <th>PARENT SALES VOLUME CODE</th>\n",
       "      <th>SITE NUMBER</th>\n",
       "      <th>ADDRESS TYPE INDICATOR</th>\n",
       "      <th>POPULATION CODE</th>\n",
       "      <th>CENSUS TRACT</th>\n",
       "      <th>CENSUS BLOCK</th>\n",
       "      <th>LATITUDE</th>\n",
       "      <th>LONGITUDE</th>\n",
       "      <th>MATCH CODE</th>\n",
       "      <th>CBSA CODE</th>\n",
       "      <th>CBSA LEVEL</th>\n",
       "      <th>CSA CODE</th>\n",
       "      <th>FIPS CODE</th>\n",
       "    </tr>\n",
       "  </thead>\n",
       "  <tbody>\n",
       "  </tbody>\n",
       "</table>\n",
       "</div>"
      ],
      "text/plain": [
       "Empty DataFrame\n",
       "Columns: [COMPANY, ADDRESS LINE 1, CITY, STATE, ZIPCODE, ZIP4, COUNTY CODE, AREA CODE, IDCODE, LOCATION EMPLOYEE SIZE CODE, LOCATION SALES VOLUME CODE, PRIMARY SIC CODE, SIC6_DESCRIPTIONS, PRIMARY NAICS CODE, NAICS8 DESCRIPTIONS, SIC CODE, SIC6_DESCRIPTIONS (SIC), SIC CODE 1, SIC6_DESCRIPTIONS (SIC1), SIC CODE 2, SIC6_DESCRIPTIONS(SIC2), SIC CODE 3, SIC6_DESCRIPTIONS(SIC3), SIC CODE 4, SIC6_DESCRIPTIONS(SIC4), ARCHIVE VERSION YEAR, YELLOW PAGE CODE, EMPLOYEE SIZE (5) - LOCATION, SALES VOLUME (9) - LOCATION, BUSINESS STATUS CODE, INDUSTRY SPECIFIC FIRST BYTE, YEAR ESTABLISHED, OFFICE SIZE CODE, COMPANY HOLDING STATUS, ABI, SUBSIDIARY NUMBER, PARENT NUMBER, PARENT ACTUAL EMPLOYEE SIZE, PARENT ACTUAL SALES VOLUME, PARENT EMPLOYEE SIZE CODE, PARENT SALES VOLUME CODE, SITE NUMBER, ADDRESS TYPE INDICATOR, POPULATION CODE, CENSUS TRACT, CENSUS BLOCK, LATITUDE, LONGITUDE, MATCH CODE, CBSA CODE, CBSA LEVEL, CSA CODE, FIPS CODE]\n",
       "Index: []"
      ]
     },
     "execution_count": 86,
     "metadata": {},
     "output_type": "execute_result"
    }
   ],
   "source": [
    "\n",
    "il = grocery_sic.loc[grocery_sic[\"STATE\"] == 'IL']\n",
    "il.loc[il[\"PARENT NUMBER\"] == 238136725.0]\n"
   ]
  },
  {
   "cell_type": "code",
   "execution_count": 96,
   "id": "86ed2a2d-3000-4a01-a0af-a17cc36958c1",
   "metadata": {
    "tags": []
   },
   "outputs": [
    {
     "name": "stderr",
     "output_type": "stream",
     "text": [
      "/tmp/ipykernel_785161/2901174915.py:12: SettingWithCopyWarning: \n",
      "A value is trying to be set on a copy of a slice from a DataFrame\n",
      "\n",
      "See the caveats in the documentation: https://pandas.pydata.org/pandas-docs/stable/user_guide/indexing.html#returning-a-view-versus-a-copy\n",
      "  groc_tp10_il.loc[len(groc_tp10_il.index)] = [\"Other\", other_groc]\n",
      "/tmp/ipykernel_785161/2901174915.py:13: SettingWithCopyWarning: \n",
      "A value is trying to be set on a copy of a slice from a DataFrame.\n",
      "Try using .loc[row_indexer,col_indexer] = value instead\n",
      "\n",
      "See the caveats in the documentation: https://pandas.pydata.org/pandas-docs/stable/user_guide/indexing.html#returning-a-view-versus-a-copy\n",
      "  groc_tp10_il['PARENT NUMBER'] = groc_tp10_il['PARENT NUMBER'].astype(str)\n",
      "/tmp/ipykernel_785161/2901174915.py:14: SettingWithCopyWarning: \n",
      "A value is trying to be set on a copy of a slice from a DataFrame.\n",
      "Try using .loc[row_indexer,col_indexer] = value instead\n",
      "\n",
      "See the caveats in the documentation: https://pandas.pydata.org/pandas-docs/stable/user_guide/indexing.html#returning-a-view-versus-a-copy\n",
      "  groc_tp10_il.loc[:, 'Percent'] = groc_tp10_il.loc[:, 'COMPANY'] / len(il) * 100\n"
     ]
    },
    {
     "data": {
      "text/html": [
       "<div>\n",
       "<style scoped>\n",
       "    .dataframe tbody tr th:only-of-type {\n",
       "        vertical-align: middle;\n",
       "    }\n",
       "\n",
       "    .dataframe tbody tr th {\n",
       "        vertical-align: top;\n",
       "    }\n",
       "\n",
       "    .dataframe thead th {\n",
       "        text-align: right;\n",
       "    }\n",
       "</style>\n",
       "<table border=\"1\" class=\"dataframe\">\n",
       "  <thead>\n",
       "    <tr style=\"text-align: right;\">\n",
       "      <th></th>\n",
       "      <th>PARENT NUMBER</th>\n",
       "      <th>COMPANY</th>\n",
       "    </tr>\n",
       "  </thead>\n",
       "  <tbody>\n",
       "    <tr>\n",
       "      <th>0</th>\n",
       "      <td>NaN</td>\n",
       "      <td>2236</td>\n",
       "    </tr>\n",
       "    <tr>\n",
       "      <th>1</th>\n",
       "      <td>441412723.0</td>\n",
       "      <td>525</td>\n",
       "    </tr>\n",
       "    <tr>\n",
       "      <th>2</th>\n",
       "      <td>5863311.0</td>\n",
       "      <td>446</td>\n",
       "    </tr>\n",
       "    <tr>\n",
       "      <th>3</th>\n",
       "      <td>450720289.0</td>\n",
       "      <td>329</td>\n",
       "    </tr>\n",
       "    <tr>\n",
       "      <th>4</th>\n",
       "      <td>200026573.0</td>\n",
       "      <td>221</td>\n",
       "    </tr>\n",
       "    <tr>\n",
       "      <th>...</th>\n",
       "      <td>...</td>\n",
       "      <td>...</td>\n",
       "    </tr>\n",
       "    <tr>\n",
       "      <th>74</th>\n",
       "      <td>3573128.0</td>\n",
       "      <td>1</td>\n",
       "    </tr>\n",
       "    <tr>\n",
       "      <th>75</th>\n",
       "      <td>555156363.0</td>\n",
       "      <td>1</td>\n",
       "    </tr>\n",
       "    <tr>\n",
       "      <th>76</th>\n",
       "      <td>973823321.0</td>\n",
       "      <td>1</td>\n",
       "    </tr>\n",
       "    <tr>\n",
       "      <th>77</th>\n",
       "      <td>609594486.0</td>\n",
       "      <td>1</td>\n",
       "    </tr>\n",
       "    <tr>\n",
       "      <th>78</th>\n",
       "      <td>558247.0</td>\n",
       "      <td>1</td>\n",
       "    </tr>\n",
       "  </tbody>\n",
       "</table>\n",
       "<p>79 rows × 2 columns</p>\n",
       "</div>"
      ],
      "text/plain": [
       "    PARENT NUMBER  COMPANY\n",
       "0             NaN     2236\n",
       "1     441412723.0      525\n",
       "2       5863311.0      446\n",
       "3     450720289.0      329\n",
       "4     200026573.0      221\n",
       "..            ...      ...\n",
       "74      3573128.0        1\n",
       "75    555156363.0        1\n",
       "76    973823321.0        1\n",
       "77    609594486.0        1\n",
       "78       558247.0        1\n",
       "\n",
       "[79 rows x 2 columns]"
      ]
     },
     "execution_count": 96,
     "metadata": {},
     "output_type": "execute_result"
    }
   ],
   "source": [
    "# top 10 parent companies, with amount of \n",
    "\n",
    "groc_il = il.groupby('PARENT NUMBER', dropna=False).count().reset_index()[['PARENT NUMBER','COMPANY']]\n",
    "groc_il.sort_values('COMPANY', ascending=False, inplace=True)\n",
    "groc_il.reset_index(drop=True,inplace=True)\n",
    "\n",
    "groc_tp10_il = groc_il.iloc[:11]\n",
    "other_groc = groc_il['COMPANY'].sum() - groc_tp10_il['COMPANY'].sum()\n",
    "\n",
    "# groc_tp10_il.iloc[11, :] = {'PARENT NUMBER': 'Other', 'COMPANY': other_groc}\n",
    "\n",
    "groc_tp10_il.loc[len(groc_tp10_il.index)] = [\"Other\", other_groc]\n",
    "groc_tp10_il['PARENT NUMBER'] = groc_tp10_il['PARENT NUMBER'].astype(str)\n",
    "groc_tp10_il.loc[:, 'Percent'] = groc_tp10_il.loc[:, 'COMPANY'] / len(il) * 100\n",
    "#len(il)\n",
    "groc_tp10_il.rename(columns={\"COMPANY\":\"COUNT\"})\n",
    "#il.head()\n"
   ]
  },
  {
   "cell_type": "code",
   "execution_count": 88,
   "id": "7831e8fe-8976-454f-a3f0-83b138b1b28d",
   "metadata": {
    "tags": []
   },
   "outputs": [
    {
     "data": {
      "image/png": "[encoded data removed]",
      "text/plain": [
       "<Figure size 640x480 with 1 Axes>"
      ]
     },
     "metadata": {},
     "output_type": "display_data"
    }
   ],
   "source": [
    "#top 10 parent ( Illinois) \n",
    "\n",
    "plt.bar(groc_tp10_il['PARENT NUMBER'], groc_tp10_il['Percent'])\n",
    "plt.xlabel('Parent Number')\n",
    "plt.ylabel('Percent')\n",
    "plt.title('Top 10 Parent Numbers (illinois)')\n",
    "plt.xticks(rotation=90)\n",
    "plt.show()"
   ]
  },
  {
   "cell_type": "code",
   "execution_count": 11,
   "id": "de626ef5-08a4-48a3-96f0-7e855e010556",
   "metadata": {
    "tags": []
   },
   "outputs": [
    {
     "data": {
      "text/html": [
       "<div>\n",
       "<style scoped>\n",
       "    .dataframe tbody tr th:only-of-type {\n",
       "        vertical-align: middle;\n",
       "    }\n",
       "\n",
       "    .dataframe tbody tr th {\n",
       "        vertical-align: top;\n",
       "    }\n",
       "\n",
       "    .dataframe thead th {\n",
       "        text-align: right;\n",
       "    }\n",
       "</style>\n",
       "<table border=\"1\" class=\"dataframe\">\n",
       "  <thead>\n",
       "    <tr style=\"text-align: right;\">\n",
       "      <th></th>\n",
       "      <th>COMPANY</th>\n",
       "      <th>ADDRESS LINE 1</th>\n",
       "      <th>CITY</th>\n",
       "      <th>STATE</th>\n",
       "      <th>ZIPCODE</th>\n",
       "      <th>ZIP4</th>\n",
       "      <th>COUNTY CODE</th>\n",
       "      <th>AREA CODE</th>\n",
       "      <th>IDCODE</th>\n",
       "      <th>LOCATION EMPLOYEE SIZE CODE</th>\n",
       "      <th>LOCATION SALES VOLUME CODE</th>\n",
       "      <th>PRIMARY SIC CODE</th>\n",
       "      <th>SIC6_DESCRIPTIONS</th>\n",
       "      <th>PRIMARY NAICS CODE</th>\n",
       "      <th>NAICS8 DESCRIPTIONS</th>\n",
       "      <th>SIC CODE</th>\n",
       "      <th>SIC6_DESCRIPTIONS (SIC)</th>\n",
       "      <th>SIC CODE 1</th>\n",
       "      <th>SIC6_DESCRIPTIONS (SIC1)</th>\n",
       "      <th>SIC CODE 2</th>\n",
       "      <th>SIC6_DESCRIPTIONS(SIC2)</th>\n",
       "      <th>SIC CODE 3</th>\n",
       "      <th>SIC6_DESCRIPTIONS(SIC3)</th>\n",
       "      <th>SIC CODE 4</th>\n",
       "      <th>SIC6_DESCRIPTIONS(SIC4)</th>\n",
       "      <th>ARCHIVE VERSION YEAR</th>\n",
       "      <th>YELLOW PAGE CODE</th>\n",
       "      <th>EMPLOYEE SIZE (5) - LOCATION</th>\n",
       "      <th>SALES VOLUME (9) - LOCATION</th>\n",
       "      <th>BUSINESS STATUS CODE</th>\n",
       "      <th>INDUSTRY SPECIFIC FIRST BYTE</th>\n",
       "      <th>YEAR ESTABLISHED</th>\n",
       "      <th>OFFICE SIZE CODE</th>\n",
       "      <th>COMPANY HOLDING STATUS</th>\n",
       "      <th>ABI</th>\n",
       "      <th>SUBSIDIARY NUMBER</th>\n",
       "      <th>PARENT NUMBER</th>\n",
       "      <th>PARENT ACTUAL EMPLOYEE SIZE</th>\n",
       "      <th>PARENT ACTUAL SALES VOLUME</th>\n",
       "      <th>PARENT EMPLOYEE SIZE CODE</th>\n",
       "      <th>PARENT SALES VOLUME CODE</th>\n",
       "      <th>SITE NUMBER</th>\n",
       "      <th>ADDRESS TYPE INDICATOR</th>\n",
       "      <th>POPULATION CODE</th>\n",
       "      <th>CENSUS TRACT</th>\n",
       "      <th>CENSUS BLOCK</th>\n",
       "      <th>LATITUDE</th>\n",
       "      <th>LONGITUDE</th>\n",
       "      <th>MATCH CODE</th>\n",
       "      <th>CBSA CODE</th>\n",
       "      <th>CBSA LEVEL</th>\n",
       "      <th>CSA CODE</th>\n",
       "      <th>FIPS CODE</th>\n",
       "    </tr>\n",
       "  </thead>\n",
       "  <tbody>\n",
       "    <tr>\n",
       "      <th>100536</th>\n",
       "      <td>HOMETOWN FOOD CO</td>\n",
       "      <td>500 W MADISON ST # 3650</td>\n",
       "      <td>CHICAGO</td>\n",
       "      <td>IL</td>\n",
       "      <td>60661</td>\n",
       "      <td>4588.0</td>\n",
       "      <td>31.0</td>\n",
       "      <td>312</td>\n",
       "      <td>2</td>\n",
       "      <td>A</td>\n",
       "      <td>NaN</td>\n",
       "      <td>541105</td>\n",
       "      <td>GROCERS-RETAIL</td>\n",
       "      <td>44511003.0</td>\n",
       "      <td>SUPERMARKETS/OTHER GROCERY (EXC CONVENIENCE) STRS</td>\n",
       "      <td>NaN</td>\n",
       "      <td>NaN</td>\n",
       "      <td>NaN</td>\n",
       "      <td>NaN</td>\n",
       "      <td>NaN</td>\n",
       "      <td>NaN</td>\n",
       "      <td>NaN</td>\n",
       "      <td>NaN</td>\n",
       "      <td>NaN</td>\n",
       "      <td>NaN</td>\n",
       "      <td>2022</td>\n",
       "      <td>NaN</td>\n",
       "      <td>3.0</td>\n",
       "      <td>0.0</td>\n",
       "      <td>3</td>\n",
       "      <td>NaN</td>\n",
       "      <td>2018.0</td>\n",
       "      <td>NaN</td>\n",
       "      <td>NaN</td>\n",
       "      <td>738617153</td>\n",
       "      <td>738617153.0</td>\n",
       "      <td>973823321.0</td>\n",
       "      <td>8.0</td>\n",
       "      <td>3757956.0</td>\n",
       "      <td>B</td>\n",
       "      <td>K</td>\n",
       "      <td>NaN</td>\n",
       "      <td>NaN</td>\n",
       "      <td>5</td>\n",
       "      <td>280100.0</td>\n",
       "      <td>2.0</td>\n",
       "      <td>41.882364</td>\n",
       "      <td>-87.64048</td>\n",
       "      <td>P</td>\n",
       "      <td>16980.0</td>\n",
       "      <td>2.0</td>\n",
       "      <td>176.0</td>\n",
       "      <td>17031.0</td>\n",
       "    </tr>\n",
       "  </tbody>\n",
       "</table>\n",
       "</div>"
      ],
      "text/plain": [
       "                 COMPANY           ADDRESS LINE 1     CITY STATE  ZIPCODE  \\\n",
       "100536  HOMETOWN FOOD CO  500 W MADISON ST # 3650  CHICAGO    IL    60661   \n",
       "\n",
       "          ZIP4  COUNTY CODE  AREA CODE  IDCODE LOCATION EMPLOYEE SIZE CODE  \\\n",
       "100536  4588.0         31.0        312       2                           A   \n",
       "\n",
       "       LOCATION SALES VOLUME CODE  PRIMARY SIC CODE SIC6_DESCRIPTIONS  \\\n",
       "100536                        NaN            541105    GROCERS-RETAIL   \n",
       "\n",
       "        PRIMARY NAICS CODE                                NAICS8 DESCRIPTIONS  \\\n",
       "100536          44511003.0  SUPERMARKETS/OTHER GROCERY (EXC CONVENIENCE) STRS   \n",
       "\n",
       "        SIC CODE SIC6_DESCRIPTIONS (SIC)  SIC CODE 1 SIC6_DESCRIPTIONS (SIC1)  \\\n",
       "100536       NaN                     NaN         NaN                      NaN   \n",
       "\n",
       "        SIC CODE 2 SIC6_DESCRIPTIONS(SIC2)  SIC CODE 3  \\\n",
       "100536         NaN                     NaN         NaN   \n",
       "\n",
       "       SIC6_DESCRIPTIONS(SIC3)  SIC CODE 4 SIC6_DESCRIPTIONS(SIC4)  \\\n",
       "100536                     NaN         NaN                     NaN   \n",
       "\n",
       "        ARCHIVE VERSION YEAR  YELLOW PAGE CODE  EMPLOYEE SIZE (5) - LOCATION  \\\n",
       "100536                  2022               NaN                           3.0   \n",
       "\n",
       "        SALES VOLUME (9) - LOCATION  BUSINESS STATUS CODE  \\\n",
       "100536                          0.0                     3   \n",
       "\n",
       "       INDUSTRY SPECIFIC FIRST BYTE  YEAR ESTABLISHED  OFFICE SIZE CODE  \\\n",
       "100536                          NaN            2018.0               NaN   \n",
       "\n",
       "        COMPANY HOLDING STATUS        ABI  SUBSIDIARY NUMBER  PARENT NUMBER  \\\n",
       "100536                     NaN  738617153        738617153.0    973823321.0   \n",
       "\n",
       "        PARENT ACTUAL EMPLOYEE SIZE  PARENT ACTUAL SALES VOLUME  \\\n",
       "100536                          8.0                   3757956.0   \n",
       "\n",
       "       PARENT EMPLOYEE SIZE CODE PARENT SALES VOLUME CODE  SITE NUMBER  \\\n",
       "100536                         B                        K          NaN   \n",
       "\n",
       "       ADDRESS TYPE INDICATOR  POPULATION CODE  CENSUS TRACT  CENSUS BLOCK  \\\n",
       "100536                    NaN                5      280100.0           2.0   \n",
       "\n",
       "         LATITUDE  LONGITUDE MATCH CODE  CBSA CODE  CBSA LEVEL  CSA CODE  \\\n",
       "100536  41.882364  -87.64048          P    16980.0         2.0     176.0   \n",
       "\n",
       "        FIPS CODE  \n",
       "100536    17031.0  "
      ]
     },
     "execution_count": 11,
     "metadata": {},
     "output_type": "execute_result"
    }
   ],
   "source": [
    "\n",
    "IL_SIC1 = grocery_sic[(grocery_sic['PARENT NUMBER']== 973823321.0) & (grocery_sic['STATE'] == 'IL')]\n",
    "IL_SIC1.tail()\n",
    "#top 10 parent compnaies in the country \n",
    "# 1) 5863311.0 = parent company = Seven & I holdings \n",
    "# 2) 450720289.0 = parent company(s) = Alimentation Couche-Tard, Convenience Retail Asia\n",
    "# 3) 5889993.0 = parent company = Walmart \n",
    "# 4) 7521503.0 = parent company = Kroger \n",
    "#5) 441412723.0 = parent company(s)= Rutters Holding Inc, CHR Corporation \n",
    "#6) 5995907.0 = parent company = Albertson, American stores 3\n",
    "#7) 200026573.0 = parent company = Albrecht Discounts(aldi)\n",
    "#8)  1490291.0 = parent company = Ahold Delhaize\n",
    "#9) 714232249.0 = parentt company = Clark Enterprises Inc\n",
    "#10) 433922353.0 = parent compnay = Murphy Oil Corporation USA \n"
   ]
  },
  {
   "cell_type": "code",
   "execution_count": 15,
   "id": "b7b2c086-1c66-4aba-bc88-41e9b2062f57",
   "metadata": {
    "collapsed": true,
    "jupyter": {
     "outputs_hidden": true,
     "source_hidden": true
    },
    "tags": []
   },
   "outputs": [
    {
     "data": {
      "text/html": [
       "<div>\n",
       "<style scoped>\n",
       "    .dataframe tbody tr th:only-of-type {\n",
       "        vertical-align: middle;\n",
       "    }\n",
       "\n",
       "    .dataframe tbody tr th {\n",
       "        vertical-align: top;\n",
       "    }\n",
       "\n",
       "    .dataframe thead th {\n",
       "        text-align: right;\n",
       "    }\n",
       "</style>\n",
       "<table border=\"1\" class=\"dataframe\">\n",
       "  <thead>\n",
       "    <tr style=\"text-align: right;\">\n",
       "      <th></th>\n",
       "      <th>COMPANY</th>\n",
       "      <th>ADDRESS LINE 1</th>\n",
       "      <th>CITY</th>\n",
       "      <th>STATE</th>\n",
       "      <th>ZIPCODE</th>\n",
       "      <th>ZIP4</th>\n",
       "      <th>COUNTY CODE</th>\n",
       "      <th>AREA CODE</th>\n",
       "      <th>IDCODE</th>\n",
       "      <th>LOCATION EMPLOYEE SIZE CODE</th>\n",
       "      <th>LOCATION SALES VOLUME CODE</th>\n",
       "      <th>PRIMARY SIC CODE</th>\n",
       "      <th>SIC6_DESCRIPTIONS</th>\n",
       "      <th>PRIMARY NAICS CODE</th>\n",
       "      <th>NAICS8 DESCRIPTIONS</th>\n",
       "      <th>SIC CODE</th>\n",
       "      <th>SIC6_DESCRIPTIONS (SIC)</th>\n",
       "      <th>SIC CODE 1</th>\n",
       "      <th>SIC6_DESCRIPTIONS (SIC1)</th>\n",
       "      <th>SIC CODE 2</th>\n",
       "      <th>SIC6_DESCRIPTIONS(SIC2)</th>\n",
       "      <th>SIC CODE 3</th>\n",
       "      <th>SIC6_DESCRIPTIONS(SIC3)</th>\n",
       "      <th>SIC CODE 4</th>\n",
       "      <th>SIC6_DESCRIPTIONS(SIC4)</th>\n",
       "      <th>ARCHIVE VERSION YEAR</th>\n",
       "      <th>YELLOW PAGE CODE</th>\n",
       "      <th>EMPLOYEE SIZE (5) - LOCATION</th>\n",
       "      <th>SALES VOLUME (9) - LOCATION</th>\n",
       "      <th>BUSINESS STATUS CODE</th>\n",
       "      <th>INDUSTRY SPECIFIC FIRST BYTE</th>\n",
       "      <th>YEAR ESTABLISHED</th>\n",
       "      <th>OFFICE SIZE CODE</th>\n",
       "      <th>COMPANY HOLDING STATUS</th>\n",
       "      <th>ABI</th>\n",
       "      <th>SUBSIDIARY NUMBER</th>\n",
       "      <th>PARENT NUMBER</th>\n",
       "      <th>PARENT ACTUAL EMPLOYEE SIZE</th>\n",
       "      <th>PARENT ACTUAL SALES VOLUME</th>\n",
       "      <th>PARENT EMPLOYEE SIZE CODE</th>\n",
       "      <th>PARENT SALES VOLUME CODE</th>\n",
       "      <th>SITE NUMBER</th>\n",
       "      <th>ADDRESS TYPE INDICATOR</th>\n",
       "      <th>POPULATION CODE</th>\n",
       "      <th>CENSUS TRACT</th>\n",
       "      <th>CENSUS BLOCK</th>\n",
       "      <th>LATITUDE</th>\n",
       "      <th>LONGITUDE</th>\n",
       "      <th>MATCH CODE</th>\n",
       "      <th>CBSA CODE</th>\n",
       "      <th>CBSA LEVEL</th>\n",
       "      <th>CSA CODE</th>\n",
       "      <th>FIPS CODE</th>\n",
       "    </tr>\n",
       "  </thead>\n",
       "  <tbody>\n",
       "    <tr>\n",
       "      <th>5161</th>\n",
       "      <td>JEWEL-OSCO</td>\n",
       "      <td>16 S WAUKEGAN RD</td>\n",
       "      <td>DEERFIELD</td>\n",
       "      <td>IL</td>\n",
       "      <td>60015</td>\n",
       "      <td>5216.0</td>\n",
       "      <td>31.0</td>\n",
       "      <td>847</td>\n",
       "      <td>2</td>\n",
       "      <td>E</td>\n",
       "      <td>G</td>\n",
       "      <td>541105</td>\n",
       "      <td>GROCERS-RETAIL</td>\n",
       "      <td>44511003.0</td>\n",
       "      <td>SUPERMARKETS/OTHER GROCERY (EXC CONVENIENCE) STRS</td>\n",
       "      <td>546102.0</td>\n",
       "      <td>BAKERS-RETAIL</td>\n",
       "      <td>NaN</td>\n",
       "      <td>NaN</td>\n",
       "      <td>NaN</td>\n",
       "      <td>NaN</td>\n",
       "      <td>NaN</td>\n",
       "      <td>NaN</td>\n",
       "      <td>NaN</td>\n",
       "      <td>NaN</td>\n",
       "      <td>2022</td>\n",
       "      <td>39106.0</td>\n",
       "      <td>90.0</td>\n",
       "      <td>23000.0</td>\n",
       "      <td>2</td>\n",
       "      <td>M</td>\n",
       "      <td>NaN</td>\n",
       "      <td>NaN</td>\n",
       "      <td>NaN</td>\n",
       "      <td>306364910</td>\n",
       "      <td>23119.0</td>\n",
       "      <td>5995907.0</td>\n",
       "      <td>800.0</td>\n",
       "      <td>NaN</td>\n",
       "      <td>H</td>\n",
       "      <td>NaN</td>\n",
       "      <td>306364910.0</td>\n",
       "      <td>NaN</td>\n",
       "      <td>7</td>\n",
       "      <td>801500.0</td>\n",
       "      <td>1.0</td>\n",
       "      <td>42.151799</td>\n",
       "      <td>-87.837363</td>\n",
       "      <td>P</td>\n",
       "      <td>16980.0</td>\n",
       "      <td>2.0</td>\n",
       "      <td>176.0</td>\n",
       "      <td>17031.0</td>\n",
       "    </tr>\n",
       "    <tr>\n",
       "      <th>5279</th>\n",
       "      <td>JEWEL-OSCO</td>\n",
       "      <td>800 NORTHWEST HWY # 14</td>\n",
       "      <td>FOX RIVER GROVE</td>\n",
       "      <td>IL</td>\n",
       "      <td>60021</td>\n",
       "      <td>1208.0</td>\n",
       "      <td>111.0</td>\n",
       "      <td>847</td>\n",
       "      <td>2</td>\n",
       "      <td>F</td>\n",
       "      <td>H</td>\n",
       "      <td>541105</td>\n",
       "      <td>GROCERS-RETAIL</td>\n",
       "      <td>44511003.0</td>\n",
       "      <td>SUPERMARKETS/OTHER GROCERY (EXC CONVENIENCE) STRS</td>\n",
       "      <td>591205.0</td>\n",
       "      <td>PHARMACIES</td>\n",
       "      <td>NaN</td>\n",
       "      <td>NaN</td>\n",
       "      <td>NaN</td>\n",
       "      <td>NaN</td>\n",
       "      <td>NaN</td>\n",
       "      <td>NaN</td>\n",
       "      <td>NaN</td>\n",
       "      <td>NaN</td>\n",
       "      <td>2022</td>\n",
       "      <td>NaN</td>\n",
       "      <td>200.0</td>\n",
       "      <td>51845.0</td>\n",
       "      <td>2</td>\n",
       "      <td>M</td>\n",
       "      <td>NaN</td>\n",
       "      <td>NaN</td>\n",
       "      <td>NaN</td>\n",
       "      <td>436738993</td>\n",
       "      <td>23119.0</td>\n",
       "      <td>5995907.0</td>\n",
       "      <td>800.0</td>\n",
       "      <td>NaN</td>\n",
       "      <td>H</td>\n",
       "      <td>NaN</td>\n",
       "      <td>436738993.0</td>\n",
       "      <td>NaN</td>\n",
       "      <td>5</td>\n",
       "      <td>871402.0</td>\n",
       "      <td>3.0</td>\n",
       "      <td>42.195350</td>\n",
       "      <td>-88.209897</td>\n",
       "      <td>P</td>\n",
       "      <td>16980.0</td>\n",
       "      <td>2.0</td>\n",
       "      <td>176.0</td>\n",
       "      <td>17111.0</td>\n",
       "    </tr>\n",
       "    <tr>\n",
       "      <th>6579</th>\n",
       "      <td>JEWEL-OSCO</td>\n",
       "      <td>345 S RAND RD</td>\n",
       "      <td>LAKE ZURICH</td>\n",
       "      <td>IL</td>\n",
       "      <td>60047</td>\n",
       "      <td>2271.0</td>\n",
       "      <td>97.0</td>\n",
       "      <td>847</td>\n",
       "      <td>2</td>\n",
       "      <td>F</td>\n",
       "      <td>H</td>\n",
       "      <td>541105</td>\n",
       "      <td>GROCERS-RETAIL</td>\n",
       "      <td>44511003.0</td>\n",
       "      <td>SUPERMARKETS/OTHER GROCERY (EXC CONVENIENCE) STRS</td>\n",
       "      <td>591205.0</td>\n",
       "      <td>PHARMACIES</td>\n",
       "      <td>609910.0</td>\n",
       "      <td>MONEY TRANSFER SERVICE</td>\n",
       "      <td>804939.0</td>\n",
       "      <td>PHARMACISTS</td>\n",
       "      <td>NaN</td>\n",
       "      <td>NaN</td>\n",
       "      <td>NaN</td>\n",
       "      <td>NaN</td>\n",
       "      <td>2022</td>\n",
       "      <td>NaN</td>\n",
       "      <td>200.0</td>\n",
       "      <td>54846.0</td>\n",
       "      <td>2</td>\n",
       "      <td>M</td>\n",
       "      <td>NaN</td>\n",
       "      <td>NaN</td>\n",
       "      <td>NaN</td>\n",
       "      <td>705479853</td>\n",
       "      <td>23119.0</td>\n",
       "      <td>5995907.0</td>\n",
       "      <td>800.0</td>\n",
       "      <td>NaN</td>\n",
       "      <td>H</td>\n",
       "      <td>NaN</td>\n",
       "      <td>705479853.0</td>\n",
       "      <td>NaN</td>\n",
       "      <td>7</td>\n",
       "      <td>864408.0</td>\n",
       "      <td>3.0</td>\n",
       "      <td>42.191712</td>\n",
       "      <td>-88.110099</td>\n",
       "      <td>P</td>\n",
       "      <td>16980.0</td>\n",
       "      <td>2.0</td>\n",
       "      <td>176.0</td>\n",
       "      <td>17097.0</td>\n",
       "    </tr>\n",
       "    <tr>\n",
       "      <th>6690</th>\n",
       "      <td>JEWEL-OSCO</td>\n",
       "      <td>1340 PATRIOT BLVD</td>\n",
       "      <td>GLENVIEW</td>\n",
       "      <td>IL</td>\n",
       "      <td>60026</td>\n",
       "      <td>7777.0</td>\n",
       "      <td>31.0</td>\n",
       "      <td>847</td>\n",
       "      <td>2</td>\n",
       "      <td>F</td>\n",
       "      <td>H</td>\n",
       "      <td>541105</td>\n",
       "      <td>GROCERS-RETAIL</td>\n",
       "      <td>44511003.0</td>\n",
       "      <td>SUPERMARKETS/OTHER GROCERY (EXC CONVENIENCE) STRS</td>\n",
       "      <td>NaN</td>\n",
       "      <td>NaN</td>\n",
       "      <td>NaN</td>\n",
       "      <td>NaN</td>\n",
       "      <td>NaN</td>\n",
       "      <td>NaN</td>\n",
       "      <td>NaN</td>\n",
       "      <td>NaN</td>\n",
       "      <td>NaN</td>\n",
       "      <td>NaN</td>\n",
       "      <td>2022</td>\n",
       "      <td>NaN</td>\n",
       "      <td>200.0</td>\n",
       "      <td>51110.0</td>\n",
       "      <td>2</td>\n",
       "      <td>M</td>\n",
       "      <td>NaN</td>\n",
       "      <td>NaN</td>\n",
       "      <td>NaN</td>\n",
       "      <td>700233144</td>\n",
       "      <td>23119.0</td>\n",
       "      <td>5995907.0</td>\n",
       "      <td>800.0</td>\n",
       "      <td>NaN</td>\n",
       "      <td>H</td>\n",
       "      <td>NaN</td>\n",
       "      <td>700233144.0</td>\n",
       "      <td>NaN</td>\n",
       "      <td>6</td>\n",
       "      <td>802300.0</td>\n",
       "      <td>1.0</td>\n",
       "      <td>42.078560</td>\n",
       "      <td>-87.818822</td>\n",
       "      <td>P</td>\n",
       "      <td>16980.0</td>\n",
       "      <td>2.0</td>\n",
       "      <td>176.0</td>\n",
       "      <td>17031.0</td>\n",
       "    </tr>\n",
       "    <tr>\n",
       "      <th>8787</th>\n",
       "      <td>JEWEL-OSCO</td>\n",
       "      <td>2203 E OAKLAND AVE</td>\n",
       "      <td>BLOOMINGTON</td>\n",
       "      <td>IL</td>\n",
       "      <td>61701</td>\n",
       "      <td>5760.0</td>\n",
       "      <td>113.0</td>\n",
       "      <td>309</td>\n",
       "      <td>2</td>\n",
       "      <td>F</td>\n",
       "      <td>H</td>\n",
       "      <td>541105</td>\n",
       "      <td>GROCERS-RETAIL</td>\n",
       "      <td>44511003.0</td>\n",
       "      <td>SUPERMARKETS/OTHER GROCERY (EXC CONVENIENCE) STRS</td>\n",
       "      <td>NaN</td>\n",
       "      <td>NaN</td>\n",
       "      <td>NaN</td>\n",
       "      <td>NaN</td>\n",
       "      <td>NaN</td>\n",
       "      <td>NaN</td>\n",
       "      <td>NaN</td>\n",
       "      <td>NaN</td>\n",
       "      <td>NaN</td>\n",
       "      <td>NaN</td>\n",
       "      <td>2022</td>\n",
       "      <td>39106.0</td>\n",
       "      <td>200.0</td>\n",
       "      <td>55562.0</td>\n",
       "      <td>2</td>\n",
       "      <td>M</td>\n",
       "      <td>NaN</td>\n",
       "      <td>NaN</td>\n",
       "      <td>NaN</td>\n",
       "      <td>427996134</td>\n",
       "      <td>23119.0</td>\n",
       "      <td>5995907.0</td>\n",
       "      <td>800.0</td>\n",
       "      <td>NaN</td>\n",
       "      <td>H</td>\n",
       "      <td>NaN</td>\n",
       "      <td>427996134.0</td>\n",
       "      <td>NaN</td>\n",
       "      <td>7</td>\n",
       "      <td>5800.0</td>\n",
       "      <td>1.0</td>\n",
       "      <td>40.472303</td>\n",
       "      <td>-88.960278</td>\n",
       "      <td>P</td>\n",
       "      <td>14010.0</td>\n",
       "      <td>2.0</td>\n",
       "      <td>145.0</td>\n",
       "      <td>17113.0</td>\n",
       "    </tr>\n",
       "    <tr>\n",
       "      <th>...</th>\n",
       "      <td>...</td>\n",
       "      <td>...</td>\n",
       "      <td>...</td>\n",
       "      <td>...</td>\n",
       "      <td>...</td>\n",
       "      <td>...</td>\n",
       "      <td>...</td>\n",
       "      <td>...</td>\n",
       "      <td>...</td>\n",
       "      <td>...</td>\n",
       "      <td>...</td>\n",
       "      <td>...</td>\n",
       "      <td>...</td>\n",
       "      <td>...</td>\n",
       "      <td>...</td>\n",
       "      <td>...</td>\n",
       "      <td>...</td>\n",
       "      <td>...</td>\n",
       "      <td>...</td>\n",
       "      <td>...</td>\n",
       "      <td>...</td>\n",
       "      <td>...</td>\n",
       "      <td>...</td>\n",
       "      <td>...</td>\n",
       "      <td>...</td>\n",
       "      <td>...</td>\n",
       "      <td>...</td>\n",
       "      <td>...</td>\n",
       "      <td>...</td>\n",
       "      <td>...</td>\n",
       "      <td>...</td>\n",
       "      <td>...</td>\n",
       "      <td>...</td>\n",
       "      <td>...</td>\n",
       "      <td>...</td>\n",
       "      <td>...</td>\n",
       "      <td>...</td>\n",
       "      <td>...</td>\n",
       "      <td>...</td>\n",
       "      <td>...</td>\n",
       "      <td>...</td>\n",
       "      <td>...</td>\n",
       "      <td>...</td>\n",
       "      <td>...</td>\n",
       "      <td>...</td>\n",
       "      <td>...</td>\n",
       "      <td>...</td>\n",
       "      <td>...</td>\n",
       "      <td>...</td>\n",
       "      <td>...</td>\n",
       "      <td>...</td>\n",
       "      <td>...</td>\n",
       "      <td>...</td>\n",
       "    </tr>\n",
       "    <tr>\n",
       "      <th>199610</th>\n",
       "      <td>JEWEL-OSCO</td>\n",
       "      <td>370 N DESPLAINES ST</td>\n",
       "      <td>CHICAGO</td>\n",
       "      <td>IL</td>\n",
       "      <td>60661</td>\n",
       "      <td>1106.0</td>\n",
       "      <td>31.0</td>\n",
       "      <td>312</td>\n",
       "      <td>2</td>\n",
       "      <td>F</td>\n",
       "      <td>G</td>\n",
       "      <td>541105</td>\n",
       "      <td>GROCERS-RETAIL</td>\n",
       "      <td>44511003.0</td>\n",
       "      <td>SUPERMARKETS/OTHER GROCERY (EXC CONVENIENCE) STRS</td>\n",
       "      <td>NaN</td>\n",
       "      <td>NaN</td>\n",
       "      <td>NaN</td>\n",
       "      <td>NaN</td>\n",
       "      <td>NaN</td>\n",
       "      <td>NaN</td>\n",
       "      <td>NaN</td>\n",
       "      <td>NaN</td>\n",
       "      <td>NaN</td>\n",
       "      <td>NaN</td>\n",
       "      <td>2022</td>\n",
       "      <td>39106.0</td>\n",
       "      <td>150.0</td>\n",
       "      <td>38333.0</td>\n",
       "      <td>2</td>\n",
       "      <td>M</td>\n",
       "      <td>NaN</td>\n",
       "      <td>NaN</td>\n",
       "      <td>NaN</td>\n",
       "      <td>643278203</td>\n",
       "      <td>23119.0</td>\n",
       "      <td>5995907.0</td>\n",
       "      <td>800.0</td>\n",
       "      <td>NaN</td>\n",
       "      <td>H</td>\n",
       "      <td>NaN</td>\n",
       "      <td>643278203.0</td>\n",
       "      <td>NaN</td>\n",
       "      <td>5</td>\n",
       "      <td>842300.0</td>\n",
       "      <td>2.0</td>\n",
       "      <td>41.888342</td>\n",
       "      <td>-87.645057</td>\n",
       "      <td>P</td>\n",
       "      <td>16980.0</td>\n",
       "      <td>2.0</td>\n",
       "      <td>176.0</td>\n",
       "      <td>17031.0</td>\n",
       "    </tr>\n",
       "    <tr>\n",
       "      <th>199798</th>\n",
       "      <td>JEWEL-OSCO</td>\n",
       "      <td>1763 W HOWARD ST</td>\n",
       "      <td>CHICAGO</td>\n",
       "      <td>IL</td>\n",
       "      <td>60626</td>\n",
       "      <td>1626.0</td>\n",
       "      <td>31.0</td>\n",
       "      <td>773</td>\n",
       "      <td>2</td>\n",
       "      <td>F</td>\n",
       "      <td>H</td>\n",
       "      <td>541105</td>\n",
       "      <td>GROCERS-RETAIL</td>\n",
       "      <td>44511003.0</td>\n",
       "      <td>SUPERMARKETS/OTHER GROCERY (EXC CONVENIENCE) STRS</td>\n",
       "      <td>NaN</td>\n",
       "      <td>NaN</td>\n",
       "      <td>NaN</td>\n",
       "      <td>NaN</td>\n",
       "      <td>NaN</td>\n",
       "      <td>NaN</td>\n",
       "      <td>NaN</td>\n",
       "      <td>NaN</td>\n",
       "      <td>NaN</td>\n",
       "      <td>NaN</td>\n",
       "      <td>2022</td>\n",
       "      <td>NaN</td>\n",
       "      <td>200.0</td>\n",
       "      <td>51110.0</td>\n",
       "      <td>2</td>\n",
       "      <td>M</td>\n",
       "      <td>NaN</td>\n",
       "      <td>NaN</td>\n",
       "      <td>NaN</td>\n",
       "      <td>705501147</td>\n",
       "      <td>23119.0</td>\n",
       "      <td>5995907.0</td>\n",
       "      <td>800.0</td>\n",
       "      <td>NaN</td>\n",
       "      <td>H</td>\n",
       "      <td>NaN</td>\n",
       "      <td>705501147.0</td>\n",
       "      <td>NaN</td>\n",
       "      <td>8</td>\n",
       "      <td>10202.0</td>\n",
       "      <td>1.0</td>\n",
       "      <td>42.019372</td>\n",
       "      <td>-87.675184</td>\n",
       "      <td>4</td>\n",
       "      <td>16980.0</td>\n",
       "      <td>2.0</td>\n",
       "      <td>176.0</td>\n",
       "      <td>17031.0</td>\n",
       "    </tr>\n",
       "    <tr>\n",
       "      <th>200464</th>\n",
       "      <td>JEWEL-OSCO</td>\n",
       "      <td>2520 N NARRAGANSETT AVE</td>\n",
       "      <td>CHICAGO</td>\n",
       "      <td>IL</td>\n",
       "      <td>60639</td>\n",
       "      <td>1041.0</td>\n",
       "      <td>31.0</td>\n",
       "      <td>773</td>\n",
       "      <td>2</td>\n",
       "      <td>F</td>\n",
       "      <td>H</td>\n",
       "      <td>541105</td>\n",
       "      <td>GROCERS-RETAIL</td>\n",
       "      <td>44511003.0</td>\n",
       "      <td>SUPERMARKETS/OTHER GROCERY (EXC CONVENIENCE) STRS</td>\n",
       "      <td>NaN</td>\n",
       "      <td>NaN</td>\n",
       "      <td>NaN</td>\n",
       "      <td>NaN</td>\n",
       "      <td>NaN</td>\n",
       "      <td>NaN</td>\n",
       "      <td>NaN</td>\n",
       "      <td>NaN</td>\n",
       "      <td>NaN</td>\n",
       "      <td>NaN</td>\n",
       "      <td>2022</td>\n",
       "      <td>39106.0</td>\n",
       "      <td>200.0</td>\n",
       "      <td>51110.0</td>\n",
       "      <td>2</td>\n",
       "      <td>M</td>\n",
       "      <td>NaN</td>\n",
       "      <td>NaN</td>\n",
       "      <td>NaN</td>\n",
       "      <td>427743916</td>\n",
       "      <td>23119.0</td>\n",
       "      <td>5995907.0</td>\n",
       "      <td>800.0</td>\n",
       "      <td>NaN</td>\n",
       "      <td>H</td>\n",
       "      <td>NaN</td>\n",
       "      <td>427743916.0</td>\n",
       "      <td>NaN</td>\n",
       "      <td>8</td>\n",
       "      <td>831500.0</td>\n",
       "      <td>1.0</td>\n",
       "      <td>41.926616</td>\n",
       "      <td>-87.786438</td>\n",
       "      <td>P</td>\n",
       "      <td>16980.0</td>\n",
       "      <td>2.0</td>\n",
       "      <td>176.0</td>\n",
       "      <td>17031.0</td>\n",
       "    </tr>\n",
       "    <tr>\n",
       "      <th>200956</th>\n",
       "      <td>JEWEL-OSCO</td>\n",
       "      <td>550 N STATE ST</td>\n",
       "      <td>CHICAGO</td>\n",
       "      <td>IL</td>\n",
       "      <td>60654</td>\n",
       "      <td>4815.0</td>\n",
       "      <td>31.0</td>\n",
       "      <td>312</td>\n",
       "      <td>2</td>\n",
       "      <td>F</td>\n",
       "      <td>H</td>\n",
       "      <td>541105</td>\n",
       "      <td>GROCERS-RETAIL</td>\n",
       "      <td>44511003.0</td>\n",
       "      <td>SUPERMARKETS/OTHER GROCERY (EXC CONVENIENCE) STRS</td>\n",
       "      <td>NaN</td>\n",
       "      <td>NaN</td>\n",
       "      <td>NaN</td>\n",
       "      <td>NaN</td>\n",
       "      <td>NaN</td>\n",
       "      <td>NaN</td>\n",
       "      <td>NaN</td>\n",
       "      <td>NaN</td>\n",
       "      <td>NaN</td>\n",
       "      <td>NaN</td>\n",
       "      <td>2022</td>\n",
       "      <td>39106.0</td>\n",
       "      <td>200.0</td>\n",
       "      <td>51110.0</td>\n",
       "      <td>2</td>\n",
       "      <td>M</td>\n",
       "      <td>NaN</td>\n",
       "      <td>NaN</td>\n",
       "      <td>NaN</td>\n",
       "      <td>436096921</td>\n",
       "      <td>23119.0</td>\n",
       "      <td>5995907.0</td>\n",
       "      <td>800.0</td>\n",
       "      <td>NaN</td>\n",
       "      <td>H</td>\n",
       "      <td>NaN</td>\n",
       "      <td>NaN</td>\n",
       "      <td>NaN</td>\n",
       "      <td>6</td>\n",
       "      <td>81600.0</td>\n",
       "      <td>1.0</td>\n",
       "      <td>41.892170</td>\n",
       "      <td>-87.628572</td>\n",
       "      <td>P</td>\n",
       "      <td>16980.0</td>\n",
       "      <td>2.0</td>\n",
       "      <td>176.0</td>\n",
       "      <td>17031.0</td>\n",
       "    </tr>\n",
       "    <tr>\n",
       "      <th>202816</th>\n",
       "      <td>JEWEL-OSCO</td>\n",
       "      <td>87 W 87TH ST # 1</td>\n",
       "      <td>CHICAGO</td>\n",
       "      <td>IL</td>\n",
       "      <td>60620</td>\n",
       "      <td>1396.0</td>\n",
       "      <td>31.0</td>\n",
       "      <td>773</td>\n",
       "      <td>2</td>\n",
       "      <td>G</td>\n",
       "      <td>H</td>\n",
       "      <td>541105</td>\n",
       "      <td>GROCERS-RETAIL</td>\n",
       "      <td>44511003.0</td>\n",
       "      <td>SUPERMARKETS/OTHER GROCERY (EXC CONVENIENCE) STRS</td>\n",
       "      <td>591205.0</td>\n",
       "      <td>PHARMACIES</td>\n",
       "      <td>NaN</td>\n",
       "      <td>NaN</td>\n",
       "      <td>NaN</td>\n",
       "      <td>NaN</td>\n",
       "      <td>NaN</td>\n",
       "      <td>NaN</td>\n",
       "      <td>NaN</td>\n",
       "      <td>NaN</td>\n",
       "      <td>2022</td>\n",
       "      <td>39106.0</td>\n",
       "      <td>300.0</td>\n",
       "      <td>76665.0</td>\n",
       "      <td>2</td>\n",
       "      <td>M</td>\n",
       "      <td>NaN</td>\n",
       "      <td>NaN</td>\n",
       "      <td>NaN</td>\n",
       "      <td>151289204</td>\n",
       "      <td>23119.0</td>\n",
       "      <td>5995907.0</td>\n",
       "      <td>800.0</td>\n",
       "      <td>NaN</td>\n",
       "      <td>H</td>\n",
       "      <td>NaN</td>\n",
       "      <td>151289204.0</td>\n",
       "      <td>NaN</td>\n",
       "      <td>8</td>\n",
       "      <td>842400.0</td>\n",
       "      <td>2.0</td>\n",
       "      <td>41.735126</td>\n",
       "      <td>-87.627769</td>\n",
       "      <td>P</td>\n",
       "      <td>16980.0</td>\n",
       "      <td>2.0</td>\n",
       "      <td>176.0</td>\n",
       "      <td>17031.0</td>\n",
       "    </tr>\n",
       "  </tbody>\n",
       "</table>\n",
       "<p>189 rows × 53 columns</p>\n",
       "</div>"
      ],
      "text/plain": [
       "           COMPANY           ADDRESS LINE 1             CITY STATE  ZIPCODE  \\\n",
       "5161    JEWEL-OSCO         16 S WAUKEGAN RD        DEERFIELD    IL    60015   \n",
       "5279    JEWEL-OSCO   800 NORTHWEST HWY # 14  FOX RIVER GROVE    IL    60021   \n",
       "6579    JEWEL-OSCO            345 S RAND RD      LAKE ZURICH    IL    60047   \n",
       "6690    JEWEL-OSCO        1340 PATRIOT BLVD         GLENVIEW    IL    60026   \n",
       "8787    JEWEL-OSCO       2203 E OAKLAND AVE      BLOOMINGTON    IL    61701   \n",
       "...            ...                      ...              ...   ...      ...   \n",
       "199610  JEWEL-OSCO      370 N DESPLAINES ST          CHICAGO    IL    60661   \n",
       "199798  JEWEL-OSCO         1763 W HOWARD ST          CHICAGO    IL    60626   \n",
       "200464  JEWEL-OSCO  2520 N NARRAGANSETT AVE          CHICAGO    IL    60639   \n",
       "200956  JEWEL-OSCO           550 N STATE ST          CHICAGO    IL    60654   \n",
       "202816  JEWEL-OSCO         87 W 87TH ST # 1          CHICAGO    IL    60620   \n",
       "\n",
       "          ZIP4  COUNTY CODE  AREA CODE  IDCODE LOCATION EMPLOYEE SIZE CODE  \\\n",
       "5161    5216.0         31.0        847       2                           E   \n",
       "5279    1208.0        111.0        847       2                           F   \n",
       "6579    2271.0         97.0        847       2                           F   \n",
       "6690    7777.0         31.0        847       2                           F   \n",
       "8787    5760.0        113.0        309       2                           F   \n",
       "...        ...          ...        ...     ...                         ...   \n",
       "199610  1106.0         31.0        312       2                           F   \n",
       "199798  1626.0         31.0        773       2                           F   \n",
       "200464  1041.0         31.0        773       2                           F   \n",
       "200956  4815.0         31.0        312       2                           F   \n",
       "202816  1396.0         31.0        773       2                           G   \n",
       "\n",
       "       LOCATION SALES VOLUME CODE  PRIMARY SIC CODE SIC6_DESCRIPTIONS  \\\n",
       "5161                            G            541105    GROCERS-RETAIL   \n",
       "5279                            H            541105    GROCERS-RETAIL   \n",
       "6579                            H            541105    GROCERS-RETAIL   \n",
       "6690                            H            541105    GROCERS-RETAIL   \n",
       "8787                            H            541105    GROCERS-RETAIL   \n",
       "...                           ...               ...               ...   \n",
       "199610                          G            541105    GROCERS-RETAIL   \n",
       "199798                          H            541105    GROCERS-RETAIL   \n",
       "200464                          H            541105    GROCERS-RETAIL   \n",
       "200956                          H            541105    GROCERS-RETAIL   \n",
       "202816                          H            541105    GROCERS-RETAIL   \n",
       "\n",
       "        PRIMARY NAICS CODE                                NAICS8 DESCRIPTIONS  \\\n",
       "5161            44511003.0  SUPERMARKETS/OTHER GROCERY (EXC CONVENIENCE) STRS   \n",
       "5279            44511003.0  SUPERMARKETS/OTHER GROCERY (EXC CONVENIENCE) STRS   \n",
       "6579            44511003.0  SUPERMARKETS/OTHER GROCERY (EXC CONVENIENCE) STRS   \n",
       "6690            44511003.0  SUPERMARKETS/OTHER GROCERY (EXC CONVENIENCE) STRS   \n",
       "8787            44511003.0  SUPERMARKETS/OTHER GROCERY (EXC CONVENIENCE) STRS   \n",
       "...                    ...                                                ...   \n",
       "199610          44511003.0  SUPERMARKETS/OTHER GROCERY (EXC CONVENIENCE) STRS   \n",
       "199798          44511003.0  SUPERMARKETS/OTHER GROCERY (EXC CONVENIENCE) STRS   \n",
       "200464          44511003.0  SUPERMARKETS/OTHER GROCERY (EXC CONVENIENCE) STRS   \n",
       "200956          44511003.0  SUPERMARKETS/OTHER GROCERY (EXC CONVENIENCE) STRS   \n",
       "202816          44511003.0  SUPERMARKETS/OTHER GROCERY (EXC CONVENIENCE) STRS   \n",
       "\n",
       "        SIC CODE SIC6_DESCRIPTIONS (SIC)  SIC CODE 1 SIC6_DESCRIPTIONS (SIC1)  \\\n",
       "5161    546102.0           BAKERS-RETAIL         NaN                      NaN   \n",
       "5279    591205.0              PHARMACIES         NaN                      NaN   \n",
       "6579    591205.0              PHARMACIES    609910.0   MONEY TRANSFER SERVICE   \n",
       "6690         NaN                     NaN         NaN                      NaN   \n",
       "8787         NaN                     NaN         NaN                      NaN   \n",
       "...          ...                     ...         ...                      ...   \n",
       "199610       NaN                     NaN         NaN                      NaN   \n",
       "199798       NaN                     NaN         NaN                      NaN   \n",
       "200464       NaN                     NaN         NaN                      NaN   \n",
       "200956       NaN                     NaN         NaN                      NaN   \n",
       "202816  591205.0              PHARMACIES         NaN                      NaN   \n",
       "\n",
       "        SIC CODE 2 SIC6_DESCRIPTIONS(SIC2)  SIC CODE 3  \\\n",
       "5161           NaN                     NaN         NaN   \n",
       "5279           NaN                     NaN         NaN   \n",
       "6579      804939.0             PHARMACISTS         NaN   \n",
       "6690           NaN                     NaN         NaN   \n",
       "8787           NaN                     NaN         NaN   \n",
       "...            ...                     ...         ...   \n",
       "199610         NaN                     NaN         NaN   \n",
       "199798         NaN                     NaN         NaN   \n",
       "200464         NaN                     NaN         NaN   \n",
       "200956         NaN                     NaN         NaN   \n",
       "202816         NaN                     NaN         NaN   \n",
       "\n",
       "       SIC6_DESCRIPTIONS(SIC3)  SIC CODE 4 SIC6_DESCRIPTIONS(SIC4)  \\\n",
       "5161                       NaN         NaN                     NaN   \n",
       "5279                       NaN         NaN                     NaN   \n",
       "6579                       NaN         NaN                     NaN   \n",
       "6690                       NaN         NaN                     NaN   \n",
       "8787                       NaN         NaN                     NaN   \n",
       "...                        ...         ...                     ...   \n",
       "199610                     NaN         NaN                     NaN   \n",
       "199798                     NaN         NaN                     NaN   \n",
       "200464                     NaN         NaN                     NaN   \n",
       "200956                     NaN         NaN                     NaN   \n",
       "202816                     NaN         NaN                     NaN   \n",
       "\n",
       "        ARCHIVE VERSION YEAR  YELLOW PAGE CODE  EMPLOYEE SIZE (5) - LOCATION  \\\n",
       "5161                    2022           39106.0                          90.0   \n",
       "5279                    2022               NaN                         200.0   \n",
       "6579                    2022               NaN                         200.0   \n",
       "6690                    2022               NaN                         200.0   \n",
       "8787                    2022           39106.0                         200.0   \n",
       "...                      ...               ...                           ...   \n",
       "199610                  2022           39106.0                         150.0   \n",
       "199798                  2022               NaN                         200.0   \n",
       "200464                  2022           39106.0                         200.0   \n",
       "200956                  2022           39106.0                         200.0   \n",
       "202816                  2022           39106.0                         300.0   \n",
       "\n",
       "        SALES VOLUME (9) - LOCATION  BUSINESS STATUS CODE  \\\n",
       "5161                        23000.0                     2   \n",
       "5279                        51845.0                     2   \n",
       "6579                        54846.0                     2   \n",
       "6690                        51110.0                     2   \n",
       "8787                        55562.0                     2   \n",
       "...                             ...                   ...   \n",
       "199610                      38333.0                     2   \n",
       "199798                      51110.0                     2   \n",
       "200464                      51110.0                     2   \n",
       "200956                      51110.0                     2   \n",
       "202816                      76665.0                     2   \n",
       "\n",
       "       INDUSTRY SPECIFIC FIRST BYTE  YEAR ESTABLISHED  OFFICE SIZE CODE  \\\n",
       "5161                              M               NaN               NaN   \n",
       "5279                              M               NaN               NaN   \n",
       "6579                              M               NaN               NaN   \n",
       "6690                              M               NaN               NaN   \n",
       "8787                              M               NaN               NaN   \n",
       "...                             ...               ...               ...   \n",
       "199610                            M               NaN               NaN   \n",
       "199798                            M               NaN               NaN   \n",
       "200464                            M               NaN               NaN   \n",
       "200956                            M               NaN               NaN   \n",
       "202816                            M               NaN               NaN   \n",
       "\n",
       "        COMPANY HOLDING STATUS        ABI  SUBSIDIARY NUMBER  PARENT NUMBER  \\\n",
       "5161                       NaN  306364910            23119.0      5995907.0   \n",
       "5279                       NaN  436738993            23119.0      5995907.0   \n",
       "6579                       NaN  705479853            23119.0      5995907.0   \n",
       "6690                       NaN  700233144            23119.0      5995907.0   \n",
       "8787                       NaN  427996134            23119.0      5995907.0   \n",
       "...                        ...        ...                ...            ...   \n",
       "199610                     NaN  643278203            23119.0      5995907.0   \n",
       "199798                     NaN  705501147            23119.0      5995907.0   \n",
       "200464                     NaN  427743916            23119.0      5995907.0   \n",
       "200956                     NaN  436096921            23119.0      5995907.0   \n",
       "202816                     NaN  151289204            23119.0      5995907.0   \n",
       "\n",
       "        PARENT ACTUAL EMPLOYEE SIZE  PARENT ACTUAL SALES VOLUME  \\\n",
       "5161                          800.0                         NaN   \n",
       "5279                          800.0                         NaN   \n",
       "6579                          800.0                         NaN   \n",
       "6690                          800.0                         NaN   \n",
       "8787                          800.0                         NaN   \n",
       "...                             ...                         ...   \n",
       "199610                        800.0                         NaN   \n",
       "199798                        800.0                         NaN   \n",
       "200464                        800.0                         NaN   \n",
       "200956                        800.0                         NaN   \n",
       "202816                        800.0                         NaN   \n",
       "\n",
       "       PARENT EMPLOYEE SIZE CODE PARENT SALES VOLUME CODE  SITE NUMBER  \\\n",
       "5161                           H                      NaN  306364910.0   \n",
       "5279                           H                      NaN  436738993.0   \n",
       "6579                           H                      NaN  705479853.0   \n",
       "6690                           H                      NaN  700233144.0   \n",
       "8787                           H                      NaN  427996134.0   \n",
       "...                          ...                      ...          ...   \n",
       "199610                         H                      NaN  643278203.0   \n",
       "199798                         H                      NaN  705501147.0   \n",
       "200464                         H                      NaN  427743916.0   \n",
       "200956                         H                      NaN          NaN   \n",
       "202816                         H                      NaN  151289204.0   \n",
       "\n",
       "       ADDRESS TYPE INDICATOR  POPULATION CODE  CENSUS TRACT  CENSUS BLOCK  \\\n",
       "5161                      NaN                7      801500.0           1.0   \n",
       "5279                      NaN                5      871402.0           3.0   \n",
       "6579                      NaN                7      864408.0           3.0   \n",
       "6690                      NaN                6      802300.0           1.0   \n",
       "8787                      NaN                7        5800.0           1.0   \n",
       "...                       ...              ...           ...           ...   \n",
       "199610                    NaN                5      842300.0           2.0   \n",
       "199798                    NaN                8       10202.0           1.0   \n",
       "200464                    NaN                8      831500.0           1.0   \n",
       "200956                    NaN                6       81600.0           1.0   \n",
       "202816                    NaN                8      842400.0           2.0   \n",
       "\n",
       "         LATITUDE  LONGITUDE MATCH CODE  CBSA CODE  CBSA LEVEL  CSA CODE  \\\n",
       "5161    42.151799 -87.837363          P    16980.0         2.0     176.0   \n",
       "5279    42.195350 -88.209897          P    16980.0         2.0     176.0   \n",
       "6579    42.191712 -88.110099          P    16980.0         2.0     176.0   \n",
       "6690    42.078560 -87.818822          P    16980.0         2.0     176.0   \n",
       "8787    40.472303 -88.960278          P    14010.0         2.0     145.0   \n",
       "...           ...        ...        ...        ...         ...       ...   \n",
       "199610  41.888342 -87.645057          P    16980.0         2.0     176.0   \n",
       "199798  42.019372 -87.675184          4    16980.0         2.0     176.0   \n",
       "200464  41.926616 -87.786438          P    16980.0         2.0     176.0   \n",
       "200956  41.892170 -87.628572          P    16980.0         2.0     176.0   \n",
       "202816  41.735126 -87.627769          P    16980.0         2.0     176.0   \n",
       "\n",
       "        FIPS CODE  \n",
       "5161      17031.0  \n",
       "5279      17111.0  \n",
       "6579      17097.0  \n",
       "6690      17031.0  \n",
       "8787      17113.0  \n",
       "...           ...  \n",
       "199610    17031.0  \n",
       "199798    17031.0  \n",
       "200464    17031.0  \n",
       "200956    17031.0  \n",
       "202816    17031.0  \n",
       "\n",
       "[189 rows x 53 columns]"
      ]
     },
     "execution_count": 15,
     "metadata": {},
     "output_type": "execute_result"
    }
   ],
   "source": [
    "IL_SIC3 = grocery_sic[(grocery_sic['PARENT NUMBER']== 5995907.0) & (grocery_sic['STATE'] == 'IL')]\n",
    "IL_SIC3"
   ]
  },
  {
   "cell_type": "code",
   "execution_count": 89,
   "id": "c43b1406-aca3-4573-8c2f-5dc558a924ad",
   "metadata": {
    "tags": []
   },
   "outputs": [
    {
     "data": {
      "text/html": [
       "<div>\n",
       "<style scoped>\n",
       "    .dataframe tbody tr th:only-of-type {\n",
       "        vertical-align: middle;\n",
       "    }\n",
       "\n",
       "    .dataframe tbody tr th {\n",
       "        vertical-align: top;\n",
       "    }\n",
       "\n",
       "    .dataframe thead th {\n",
       "        text-align: right;\n",
       "    }\n",
       "</style>\n",
       "<table border=\"1\" class=\"dataframe\">\n",
       "  <thead>\n",
       "    <tr style=\"text-align: right;\">\n",
       "      <th></th>\n",
       "      <th>PARENT NUMBER</th>\n",
       "      <th>EMPLOYEE SIZE (5) - LOCATION</th>\n",
       "    </tr>\n",
       "  </thead>\n",
       "  <tbody>\n",
       "    <tr>\n",
       "      <th>0</th>\n",
       "      <td>5995907.0</td>\n",
       "      <td>34245.0</td>\n",
       "    </tr>\n",
       "    <tr>\n",
       "      <th>1</th>\n",
       "      <td>NaN</td>\n",
       "      <td>17766.0</td>\n",
       "    </tr>\n",
       "    <tr>\n",
       "      <th>2</th>\n",
       "      <td>7521503.0</td>\n",
       "      <td>11193.0</td>\n",
       "    </tr>\n",
       "    <tr>\n",
       "      <th>3</th>\n",
       "      <td>5644232.0</td>\n",
       "      <td>8702.0</td>\n",
       "    </tr>\n",
       "    <tr>\n",
       "      <th>4</th>\n",
       "      <td>441412723.0</td>\n",
       "      <td>6156.0</td>\n",
       "    </tr>\n",
       "  </tbody>\n",
       "</table>\n",
       "</div>"
      ],
      "text/plain": [
       "   PARENT NUMBER  EMPLOYEE SIZE (5) - LOCATION\n",
       "0      5995907.0                       34245.0\n",
       "1            NaN                       17766.0\n",
       "2      7521503.0                       11193.0\n",
       "3      5644232.0                        8702.0\n",
       "4    441412723.0                        6156.0"
      ]
     },
     "execution_count": 89,
     "metadata": {},
     "output_type": "execute_result"
    }
   ],
   "source": [
    "#FINDS IL employee size per parent company \n",
    "groc_emp_il = il.groupby('PARENT NUMBER', dropna=False).sum().reset_index()[['PARENT NUMBER','EMPLOYEE SIZE (5) - LOCATION']]\n",
    "groc_emp_il.sort_values('EMPLOYEE SIZE (5) - LOCATION', ascending=False, inplace=True)\n",
    "groc_emp_il.reset_index(drop=True,inplace=True)\n",
    "\n",
    "groc_emp_il.head()"
   ]
  },
  {
   "cell_type": "code",
   "execution_count": 90,
   "id": "d7d9561e-b710-4bbd-9000-c0c9ebbd8d41",
   "metadata": {
    "tags": []
   },
   "outputs": [
    {
     "data": {
      "text/html": [
       "<div>\n",
       "<style scoped>\n",
       "    .dataframe tbody tr th:only-of-type {\n",
       "        vertical-align: middle;\n",
       "    }\n",
       "\n",
       "    .dataframe tbody tr th {\n",
       "        vertical-align: top;\n",
       "    }\n",
       "\n",
       "    .dataframe thead th {\n",
       "        text-align: right;\n",
       "    }\n",
       "</style>\n",
       "<table border=\"1\" class=\"dataframe\">\n",
       "  <thead>\n",
       "    <tr style=\"text-align: right;\">\n",
       "      <th></th>\n",
       "      <th>PARENT NUMBER</th>\n",
       "      <th>SALES VOLUME (9) - LOCATION</th>\n",
       "    </tr>\n",
       "  </thead>\n",
       "  <tbody>\n",
       "    <tr>\n",
       "      <th>0</th>\n",
       "      <td>5995907.0</td>\n",
       "      <td>8778935.0</td>\n",
       "    </tr>\n",
       "    <tr>\n",
       "      <th>1</th>\n",
       "      <td>NaN</td>\n",
       "      <td>4589479.0</td>\n",
       "    </tr>\n",
       "    <tr>\n",
       "      <th>2</th>\n",
       "      <td>7521503.0</td>\n",
       "      <td>2676863.0</td>\n",
       "    </tr>\n",
       "    <tr>\n",
       "      <th>3</th>\n",
       "      <td>5644232.0</td>\n",
       "      <td>2163275.0</td>\n",
       "    </tr>\n",
       "    <tr>\n",
       "      <th>4</th>\n",
       "      <td>886012012.0</td>\n",
       "      <td>1179284.0</td>\n",
       "    </tr>\n",
       "  </tbody>\n",
       "</table>\n",
       "</div>"
      ],
      "text/plain": [
       "   PARENT NUMBER  SALES VOLUME (9) - LOCATION\n",
       "0      5995907.0                    8778935.0\n",
       "1            NaN                    4589479.0\n",
       "2      7521503.0                    2676863.0\n",
       "3      5644232.0                    2163275.0\n",
       "4    886012012.0                    1179284.0"
      ]
     },
     "execution_count": 90,
     "metadata": {},
     "output_type": "execute_result"
    }
   ],
   "source": [
    "#FINDS IL SALES VOLUME PER PARENT COMPANY \n",
    "\n",
    "groc_sales_il = il.groupby('PARENT NUMBER', dropna=False).sum().reset_index()[['PARENT NUMBER','SALES VOLUME (9) - LOCATION']]\n",
    "groc_sales_il.sort_values('SALES VOLUME (9) - LOCATION', ascending=False, inplace=True)\n",
    "groc_sales_il.reset_index(drop=True,inplace=True)\n",
    "groc_sales_il.head()"
   ]
  },
  {
   "cell_type": "code",
   "execution_count": 91,
   "id": "5939594e-f65b-4835-9dc2-789abadb438c",
   "metadata": {
    "tags": []
   },
   "outputs": [
    {
     "data": {
      "image/png": "[encoded data removed]",
      "text/plain": [
       "<Figure size 640x480 with 1 Axes>"
      ]
     },
     "metadata": {},
     "output_type": "display_data"
    }
   ],
   "source": [
    "plt.bar(groc_sales_il['PARENT NUMBER'], groc_sales_il['SALES VOLUME (9) - LOCATION'])\n",
    "plt.xlabel('Parent Companies')\n",
    "plt.ylabel('SALES VOLUME (9) - LOCATION')\n",
    "plt.title('Top 10 ParentComp Sales Numbers (illinois)')\n",
    "plt.xticks(rotation=90)\n",
    "plt.show()"
   ]
  },
  {
   "cell_type": "code",
   "execution_count": 92,
   "id": "b9ac4345-baf9-465d-90b9-a6b96092cabd",
   "metadata": {
    "tags": []
   },
   "outputs": [
    {
     "data": {
      "image/png": "[encoded data removed]",
      "text/plain": [
       "<Figure size 640x480 with 1 Axes>"
      ]
     },
     "metadata": {},
     "output_type": "display_data"
    }
   ],
   "source": [
    "plt.bar(groc_tp10_il['PARENT NUMBER'], groc_tp10_il['Percent'])\n",
    "plt.xlabel('Parent Companies')\n",
    "plt.ylabel('Percent')\n",
    "plt.title('Top 10 ParentComp Numbers (illinois)')\n",
    "plt.xticks(rotation=90)\n",
    "plt.show()\n",
    "\n",
    "# parent company to illinois \n",
    "#1) 441412723.0 = parent company(s)= Rutters Holding Inc, CHR Corporation\n",
    "#2) 5863311.0 = parent company = Seven & I holdings\n",
    "#3) 450720289.0 = parent company(s) = Alimentation Couche-Tard, Convenience Retail Asia\n",
    "#4) 200026573.0 = parent company = Albrecht Discounts(aldi)\n",
    "#5) 5995907.0 = parent company = Albertson"
   ]
  },
  {
   "cell_type": "code",
   "execution_count": 93,
   "id": "177cf271-566d-40f7-90ca-40b317e6a6c2",
   "metadata": {
    "tags": []
   },
   "outputs": [
    {
     "name": "stderr",
     "output_type": "stream",
     "text": [
      "/tmp/ipykernel_785161/2971719212.py:1: SettingWithCopyWarning: \n",
      "A value is trying to be set on a copy of a slice from a DataFrame.\n",
      "Try using .loc[row_indexer,col_indexer] = value instead\n",
      "\n",
      "See the caveats in the documentation: https://pandas.pydata.org/pandas-docs/stable/user_guide/indexing.html#returning-a-view-versus-a-copy\n",
      "  grocery_sic[\"TOP TEN\"] = grocery_sic['PARENT NUMBER'].apply(lambda x: '5863311.0' in str(x) or '450720289.0' in str(x) or '5889993.0' in str(x)or '7521503.0' in str(x)or '441412723.0' in str(x) or '5995907.0' in str(x) or '200026573.0' in str(x)or '238136725.0' in str(x)or '714232249.0' in str(x) or '433922353.0' in str(x))\n",
      "/tmp/ipykernel_785161/2971719212.py:6: SettingWithCopyWarning: \n",
      "A value is trying to be set on a copy of a slice from a DataFrame.\n",
      "Try using .loc[row_indexer,col_indexer] = value instead\n",
      "\n",
      "See the caveats in the documentation: https://pandas.pydata.org/pandas-docs/stable/user_guide/indexing.html#returning-a-view-versus-a-copy\n",
      "  grocery_sic.loc[:, \"INDEPENDENT STORE\"] = False\n"
     ]
    },
    {
     "data": {
      "text/html": [
       "<div>\n",
       "<style scoped>\n",
       "    .dataframe tbody tr th:only-of-type {\n",
       "        vertical-align: middle;\n",
       "    }\n",
       "\n",
       "    .dataframe tbody tr th {\n",
       "        vertical-align: top;\n",
       "    }\n",
       "\n",
       "    .dataframe thead th {\n",
       "        text-align: right;\n",
       "    }\n",
       "</style>\n",
       "<table border=\"1\" class=\"dataframe\">\n",
       "  <thead>\n",
       "    <tr style=\"text-align: right;\">\n",
       "      <th></th>\n",
       "      <th>COMPANY</th>\n",
       "      <th>ADDRESS LINE 1</th>\n",
       "      <th>CITY</th>\n",
       "      <th>STATE</th>\n",
       "      <th>ZIPCODE</th>\n",
       "      <th>ZIP4</th>\n",
       "      <th>COUNTY CODE</th>\n",
       "      <th>AREA CODE</th>\n",
       "      <th>IDCODE</th>\n",
       "      <th>LOCATION EMPLOYEE SIZE CODE</th>\n",
       "      <th>LOCATION SALES VOLUME CODE</th>\n",
       "      <th>PRIMARY SIC CODE</th>\n",
       "      <th>SIC6_DESCRIPTIONS</th>\n",
       "      <th>PRIMARY NAICS CODE</th>\n",
       "      <th>NAICS8 DESCRIPTIONS</th>\n",
       "      <th>SIC CODE</th>\n",
       "      <th>SIC6_DESCRIPTIONS (SIC)</th>\n",
       "      <th>SIC CODE 1</th>\n",
       "      <th>SIC6_DESCRIPTIONS (SIC1)</th>\n",
       "      <th>SIC CODE 2</th>\n",
       "      <th>SIC6_DESCRIPTIONS(SIC2)</th>\n",
       "      <th>SIC CODE 3</th>\n",
       "      <th>SIC6_DESCRIPTIONS(SIC3)</th>\n",
       "      <th>SIC CODE 4</th>\n",
       "      <th>SIC6_DESCRIPTIONS(SIC4)</th>\n",
       "      <th>ARCHIVE VERSION YEAR</th>\n",
       "      <th>YELLOW PAGE CODE</th>\n",
       "      <th>EMPLOYEE SIZE (5) - LOCATION</th>\n",
       "      <th>SALES VOLUME (9) - LOCATION</th>\n",
       "      <th>BUSINESS STATUS CODE</th>\n",
       "      <th>INDUSTRY SPECIFIC FIRST BYTE</th>\n",
       "      <th>YEAR ESTABLISHED</th>\n",
       "      <th>OFFICE SIZE CODE</th>\n",
       "      <th>COMPANY HOLDING STATUS</th>\n",
       "      <th>ABI</th>\n",
       "      <th>SUBSIDIARY NUMBER</th>\n",
       "      <th>PARENT NUMBER</th>\n",
       "      <th>PARENT ACTUAL EMPLOYEE SIZE</th>\n",
       "      <th>PARENT ACTUAL SALES VOLUME</th>\n",
       "      <th>PARENT EMPLOYEE SIZE CODE</th>\n",
       "      <th>PARENT SALES VOLUME CODE</th>\n",
       "      <th>SITE NUMBER</th>\n",
       "      <th>ADDRESS TYPE INDICATOR</th>\n",
       "      <th>POPULATION CODE</th>\n",
       "      <th>CENSUS TRACT</th>\n",
       "      <th>CENSUS BLOCK</th>\n",
       "      <th>LATITUDE</th>\n",
       "      <th>LONGITUDE</th>\n",
       "      <th>MATCH CODE</th>\n",
       "      <th>CBSA CODE</th>\n",
       "      <th>CBSA LEVEL</th>\n",
       "      <th>CSA CODE</th>\n",
       "      <th>FIPS CODE</th>\n",
       "      <th>TOP TEN</th>\n",
       "      <th>INDEPENDENT STORE</th>\n",
       "    </tr>\n",
       "  </thead>\n",
       "  <tbody>\n",
       "    <tr>\n",
       "      <th>0</th>\n",
       "      <td>GOMART</td>\n",
       "      <td>55 POSTAL PLZ</td>\n",
       "      <td>MORGANTOWN</td>\n",
       "      <td>WV</td>\n",
       "      <td>26508</td>\n",
       "      <td>7005.0</td>\n",
       "      <td>61.0</td>\n",
       "      <td>304</td>\n",
       "      <td>2</td>\n",
       "      <td>C</td>\n",
       "      <td>C</td>\n",
       "      <td>541103</td>\n",
       "      <td>CONVENIENCE STORES</td>\n",
       "      <td>44512001.0</td>\n",
       "      <td>CONVENIENCE STORES</td>\n",
       "      <td>554101.0</td>\n",
       "      <td>SERVICE STATIONS-GASOLINE &amp; OIL</td>\n",
       "      <td>554110.0</td>\n",
       "      <td>ALTERNATIVE FUELS</td>\n",
       "      <td>NaN</td>\n",
       "      <td>NaN</td>\n",
       "      <td>NaN</td>\n",
       "      <td>NaN</td>\n",
       "      <td>NaN</td>\n",
       "      <td>NaN</td>\n",
       "      <td>2022</td>\n",
       "      <td>21303.0</td>\n",
       "      <td>13.0</td>\n",
       "      <td>2482.0</td>\n",
       "      <td>2</td>\n",
       "      <td>NaN</td>\n",
       "      <td>NaN</td>\n",
       "      <td>NaN</td>\n",
       "      <td>NaN</td>\n",
       "      <td>998372387</td>\n",
       "      <td>NaN</td>\n",
       "      <td>124929449.0</td>\n",
       "      <td>50.0</td>\n",
       "      <td>389500.0</td>\n",
       "      <td>E</td>\n",
       "      <td>I</td>\n",
       "      <td>998372387.0</td>\n",
       "      <td>NaN</td>\n",
       "      <td>7</td>\n",
       "      <td>11000.0</td>\n",
       "      <td>3.0</td>\n",
       "      <td>39.594376</td>\n",
       "      <td>-79.954437</td>\n",
       "      <td>P</td>\n",
       "      <td>34060.0</td>\n",
       "      <td>2.0</td>\n",
       "      <td>390.0</td>\n",
       "      <td>54061.0</td>\n",
       "      <td>False</td>\n",
       "      <td>False</td>\n",
       "    </tr>\n",
       "    <tr>\n",
       "      <th>1</th>\n",
       "      <td>7-ELEVEN</td>\n",
       "      <td>485 E MAIN ST</td>\n",
       "      <td>EL CENTRO</td>\n",
       "      <td>CA</td>\n",
       "      <td>92243</td>\n",
       "      <td>2619.0</td>\n",
       "      <td>25.0</td>\n",
       "      <td>760</td>\n",
       "      <td>2</td>\n",
       "      <td>B</td>\n",
       "      <td>C</td>\n",
       "      <td>541103</td>\n",
       "      <td>CONVENIENCE STORES</td>\n",
       "      <td>44512001.0</td>\n",
       "      <td>CONVENIENCE STORES</td>\n",
       "      <td>554101.0</td>\n",
       "      <td>SERVICE STATIONS-GASOLINE &amp; OIL</td>\n",
       "      <td>NaN</td>\n",
       "      <td>NaN</td>\n",
       "      <td>NaN</td>\n",
       "      <td>NaN</td>\n",
       "      <td>NaN</td>\n",
       "      <td>NaN</td>\n",
       "      <td>NaN</td>\n",
       "      <td>NaN</td>\n",
       "      <td>2022</td>\n",
       "      <td>NaN</td>\n",
       "      <td>6.0</td>\n",
       "      <td>1273.0</td>\n",
       "      <td>2</td>\n",
       "      <td>W</td>\n",
       "      <td>NaN</td>\n",
       "      <td>NaN</td>\n",
       "      <td>NaN</td>\n",
       "      <td>495660326</td>\n",
       "      <td>NaN</td>\n",
       "      <td>5863311.0</td>\n",
       "      <td>800.0</td>\n",
       "      <td>1272634.0</td>\n",
       "      <td>H</td>\n",
       "      <td>K</td>\n",
       "      <td>495660326.0</td>\n",
       "      <td>NaN</td>\n",
       "      <td>7</td>\n",
       "      <td>11400.0</td>\n",
       "      <td>3.0</td>\n",
       "      <td>32.792679</td>\n",
       "      <td>-115.536058</td>\n",
       "      <td>0</td>\n",
       "      <td>20940.0</td>\n",
       "      <td>2.0</td>\n",
       "      <td>0.0</td>\n",
       "      <td>6025.0</td>\n",
       "      <td>True</td>\n",
       "      <td>False</td>\n",
       "    </tr>\n",
       "    <tr>\n",
       "      <th>2</th>\n",
       "      <td>EL SOL MARKET</td>\n",
       "      <td>110 W MAIN ST</td>\n",
       "      <td>WESTMORLAND</td>\n",
       "      <td>CA</td>\n",
       "      <td>92281</td>\n",
       "      <td>NaN</td>\n",
       "      <td>25.0</td>\n",
       "      <td>760</td>\n",
       "      <td>2</td>\n",
       "      <td>B</td>\n",
       "      <td>C</td>\n",
       "      <td>541105</td>\n",
       "      <td>GROCERS-RETAIL</td>\n",
       "      <td>44511003.0</td>\n",
       "      <td>SUPERMARKETS/OTHER GROCERY (EXC CONVENIENCE) STRS</td>\n",
       "      <td>NaN</td>\n",
       "      <td>NaN</td>\n",
       "      <td>NaN</td>\n",
       "      <td>NaN</td>\n",
       "      <td>NaN</td>\n",
       "      <td>NaN</td>\n",
       "      <td>NaN</td>\n",
       "      <td>NaN</td>\n",
       "      <td>NaN</td>\n",
       "      <td>NaN</td>\n",
       "      <td>2022</td>\n",
       "      <td>39106.0</td>\n",
       "      <td>5.0</td>\n",
       "      <td>1061.0</td>\n",
       "      <td>9</td>\n",
       "      <td>NaN</td>\n",
       "      <td>NaN</td>\n",
       "      <td>NaN</td>\n",
       "      <td>NaN</td>\n",
       "      <td>519605455</td>\n",
       "      <td>NaN</td>\n",
       "      <td>NaN</td>\n",
       "      <td>NaN</td>\n",
       "      <td>NaN</td>\n",
       "      <td>NaN</td>\n",
       "      <td>NaN</td>\n",
       "      <td>NaN</td>\n",
       "      <td>NaN</td>\n",
       "      <td>3</td>\n",
       "      <td>10200.0</td>\n",
       "      <td>1.0</td>\n",
       "      <td>33.051800</td>\n",
       "      <td>-115.581800</td>\n",
       "      <td>X</td>\n",
       "      <td>20940.0</td>\n",
       "      <td>2.0</td>\n",
       "      <td>0.0</td>\n",
       "      <td>6025.0</td>\n",
       "      <td>False</td>\n",
       "      <td>True</td>\n",
       "    </tr>\n",
       "    <tr>\n",
       "      <th>3</th>\n",
       "      <td>COOL SPRINGS GROCERY</td>\n",
       "      <td>241 WILDWOOD ST</td>\n",
       "      <td>MORGANTOWN</td>\n",
       "      <td>WV</td>\n",
       "      <td>26505</td>\n",
       "      <td>3141.0</td>\n",
       "      <td>61.0</td>\n",
       "      <td>304</td>\n",
       "      <td>2</td>\n",
       "      <td>A</td>\n",
       "      <td>A</td>\n",
       "      <td>541105</td>\n",
       "      <td>GROCERS-RETAIL</td>\n",
       "      <td>44511003.0</td>\n",
       "      <td>SUPERMARKETS/OTHER GROCERY (EXC CONVENIENCE) STRS</td>\n",
       "      <td>NaN</td>\n",
       "      <td>NaN</td>\n",
       "      <td>NaN</td>\n",
       "      <td>NaN</td>\n",
       "      <td>NaN</td>\n",
       "      <td>NaN</td>\n",
       "      <td>NaN</td>\n",
       "      <td>NaN</td>\n",
       "      <td>NaN</td>\n",
       "      <td>NaN</td>\n",
       "      <td>2022</td>\n",
       "      <td>39106.0</td>\n",
       "      <td>2.0</td>\n",
       "      <td>382.0</td>\n",
       "      <td>9</td>\n",
       "      <td>NaN</td>\n",
       "      <td>NaN</td>\n",
       "      <td>NaN</td>\n",
       "      <td>NaN</td>\n",
       "      <td>817953730</td>\n",
       "      <td>NaN</td>\n",
       "      <td>NaN</td>\n",
       "      <td>NaN</td>\n",
       "      <td>NaN</td>\n",
       "      <td>NaN</td>\n",
       "      <td>NaN</td>\n",
       "      <td>NaN</td>\n",
       "      <td>NaN</td>\n",
       "      <td>7</td>\n",
       "      <td>10400.0</td>\n",
       "      <td>4.0</td>\n",
       "      <td>39.652885</td>\n",
       "      <td>-79.986398</td>\n",
       "      <td>P</td>\n",
       "      <td>34060.0</td>\n",
       "      <td>2.0</td>\n",
       "      <td>390.0</td>\n",
       "      <td>54061.0</td>\n",
       "      <td>False</td>\n",
       "      <td>True</td>\n",
       "    </tr>\n",
       "    <tr>\n",
       "      <th>4</th>\n",
       "      <td>CIRCLE K</td>\n",
       "      <td>123 E MAIN ST</td>\n",
       "      <td>WESTMORLAND</td>\n",
       "      <td>CA</td>\n",
       "      <td>92281</td>\n",
       "      <td>NaN</td>\n",
       "      <td>25.0</td>\n",
       "      <td>760</td>\n",
       "      <td>2</td>\n",
       "      <td>B</td>\n",
       "      <td>C</td>\n",
       "      <td>541103</td>\n",
       "      <td>CONVENIENCE STORES</td>\n",
       "      <td>44512001.0</td>\n",
       "      <td>CONVENIENCE STORES</td>\n",
       "      <td>554101.0</td>\n",
       "      <td>SERVICE STATIONS-GASOLINE &amp; OIL</td>\n",
       "      <td>NaN</td>\n",
       "      <td>NaN</td>\n",
       "      <td>NaN</td>\n",
       "      <td>NaN</td>\n",
       "      <td>NaN</td>\n",
       "      <td>NaN</td>\n",
       "      <td>NaN</td>\n",
       "      <td>NaN</td>\n",
       "      <td>2022</td>\n",
       "      <td>NaN</td>\n",
       "      <td>6.0</td>\n",
       "      <td>1273.0</td>\n",
       "      <td>2</td>\n",
       "      <td>F</td>\n",
       "      <td>NaN</td>\n",
       "      <td>NaN</td>\n",
       "      <td>NaN</td>\n",
       "      <td>855113817</td>\n",
       "      <td>NaN</td>\n",
       "      <td>450720289.0</td>\n",
       "      <td>650.0</td>\n",
       "      <td>4981020.0</td>\n",
       "      <td>H</td>\n",
       "      <td>J</td>\n",
       "      <td>NaN</td>\n",
       "      <td>NaN</td>\n",
       "      <td>3</td>\n",
       "      <td>10200.0</td>\n",
       "      <td>1.0</td>\n",
       "      <td>33.051800</td>\n",
       "      <td>-115.581800</td>\n",
       "      <td>X</td>\n",
       "      <td>20940.0</td>\n",
       "      <td>2.0</td>\n",
       "      <td>0.0</td>\n",
       "      <td>6025.0</td>\n",
       "      <td>True</td>\n",
       "      <td>False</td>\n",
       "    </tr>\n",
       "  </tbody>\n",
       "</table>\n",
       "</div>"
      ],
      "text/plain": [
       "                COMPANY   ADDRESS LINE 1         CITY STATE  ZIPCODE    ZIP4  \\\n",
       "0                GOMART    55 POSTAL PLZ   MORGANTOWN    WV    26508  7005.0   \n",
       "1              7-ELEVEN    485 E MAIN ST    EL CENTRO    CA    92243  2619.0   \n",
       "2         EL SOL MARKET    110 W MAIN ST  WESTMORLAND    CA    92281     NaN   \n",
       "3  COOL SPRINGS GROCERY  241 WILDWOOD ST   MORGANTOWN    WV    26505  3141.0   \n",
       "4              CIRCLE K    123 E MAIN ST  WESTMORLAND    CA    92281     NaN   \n",
       "\n",
       "   COUNTY CODE  AREA CODE  IDCODE LOCATION EMPLOYEE SIZE CODE  \\\n",
       "0         61.0        304       2                           C   \n",
       "1         25.0        760       2                           B   \n",
       "2         25.0        760       2                           B   \n",
       "3         61.0        304       2                           A   \n",
       "4         25.0        760       2                           B   \n",
       "\n",
       "  LOCATION SALES VOLUME CODE  PRIMARY SIC CODE   SIC6_DESCRIPTIONS  \\\n",
       "0                          C            541103  CONVENIENCE STORES   \n",
       "1                          C            541103  CONVENIENCE STORES   \n",
       "2                          C            541105      GROCERS-RETAIL   \n",
       "3                          A            541105      GROCERS-RETAIL   \n",
       "4                          C            541103  CONVENIENCE STORES   \n",
       "\n",
       "   PRIMARY NAICS CODE                                NAICS8 DESCRIPTIONS  \\\n",
       "0          44512001.0                                 CONVENIENCE STORES   \n",
       "1          44512001.0                                 CONVENIENCE STORES   \n",
       "2          44511003.0  SUPERMARKETS/OTHER GROCERY (EXC CONVENIENCE) STRS   \n",
       "3          44511003.0  SUPERMARKETS/OTHER GROCERY (EXC CONVENIENCE) STRS   \n",
       "4          44512001.0                                 CONVENIENCE STORES   \n",
       "\n",
       "   SIC CODE          SIC6_DESCRIPTIONS (SIC)  SIC CODE 1  \\\n",
       "0  554101.0  SERVICE STATIONS-GASOLINE & OIL    554110.0   \n",
       "1  554101.0  SERVICE STATIONS-GASOLINE & OIL         NaN   \n",
       "2       NaN                              NaN         NaN   \n",
       "3       NaN                              NaN         NaN   \n",
       "4  554101.0  SERVICE STATIONS-GASOLINE & OIL         NaN   \n",
       "\n",
       "  SIC6_DESCRIPTIONS (SIC1)  SIC CODE 2 SIC6_DESCRIPTIONS(SIC2)  SIC CODE 3  \\\n",
       "0        ALTERNATIVE FUELS         NaN                     NaN         NaN   \n",
       "1                      NaN         NaN                     NaN         NaN   \n",
       "2                      NaN         NaN                     NaN         NaN   \n",
       "3                      NaN         NaN                     NaN         NaN   \n",
       "4                      NaN         NaN                     NaN         NaN   \n",
       "\n",
       "  SIC6_DESCRIPTIONS(SIC3)  SIC CODE 4 SIC6_DESCRIPTIONS(SIC4)  \\\n",
       "0                     NaN         NaN                     NaN   \n",
       "1                     NaN         NaN                     NaN   \n",
       "2                     NaN         NaN                     NaN   \n",
       "3                     NaN         NaN                     NaN   \n",
       "4                     NaN         NaN                     NaN   \n",
       "\n",
       "   ARCHIVE VERSION YEAR  YELLOW PAGE CODE  EMPLOYEE SIZE (5) - LOCATION  \\\n",
       "0                  2022           21303.0                          13.0   \n",
       "1                  2022               NaN                           6.0   \n",
       "2                  2022           39106.0                           5.0   \n",
       "3                  2022           39106.0                           2.0   \n",
       "4                  2022               NaN                           6.0   \n",
       "\n",
       "   SALES VOLUME (9) - LOCATION  BUSINESS STATUS CODE  \\\n",
       "0                       2482.0                     2   \n",
       "1                       1273.0                     2   \n",
       "2                       1061.0                     9   \n",
       "3                        382.0                     9   \n",
       "4                       1273.0                     2   \n",
       "\n",
       "  INDUSTRY SPECIFIC FIRST BYTE  YEAR ESTABLISHED  OFFICE SIZE CODE  \\\n",
       "0                          NaN               NaN               NaN   \n",
       "1                            W               NaN               NaN   \n",
       "2                          NaN               NaN               NaN   \n",
       "3                          NaN               NaN               NaN   \n",
       "4                            F               NaN               NaN   \n",
       "\n",
       "   COMPANY HOLDING STATUS        ABI  SUBSIDIARY NUMBER  PARENT NUMBER  \\\n",
       "0                     NaN  998372387                NaN    124929449.0   \n",
       "1                     NaN  495660326                NaN      5863311.0   \n",
       "2                     NaN  519605455                NaN            NaN   \n",
       "3                     NaN  817953730                NaN            NaN   \n",
       "4                     NaN  855113817                NaN    450720289.0   \n",
       "\n",
       "   PARENT ACTUAL EMPLOYEE SIZE  PARENT ACTUAL SALES VOLUME  \\\n",
       "0                         50.0                    389500.0   \n",
       "1                        800.0                   1272634.0   \n",
       "2                          NaN                         NaN   \n",
       "3                          NaN                         NaN   \n",
       "4                        650.0                   4981020.0   \n",
       "\n",
       "  PARENT EMPLOYEE SIZE CODE PARENT SALES VOLUME CODE  SITE NUMBER  \\\n",
       "0                         E                        I  998372387.0   \n",
       "1                         H                        K  495660326.0   \n",
       "2                       NaN                      NaN          NaN   \n",
       "3                       NaN                      NaN          NaN   \n",
       "4                         H                        J          NaN   \n",
       "\n",
       "  ADDRESS TYPE INDICATOR  POPULATION CODE  CENSUS TRACT  CENSUS BLOCK  \\\n",
       "0                    NaN                7       11000.0           3.0   \n",
       "1                    NaN                7       11400.0           3.0   \n",
       "2                    NaN                3       10200.0           1.0   \n",
       "3                    NaN                7       10400.0           4.0   \n",
       "4                    NaN                3       10200.0           1.0   \n",
       "\n",
       "    LATITUDE   LONGITUDE MATCH CODE  CBSA CODE  CBSA LEVEL  CSA CODE  \\\n",
       "0  39.594376  -79.954437          P    34060.0         2.0     390.0   \n",
       "1  32.792679 -115.536058          0    20940.0         2.0       0.0   \n",
       "2  33.051800 -115.581800          X    20940.0         2.0       0.0   \n",
       "3  39.652885  -79.986398          P    34060.0         2.0     390.0   \n",
       "4  33.051800 -115.581800          X    20940.0         2.0       0.0   \n",
       "\n",
       "   FIPS CODE  TOP TEN  INDEPENDENT STORE  \n",
       "0    54061.0    False              False  \n",
       "1     6025.0     True              False  \n",
       "2     6025.0    False               True  \n",
       "3    54061.0    False               True  \n",
       "4     6025.0     True              False  "
      ]
     },
     "execution_count": 93,
     "metadata": {},
     "output_type": "execute_result"
    }
   ],
   "source": [
    "\n",
    "\n",
    "\n",
    "grocery_sic[\"TOP TEN\"] = grocery_sic['PARENT NUMBER'].apply(lambda x: '5863311.0' in str(x) or '450720289.0' in str(x) or '5889993.0' in str(x)or '7521503.0' in str(x)or '441412723.0' in str(x) or '5995907.0' in str(x) or '200026573.0' in str(x)or '238136725.0' in str(x)or '714232249.0' in str(x) or '433922353.0' in str(x))\n",
    "\n",
    "\n",
    "\n",
    "\n",
    "grocery_sic.loc[:, \"INDEPENDENT STORE\"] = False\n",
    "grocery_sic.loc[(grocery_sic['PARENT NUMBER'].isna()), 'INDEPENDENT STORE'] = True\n",
    "grocery_sic.head()"
   ]
  },
  {
   "cell_type": "code",
   "execution_count": 94,
   "id": "e19c5791-0431-4c52-a70d-8232cda79f79",
   "metadata": {
    "tags": []
   },
   "outputs": [
    {
     "name": "stderr",
     "output_type": "stream",
     "text": [
      "/tmp/ipykernel_785161/1543423235.py:14: SettingWithCopyWarning: \n",
      "A value is trying to be set on a copy of a slice from a DataFrame.\n",
      "Try using .loc[row_indexer,col_indexer] = value instead\n",
      "\n",
      "See the caveats in the documentation: https://pandas.pydata.org/pandas-docs/stable/user_guide/indexing.html#returning-a-view-versus-a-copy\n",
      "  grocery_sic['STORE TYPE'] = grocery_sic.apply(store_type, axis=1)\n"
     ]
    },
    {
     "data": {
      "text/html": [
       "<div>\n",
       "<style scoped>\n",
       "    .dataframe tbody tr th:only-of-type {\n",
       "        vertical-align: middle;\n",
       "    }\n",
       "\n",
       "    .dataframe tbody tr th {\n",
       "        vertical-align: top;\n",
       "    }\n",
       "\n",
       "    .dataframe thead th {\n",
       "        text-align: right;\n",
       "    }\n",
       "</style>\n",
       "<table border=\"1\" class=\"dataframe\">\n",
       "  <thead>\n",
       "    <tr style=\"text-align: right;\">\n",
       "      <th></th>\n",
       "      <th>COMPANY</th>\n",
       "      <th>ADDRESS LINE 1</th>\n",
       "      <th>CITY</th>\n",
       "      <th>STATE</th>\n",
       "      <th>ZIPCODE</th>\n",
       "      <th>ZIP4</th>\n",
       "      <th>COUNTY CODE</th>\n",
       "      <th>AREA CODE</th>\n",
       "      <th>IDCODE</th>\n",
       "      <th>LOCATION EMPLOYEE SIZE CODE</th>\n",
       "      <th>LOCATION SALES VOLUME CODE</th>\n",
       "      <th>PRIMARY SIC CODE</th>\n",
       "      <th>SIC6_DESCRIPTIONS</th>\n",
       "      <th>PRIMARY NAICS CODE</th>\n",
       "      <th>NAICS8 DESCRIPTIONS</th>\n",
       "      <th>SIC CODE</th>\n",
       "      <th>SIC6_DESCRIPTIONS (SIC)</th>\n",
       "      <th>SIC CODE 1</th>\n",
       "      <th>SIC6_DESCRIPTIONS (SIC1)</th>\n",
       "      <th>SIC CODE 2</th>\n",
       "      <th>SIC6_DESCRIPTIONS(SIC2)</th>\n",
       "      <th>SIC CODE 3</th>\n",
       "      <th>SIC6_DESCRIPTIONS(SIC3)</th>\n",
       "      <th>SIC CODE 4</th>\n",
       "      <th>SIC6_DESCRIPTIONS(SIC4)</th>\n",
       "      <th>ARCHIVE VERSION YEAR</th>\n",
       "      <th>YELLOW PAGE CODE</th>\n",
       "      <th>EMPLOYEE SIZE (5) - LOCATION</th>\n",
       "      <th>SALES VOLUME (9) - LOCATION</th>\n",
       "      <th>BUSINESS STATUS CODE</th>\n",
       "      <th>INDUSTRY SPECIFIC FIRST BYTE</th>\n",
       "      <th>YEAR ESTABLISHED</th>\n",
       "      <th>OFFICE SIZE CODE</th>\n",
       "      <th>COMPANY HOLDING STATUS</th>\n",
       "      <th>ABI</th>\n",
       "      <th>SUBSIDIARY NUMBER</th>\n",
       "      <th>PARENT NUMBER</th>\n",
       "      <th>PARENT ACTUAL EMPLOYEE SIZE</th>\n",
       "      <th>PARENT ACTUAL SALES VOLUME</th>\n",
       "      <th>PARENT EMPLOYEE SIZE CODE</th>\n",
       "      <th>PARENT SALES VOLUME CODE</th>\n",
       "      <th>SITE NUMBER</th>\n",
       "      <th>ADDRESS TYPE INDICATOR</th>\n",
       "      <th>POPULATION CODE</th>\n",
       "      <th>CENSUS TRACT</th>\n",
       "      <th>CENSUS BLOCK</th>\n",
       "      <th>LATITUDE</th>\n",
       "      <th>LONGITUDE</th>\n",
       "      <th>MATCH CODE</th>\n",
       "      <th>CBSA CODE</th>\n",
       "      <th>CBSA LEVEL</th>\n",
       "      <th>CSA CODE</th>\n",
       "      <th>FIPS CODE</th>\n",
       "      <th>TOP TEN</th>\n",
       "      <th>INDEPENDENT STORE</th>\n",
       "      <th>STORE TYPE</th>\n",
       "    </tr>\n",
       "  </thead>\n",
       "  <tbody>\n",
       "    <tr>\n",
       "      <th>0</th>\n",
       "      <td>GOMART</td>\n",
       "      <td>55 POSTAL PLZ</td>\n",
       "      <td>MORGANTOWN</td>\n",
       "      <td>WV</td>\n",
       "      <td>26508</td>\n",
       "      <td>7005.0</td>\n",
       "      <td>61.0</td>\n",
       "      <td>304</td>\n",
       "      <td>2</td>\n",
       "      <td>C</td>\n",
       "      <td>C</td>\n",
       "      <td>541103</td>\n",
       "      <td>CONVENIENCE STORES</td>\n",
       "      <td>44512001.0</td>\n",
       "      <td>CONVENIENCE STORES</td>\n",
       "      <td>554101.0</td>\n",
       "      <td>SERVICE STATIONS-GASOLINE &amp; OIL</td>\n",
       "      <td>554110.0</td>\n",
       "      <td>ALTERNATIVE FUELS</td>\n",
       "      <td>NaN</td>\n",
       "      <td>NaN</td>\n",
       "      <td>NaN</td>\n",
       "      <td>NaN</td>\n",
       "      <td>NaN</td>\n",
       "      <td>NaN</td>\n",
       "      <td>2022</td>\n",
       "      <td>21303.0</td>\n",
       "      <td>13.0</td>\n",
       "      <td>2482.0</td>\n",
       "      <td>2</td>\n",
       "      <td>NaN</td>\n",
       "      <td>NaN</td>\n",
       "      <td>NaN</td>\n",
       "      <td>NaN</td>\n",
       "      <td>998372387</td>\n",
       "      <td>NaN</td>\n",
       "      <td>124929449.0</td>\n",
       "      <td>50.0</td>\n",
       "      <td>389500.0</td>\n",
       "      <td>E</td>\n",
       "      <td>I</td>\n",
       "      <td>998372387.0</td>\n",
       "      <td>NaN</td>\n",
       "      <td>7</td>\n",
       "      <td>11000.0</td>\n",
       "      <td>3.0</td>\n",
       "      <td>39.594376</td>\n",
       "      <td>-79.954437</td>\n",
       "      <td>P</td>\n",
       "      <td>34060.0</td>\n",
       "      <td>2.0</td>\n",
       "      <td>390.0</td>\n",
       "      <td>54061.0</td>\n",
       "      <td>False</td>\n",
       "      <td>False</td>\n",
       "      <td>OTHER</td>\n",
       "    </tr>\n",
       "    <tr>\n",
       "      <th>1</th>\n",
       "      <td>7-ELEVEN</td>\n",
       "      <td>485 E MAIN ST</td>\n",
       "      <td>EL CENTRO</td>\n",
       "      <td>CA</td>\n",
       "      <td>92243</td>\n",
       "      <td>2619.0</td>\n",
       "      <td>25.0</td>\n",
       "      <td>760</td>\n",
       "      <td>2</td>\n",
       "      <td>B</td>\n",
       "      <td>C</td>\n",
       "      <td>541103</td>\n",
       "      <td>CONVENIENCE STORES</td>\n",
       "      <td>44512001.0</td>\n",
       "      <td>CONVENIENCE STORES</td>\n",
       "      <td>554101.0</td>\n",
       "      <td>SERVICE STATIONS-GASOLINE &amp; OIL</td>\n",
       "      <td>NaN</td>\n",
       "      <td>NaN</td>\n",
       "      <td>NaN</td>\n",
       "      <td>NaN</td>\n",
       "      <td>NaN</td>\n",
       "      <td>NaN</td>\n",
       "      <td>NaN</td>\n",
       "      <td>NaN</td>\n",
       "      <td>2022</td>\n",
       "      <td>NaN</td>\n",
       "      <td>6.0</td>\n",
       "      <td>1273.0</td>\n",
       "      <td>2</td>\n",
       "      <td>W</td>\n",
       "      <td>NaN</td>\n",
       "      <td>NaN</td>\n",
       "      <td>NaN</td>\n",
       "      <td>495660326</td>\n",
       "      <td>NaN</td>\n",
       "      <td>5863311.0</td>\n",
       "      <td>800.0</td>\n",
       "      <td>1272634.0</td>\n",
       "      <td>H</td>\n",
       "      <td>K</td>\n",
       "      <td>495660326.0</td>\n",
       "      <td>NaN</td>\n",
       "      <td>7</td>\n",
       "      <td>11400.0</td>\n",
       "      <td>3.0</td>\n",
       "      <td>32.792679</td>\n",
       "      <td>-115.536058</td>\n",
       "      <td>0</td>\n",
       "      <td>20940.0</td>\n",
       "      <td>2.0</td>\n",
       "      <td>0.0</td>\n",
       "      <td>6025.0</td>\n",
       "      <td>True</td>\n",
       "      <td>False</td>\n",
       "      <td>TOP TEN</td>\n",
       "    </tr>\n",
       "    <tr>\n",
       "      <th>2</th>\n",
       "      <td>EL SOL MARKET</td>\n",
       "      <td>110 W MAIN ST</td>\n",
       "      <td>WESTMORLAND</td>\n",
       "      <td>CA</td>\n",
       "      <td>92281</td>\n",
       "      <td>NaN</td>\n",
       "      <td>25.0</td>\n",
       "      <td>760</td>\n",
       "      <td>2</td>\n",
       "      <td>B</td>\n",
       "      <td>C</td>\n",
       "      <td>541105</td>\n",
       "      <td>GROCERS-RETAIL</td>\n",
       "      <td>44511003.0</td>\n",
       "      <td>SUPERMARKETS/OTHER GROCERY (EXC CONVENIENCE) STRS</td>\n",
       "      <td>NaN</td>\n",
       "      <td>NaN</td>\n",
       "      <td>NaN</td>\n",
       "      <td>NaN</td>\n",
       "      <td>NaN</td>\n",
       "      <td>NaN</td>\n",
       "      <td>NaN</td>\n",
       "      <td>NaN</td>\n",
       "      <td>NaN</td>\n",
       "      <td>NaN</td>\n",
       "      <td>2022</td>\n",
       "      <td>39106.0</td>\n",
       "      <td>5.0</td>\n",
       "      <td>1061.0</td>\n",
       "      <td>9</td>\n",
       "      <td>NaN</td>\n",
       "      <td>NaN</td>\n",
       "      <td>NaN</td>\n",
       "      <td>NaN</td>\n",
       "      <td>519605455</td>\n",
       "      <td>NaN</td>\n",
       "      <td>NaN</td>\n",
       "      <td>NaN</td>\n",
       "      <td>NaN</td>\n",
       "      <td>NaN</td>\n",
       "      <td>NaN</td>\n",
       "      <td>NaN</td>\n",
       "      <td>NaN</td>\n",
       "      <td>3</td>\n",
       "      <td>10200.0</td>\n",
       "      <td>1.0</td>\n",
       "      <td>33.051800</td>\n",
       "      <td>-115.581800</td>\n",
       "      <td>X</td>\n",
       "      <td>20940.0</td>\n",
       "      <td>2.0</td>\n",
       "      <td>0.0</td>\n",
       "      <td>6025.0</td>\n",
       "      <td>False</td>\n",
       "      <td>True</td>\n",
       "      <td>INDEPENDENT STORE</td>\n",
       "    </tr>\n",
       "    <tr>\n",
       "      <th>3</th>\n",
       "      <td>COOL SPRINGS GROCERY</td>\n",
       "      <td>241 WILDWOOD ST</td>\n",
       "      <td>MORGANTOWN</td>\n",
       "      <td>WV</td>\n",
       "      <td>26505</td>\n",
       "      <td>3141.0</td>\n",
       "      <td>61.0</td>\n",
       "      <td>304</td>\n",
       "      <td>2</td>\n",
       "      <td>A</td>\n",
       "      <td>A</td>\n",
       "      <td>541105</td>\n",
       "      <td>GROCERS-RETAIL</td>\n",
       "      <td>44511003.0</td>\n",
       "      <td>SUPERMARKETS/OTHER GROCERY (EXC CONVENIENCE) STRS</td>\n",
       "      <td>NaN</td>\n",
       "      <td>NaN</td>\n",
       "      <td>NaN</td>\n",
       "      <td>NaN</td>\n",
       "      <td>NaN</td>\n",
       "      <td>NaN</td>\n",
       "      <td>NaN</td>\n",
       "      <td>NaN</td>\n",
       "      <td>NaN</td>\n",
       "      <td>NaN</td>\n",
       "      <td>2022</td>\n",
       "      <td>39106.0</td>\n",
       "      <td>2.0</td>\n",
       "      <td>382.0</td>\n",
       "      <td>9</td>\n",
       "      <td>NaN</td>\n",
       "      <td>NaN</td>\n",
       "      <td>NaN</td>\n",
       "      <td>NaN</td>\n",
       "      <td>817953730</td>\n",
       "      <td>NaN</td>\n",
       "      <td>NaN</td>\n",
       "      <td>NaN</td>\n",
       "      <td>NaN</td>\n",
       "      <td>NaN</td>\n",
       "      <td>NaN</td>\n",
       "      <td>NaN</td>\n",
       "      <td>NaN</td>\n",
       "      <td>7</td>\n",
       "      <td>10400.0</td>\n",
       "      <td>4.0</td>\n",
       "      <td>39.652885</td>\n",
       "      <td>-79.986398</td>\n",
       "      <td>P</td>\n",
       "      <td>34060.0</td>\n",
       "      <td>2.0</td>\n",
       "      <td>390.0</td>\n",
       "      <td>54061.0</td>\n",
       "      <td>False</td>\n",
       "      <td>True</td>\n",
       "      <td>INDEPENDENT STORE</td>\n",
       "    </tr>\n",
       "    <tr>\n",
       "      <th>4</th>\n",
       "      <td>CIRCLE K</td>\n",
       "      <td>123 E MAIN ST</td>\n",
       "      <td>WESTMORLAND</td>\n",
       "      <td>CA</td>\n",
       "      <td>92281</td>\n",
       "      <td>NaN</td>\n",
       "      <td>25.0</td>\n",
       "      <td>760</td>\n",
       "      <td>2</td>\n",
       "      <td>B</td>\n",
       "      <td>C</td>\n",
       "      <td>541103</td>\n",
       "      <td>CONVENIENCE STORES</td>\n",
       "      <td>44512001.0</td>\n",
       "      <td>CONVENIENCE STORES</td>\n",
       "      <td>554101.0</td>\n",
       "      <td>SERVICE STATIONS-GASOLINE &amp; OIL</td>\n",
       "      <td>NaN</td>\n",
       "      <td>NaN</td>\n",
       "      <td>NaN</td>\n",
       "      <td>NaN</td>\n",
       "      <td>NaN</td>\n",
       "      <td>NaN</td>\n",
       "      <td>NaN</td>\n",
       "      <td>NaN</td>\n",
       "      <td>2022</td>\n",
       "      <td>NaN</td>\n",
       "      <td>6.0</td>\n",
       "      <td>1273.0</td>\n",
       "      <td>2</td>\n",
       "      <td>F</td>\n",
       "      <td>NaN</td>\n",
       "      <td>NaN</td>\n",
       "      <td>NaN</td>\n",
       "      <td>855113817</td>\n",
       "      <td>NaN</td>\n",
       "      <td>450720289.0</td>\n",
       "      <td>650.0</td>\n",
       "      <td>4981020.0</td>\n",
       "      <td>H</td>\n",
       "      <td>J</td>\n",
       "      <td>NaN</td>\n",
       "      <td>NaN</td>\n",
       "      <td>3</td>\n",
       "      <td>10200.0</td>\n",
       "      <td>1.0</td>\n",
       "      <td>33.051800</td>\n",
       "      <td>-115.581800</td>\n",
       "      <td>X</td>\n",
       "      <td>20940.0</td>\n",
       "      <td>2.0</td>\n",
       "      <td>0.0</td>\n",
       "      <td>6025.0</td>\n",
       "      <td>True</td>\n",
       "      <td>False</td>\n",
       "      <td>TOP TEN</td>\n",
       "    </tr>\n",
       "  </tbody>\n",
       "</table>\n",
       "</div>"
      ],
      "text/plain": [
       "                COMPANY   ADDRESS LINE 1         CITY STATE  ZIPCODE    ZIP4  \\\n",
       "0                GOMART    55 POSTAL PLZ   MORGANTOWN    WV    26508  7005.0   \n",
       "1              7-ELEVEN    485 E MAIN ST    EL CENTRO    CA    92243  2619.0   \n",
       "2         EL SOL MARKET    110 W MAIN ST  WESTMORLAND    CA    92281     NaN   \n",
       "3  COOL SPRINGS GROCERY  241 WILDWOOD ST   MORGANTOWN    WV    26505  3141.0   \n",
       "4              CIRCLE K    123 E MAIN ST  WESTMORLAND    CA    92281     NaN   \n",
       "\n",
       "   COUNTY CODE  AREA CODE  IDCODE LOCATION EMPLOYEE SIZE CODE  \\\n",
       "0         61.0        304       2                           C   \n",
       "1         25.0        760       2                           B   \n",
       "2         25.0        760       2                           B   \n",
       "3         61.0        304       2                           A   \n",
       "4         25.0        760       2                           B   \n",
       "\n",
       "  LOCATION SALES VOLUME CODE  PRIMARY SIC CODE   SIC6_DESCRIPTIONS  \\\n",
       "0                          C            541103  CONVENIENCE STORES   \n",
       "1                          C            541103  CONVENIENCE STORES   \n",
       "2                          C            541105      GROCERS-RETAIL   \n",
       "3                          A            541105      GROCERS-RETAIL   \n",
       "4                          C            541103  CONVENIENCE STORES   \n",
       "\n",
       "   PRIMARY NAICS CODE                                NAICS8 DESCRIPTIONS  \\\n",
       "0          44512001.0                                 CONVENIENCE STORES   \n",
       "1          44512001.0                                 CONVENIENCE STORES   \n",
       "2          44511003.0  SUPERMARKETS/OTHER GROCERY (EXC CONVENIENCE) STRS   \n",
       "3          44511003.0  SUPERMARKETS/OTHER GROCERY (EXC CONVENIENCE) STRS   \n",
       "4          44512001.0                                 CONVENIENCE STORES   \n",
       "\n",
       "   SIC CODE          SIC6_DESCRIPTIONS (SIC)  SIC CODE 1  \\\n",
       "0  554101.0  SERVICE STATIONS-GASOLINE & OIL    554110.0   \n",
       "1  554101.0  SERVICE STATIONS-GASOLINE & OIL         NaN   \n",
       "2       NaN                              NaN         NaN   \n",
       "3       NaN                              NaN         NaN   \n",
       "4  554101.0  SERVICE STATIONS-GASOLINE & OIL         NaN   \n",
       "\n",
       "  SIC6_DESCRIPTIONS (SIC1)  SIC CODE 2 SIC6_DESCRIPTIONS(SIC2)  SIC CODE 3  \\\n",
       "0        ALTERNATIVE FUELS         NaN                     NaN         NaN   \n",
       "1                      NaN         NaN                     NaN         NaN   \n",
       "2                      NaN         NaN                     NaN         NaN   \n",
       "3                      NaN         NaN                     NaN         NaN   \n",
       "4                      NaN         NaN                     NaN         NaN   \n",
       "\n",
       "  SIC6_DESCRIPTIONS(SIC3)  SIC CODE 4 SIC6_DESCRIPTIONS(SIC4)  \\\n",
       "0                     NaN         NaN                     NaN   \n",
       "1                     NaN         NaN                     NaN   \n",
       "2                     NaN         NaN                     NaN   \n",
       "3                     NaN         NaN                     NaN   \n",
       "4                     NaN         NaN                     NaN   \n",
       "\n",
       "   ARCHIVE VERSION YEAR  YELLOW PAGE CODE  EMPLOYEE SIZE (5) - LOCATION  \\\n",
       "0                  2022           21303.0                          13.0   \n",
       "1                  2022               NaN                           6.0   \n",
       "2                  2022           39106.0                           5.0   \n",
       "3                  2022           39106.0                           2.0   \n",
       "4                  2022               NaN                           6.0   \n",
       "\n",
       "   SALES VOLUME (9) - LOCATION  BUSINESS STATUS CODE  \\\n",
       "0                       2482.0                     2   \n",
       "1                       1273.0                     2   \n",
       "2                       1061.0                     9   \n",
       "3                        382.0                     9   \n",
       "4                       1273.0                     2   \n",
       "\n",
       "  INDUSTRY SPECIFIC FIRST BYTE  YEAR ESTABLISHED  OFFICE SIZE CODE  \\\n",
       "0                          NaN               NaN               NaN   \n",
       "1                            W               NaN               NaN   \n",
       "2                          NaN               NaN               NaN   \n",
       "3                          NaN               NaN               NaN   \n",
       "4                            F               NaN               NaN   \n",
       "\n",
       "   COMPANY HOLDING STATUS        ABI  SUBSIDIARY NUMBER  PARENT NUMBER  \\\n",
       "0                     NaN  998372387                NaN    124929449.0   \n",
       "1                     NaN  495660326                NaN      5863311.0   \n",
       "2                     NaN  519605455                NaN            NaN   \n",
       "3                     NaN  817953730                NaN            NaN   \n",
       "4                     NaN  855113817                NaN    450720289.0   \n",
       "\n",
       "   PARENT ACTUAL EMPLOYEE SIZE  PARENT ACTUAL SALES VOLUME  \\\n",
       "0                         50.0                    389500.0   \n",
       "1                        800.0                   1272634.0   \n",
       "2                          NaN                         NaN   \n",
       "3                          NaN                         NaN   \n",
       "4                        650.0                   4981020.0   \n",
       "\n",
       "  PARENT EMPLOYEE SIZE CODE PARENT SALES VOLUME CODE  SITE NUMBER  \\\n",
       "0                         E                        I  998372387.0   \n",
       "1                         H                        K  495660326.0   \n",
       "2                       NaN                      NaN          NaN   \n",
       "3                       NaN                      NaN          NaN   \n",
       "4                         H                        J          NaN   \n",
       "\n",
       "  ADDRESS TYPE INDICATOR  POPULATION CODE  CENSUS TRACT  CENSUS BLOCK  \\\n",
       "0                    NaN                7       11000.0           3.0   \n",
       "1                    NaN                7       11400.0           3.0   \n",
       "2                    NaN                3       10200.0           1.0   \n",
       "3                    NaN                7       10400.0           4.0   \n",
       "4                    NaN                3       10200.0           1.0   \n",
       "\n",
       "    LATITUDE   LONGITUDE MATCH CODE  CBSA CODE  CBSA LEVEL  CSA CODE  \\\n",
       "0  39.594376  -79.954437          P    34060.0         2.0     390.0   \n",
       "1  32.792679 -115.536058          0    20940.0         2.0       0.0   \n",
       "2  33.051800 -115.581800          X    20940.0         2.0       0.0   \n",
       "3  39.652885  -79.986398          P    34060.0         2.0     390.0   \n",
       "4  33.051800 -115.581800          X    20940.0         2.0       0.0   \n",
       "\n",
       "   FIPS CODE  TOP TEN  INDEPENDENT STORE         STORE TYPE  \n",
       "0    54061.0    False              False              OTHER  \n",
       "1     6025.0     True              False            TOP TEN  \n",
       "2     6025.0    False               True  INDEPENDENT STORE  \n",
       "3    54061.0    False               True  INDEPENDENT STORE  \n",
       "4     6025.0     True              False            TOP TEN  "
      ]
     },
     "execution_count": 94,
     "metadata": {},
     "output_type": "execute_result"
    }
   ],
   "source": [
    "def store_type(row):\n",
    "    '''Based on the country T10 parent number's assigns each company to the group TOP TEN, INDEPENDENT STORE, or OTHER'''\n",
    "    top_ten = [5863311.0, 450720289.0, 5889993.0, 7521503.0, 441412723.0, 5995907.0, 200026573.0, 238136725.0, 714232249.0, 433922353.0]\n",
    "    \n",
    "    parent_num = row['PARENT NUMBER']  \n",
    "    \n",
    "    if parent_num in top_ten:\n",
    "        return 'TOP TEN'\n",
    "    if math.isnan(parent_num):\n",
    "        return 'INDEPENDENT STORE'\n",
    "    \n",
    "    return 'OTHER'\n",
    "\n",
    "grocery_sic['STORE TYPE'] = grocery_sic.apply(store_type, axis=1)\n",
    "grocery_sic.head()"
   ]
  },
  {
   "cell_type": "code",
   "execution_count": 52,
   "id": "180ed5a8-aaf5-40e0-8518-d69fba4ac956",
   "metadata": {
    "tags": []
   },
   "outputs": [],
   "source": [
    "country_independent = grocery_sic.loc[grocery_sic[\"STORE TYPE\"] == \"INDEPENDENT STORE\", :]\n",
    "country_independent_sorted = country_independent.sort_values(by=['EMPLOYEE SIZE (5) - LOCATION'], ascending=False)\n",
    "country_independent50 = country_independent_sorted.iloc[:50, :]"
   ]
  },
  {
   "cell_type": "code",
   "execution_count": 53,
   "id": "08639a07-3e59-420d-8018-0cffb98c05fe",
   "metadata": {
    "tags": []
   },
   "outputs": [
    {
     "data": {
      "text/plain": [
       "141700                 LA RAZA MARKET\n",
       "43408             AFFILIATEDFOODS INC\n",
       "4854      GENUARDI'S FAMILY MARKET LP\n",
       "40083                    SSP PARTNERS\n",
       "170019       ZABAR'S GOURMET CATERING\n",
       "Name: COMPANY, dtype: object"
      ]
     },
     "execution_count": 53,
     "metadata": {},
     "output_type": "execute_result"
    }
   ],
   "source": [
    "top50 = country_independent50[\"COMPANY\"]\n",
    "top50.head()"
   ]
  },
  {
   "cell_type": "code",
   "execution_count": 58,
   "id": "3e9cae38-70e4-4df4-b701-99a2c4c21087",
   "metadata": {
    "tags": []
   },
   "outputs": [
    {
     "data": {
      "text/plain": [
       "[(\"GENUARDI'S FAMILY MARKET LP\", 86, 4854),\n",
       " (\"ZABAR'S GOURMET CATERING\", 86, 170019),\n",
       " (\"YODER'S COUNTRY MARKET\", 86, 19557),\n",
       " (\"SKOGEN'S FOODLINER INC\", 86, 26142),\n",
       " (\"WOODMAN'S FOOD MARKET INC\", 86, 109228),\n",
       " (\"ECKERT'S BELLEVILLE COUNTRY\", 86, 24242),\n",
       " (\"HEINEN'S\", 86, 109334),\n",
       " (\"DICK'S FRESH MARKET\", 86, 183735),\n",
       " (\"JERRY'S SUPERMARKETS INC\", 86, 199219),\n",
       " ('GROCERY SUPPLY CO SE DIV', 43, 71574)]"
      ]
     },
     "execution_count": 58,
     "metadata": {},
     "output_type": "execute_result"
    }
   ],
   "source": [
    "process.extract(\"Murphy's USA\", top50, limit=10)\n",
    "#citgo"
   ]
  },
  {
   "cell_type": "markdown",
   "id": "0ee30e2a-4c18-442d-b7e6-737f5b4558b2",
   "metadata": {},
   "source": [
    "## Plotting TOP 3 IN ILL"
   ]
  },
  {
   "cell_type": "code",
   "execution_count": 106,
   "id": "75881336-05e9-4b38-83ec-5640addc043e",
   "metadata": {
    "tags": []
   },
   "outputs": [
    {
     "data": {
      "text/html": [
       "<div>\n",
       "<style scoped>\n",
       "    .dataframe tbody tr th:only-of-type {\n",
       "        vertical-align: middle;\n",
       "    }\n",
       "\n",
       "    .dataframe tbody tr th {\n",
       "        vertical-align: top;\n",
       "    }\n",
       "\n",
       "    .dataframe thead th {\n",
       "        text-align: right;\n",
       "    }\n",
       "</style>\n",
       "<table border=\"1\" class=\"dataframe\">\n",
       "  <thead>\n",
       "    <tr style=\"text-align: right;\">\n",
       "      <th></th>\n",
       "      <th>COMPANY</th>\n",
       "      <th>ADDRESS LINE 1</th>\n",
       "      <th>CITY</th>\n",
       "      <th>STATE</th>\n",
       "      <th>ZIPCODE</th>\n",
       "      <th>ZIP4</th>\n",
       "      <th>COUNTY CODE</th>\n",
       "      <th>AREA CODE</th>\n",
       "      <th>IDCODE</th>\n",
       "      <th>LOCATION EMPLOYEE SIZE CODE</th>\n",
       "      <th>LOCATION SALES VOLUME CODE</th>\n",
       "      <th>PRIMARY SIC CODE</th>\n",
       "      <th>SIC6_DESCRIPTIONS</th>\n",
       "      <th>PRIMARY NAICS CODE</th>\n",
       "      <th>NAICS8 DESCRIPTIONS</th>\n",
       "      <th>SIC CODE</th>\n",
       "      <th>SIC6_DESCRIPTIONS (SIC)</th>\n",
       "      <th>SIC CODE 1</th>\n",
       "      <th>SIC6_DESCRIPTIONS (SIC1)</th>\n",
       "      <th>SIC CODE 2</th>\n",
       "      <th>SIC6_DESCRIPTIONS(SIC2)</th>\n",
       "      <th>SIC CODE 3</th>\n",
       "      <th>SIC6_DESCRIPTIONS(SIC3)</th>\n",
       "      <th>SIC CODE 4</th>\n",
       "      <th>SIC6_DESCRIPTIONS(SIC4)</th>\n",
       "      <th>ARCHIVE VERSION YEAR</th>\n",
       "      <th>YELLOW PAGE CODE</th>\n",
       "      <th>EMPLOYEE SIZE (5) - LOCATION</th>\n",
       "      <th>SALES VOLUME (9) - LOCATION</th>\n",
       "      <th>BUSINESS STATUS CODE</th>\n",
       "      <th>INDUSTRY SPECIFIC FIRST BYTE</th>\n",
       "      <th>YEAR ESTABLISHED</th>\n",
       "      <th>OFFICE SIZE CODE</th>\n",
       "      <th>COMPANY HOLDING STATUS</th>\n",
       "      <th>ABI</th>\n",
       "      <th>SUBSIDIARY NUMBER</th>\n",
       "      <th>PARENT NUMBER</th>\n",
       "      <th>PARENT ACTUAL EMPLOYEE SIZE</th>\n",
       "      <th>PARENT ACTUAL SALES VOLUME</th>\n",
       "      <th>PARENT EMPLOYEE SIZE CODE</th>\n",
       "      <th>PARENT SALES VOLUME CODE</th>\n",
       "      <th>SITE NUMBER</th>\n",
       "      <th>ADDRESS TYPE INDICATOR</th>\n",
       "      <th>POPULATION CODE</th>\n",
       "      <th>CENSUS TRACT</th>\n",
       "      <th>CENSUS BLOCK</th>\n",
       "      <th>LATITUDE</th>\n",
       "      <th>LONGITUDE</th>\n",
       "      <th>MATCH CODE</th>\n",
       "      <th>CBSA CODE</th>\n",
       "      <th>CBSA LEVEL</th>\n",
       "      <th>CSA CODE</th>\n",
       "      <th>FIPS CODE</th>\n",
       "      <th>TOP TEN</th>\n",
       "      <th>INDEPENDENT STORE</th>\n",
       "      <th>STORE TYPE</th>\n",
       "    </tr>\n",
       "  </thead>\n",
       "  <tbody>\n",
       "    <tr>\n",
       "      <th>86</th>\n",
       "      <td>CIRCLE K</td>\n",
       "      <td>290 MAIN ST</td>\n",
       "      <td>MARSEILLES</td>\n",
       "      <td>IL</td>\n",
       "      <td>61341</td>\n",
       "      <td>NaN</td>\n",
       "      <td>99.0</td>\n",
       "      <td>815</td>\n",
       "      <td>2</td>\n",
       "      <td>C</td>\n",
       "      <td>C</td>\n",
       "      <td>541103</td>\n",
       "      <td>CONVENIENCE STORES</td>\n",
       "      <td>44512001.0</td>\n",
       "      <td>CONVENIENCE STORES</td>\n",
       "      <td>554101.0</td>\n",
       "      <td>SERVICE STATIONS-GASOLINE &amp; OIL</td>\n",
       "      <td>554110.0</td>\n",
       "      <td>ALTERNATIVE FUELS</td>\n",
       "      <td>NaN</td>\n",
       "      <td>NaN</td>\n",
       "      <td>NaN</td>\n",
       "      <td>NaN</td>\n",
       "      <td>NaN</td>\n",
       "      <td>NaN</td>\n",
       "      <td>2022</td>\n",
       "      <td>21303.0</td>\n",
       "      <td>11.0</td>\n",
       "      <td>2225.0</td>\n",
       "      <td>2</td>\n",
       "      <td>F</td>\n",
       "      <td>NaN</td>\n",
       "      <td>NaN</td>\n",
       "      <td>NaN</td>\n",
       "      <td>312709629</td>\n",
       "      <td>NaN</td>\n",
       "      <td>450720289.0</td>\n",
       "      <td>650.0</td>\n",
       "      <td>4981020.0</td>\n",
       "      <td>H</td>\n",
       "      <td>J</td>\n",
       "      <td>NaN</td>\n",
       "      <td>NaN</td>\n",
       "      <td>5</td>\n",
       "      <td>962400.0</td>\n",
       "      <td>2.0</td>\n",
       "      <td>41.333000</td>\n",
       "      <td>-88.701000</td>\n",
       "      <td>X</td>\n",
       "      <td>36837.0</td>\n",
       "      <td>1.0</td>\n",
       "      <td>176.0</td>\n",
       "      <td>17099.0</td>\n",
       "      <td>True</td>\n",
       "      <td>False</td>\n",
       "      <td>TOP TEN</td>\n",
       "    </tr>\n",
       "    <tr>\n",
       "      <th>441</th>\n",
       "      <td>CASEY'S</td>\n",
       "      <td>317 S PINE ST</td>\n",
       "      <td>BUDA</td>\n",
       "      <td>IL</td>\n",
       "      <td>61314</td>\n",
       "      <td>9386.0</td>\n",
       "      <td>11.0</td>\n",
       "      <td>309</td>\n",
       "      <td>2</td>\n",
       "      <td>B</td>\n",
       "      <td>C</td>\n",
       "      <td>541103</td>\n",
       "      <td>CONVENIENCE STORES</td>\n",
       "      <td>44512001.0</td>\n",
       "      <td>CONVENIENCE STORES</td>\n",
       "      <td>581222.0</td>\n",
       "      <td>PIZZA</td>\n",
       "      <td>554101.0</td>\n",
       "      <td>SERVICE STATIONS-GASOLINE &amp; OIL</td>\n",
       "      <td>NaN</td>\n",
       "      <td>NaN</td>\n",
       "      <td>NaN</td>\n",
       "      <td>NaN</td>\n",
       "      <td>NaN</td>\n",
       "      <td>NaN</td>\n",
       "      <td>2022</td>\n",
       "      <td>21303.0</td>\n",
       "      <td>7.0</td>\n",
       "      <td>2011.0</td>\n",
       "      <td>2</td>\n",
       "      <td>9</td>\n",
       "      <td>NaN</td>\n",
       "      <td>NaN</td>\n",
       "      <td>NaN</td>\n",
       "      <td>402791834</td>\n",
       "      <td>398553685.0</td>\n",
       "      <td>441412723.0</td>\n",
       "      <td>400.0</td>\n",
       "      <td>12952594.0</td>\n",
       "      <td>G</td>\n",
       "      <td>H</td>\n",
       "      <td>NaN</td>\n",
       "      <td>NaN</td>\n",
       "      <td>2</td>\n",
       "      <td>965600.0</td>\n",
       "      <td>4.0</td>\n",
       "      <td>41.323881</td>\n",
       "      <td>-89.683015</td>\n",
       "      <td>P</td>\n",
       "      <td>36837.0</td>\n",
       "      <td>1.0</td>\n",
       "      <td>176.0</td>\n",
       "      <td>17011.0</td>\n",
       "      <td>True</td>\n",
       "      <td>False</td>\n",
       "      <td>TOP TEN</td>\n",
       "    </tr>\n",
       "    <tr>\n",
       "      <th>590</th>\n",
       "      <td>CIRCLE K</td>\n",
       "      <td>1727 N BLOOMINGTON ST</td>\n",
       "      <td>STREATOR</td>\n",
       "      <td>IL</td>\n",
       "      <td>61364</td>\n",
       "      <td>1315.0</td>\n",
       "      <td>99.0</td>\n",
       "      <td>815</td>\n",
       "      <td>2</td>\n",
       "      <td>C</td>\n",
       "      <td>C</td>\n",
       "      <td>541103</td>\n",
       "      <td>CONVENIENCE STORES</td>\n",
       "      <td>44512001.0</td>\n",
       "      <td>CONVENIENCE STORES</td>\n",
       "      <td>554101.0</td>\n",
       "      <td>SERVICE STATIONS-GASOLINE &amp; OIL</td>\n",
       "      <td>NaN</td>\n",
       "      <td>NaN</td>\n",
       "      <td>NaN</td>\n",
       "      <td>NaN</td>\n",
       "      <td>NaN</td>\n",
       "      <td>NaN</td>\n",
       "      <td>NaN</td>\n",
       "      <td>NaN</td>\n",
       "      <td>2022</td>\n",
       "      <td>21303.0</td>\n",
       "      <td>11.0</td>\n",
       "      <td>2023.0</td>\n",
       "      <td>2</td>\n",
       "      <td>F</td>\n",
       "      <td>NaN</td>\n",
       "      <td>NaN</td>\n",
       "      <td>NaN</td>\n",
       "      <td>211116660</td>\n",
       "      <td>NaN</td>\n",
       "      <td>450720289.0</td>\n",
       "      <td>650.0</td>\n",
       "      <td>4981020.0</td>\n",
       "      <td>H</td>\n",
       "      <td>J</td>\n",
       "      <td>NaN</td>\n",
       "      <td>NaN</td>\n",
       "      <td>7</td>\n",
       "      <td>963800.0</td>\n",
       "      <td>1.0</td>\n",
       "      <td>41.141578</td>\n",
       "      <td>-88.835061</td>\n",
       "      <td>P</td>\n",
       "      <td>36837.0</td>\n",
       "      <td>1.0</td>\n",
       "      <td>176.0</td>\n",
       "      <td>17099.0</td>\n",
       "      <td>True</td>\n",
       "      <td>False</td>\n",
       "      <td>TOP TEN</td>\n",
       "    </tr>\n",
       "    <tr>\n",
       "      <th>794</th>\n",
       "      <td>CASEY'S</td>\n",
       "      <td>1327 5TH ST</td>\n",
       "      <td>LA SALLE</td>\n",
       "      <td>IL</td>\n",
       "      <td>61301</td>\n",
       "      <td>2243.0</td>\n",
       "      <td>99.0</td>\n",
       "      <td>815</td>\n",
       "      <td>2</td>\n",
       "      <td>C</td>\n",
       "      <td>D</td>\n",
       "      <td>541103</td>\n",
       "      <td>CONVENIENCE STORES</td>\n",
       "      <td>44512001.0</td>\n",
       "      <td>CONVENIENCE STORES</td>\n",
       "      <td>554101.0</td>\n",
       "      <td>SERVICE STATIONS-GASOLINE &amp; OIL</td>\n",
       "      <td>581222.0</td>\n",
       "      <td>PIZZA</td>\n",
       "      <td>554110.0</td>\n",
       "      <td>ALTERNATIVE FUELS</td>\n",
       "      <td>NaN</td>\n",
       "      <td>NaN</td>\n",
       "      <td>NaN</td>\n",
       "      <td>NaN</td>\n",
       "      <td>2022</td>\n",
       "      <td>21303.0</td>\n",
       "      <td>13.0</td>\n",
       "      <td>2630.0</td>\n",
       "      <td>2</td>\n",
       "      <td>9</td>\n",
       "      <td>NaN</td>\n",
       "      <td>NaN</td>\n",
       "      <td>NaN</td>\n",
       "      <td>403032444</td>\n",
       "      <td>398553685.0</td>\n",
       "      <td>441412723.0</td>\n",
       "      <td>400.0</td>\n",
       "      <td>12952594.0</td>\n",
       "      <td>G</td>\n",
       "      <td>H</td>\n",
       "      <td>NaN</td>\n",
       "      <td>NaN</td>\n",
       "      <td>6</td>\n",
       "      <td>962100.0</td>\n",
       "      <td>3.0</td>\n",
       "      <td>41.333387</td>\n",
       "      <td>-89.087419</td>\n",
       "      <td>P</td>\n",
       "      <td>36837.0</td>\n",
       "      <td>1.0</td>\n",
       "      <td>176.0</td>\n",
       "      <td>17099.0</td>\n",
       "      <td>True</td>\n",
       "      <td>False</td>\n",
       "      <td>TOP TEN</td>\n",
       "    </tr>\n",
       "    <tr>\n",
       "      <th>818</th>\n",
       "      <td>CASEY'S</td>\n",
       "      <td>225 N MAIN ST</td>\n",
       "      <td>SENECA</td>\n",
       "      <td>IL</td>\n",
       "      <td>61360</td>\n",
       "      <td>NaN</td>\n",
       "      <td>99.0</td>\n",
       "      <td>815</td>\n",
       "      <td>2</td>\n",
       "      <td>D</td>\n",
       "      <td>D</td>\n",
       "      <td>541103</td>\n",
       "      <td>CONVENIENCE STORES</td>\n",
       "      <td>44512001.0</td>\n",
       "      <td>CONVENIENCE STORES</td>\n",
       "      <td>581222.0</td>\n",
       "      <td>PIZZA</td>\n",
       "      <td>554101.0</td>\n",
       "      <td>SERVICE STATIONS-GASOLINE &amp; OIL</td>\n",
       "      <td>554110.0</td>\n",
       "      <td>ALTERNATIVE FUELS</td>\n",
       "      <td>NaN</td>\n",
       "      <td>NaN</td>\n",
       "      <td>NaN</td>\n",
       "      <td>NaN</td>\n",
       "      <td>2022</td>\n",
       "      <td>21303.0</td>\n",
       "      <td>27.0</td>\n",
       "      <td>4032.0</td>\n",
       "      <td>2</td>\n",
       "      <td>9</td>\n",
       "      <td>NaN</td>\n",
       "      <td>NaN</td>\n",
       "      <td>NaN</td>\n",
       "      <td>472944081</td>\n",
       "      <td>398553685.0</td>\n",
       "      <td>441412723.0</td>\n",
       "      <td>400.0</td>\n",
       "      <td>12952594.0</td>\n",
       "      <td>G</td>\n",
       "      <td>H</td>\n",
       "      <td>NaN</td>\n",
       "      <td>NaN</td>\n",
       "      <td>4</td>\n",
       "      <td>962400.0</td>\n",
       "      <td>3.0</td>\n",
       "      <td>41.315000</td>\n",
       "      <td>-88.602000</td>\n",
       "      <td>X</td>\n",
       "      <td>36837.0</td>\n",
       "      <td>1.0</td>\n",
       "      <td>176.0</td>\n",
       "      <td>17099.0</td>\n",
       "      <td>True</td>\n",
       "      <td>False</td>\n",
       "      <td>TOP TEN</td>\n",
       "    </tr>\n",
       "    <tr>\n",
       "      <th>...</th>\n",
       "      <td>...</td>\n",
       "      <td>...</td>\n",
       "      <td>...</td>\n",
       "      <td>...</td>\n",
       "      <td>...</td>\n",
       "      <td>...</td>\n",
       "      <td>...</td>\n",
       "      <td>...</td>\n",
       "      <td>...</td>\n",
       "      <td>...</td>\n",
       "      <td>...</td>\n",
       "      <td>...</td>\n",
       "      <td>...</td>\n",
       "      <td>...</td>\n",
       "      <td>...</td>\n",
       "      <td>...</td>\n",
       "      <td>...</td>\n",
       "      <td>...</td>\n",
       "      <td>...</td>\n",
       "      <td>...</td>\n",
       "      <td>...</td>\n",
       "      <td>...</td>\n",
       "      <td>...</td>\n",
       "      <td>...</td>\n",
       "      <td>...</td>\n",
       "      <td>...</td>\n",
       "      <td>...</td>\n",
       "      <td>...</td>\n",
       "      <td>...</td>\n",
       "      <td>...</td>\n",
       "      <td>...</td>\n",
       "      <td>...</td>\n",
       "      <td>...</td>\n",
       "      <td>...</td>\n",
       "      <td>...</td>\n",
       "      <td>...</td>\n",
       "      <td>...</td>\n",
       "      <td>...</td>\n",
       "      <td>...</td>\n",
       "      <td>...</td>\n",
       "      <td>...</td>\n",
       "      <td>...</td>\n",
       "      <td>...</td>\n",
       "      <td>...</td>\n",
       "      <td>...</td>\n",
       "      <td>...</td>\n",
       "      <td>...</td>\n",
       "      <td>...</td>\n",
       "      <td>...</td>\n",
       "      <td>...</td>\n",
       "      <td>...</td>\n",
       "      <td>...</td>\n",
       "      <td>...</td>\n",
       "      <td>...</td>\n",
       "      <td>...</td>\n",
       "      <td>...</td>\n",
       "    </tr>\n",
       "    <tr>\n",
       "      <th>202206</th>\n",
       "      <td>CIRCLE K</td>\n",
       "      <td>5500 S PULASKI RD</td>\n",
       "      <td>CHICAGO</td>\n",
       "      <td>IL</td>\n",
       "      <td>60629</td>\n",
       "      <td>4418.0</td>\n",
       "      <td>31.0</td>\n",
       "      <td>773</td>\n",
       "      <td>2</td>\n",
       "      <td>B</td>\n",
       "      <td>C</td>\n",
       "      <td>541103</td>\n",
       "      <td>CONVENIENCE STORES</td>\n",
       "      <td>44512001.0</td>\n",
       "      <td>CONVENIENCE STORES</td>\n",
       "      <td>NaN</td>\n",
       "      <td>NaN</td>\n",
       "      <td>NaN</td>\n",
       "      <td>NaN</td>\n",
       "      <td>NaN</td>\n",
       "      <td>NaN</td>\n",
       "      <td>NaN</td>\n",
       "      <td>NaN</td>\n",
       "      <td>NaN</td>\n",
       "      <td>NaN</td>\n",
       "      <td>2022</td>\n",
       "      <td>NaN</td>\n",
       "      <td>8.0</td>\n",
       "      <td>2045.0</td>\n",
       "      <td>2</td>\n",
       "      <td>F</td>\n",
       "      <td>NaN</td>\n",
       "      <td>NaN</td>\n",
       "      <td>NaN</td>\n",
       "      <td>705232234</td>\n",
       "      <td>NaN</td>\n",
       "      <td>450720289.0</td>\n",
       "      <td>650.0</td>\n",
       "      <td>4981020.0</td>\n",
       "      <td>H</td>\n",
       "      <td>J</td>\n",
       "      <td>NaN</td>\n",
       "      <td>NaN</td>\n",
       "      <td>8</td>\n",
       "      <td>620300.0</td>\n",
       "      <td>1.0</td>\n",
       "      <td>41.793083</td>\n",
       "      <td>-87.723547</td>\n",
       "      <td>P</td>\n",
       "      <td>16980.0</td>\n",
       "      <td>2.0</td>\n",
       "      <td>176.0</td>\n",
       "      <td>17031.0</td>\n",
       "      <td>True</td>\n",
       "      <td>False</td>\n",
       "      <td>TOP TEN</td>\n",
       "    </tr>\n",
       "    <tr>\n",
       "      <th>202290</th>\n",
       "      <td>CIRCLE K</td>\n",
       "      <td>300 S DIXIE HWY</td>\n",
       "      <td>ST ANNE</td>\n",
       "      <td>IL</td>\n",
       "      <td>60964</td>\n",
       "      <td>NaN</td>\n",
       "      <td>91.0</td>\n",
       "      <td>815</td>\n",
       "      <td>2</td>\n",
       "      <td>B</td>\n",
       "      <td>C</td>\n",
       "      <td>541103</td>\n",
       "      <td>CONVENIENCE STORES</td>\n",
       "      <td>44512001.0</td>\n",
       "      <td>CONVENIENCE STORES</td>\n",
       "      <td>554101.0</td>\n",
       "      <td>SERVICE STATIONS-GASOLINE &amp; OIL</td>\n",
       "      <td>NaN</td>\n",
       "      <td>NaN</td>\n",
       "      <td>NaN</td>\n",
       "      <td>NaN</td>\n",
       "      <td>NaN</td>\n",
       "      <td>NaN</td>\n",
       "      <td>NaN</td>\n",
       "      <td>NaN</td>\n",
       "      <td>2022</td>\n",
       "      <td>21303.0</td>\n",
       "      <td>7.0</td>\n",
       "      <td>1855.0</td>\n",
       "      <td>2</td>\n",
       "      <td>F</td>\n",
       "      <td>NaN</td>\n",
       "      <td>NaN</td>\n",
       "      <td>NaN</td>\n",
       "      <td>308350537</td>\n",
       "      <td>NaN</td>\n",
       "      <td>450720289.0</td>\n",
       "      <td>650.0</td>\n",
       "      <td>4981020.0</td>\n",
       "      <td>H</td>\n",
       "      <td>J</td>\n",
       "      <td>NaN</td>\n",
       "      <td>NaN</td>\n",
       "      <td>4</td>\n",
       "      <td>11100.0</td>\n",
       "      <td>1.0</td>\n",
       "      <td>41.060100</td>\n",
       "      <td>-87.745000</td>\n",
       "      <td>X</td>\n",
       "      <td>28100.0</td>\n",
       "      <td>2.0</td>\n",
       "      <td>176.0</td>\n",
       "      <td>17091.0</td>\n",
       "      <td>True</td>\n",
       "      <td>False</td>\n",
       "      <td>TOP TEN</td>\n",
       "    </tr>\n",
       "    <tr>\n",
       "      <th>202624</th>\n",
       "      <td>7-ELEVEN</td>\n",
       "      <td>3005 N PULASKI RD</td>\n",
       "      <td>CHICAGO</td>\n",
       "      <td>IL</td>\n",
       "      <td>60641</td>\n",
       "      <td>5444.0</td>\n",
       "      <td>31.0</td>\n",
       "      <td>773</td>\n",
       "      <td>2</td>\n",
       "      <td>B</td>\n",
       "      <td>C</td>\n",
       "      <td>541103</td>\n",
       "      <td>CONVENIENCE STORES</td>\n",
       "      <td>44512001.0</td>\n",
       "      <td>CONVENIENCE STORES</td>\n",
       "      <td>581208.0</td>\n",
       "      <td>RESTAURANTS</td>\n",
       "      <td>NaN</td>\n",
       "      <td>NaN</td>\n",
       "      <td>NaN</td>\n",
       "      <td>NaN</td>\n",
       "      <td>NaN</td>\n",
       "      <td>NaN</td>\n",
       "      <td>NaN</td>\n",
       "      <td>NaN</td>\n",
       "      <td>2022</td>\n",
       "      <td>NaN</td>\n",
       "      <td>7.0</td>\n",
       "      <td>1789.0</td>\n",
       "      <td>2</td>\n",
       "      <td>W</td>\n",
       "      <td>NaN</td>\n",
       "      <td>NaN</td>\n",
       "      <td>NaN</td>\n",
       "      <td>433320688</td>\n",
       "      <td>NaN</td>\n",
       "      <td>5863311.0</td>\n",
       "      <td>800.0</td>\n",
       "      <td>1272634.0</td>\n",
       "      <td>H</td>\n",
       "      <td>K</td>\n",
       "      <td>NaN</td>\n",
       "      <td>NaN</td>\n",
       "      <td>8</td>\n",
       "      <td>210501.0</td>\n",
       "      <td>2.0</td>\n",
       "      <td>41.935619</td>\n",
       "      <td>-87.726742</td>\n",
       "      <td>P</td>\n",
       "      <td>16980.0</td>\n",
       "      <td>2.0</td>\n",
       "      <td>176.0</td>\n",
       "      <td>17031.0</td>\n",
       "      <td>True</td>\n",
       "      <td>False</td>\n",
       "      <td>TOP TEN</td>\n",
       "    </tr>\n",
       "    <tr>\n",
       "      <th>202950</th>\n",
       "      <td>7-ELEVEN</td>\n",
       "      <td>801 S STATE ST</td>\n",
       "      <td>CHICAGO</td>\n",
       "      <td>IL</td>\n",
       "      <td>60605</td>\n",
       "      <td>2225.0</td>\n",
       "      <td>31.0</td>\n",
       "      <td>312</td>\n",
       "      <td>2</td>\n",
       "      <td>B</td>\n",
       "      <td>C</td>\n",
       "      <td>541103</td>\n",
       "      <td>CONVENIENCE STORES</td>\n",
       "      <td>44512001.0</td>\n",
       "      <td>CONVENIENCE STORES</td>\n",
       "      <td>NaN</td>\n",
       "      <td>NaN</td>\n",
       "      <td>NaN</td>\n",
       "      <td>NaN</td>\n",
       "      <td>NaN</td>\n",
       "      <td>NaN</td>\n",
       "      <td>NaN</td>\n",
       "      <td>NaN</td>\n",
       "      <td>NaN</td>\n",
       "      <td>NaN</td>\n",
       "      <td>2022</td>\n",
       "      <td>NaN</td>\n",
       "      <td>7.0</td>\n",
       "      <td>1789.0</td>\n",
       "      <td>2</td>\n",
       "      <td>W</td>\n",
       "      <td>NaN</td>\n",
       "      <td>NaN</td>\n",
       "      <td>NaN</td>\n",
       "      <td>707740183</td>\n",
       "      <td>NaN</td>\n",
       "      <td>5863311.0</td>\n",
       "      <td>800.0</td>\n",
       "      <td>1272634.0</td>\n",
       "      <td>H</td>\n",
       "      <td>K</td>\n",
       "      <td>707740183.0</td>\n",
       "      <td>NaN</td>\n",
       "      <td>7</td>\n",
       "      <td>320600.0</td>\n",
       "      <td>2.0</td>\n",
       "      <td>41.871675</td>\n",
       "      <td>-87.627264</td>\n",
       "      <td>P</td>\n",
       "      <td>16980.0</td>\n",
       "      <td>2.0</td>\n",
       "      <td>176.0</td>\n",
       "      <td>17031.0</td>\n",
       "      <td>True</td>\n",
       "      <td>False</td>\n",
       "      <td>TOP TEN</td>\n",
       "    </tr>\n",
       "    <tr>\n",
       "      <th>203100</th>\n",
       "      <td>CIRCLE K</td>\n",
       "      <td>655 N CONVENT ST</td>\n",
       "      <td>BOURBONNAIS</td>\n",
       "      <td>IL</td>\n",
       "      <td>60914</td>\n",
       "      <td>1331.0</td>\n",
       "      <td>91.0</td>\n",
       "      <td>815</td>\n",
       "      <td>2</td>\n",
       "      <td>B</td>\n",
       "      <td>C</td>\n",
       "      <td>541103</td>\n",
       "      <td>CONVENIENCE STORES</td>\n",
       "      <td>44512001.0</td>\n",
       "      <td>CONVENIENCE STORES</td>\n",
       "      <td>554101.0</td>\n",
       "      <td>SERVICE STATIONS-GASOLINE &amp; OIL</td>\n",
       "      <td>NaN</td>\n",
       "      <td>NaN</td>\n",
       "      <td>NaN</td>\n",
       "      <td>NaN</td>\n",
       "      <td>NaN</td>\n",
       "      <td>NaN</td>\n",
       "      <td>NaN</td>\n",
       "      <td>NaN</td>\n",
       "      <td>2022</td>\n",
       "      <td>21303.0</td>\n",
       "      <td>7.0</td>\n",
       "      <td>2165.0</td>\n",
       "      <td>2</td>\n",
       "      <td>F</td>\n",
       "      <td>NaN</td>\n",
       "      <td>NaN</td>\n",
       "      <td>NaN</td>\n",
       "      <td>707712246</td>\n",
       "      <td>NaN</td>\n",
       "      <td>450720289.0</td>\n",
       "      <td>650.0</td>\n",
       "      <td>4981020.0</td>\n",
       "      <td>H</td>\n",
       "      <td>J</td>\n",
       "      <td>NaN</td>\n",
       "      <td>NaN</td>\n",
       "      <td>7</td>\n",
       "      <td>12000.0</td>\n",
       "      <td>1.0</td>\n",
       "      <td>41.164798</td>\n",
       "      <td>-87.875821</td>\n",
       "      <td>P</td>\n",
       "      <td>28100.0</td>\n",
       "      <td>2.0</td>\n",
       "      <td>176.0</td>\n",
       "      <td>17091.0</td>\n",
       "      <td>True</td>\n",
       "      <td>False</td>\n",
       "      <td>TOP TEN</td>\n",
       "    </tr>\n",
       "  </tbody>\n",
       "</table>\n",
       "<p>1300 rows × 56 columns</p>\n",
       "</div>"
      ],
      "text/plain": [
       "         COMPANY         ADDRESS LINE 1         CITY STATE  ZIPCODE    ZIP4  \\\n",
       "86      CIRCLE K            290 MAIN ST   MARSEILLES    IL    61341     NaN   \n",
       "441      CASEY'S          317 S PINE ST         BUDA    IL    61314  9386.0   \n",
       "590     CIRCLE K  1727 N BLOOMINGTON ST     STREATOR    IL    61364  1315.0   \n",
       "794      CASEY'S            1327 5TH ST     LA SALLE    IL    61301  2243.0   \n",
       "818      CASEY'S          225 N MAIN ST       SENECA    IL    61360     NaN   \n",
       "...          ...                    ...          ...   ...      ...     ...   \n",
       "202206  CIRCLE K      5500 S PULASKI RD      CHICAGO    IL    60629  4418.0   \n",
       "202290  CIRCLE K        300 S DIXIE HWY      ST ANNE    IL    60964     NaN   \n",
       "202624  7-ELEVEN      3005 N PULASKI RD      CHICAGO    IL    60641  5444.0   \n",
       "202950  7-ELEVEN         801 S STATE ST      CHICAGO    IL    60605  2225.0   \n",
       "203100  CIRCLE K       655 N CONVENT ST  BOURBONNAIS    IL    60914  1331.0   \n",
       "\n",
       "        COUNTY CODE  AREA CODE  IDCODE LOCATION EMPLOYEE SIZE CODE  \\\n",
       "86             99.0        815       2                           C   \n",
       "441            11.0        309       2                           B   \n",
       "590            99.0        815       2                           C   \n",
       "794            99.0        815       2                           C   \n",
       "818            99.0        815       2                           D   \n",
       "...             ...        ...     ...                         ...   \n",
       "202206         31.0        773       2                           B   \n",
       "202290         91.0        815       2                           B   \n",
       "202624         31.0        773       2                           B   \n",
       "202950         31.0        312       2                           B   \n",
       "203100         91.0        815       2                           B   \n",
       "\n",
       "       LOCATION SALES VOLUME CODE  PRIMARY SIC CODE   SIC6_DESCRIPTIONS  \\\n",
       "86                              C            541103  CONVENIENCE STORES   \n",
       "441                             C            541103  CONVENIENCE STORES   \n",
       "590                             C            541103  CONVENIENCE STORES   \n",
       "794                             D            541103  CONVENIENCE STORES   \n",
       "818                             D            541103  CONVENIENCE STORES   \n",
       "...                           ...               ...                 ...   \n",
       "202206                          C            541103  CONVENIENCE STORES   \n",
       "202290                          C            541103  CONVENIENCE STORES   \n",
       "202624                          C            541103  CONVENIENCE STORES   \n",
       "202950                          C            541103  CONVENIENCE STORES   \n",
       "203100                          C            541103  CONVENIENCE STORES   \n",
       "\n",
       "        PRIMARY NAICS CODE NAICS8 DESCRIPTIONS  SIC CODE  \\\n",
       "86              44512001.0  CONVENIENCE STORES  554101.0   \n",
       "441             44512001.0  CONVENIENCE STORES  581222.0   \n",
       "590             44512001.0  CONVENIENCE STORES  554101.0   \n",
       "794             44512001.0  CONVENIENCE STORES  554101.0   \n",
       "818             44512001.0  CONVENIENCE STORES  581222.0   \n",
       "...                    ...                 ...       ...   \n",
       "202206          44512001.0  CONVENIENCE STORES       NaN   \n",
       "202290          44512001.0  CONVENIENCE STORES  554101.0   \n",
       "202624          44512001.0  CONVENIENCE STORES  581208.0   \n",
       "202950          44512001.0  CONVENIENCE STORES       NaN   \n",
       "203100          44512001.0  CONVENIENCE STORES  554101.0   \n",
       "\n",
       "                SIC6_DESCRIPTIONS (SIC)  SIC CODE 1  \\\n",
       "86      SERVICE STATIONS-GASOLINE & OIL    554110.0   \n",
       "441                               PIZZA    554101.0   \n",
       "590     SERVICE STATIONS-GASOLINE & OIL         NaN   \n",
       "794     SERVICE STATIONS-GASOLINE & OIL    581222.0   \n",
       "818                               PIZZA    554101.0   \n",
       "...                                 ...         ...   \n",
       "202206                              NaN         NaN   \n",
       "202290  SERVICE STATIONS-GASOLINE & OIL         NaN   \n",
       "202624                      RESTAURANTS         NaN   \n",
       "202950                              NaN         NaN   \n",
       "203100  SERVICE STATIONS-GASOLINE & OIL         NaN   \n",
       "\n",
       "               SIC6_DESCRIPTIONS (SIC1)  SIC CODE 2 SIC6_DESCRIPTIONS(SIC2)  \\\n",
       "86                    ALTERNATIVE FUELS         NaN                     NaN   \n",
       "441     SERVICE STATIONS-GASOLINE & OIL         NaN                     NaN   \n",
       "590                                 NaN         NaN                     NaN   \n",
       "794                               PIZZA    554110.0       ALTERNATIVE FUELS   \n",
       "818     SERVICE STATIONS-GASOLINE & OIL    554110.0       ALTERNATIVE FUELS   \n",
       "...                                 ...         ...                     ...   \n",
       "202206                              NaN         NaN                     NaN   \n",
       "202290                              NaN         NaN                     NaN   \n",
       "202624                              NaN         NaN                     NaN   \n",
       "202950                              NaN         NaN                     NaN   \n",
       "203100                              NaN         NaN                     NaN   \n",
       "\n",
       "        SIC CODE 3 SIC6_DESCRIPTIONS(SIC3)  SIC CODE 4  \\\n",
       "86             NaN                     NaN         NaN   \n",
       "441            NaN                     NaN         NaN   \n",
       "590            NaN                     NaN         NaN   \n",
       "794            NaN                     NaN         NaN   \n",
       "818            NaN                     NaN         NaN   \n",
       "...            ...                     ...         ...   \n",
       "202206         NaN                     NaN         NaN   \n",
       "202290         NaN                     NaN         NaN   \n",
       "202624         NaN                     NaN         NaN   \n",
       "202950         NaN                     NaN         NaN   \n",
       "203100         NaN                     NaN         NaN   \n",
       "\n",
       "       SIC6_DESCRIPTIONS(SIC4)  ARCHIVE VERSION YEAR  YELLOW PAGE CODE  \\\n",
       "86                         NaN                  2022           21303.0   \n",
       "441                        NaN                  2022           21303.0   \n",
       "590                        NaN                  2022           21303.0   \n",
       "794                        NaN                  2022           21303.0   \n",
       "818                        NaN                  2022           21303.0   \n",
       "...                        ...                   ...               ...   \n",
       "202206                     NaN                  2022               NaN   \n",
       "202290                     NaN                  2022           21303.0   \n",
       "202624                     NaN                  2022               NaN   \n",
       "202950                     NaN                  2022               NaN   \n",
       "203100                     NaN                  2022           21303.0   \n",
       "\n",
       "        EMPLOYEE SIZE (5) - LOCATION  SALES VOLUME (9) - LOCATION  \\\n",
       "86                              11.0                       2225.0   \n",
       "441                              7.0                       2011.0   \n",
       "590                             11.0                       2023.0   \n",
       "794                             13.0                       2630.0   \n",
       "818                             27.0                       4032.0   \n",
       "...                              ...                          ...   \n",
       "202206                           8.0                       2045.0   \n",
       "202290                           7.0                       1855.0   \n",
       "202624                           7.0                       1789.0   \n",
       "202950                           7.0                       1789.0   \n",
       "203100                           7.0                       2165.0   \n",
       "\n",
       "        BUSINESS STATUS CODE INDUSTRY SPECIFIC FIRST BYTE  YEAR ESTABLISHED  \\\n",
       "86                         2                            F               NaN   \n",
       "441                        2                            9               NaN   \n",
       "590                        2                            F               NaN   \n",
       "794                        2                            9               NaN   \n",
       "818                        2                            9               NaN   \n",
       "...                      ...                          ...               ...   \n",
       "202206                     2                            F               NaN   \n",
       "202290                     2                            F               NaN   \n",
       "202624                     2                            W               NaN   \n",
       "202950                     2                            W               NaN   \n",
       "203100                     2                            F               NaN   \n",
       "\n",
       "        OFFICE SIZE CODE  COMPANY HOLDING STATUS        ABI  \\\n",
       "86                   NaN                     NaN  312709629   \n",
       "441                  NaN                     NaN  402791834   \n",
       "590                  NaN                     NaN  211116660   \n",
       "794                  NaN                     NaN  403032444   \n",
       "818                  NaN                     NaN  472944081   \n",
       "...                  ...                     ...        ...   \n",
       "202206               NaN                     NaN  705232234   \n",
       "202290               NaN                     NaN  308350537   \n",
       "202624               NaN                     NaN  433320688   \n",
       "202950               NaN                     NaN  707740183   \n",
       "203100               NaN                     NaN  707712246   \n",
       "\n",
       "        SUBSIDIARY NUMBER  PARENT NUMBER  PARENT ACTUAL EMPLOYEE SIZE  \\\n",
       "86                    NaN    450720289.0                        650.0   \n",
       "441           398553685.0    441412723.0                        400.0   \n",
       "590                   NaN    450720289.0                        650.0   \n",
       "794           398553685.0    441412723.0                        400.0   \n",
       "818           398553685.0    441412723.0                        400.0   \n",
       "...                   ...            ...                          ...   \n",
       "202206                NaN    450720289.0                        650.0   \n",
       "202290                NaN    450720289.0                        650.0   \n",
       "202624                NaN      5863311.0                        800.0   \n",
       "202950                NaN      5863311.0                        800.0   \n",
       "203100                NaN    450720289.0                        650.0   \n",
       "\n",
       "        PARENT ACTUAL SALES VOLUME PARENT EMPLOYEE SIZE CODE  \\\n",
       "86                       4981020.0                         H   \n",
       "441                     12952594.0                         G   \n",
       "590                      4981020.0                         H   \n",
       "794                     12952594.0                         G   \n",
       "818                     12952594.0                         G   \n",
       "...                            ...                       ...   \n",
       "202206                   4981020.0                         H   \n",
       "202290                   4981020.0                         H   \n",
       "202624                   1272634.0                         H   \n",
       "202950                   1272634.0                         H   \n",
       "203100                   4981020.0                         H   \n",
       "\n",
       "       PARENT SALES VOLUME CODE  SITE NUMBER ADDRESS TYPE INDICATOR  \\\n",
       "86                            J          NaN                    NaN   \n",
       "441                           H          NaN                    NaN   \n",
       "590                           J          NaN                    NaN   \n",
       "794                           H          NaN                    NaN   \n",
       "818                           H          NaN                    NaN   \n",
       "...                         ...          ...                    ...   \n",
       "202206                        J          NaN                    NaN   \n",
       "202290                        J          NaN                    NaN   \n",
       "202624                        K          NaN                    NaN   \n",
       "202950                        K  707740183.0                    NaN   \n",
       "203100                        J          NaN                    NaN   \n",
       "\n",
       "        POPULATION CODE  CENSUS TRACT  CENSUS BLOCK   LATITUDE  LONGITUDE  \\\n",
       "86                    5      962400.0           2.0  41.333000 -88.701000   \n",
       "441                   2      965600.0           4.0  41.323881 -89.683015   \n",
       "590                   7      963800.0           1.0  41.141578 -88.835061   \n",
       "794                   6      962100.0           3.0  41.333387 -89.087419   \n",
       "818                   4      962400.0           3.0  41.315000 -88.602000   \n",
       "...                 ...           ...           ...        ...        ...   \n",
       "202206                8      620300.0           1.0  41.793083 -87.723547   \n",
       "202290                4       11100.0           1.0  41.060100 -87.745000   \n",
       "202624                8      210501.0           2.0  41.935619 -87.726742   \n",
       "202950                7      320600.0           2.0  41.871675 -87.627264   \n",
       "203100                7       12000.0           1.0  41.164798 -87.875821   \n",
       "\n",
       "       MATCH CODE  CBSA CODE  CBSA LEVEL  CSA CODE  FIPS CODE  TOP TEN  \\\n",
       "86              X    36837.0         1.0     176.0    17099.0     True   \n",
       "441             P    36837.0         1.0     176.0    17011.0     True   \n",
       "590             P    36837.0         1.0     176.0    17099.0     True   \n",
       "794             P    36837.0         1.0     176.0    17099.0     True   \n",
       "818             X    36837.0         1.0     176.0    17099.0     True   \n",
       "...           ...        ...         ...       ...        ...      ...   \n",
       "202206          P    16980.0         2.0     176.0    17031.0     True   \n",
       "202290          X    28100.0         2.0     176.0    17091.0     True   \n",
       "202624          P    16980.0         2.0     176.0    17031.0     True   \n",
       "202950          P    16980.0         2.0     176.0    17031.0     True   \n",
       "203100          P    28100.0         2.0     176.0    17091.0     True   \n",
       "\n",
       "        INDEPENDENT STORE STORE TYPE  \n",
       "86                  False    TOP TEN  \n",
       "441                 False    TOP TEN  \n",
       "590                 False    TOP TEN  \n",
       "794                 False    TOP TEN  \n",
       "818                 False    TOP TEN  \n",
       "...                   ...        ...  \n",
       "202206              False    TOP TEN  \n",
       "202290              False    TOP TEN  \n",
       "202624              False    TOP TEN  \n",
       "202950              False    TOP TEN  \n",
       "203100              False    TOP TEN  \n",
       "\n",
       "[1300 rows x 56 columns]"
      ]
     },
     "execution_count": 106,
     "metadata": {},
     "output_type": "execute_result"
    }
   ],
   "source": [
    "\n",
    "topthree_il = gil[(gil['PARENT NUMBER'] == 441412723.0) | (gil['PARENT NUMBER'] == 5863311.0) | (gil['PARENT NUMBER'] == 450720289.0)]\n",
    "\n",
    "\n",
    "topthree_il"
   ]
  },
  {
   "cell_type": "code",
   "execution_count": 110,
   "id": "09005639-390d-46b6-82e5-b125aba1de5d",
   "metadata": {
    "tags": []
   },
   "outputs": [
    {
     "data": {
      "application/vnd.plotly.v1+json": {
       "config": {
        "plotlyServerURL": "https://plot.ly"
       },
       "data": [
        {
         "customdata": [
          [
           "CIRCLE K"
          ],
          [
           "CASEY'S"
          ],
          [
           "CIRCLE K"
          ],
          [
           "CASEY'S"
          ],
          [
           "CASEY'S"
          ],
          [
           "CIRCLE K"
          ],
          [
           "CASEY'S"
          ],
          [
           "CIRCLE K"
          ],
          [
           "CASEY'S"
          ],
          [
           "CASEY'S"
          ],
          [
           "CASEY'S"
          ],
          [
           "CASEY'S"
          ],
          [
           "CASEY'S"
          ],
          [
           "CASEY'S"
          ],
          [
           "CASEY'S"
          ],
          [
           "CIRCLE K"
          ],
          [
           "CASEY'S"
          ],
          [
           "CASEY'S"
          ],
          [
           "CASEY'S"
          ],
          [
           "CASEY'S"
          ],
          [
           "CIRCLE K"
          ],
          [
           "CASEY'S"
          ],
          [
           "CASEY'S"
          ],
          [
           "CASEY'S"
          ],
          [
           "SPEEDWAY"
          ],
          [
           "CASEY'S"
          ],
          [
           "CASEY'S"
          ],
          [
           "CASEY'S"
          ],
          [
           "CASEY'S"
          ],
          [
           "CASEY'S"
          ],
          [
           "CASEY'S"
          ],
          [
           "CASEY'S"
          ],
          [
           "CASEY'S"
          ],
          [
           "CASEY'S"
          ],
          [
           "CASEY'S"
          ],
          [
           "CASEY'S"
          ],
          [
           "CASEY'S"
          ],
          [
           "CASEY'S"
          ],
          [
           "CASEY'S"
          ],
          [
           "CIRCLE K"
          ],
          [
           "CASEY'S"
          ],
          [
           "CASEY'S"
          ],
          [
           "CASEY'S"
          ],
          [
           "CASEY'S"
          ],
          [
           "CASEY'S"
          ],
          [
           "CASEY'S"
          ],
          [
           "CIRCLE K"
          ],
          [
           "CIRCLE K"
          ],
          [
           "CASEY'S"
          ],
          [
           "CIRCLE K"
          ],
          [
           "CASEY'S"
          ],
          [
           "CASEY'S"
          ],
          [
           "CASEY'S"
          ],
          [
           "CIRCLE K"
          ],
          [
           "CASEY'S"
          ],
          [
           "CASEY'S"
          ],
          [
           "CASEY'S"
          ],
          [
           "CASEY'S"
          ],
          [
           "CASEY'S"
          ],
          [
           "CASEY'S"
          ],
          [
           "7-ELEVEN"
          ],
          [
           "CIRCLE K"
          ],
          [
           "CASEY'S"
          ],
          [
           "CIRCLE K"
          ],
          [
           "CASEY'S"
          ],
          [
           "CASEY'S"
          ],
          [
           "CASEY'S"
          ],
          [
           "GOODSTOP BY CASEY'S"
          ],
          [
           "CASEY'S"
          ],
          [
           "CASEY'S"
          ],
          [
           "CIRCLE K"
          ],
          [
           "CIRCLE K"
          ],
          [
           "CASEY'S"
          ],
          [
           "CASEY'S"
          ],
          [
           "CASEY'S"
          ],
          [
           "CASEY'S"
          ],
          [
           "CIRCLE K"
          ],
          [
           "CASEY'S"
          ],
          [
           "CASEY'S"
          ],
          [
           "CASEY'S"
          ],
          [
           "CIRCLE K"
          ],
          [
           "CASEY'S"
          ],
          [
           "CASEY'S"
          ],
          [
           "CIRCLE K"
          ],
          [
           "CASEY'S"
          ],
          [
           "CIRCLE K"
          ],
          [
           "CIRCLE K"
          ],
          [
           "CASEY'S"
          ],
          [
           "CIRCLE K"
          ],
          [
           "CASEY'S"
          ],
          [
           "CASEY'S"
          ],
          [
           "7-ELEVEN"
          ],
          [
           "CIRCLE K"
          ],
          [
           "CIRCLE K"
          ],
          [
           "CASEY'S"
          ],
          [
           "CIRCLE K"
          ],
          [
           "7-ELEVEN"
          ],
          [
           "CIRCLE K"
          ],
          [
           "CIRCLE K"
          ],
          [
           "CASEY'S"
          ],
          [
           "CASEY'S"
          ],
          [
           "7-ELEVEN"
          ],
          [
           "CIRCLE K"
          ],
          [
           "CASEY'S"
          ],
          [
           "CASEY'S"
          ],
          [
           "CASEY'S"
          ],
          [
           "CASEY'S"
          ],
          [
           "CASEY'S"
          ],
          [
           "CIRCLE K"
          ],
          [
           "CIRCLE K"
          ],
          [
           "CIRCLE K"
          ],
          [
           "CASEY'S"
          ],
          [
           "CIRCLE K"
          ],
          [
           "CASEY'S"
          ],
          [
           "CIRCLE K"
          ],
          [
           "CASEY'S"
          ],
          [
           "CASEY'S"
          ],
          [
           "CIRCLE K"
          ],
          [
           "CASEY'S"
          ],
          [
           "CIRCLE K"
          ],
          [
           "CIRCLE K"
          ],
          [
           "CASEY'S"
          ],
          [
           "CASEY'S"
          ],
          [
           "CASEY'S"
          ],
          [
           "CASEY'S"
          ],
          [
           "CIRCLE K"
          ],
          [
           "CASEY'S"
          ],
          [
           "CIRCLE K"
          ],
          [
           "CIRCLE K"
          ],
          [
           "CASEY'S"
          ],
          [
           "CASEY'S"
          ],
          [
           "CASEY'S"
          ],
          [
           "CASEY'S"
          ],
          [
           "CASEY'S"
          ],
          [
           "CASEY'S"
          ],
          [
           "7-ELEVEN"
          ],
          [
           "CIRCLE K"
          ],
          [
           "CIRCLE K"
          ],
          [
           "CASEY'S"
          ],
          [
           "7-ELEVEN"
          ],
          [
           "GOODSTOP BY CASEY'S"
          ],
          [
           "CIRCLE K"
          ],
          [
           "7-ELEVEN"
          ],
          [
           "CASEY'S"
          ],
          [
           "CIRCLE K"
          ],
          [
           "7-ELEVEN"
          ],
          [
           "CASEY'S"
          ],
          [
           "CASEY'S"
          ],
          [
           "CIRCLE K"
          ],
          [
           "CASEY'S"
          ],
          [
           "7-ELEVEN"
          ],
          [
           "7-ELEVEN"
          ],
          [
           "CASEY'S"
          ],
          [
           "7-ELEVEN"
          ],
          [
           "CASEY'S"
          ],
          [
           "CASEY'S"
          ],
          [
           "SPEEDWAY"
          ],
          [
           "7-ELEVEN"
          ],
          [
           "CASEY'S"
          ],
          [
           "CIRCLE K"
          ],
          [
           "CIRCLE K"
          ],
          [
           "CASEY'S"
          ],
          [
           "7-ELEVEN"
          ],
          [
           "CASEY'S"
          ],
          [
           "CIRCLE K"
          ],
          [
           "CASEY'S"
          ],
          [
           "CIRCLE K"
          ],
          [
           "7-ELEVEN"
          ],
          [
           "CASEY'S"
          ],
          [
           "7-ELEVEN"
          ],
          [
           "CASEY'S"
          ],
          [
           "CASEY'S"
          ],
          [
           "7-ELEVEN"
          ],
          [
           "7-ELEVEN"
          ],
          [
           "CASEY'S"
          ],
          [
           "CASEY'S"
          ],
          [
           "7-ELEVEN"
          ],
          [
           "CASEY'S"
          ],
          [
           "7-ELEVEN"
          ],
          [
           "SPEEDWAY"
          ],
          [
           "7-ELEVEN"
          ],
          [
           "SPEEDWAY"
          ],
          [
           "CASEY'S"
          ],
          [
           "CASEY'S"
          ],
          [
           "7-ELEVEN"
          ],
          [
           "CASEY'S"
          ],
          [
           "CASEY'S"
          ],
          [
           "CASEY'S"
          ],
          [
           "CIRCLE K"
          ],
          [
           "CASEY'S"
          ],
          [
           "CASEY'S"
          ],
          [
           "CASEY'S"
          ],
          [
           "CASEY'S"
          ],
          [
           "CASEY'S"
          ],
          [
           "CIRCLE K"
          ],
          [
           "CASEY'S"
          ],
          [
           "7-ELEVEN"
          ],
          [
           "CASEY'S"
          ],
          [
           "CIRCLE K"
          ],
          [
           "CASEY'S"
          ],
          [
           "CIRCLE K"
          ],
          [
           "7-ELEVEN"
          ],
          [
           "7-ELEVEN"
          ],
          [
           "7-ELEVEN"
          ],
          [
           "CIRCLE K"
          ],
          [
           "CIRCLE K"
          ],
          [
           "7-ELEVEN"
          ],
          [
           "CASEY'S"
          ],
          [
           "CASEY'S"
          ],
          [
           "7-ELEVEN"
          ],
          [
           "CASEY'S"
          ],
          [
           "CASEY'S"
          ],
          [
           "CASEY'S"
          ],
          [
           "CASEY'S"
          ],
          [
           "CIRCLE K"
          ],
          [
           "CASEY'S"
          ],
          [
           "7-ELEVEN"
          ],
          [
           "7-ELEVEN"
          ],
          [
           "7-ELEVEN"
          ],
          [
           "7-ELEVEN"
          ],
          [
           "7-ELEVEN"
          ],
          [
           "CIRCLE K"
          ],
          [
           "CASEY'S"
          ],
          [
           "CIRCLE K"
          ],
          [
           "CASEY'S"
          ],
          [
           "CASEY'S"
          ],
          [
           "CIRCLE K"
          ],
          [
           "SPEEDWAY"
          ],
          [
           "CIRCLE K"
          ],
          [
           "CASEY'S"
          ],
          [
           "CASEY'S"
          ],
          [
           "CASEY'S"
          ],
          [
           "CASEY'S"
          ],
          [
           "CIRCLE K"
          ],
          [
           "CASEY'S"
          ],
          [
           "CASEY'S"
          ],
          [
           "CASEY'S"
          ],
          [
           "CIRCLE K"
          ],
          [
           "CASEY'S"
          ],
          [
           "CIRCLE K"
          ],
          [
           "7-ELEVEN"
          ],
          [
           "CIRCLE K"
          ],
          [
           "CIRCLE K"
          ],
          [
           "CIRCLE K"
          ],
          [
           "SPEEDWAY"
          ],
          [
           "CASEY'S"
          ],
          [
           "CIRCLE K"
          ],
          [
           "CIRCLE K"
          ],
          [
           "CIRCLE K"
          ],
          [
           "CIRCLE K"
          ],
          [
           "CIRCLE K"
          ],
          [
           "CASEY'S"
          ],
          [
           "7-ELEVEN"
          ],
          [
           "CIRCLE K"
          ],
          [
           "CASEY'S"
          ],
          [
           "CASEY'S"
          ],
          [
           "CIRCLE K"
          ],
          [
           "CIRCLE K"
          ],
          [
           "ON THE RUN"
          ],
          [
           "CASEY'S"
          ],
          [
           "7-ELEVEN"
          ],
          [
           "CASEY'S"
          ],
          [
           "CASEY'S"
          ],
          [
           "CASEY'S"
          ],
          [
           "CASEY'S"
          ],
          [
           "CIRCLE K"
          ],
          [
           "CASEY'S"
          ],
          [
           "CASEY'S"
          ],
          [
           "7-ELEVEN"
          ],
          [
           "7-ELEVEN"
          ],
          [
           "CIRCLE K"
          ],
          [
           "CASEY'S"
          ],
          [
           "CIRCLE K"
          ],
          [
           "CASEY'S"
          ],
          [
           "CASEY'S"
          ],
          [
           "CASEY'S"
          ],
          [
           "CASEY'S"
          ],
          [
           "CASEY'S"
          ],
          [
           "CASEY'S"
          ],
          [
           "CASEY'S"
          ],
          [
           "CASEY'S"
          ],
          [
           "CIRCLE K"
          ],
          [
           "CASEY'S"
          ],
          [
           "CASEY'S"
          ],
          [
           "SPEEDWAY"
          ],
          [
           "CASEY'S"
          ],
          [
           "CASEY'S"
          ],
          [
           "SPEEDWAY"
          ],
          [
           "CASEY'S"
          ],
          [
           "CIRCLE K"
          ],
          [
           "CASEY'S"
          ],
          [
           "CIRCLE K"
          ],
          [
           "7-ELEVEN"
          ],
          [
           "CASEY'S"
          ],
          [
           "CASEY'S"
          ],
          [
           "CASEY'S"
          ],
          [
           "CASEY'S"
          ],
          [
           "CIRCLE K"
          ],
          [
           "CASEY'S"
          ],
          [
           "CASEY'S"
          ],
          [
           "CASEY'S"
          ],
          [
           "CASEY'S"
          ],
          [
           "CIRCLE K"
          ],
          [
           "CASEY'S"
          ],
          [
           "CASEY'S"
          ],
          [
           "CASEY'S"
          ],
          [
           "CASEY'S"
          ],
          [
           "CIRCLE K"
          ],
          [
           "CIRCLE K"
          ],
          [
           "CASEY'S"
          ],
          [
           "CIRCLE K"
          ],
          [
           "CASEY'S"
          ],
          [
           "CIRCLE K"
          ],
          [
           "CASEY'S"
          ],
          [
           "CASEY'S"
          ],
          [
           "CASEY'S"
          ],
          [
           "CASEY'S"
          ],
          [
           "7-ELEVEN"
          ],
          [
           "CASEY'S"
          ],
          [
           "7-ELEVEN"
          ],
          [
           "7-ELEVEN"
          ],
          [
           "CASEY'S"
          ],
          [
           "CASEY'S"
          ],
          [
           "CASEY'S"
          ],
          [
           "SPEEDWAY"
          ],
          [
           "CASEY'S"
          ],
          [
           "CIRCLE K"
          ],
          [
           "CIRCLE K"
          ],
          [
           "CASEY'S"
          ],
          [
           "CIRCLE K"
          ],
          [
           "CIRCLE K"
          ],
          [
           "7-ELEVEN"
          ],
          [
           "CASEY'S"
          ],
          [
           "CASEY'S"
          ],
          [
           "CIRCLE K"
          ],
          [
           "CIRCLE K"
          ],
          [
           "CASEY'S"
          ],
          [
           "CASEY'S"
          ],
          [
           "CASEY'S"
          ],
          [
           "CIRCLE K"
          ],
          [
           "CASEY'S"
          ],
          [
           "CASEY'S"
          ],
          [
           "CASEY'S"
          ],
          [
           "CASEY'S"
          ],
          [
           "CASEY'S"
          ],
          [
           "CIRCLE K"
          ],
          [
           "CIRCLE K"
          ],
          [
           "CASEY'S"
          ],
          [
           "CASEY'S"
          ],
          [
           "CASEY'S"
          ],
          [
           "7-ELEVEN"
          ],
          [
           "CASEY'S"
          ],
          [
           "CIRCLE K"
          ],
          [
           "7-ELEVEN"
          ],
          [
           "CASEY'S"
          ],
          [
           "CIRCLE K"
          ],
          [
           "7-ELEVEN"
          ],
          [
           "CASEY'S"
          ],
          [
           "7-ELEVEN"
          ],
          [
           "CASEY'S"
          ],
          [
           "CASEY'S"
          ],
          [
           "CASEY'S"
          ],
          [
           "CASEY'S"
          ],
          [
           "CASEY'S"
          ],
          [
           "CIRCLE K"
          ],
          [
           "CIRCLE K"
          ],
          [
           "CIRCLE K"
          ],
          [
           "SPEEDWAY"
          ],
          [
           "CASEY'S"
          ],
          [
           "CIRCLE K"
          ],
          [
           "7-ELEVEN"
          ],
          [
           "SPEEDWAY"
          ],
          [
           "CIRCLE K"
          ],
          [
           "CASEY'S"
          ],
          [
           "7-ELEVEN"
          ],
          [
           "CIRCLE K"
          ],
          [
           "CIRCLE K"
          ],
          [
           "CASEY'S"
          ],
          [
           "CASEY'S"
          ],
          [
           "7-ELEVEN"
          ],
          [
           "CASEY'S"
          ],
          [
           "7-ELEVEN"
          ],
          [
           "CASEY'S"
          ],
          [
           "CASEY'S"
          ],
          [
           "SPEEDWAY"
          ],
          [
           "CIRCLE K"
          ],
          [
           "7-ELEVEN"
          ],
          [
           "CIRCLE K"
          ],
          [
           "CASEY'S"
          ],
          [
           "CASEY'S"
          ],
          [
           "SPEEDWAY"
          ],
          [
           "CASEY'S"
          ],
          [
           "CIRCLE K"
          ],
          [
           "CASEY'S"
          ],
          [
           "CIRCLE K"
          ],
          [
           "7-ELEVEN"
          ],
          [
           "CIRCLE K"
          ],
          [
           "CASEY'S"
          ],
          [
           "SPEEDWAY"
          ],
          [
           "SPEEDWAY"
          ],
          [
           "CASEY'S"
          ],
          [
           "CIRCLE K"
          ],
          [
           "CIRCLE K"
          ],
          [
           "CIRCLE K"
          ],
          [
           "CASEY'S"
          ],
          [
           "7-ELEVEN"
          ],
          [
           "CASEY'S"
          ],
          [
           "CIRCLE K"
          ],
          [
           "CASEY'S"
          ],
          [
           "CIRCLE K"
          ],
          [
           "CIRCLE K"
          ],
          [
           "CIRCLE K"
          ],
          [
           "CASEY'S"
          ],
          [
           "CASEY'S"
          ],
          [
           "CASEY'S"
          ],
          [
           "7-ELEVEN"
          ],
          [
           "CASEY'S"
          ],
          [
           "7-ELEVEN"
          ],
          [
           "7-ELEVEN"
          ],
          [
           "CASEY'S"
          ],
          [
           "CASEY'S"
          ],
          [
           "SPEEDWAY"
          ],
          [
           "CIRCLE K"
          ],
          [
           "CIRCLE K"
          ],
          [
           "CIRCLE K"
          ],
          [
           "CIRCLE K"
          ],
          [
           "7-ELEVEN"
          ],
          [
           "7-ELEVEN"
          ],
          [
           "CASEY'S"
          ],
          [
           "CIRCLE K"
          ],
          [
           "CASEY'S"
          ],
          [
           "CIRCLE K"
          ],
          [
           "CASEY'S"
          ],
          [
           "CASEY'S"
          ],
          [
           "CIRCLE K"
          ],
          [
           "CIRCLE K"
          ],
          [
           "CASEY'S"
          ],
          [
           "CASEY'S"
          ],
          [
           "CIRCLE K"
          ],
          [
           "SPEEDWAY"
          ],
          [
           "SPEEDWAY"
          ],
          [
           "SPEEDWAY"
          ],
          [
           "SPEEDWAY"
          ],
          [
           "CASEY'S"
          ],
          [
           "7-ELEVEN"
          ],
          [
           "CIRCLE K"
          ],
          [
           "SPEEDWAY"
          ],
          [
           "CASEY'S"
          ],
          [
           "CASEY'S"
          ],
          [
           "CASEY'S"
          ],
          [
           "CIRCLE K"
          ],
          [
           "CASEY'S"
          ],
          [
           "CIRCLE K"
          ],
          [
           "CIRCLE K"
          ],
          [
           "CASEY'S"
          ],
          [
           "CASEY'S"
          ],
          [
           "CASEY'S"
          ],
          [
           "CIRCLE K"
          ],
          [
           "SPEEDWAY"
          ],
          [
           "CASEY'S"
          ],
          [
           "CASEY'S"
          ],
          [
           "CIRCLE K"
          ],
          [
           "CIRCLE K"
          ],
          [
           "SPEEDWAY"
          ],
          [
           "CASEY'S"
          ],
          [
           "7-ELEVEN"
          ],
          [
           "CASEY'S"
          ],
          [
           "SPEEDWAY"
          ],
          [
           "CIRCLE K"
          ],
          [
           "SPEEDWAY"
          ],
          [
           "CIRCLE K"
          ],
          [
           "CIRCLE K"
          ],
          [
           "SPEEDWAY"
          ],
          [
           "SPEEDWAY"
          ],
          [
           "CIRCLE K"
          ],
          [
           "CASEY'S"
          ],
          [
           "7-ELEVEN"
          ],
          [
           "SPEEDWAY"
          ],
          [
           "7-ELEVEN"
          ],
          [
           "7-ELEVEN"
          ],
          [
           "SPEEDWAY"
          ],
          [
           "SPEEDWAY"
          ],
          [
           "7-ELEVEN"
          ],
          [
           "SPEEDWAY"
          ],
          [
           "7-ELEVEN"
          ],
          [
           "CASEY'S"
          ],
          [
           "7-ELEVEN"
          ],
          [
           "7-ELEVEN"
          ],
          [
           "SPEEDWAY"
          ],
          [
           "7-ELEVEN"
          ],
          [
           "SPEEDWAY"
          ],
          [
           "7-ELEVEN"
          ],
          [
           "CASEY'S"
          ],
          [
           "7-ELEVEN"
          ],
          [
           "SPEEDWAY"
          ],
          [
           "GOODSTOP BY CASEY'S"
          ],
          [
           "7-ELEVEN"
          ],
          [
           "SPEEDWAY"
          ],
          [
           "7-ELEVEN"
          ],
          [
           "CASEY'S"
          ],
          [
           "7-ELEVEN"
          ],
          [
           "CASEY'S"
          ],
          [
           "7-ELEVEN"
          ],
          [
           "7-ELEVEN"
          ],
          [
           "SPEEDWAY"
          ],
          [
           "SPEEDWAY"
          ],
          [
           "GOODSTOP BY CASEY'S"
          ],
          [
           "7-ELEVEN"
          ],
          [
           "7-ELEVEN"
          ],
          [
           "SPEEDWAY"
          ],
          [
           "SPEEDWAY"
          ],
          [
           "CASEY'S"
          ],
          [
           "CIRCLE K"
          ],
          [
           "CASEY'S"
          ],
          [
           "7-ELEVEN"
          ],
          [
           "7-ELEVEN"
          ],
          [
           "7-ELEVEN"
          ],
          [
           "7-ELEVEN"
          ],
          [
           "CIRCLE K"
          ],
          [
           "7-ELEVEN"
          ],
          [
           "7-ELEVEN"
          ],
          [
           "7-ELEVEN"
          ],
          [
           "CIRCLE K"
          ],
          [
           "SPEEDWAY"
          ],
          [
           "7-ELEVEN"
          ],
          [
           "CASEY'S"
          ],
          [
           "7-ELEVEN"
          ],
          [
           "CIRCLE K"
          ],
          [
           "7-ELEVEN"
          ],
          [
           "7-ELEVEN"
          ],
          [
           "CIRCLE K"
          ],
          [
           "7-ELEVEN"
          ],
          [
           "CIRCLE K"
          ],
          [
           "7-ELEVEN"
          ],
          [
           "7-ELEVEN"
          ],
          [
           "CIRCLE K"
          ],
          [
           "7-ELEVEN"
          ],
          [
           "7-ELEVEN"
          ],
          [
           "7-ELEVEN"
          ],
          [
           "7-ELEVEN"
          ],
          [
           "7-ELEVEN"
          ],
          [
           "7-ELEVEN"
          ],
          [
           "SPEEDWAY"
          ],
          [
           "7-ELEVEN"
          ],
          [
           "7-ELEVEN"
          ],
          [
           "7-ELEVEN"
          ],
          [
           "7-ELEVEN"
          ],
          [
           "GOODSTOP BY CASEY'S"
          ],
          [
           "7-ELEVEN"
          ],
          [
           "CASEY'S"
          ],
          [
           "7-ELEVEN"
          ],
          [
           "CASEY'S"
          ],
          [
           "7-ELEVEN"
          ],
          [
           "7-ELEVEN"
          ],
          [
           "7-ELEVEN"
          ],
          [
           "7-ELEVEN"
          ],
          [
           "7-ELEVEN"
          ],
          [
           "7-ELEVEN"
          ],
          [
           "7-ELEVEN"
          ],
          [
           "7-ELEVEN"
          ],
          [
           "7-ELEVEN"
          ],
          [
           "7-ELEVEN"
          ],
          [
           "7-ELEVEN"
          ],
          [
           "7-ELEVEN"
          ],
          [
           "7-ELEVEN"
          ],
          [
           "7-ELEVEN"
          ],
          [
           "7-ELEVEN"
          ],
          [
           "7-ELEVEN"
          ],
          [
           "7-ELEVEN"
          ],
          [
           "7-ELEVEN"
          ],
          [
           "7-ELEVEN"
          ],
          [
           "7-ELEVEN"
          ],
          [
           "7-ELEVEN"
          ],
          [
           "CIRCLE K"
          ],
          [
           "7-ELEVEN"
          ],
          [
           "7-ELEVEN"
          ],
          [
           "7-ELEVEN"
          ],
          [
           "7-ELEVEN"
          ],
          [
           "CASEY'S"
          ],
          [
           "7-ELEVEN"
          ],
          [
           "7-ELEVEN"
          ],
          [
           "7-ELEVEN"
          ],
          [
           "SPEEDWAY"
          ],
          [
           "7-ELEVEN"
          ],
          [
           "7-ELEVEN"
          ],
          [
           "CIRCLE K"
          ],
          [
           "7-ELEVEN"
          ],
          [
           "7-ELEVEN"
          ],
          [
           "7-ELEVEN"
          ],
          [
           "7-ELEVEN"
          ],
          [
           "SPEEDWAY"
          ],
          [
           "7-ELEVEN"
          ],
          [
           "7-ELEVEN"
          ],
          [
           "CIRCLE K"
          ],
          [
           "7-ELEVEN"
          ],
          [
           "CIRCLE K"
          ],
          [
           "7-ELEVEN"
          ],
          [
           "CIRCLE K"
          ],
          [
           "7-ELEVEN"
          ],
          [
           "SPEEDWAY"
          ],
          [
           "CASEY'S"
          ],
          [
           "7-ELEVEN"
          ],
          [
           "CIRCLE K"
          ],
          [
           "CIRCLE K"
          ],
          [
           "7-ELEVEN"
          ],
          [
           "7-ELEVEN"
          ],
          [
           "7-ELEVEN"
          ],
          [
           "7-ELEVEN"
          ],
          [
           "CIRCLE K"
          ],
          [
           "7-ELEVEN"
          ],
          [
           "CIRCLE K"
          ],
          [
           "7-ELEVEN"
          ],
          [
           "7-ELEVEN"
          ],
          [
           "7-ELEVEN"
          ],
          [
           "CASEY'S"
          ],
          [
           "SPEEDWAY"
          ],
          [
           "CIRCLE K"
          ],
          [
           "7-ELEVEN"
          ],
          [
           "7-ELEVEN"
          ],
          [
           "7-ELEVEN"
          ],
          [
           "CASEY'S"
          ],
          [
           "7-ELEVEN"
          ],
          [
           "7-ELEVEN"
          ],
          [
           "CIRCLE K"
          ],
          [
           "7-ELEVEN"
          ],
          [
           "7-ELEVEN"
          ],
          [
           "CIRCLE K"
          ],
          [
           "7-ELEVEN"
          ],
          [
           "CIRCLE K"
          ],
          [
           "CIRCLE K"
          ],
          [
           "7-ELEVEN"
          ],
          [
           "CIRCLE K"
          ],
          [
           "7-ELEVEN"
          ],
          [
           "CIRCLE K"
          ],
          [
           "CIRCLE K"
          ],
          [
           "CIRCLE K"
          ],
          [
           "CASEY'S"
          ],
          [
           "SPEEDWAY"
          ],
          [
           "7-ELEVEN"
          ],
          [
           "7-ELEVEN"
          ],
          [
           "SPEEDWAY"
          ],
          [
           "CIRCLE K"
          ],
          [
           "SPEEDWAY"
          ],
          [
           "7-ELEVEN"
          ],
          [
           "7-ELEVEN"
          ],
          [
           "7-ELEVEN"
          ],
          [
           "CASEY'S"
          ],
          [
           "SPEEDWAY"
          ],
          [
           "CASEY'S"
          ],
          [
           "7-ELEVEN"
          ],
          [
           "CIRCLE K"
          ],
          [
           "CASEY'S"
          ],
          [
           "CASEY'S"
          ],
          [
           "7-ELEVEN"
          ],
          [
           "CIRCLE K"
          ],
          [
           "CASEY'S"
          ],
          [
           "CASEY'S"
          ],
          [
           "CIRCLE K"
          ],
          [
           "SPEEDWAY"
          ],
          [
           "7-ELEVEN"
          ],
          [
           "CASEY'S"
          ],
          [
           "CIRCLE K"
          ],
          [
           "CIRCLE K"
          ],
          [
           "7-ELEVEN"
          ],
          [
           "7-ELEVEN"
          ],
          [
           "SPEEDWAY"
          ],
          [
           "SPEEDWAY"
          ],
          [
           "SPEEDWAY"
          ],
          [
           "7-ELEVEN"
          ],
          [
           "CIRCLE K"
          ],
          [
           "CASEY'S"
          ],
          [
           "CIRCLE K"
          ],
          [
           "7-ELEVEN"
          ],
          [
           "7-ELEVEN"
          ],
          [
           "7-ELEVEN"
          ],
          [
           "SPEEDWAY"
          ],
          [
           "CASEY'S"
          ],
          [
           "CASEY'S"
          ],
          [
           "7-ELEVEN"
          ],
          [
           "CIRCLE K"
          ],
          [
           "CIRCLE K"
          ],
          [
           "CASEY'S"
          ],
          [
           "CASEY'S"
          ],
          [
           "CASEY'S"
          ],
          [
           "7-ELEVEN"
          ],
          [
           "7-ELEVEN"
          ],
          [
           "CASEY'S"
          ],
          [
           "7-ELEVEN"
          ],
          [
           "7-ELEVEN"
          ],
          [
           "CASEY'S"
          ],
          [
           "SPEEDWAY"
          ],
          [
           "7-ELEVEN"
          ],
          [
           "CASEY'S"
          ],
          [
           "7-ELEVEN"
          ],
          [
           "CASEY'S"
          ],
          [
           "CASEY'S"
          ],
          [
           "7-ELEVEN"
          ],
          [
           "7-ELEVEN"
          ],
          [
           "7-ELEVEN"
          ],
          [
           "CASEY'S"
          ],
          [
           "7-ELEVEN"
          ],
          [
           "CASEY'S"
          ],
          [
           "7-ELEVEN"
          ],
          [
           "7-ELEVEN"
          ],
          [
           "7-ELEVEN"
          ],
          [
           "7-ELEVEN"
          ],
          [
           "SPEEDWAY"
          ],
          [
           "CASEY'S"
          ],
          [
           "7-ELEVEN"
          ],
          [
           "CIRCLE K"
          ],
          [
           "7-ELEVEN"
          ],
          [
           "7-ELEVEN"
          ],
          [
           "CIRCLE K"
          ],
          [
           "CIRCLE K"
          ],
          [
           "CASEY'S"
          ],
          [
           "CASEY'S"
          ],
          [
           "SPEEDWAY"
          ],
          [
           "7-ELEVEN"
          ],
          [
           "CASEY'S"
          ],
          [
           "7-ELEVEN"
          ],
          [
           "7-ELEVEN"
          ],
          [
           "7-ELEVEN"
          ],
          [
           "CIRCLE K"
          ],
          [
           "7-ELEVEN"
          ],
          [
           "SPEEDWAY"
          ],
          [
           "CIRCLE K"
          ],
          [
           "CIRCLE K"
          ],
          [
           "CIRCLE K"
          ],
          [
           "CASEY'S"
          ],
          [
           "CASEY'S"
          ],
          [
           "7-ELEVEN"
          ],
          [
           "CIRCLE K"
          ],
          [
           "7-ELEVEN"
          ],
          [
           "CASEY'S"
          ],
          [
           "CASEY'S"
          ],
          [
           "7-ELEVEN"
          ],
          [
           "CASEY'S"
          ],
          [
           "CASEY'S"
          ],
          [
           "CASEY'S"
          ],
          [
           "CASEY'S"
          ],
          [
           "CASEY'S"
          ],
          [
           "CASEY'S"
          ],
          [
           "CASEY'S"
          ],
          [
           "CASEY'S"
          ],
          [
           "CASEY'S"
          ],
          [
           "CIRCLE K"
          ],
          [
           "CASEY'S"
          ],
          [
           "CIRCLE K"
          ],
          [
           "CASEY'S"
          ],
          [
           "CIRCLE K"
          ],
          [
           "CASEY'S"
          ],
          [
           "CASEY'S"
          ],
          [
           "CASEY'S"
          ],
          [
           "CASEY'S"
          ],
          [
           "CIRCLE K"
          ],
          [
           "CASEY'S"
          ],
          [
           "CASEY'S"
          ],
          [
           "CIRCLE K"
          ],
          [
           "CASEY'S"
          ],
          [
           "CASEY'S"
          ],
          [
           "CASEY'S"
          ],
          [
           "CASEY'S"
          ],
          [
           "CASEY'S"
          ],
          [
           "CASEY'S"
          ],
          [
           "CASEY'S"
          ],
          [
           "CASEY'S"
          ],
          [
           "CIRCLE K"
          ],
          [
           "CASEY'S"
          ],
          [
           "CASEY'S"
          ],
          [
           "CASEY'S"
          ],
          [
           "CASEY'S"
          ],
          [
           "CASEY'S"
          ],
          [
           "CASEY'S"
          ],
          [
           "CASEY'S"
          ],
          [
           "CASEY'S"
          ],
          [
           "CIRCLE K"
          ],
          [
           "CASEY'S"
          ],
          [
           "CASEY'S"
          ],
          [
           "CASEY'S"
          ],
          [
           "SPEEDWAY"
          ],
          [
           "CASEY'S"
          ],
          [
           "CASEY'S"
          ],
          [
           "CASEY'S"
          ],
          [
           "CASEY'S"
          ],
          [
           "CASEY'S"
          ],
          [
           "CIRCLE K"
          ],
          [
           "CIRCLE K"
          ],
          [
           "SPEEDWAY"
          ],
          [
           "SPEEDWAY"
          ],
          [
           "7-ELEVEN"
          ],
          [
           "7-ELEVEN"
          ],
          [
           "7-ELEVEN"
          ],
          [
           "CIRCLE K"
          ],
          [
           "SPEEDWAY"
          ],
          [
           "CASEY'S"
          ],
          [
           "CASEY'S"
          ],
          [
           "7-ELEVEN"
          ],
          [
           "CIRCLE K"
          ],
          [
           "CIRCLE K"
          ],
          [
           "CASEY'S"
          ],
          [
           "7-ELEVEN"
          ],
          [
           "CASEY'S"
          ],
          [
           "CASEY'S"
          ],
          [
           "SPEEDWAY"
          ],
          [
           "CASEY'S"
          ],
          [
           "CASEY'S"
          ],
          [
           "CIRCLE K"
          ],
          [
           "CASEY'S"
          ],
          [
           "7-ELEVEN"
          ],
          [
           "CASEY'S"
          ],
          [
           "7-ELEVEN"
          ],
          [
           "CIRCLE K"
          ],
          [
           "7-ELEVEN"
          ],
          [
           "SPEEDWAY"
          ],
          [
           "CASEY'S"
          ],
          [
           "CIRCLE K"
          ],
          [
           "GOODSTOP BY CASEY'S"
          ],
          [
           "7-ELEVEN"
          ],
          [
           "CASEY'S"
          ],
          [
           "CIRCLE K"
          ],
          [
           "CIRCLE K"
          ],
          [
           "CIRCLE K"
          ],
          [
           "CASEY'S"
          ],
          [
           "7-ELEVEN"
          ],
          [
           "CIRCLE K"
          ],
          [
           "7-ELEVEN"
          ],
          [
           "CIRCLE K"
          ],
          [
           "CASEY'S"
          ],
          [
           "CIRCLE K"
          ],
          [
           "CASEY'S"
          ],
          [
           "7-ELEVEN"
          ],
          [
           "CASEY'S"
          ],
          [
           "CASEY'S"
          ],
          [
           "CASEY'S"
          ],
          [
           "CASEY'S"
          ],
          [
           "CIRCLE K"
          ],
          [
           "CASEY'S"
          ],
          [
           "7-ELEVEN"
          ],
          [
           "CASEY'S"
          ],
          [
           "CIRCLE K"
          ],
          [
           "CASEY'S"
          ],
          [
           "CASEY'S"
          ],
          [
           "7-ELEVEN"
          ],
          [
           "CIRCLE K"
          ],
          [
           "7-ELEVEN"
          ],
          [
           "CASEY'S"
          ],
          [
           "CASEY'S"
          ],
          [
           "7-ELEVEN"
          ],
          [
           "7-ELEVEN"
          ],
          [
           "7-ELEVEN"
          ],
          [
           "CASEY'S"
          ],
          [
           "CASEY'S"
          ],
          [
           "CIRCLE K"
          ],
          [
           "CIRCLE K"
          ],
          [
           "CASEY'S"
          ],
          [
           "CASEY'S"
          ],
          [
           "CASEY'S"
          ],
          [
           "CASEY'S"
          ],
          [
           "CASEY'S"
          ],
          [
           "CASEY'S"
          ],
          [
           "CIRCLE K"
          ],
          [
           "7-ELEVEN"
          ],
          [
           "7-ELEVEN"
          ],
          [
           "SPEEDWAY"
          ],
          [
           "7-ELEVEN"
          ],
          [
           "CASEY'S"
          ],
          [
           "7-ELEVEN"
          ],
          [
           "SPEEDWAY"
          ],
          [
           "CASEY'S"
          ],
          [
           "7-ELEVEN"
          ],
          [
           "CIRCLE K"
          ],
          [
           "7-ELEVEN"
          ],
          [
           "7-ELEVEN"
          ],
          [
           "CASEY'S"
          ],
          [
           "CASEY'S"
          ],
          [
           "CASEY'S"
          ],
          [
           "SPEEDWAY"
          ],
          [
           "CASEY'S"
          ],
          [
           "7-ELEVEN"
          ],
          [
           "CASEY'S"
          ],
          [
           "7-ELEVEN"
          ],
          [
           "CIRCLE K"
          ],
          [
           "CASEY'S"
          ],
          [
           "7-ELEVEN"
          ],
          [
           "CIRCLE K"
          ],
          [
           "CIRCLE K"
          ],
          [
           "CASEY'S"
          ],
          [
           "CIRCLE K"
          ],
          [
           "CASEY'S"
          ],
          [
           "CASEY'S"
          ],
          [
           "7-ELEVEN"
          ],
          [
           "7-ELEVEN"
          ],
          [
           "CASEY'S"
          ],
          [
           "CASEY'S"
          ],
          [
           "7-ELEVEN"
          ],
          [
           "CIRCLE K"
          ],
          [
           "7-ELEVEN"
          ],
          [
           "CASEY'S"
          ],
          [
           "CIRCLE K"
          ],
          [
           "CIRCLE K"
          ],
          [
           "CASEY'S"
          ],
          [
           "CASEY'S"
          ],
          [
           "CASEY'S"
          ],
          [
           "7-ELEVEN"
          ],
          [
           "CASEY'S"
          ],
          [
           "7-ELEVEN"
          ],
          [
           "CASEY'S"
          ],
          [
           "CASEY'S"
          ],
          [
           "CASEY'S"
          ],
          [
           "7-ELEVEN"
          ],
          [
           "7-ELEVEN"
          ],
          [
           "ON THE RUN"
          ],
          [
           "CASEY'S"
          ],
          [
           "7-ELEVEN"
          ],
          [
           "CASEY'S"
          ],
          [
           "CASEY'S"
          ],
          [
           "CASEY'S"
          ],
          [
           "CIRCLE K"
          ],
          [
           "CIRCLE K"
          ],
          [
           "7-ELEVEN"
          ],
          [
           "7-ELEVEN"
          ],
          [
           "CASEY'S"
          ],
          [
           "CASEY'S"
          ],
          [
           "CASEY'S"
          ],
          [
           "CIRCLE K"
          ],
          [
           "SPEEDWAY"
          ],
          [
           "CIRCLE K"
          ],
          [
           "CIRCLE K"
          ],
          [
           "CASEY'S"
          ],
          [
           "CASEY'S"
          ],
          [
           "CASEY'S"
          ],
          [
           "CASEY'S"
          ],
          [
           "7-ELEVEN"
          ],
          [
           "SPEEDWAY"
          ],
          [
           "CASEY'S"
          ],
          [
           "CIRCLE K"
          ],
          [
           "CIRCLE K"
          ],
          [
           "CIRCLE K"
          ],
          [
           "CIRCLE K"
          ],
          [
           "CIRCLE K"
          ],
          [
           "CIRCLE K"
          ],
          [
           "CIRCLE K"
          ],
          [
           "CASEY'S"
          ],
          [
           "CIRCLE K"
          ],
          [
           "CIRCLE K"
          ],
          [
           "7-ELEVEN"
          ],
          [
           "CIRCLE K"
          ],
          [
           "CASEY'S"
          ],
          [
           "7-ELEVEN"
          ],
          [
           "CIRCLE K"
          ],
          [
           "CASEY'S"
          ],
          [
           "CASEY'S"
          ],
          [
           "CIRCLE K"
          ],
          [
           "CASEY'S"
          ],
          [
           "CASEY'S"
          ],
          [
           "CIRCLE K"
          ],
          [
           "CASEY'S"
          ],
          [
           "CIRCLE K"
          ],
          [
           "CIRCLE K"
          ],
          [
           "CIRCLE K"
          ],
          [
           "CIRCLE K"
          ],
          [
           "SPEEDWAY"
          ],
          [
           "CASEY'S"
          ],
          [
           "CASEY'S"
          ],
          [
           "CASEY'S"
          ],
          [
           "CIRCLE K"
          ],
          [
           "7-ELEVEN"
          ],
          [
           "CIRCLE K"
          ],
          [
           "CASEY'S"
          ],
          [
           "7-ELEVEN"
          ],
          [
           "CASEY'S"
          ],
          [
           "CIRCLE K"
          ],
          [
           "CASEY'S"
          ],
          [
           "CASEY'S"
          ],
          [
           "CIRCLE K"
          ],
          [
           "CIRCLE K"
          ],
          [
           "CIRCLE K"
          ],
          [
           "CASEY'S"
          ],
          [
           "CIRCLE K"
          ],
          [
           "CIRCLE K"
          ],
          [
           "CASEY'S"
          ],
          [
           "CASEY'S"
          ],
          [
           "CASEY'S"
          ],
          [
           "7-ELEVEN"
          ],
          [
           "SPEEDWAY"
          ],
          [
           "CIRCLE K"
          ],
          [
           "CASEY'S"
          ],
          [
           "CASEY'S"
          ],
          [
           "CIRCLE K"
          ],
          [
           "CASEY'S"
          ],
          [
           "CASEY'S"
          ],
          [
           "CASEY'S"
          ],
          [
           "CIRCLE K"
          ],
          [
           "7-ELEVEN"
          ],
          [
           "CIRCLE K"
          ],
          [
           "CIRCLE K"
          ],
          [
           "SPEEDWAY"
          ],
          [
           "CASEY'S"
          ],
          [
           "CASEY'S"
          ],
          [
           "CIRCLE K"
          ],
          [
           "SPEEDWAY"
          ],
          [
           "7-ELEVEN"
          ],
          [
           "CIRCLE K"
          ],
          [
           "7-ELEVEN"
          ],
          [
           "CASEY'S"
          ],
          [
           "CASEY'S"
          ],
          [
           "CIRCLE K"
          ],
          [
           "CASEY'S"
          ],
          [
           "7-ELEVEN"
          ],
          [
           "SPEEDWAY"
          ],
          [
           "CIRCLE K"
          ],
          [
           "CASEY'S"
          ],
          [
           "SPEEDWAY"
          ],
          [
           "CIRCLE K"
          ],
          [
           "SPEEDWAY"
          ],
          [
           "7-ELEVEN"
          ],
          [
           "SPEEDWAY"
          ],
          [
           "SPEEDWAY"
          ],
          [
           "SPEEDWAY"
          ],
          [
           "CASEY'S"
          ],
          [
           "CASEY'S"
          ],
          [
           "CIRCLE K"
          ],
          [
           "CIRCLE K"
          ],
          [
           "CASEY'S"
          ],
          [
           "7-ELEVEN"
          ],
          [
           "CASEY'S"
          ],
          [
           "CASEY'S"
          ],
          [
           "CASEY'S"
          ],
          [
           "CASEY'S"
          ],
          [
           "SPEEDWAY"
          ],
          [
           "SPEEDWAY"
          ],
          [
           "CIRCLE K"
          ],
          [
           "CASEY'S"
          ],
          [
           "CIRCLE K"
          ],
          [
           "CASEY'S"
          ],
          [
           "SPEEDWAY"
          ],
          [
           "7-ELEVEN"
          ],
          [
           "SPEEDWAY"
          ],
          [
           "7-ELEVEN"
          ],
          [
           "7-ELEVEN"
          ],
          [
           "CASEY'S"
          ],
          [
           "SPEEDWAY"
          ],
          [
           "SPEEDWAY"
          ],
          [
           "SPEEDWAY"
          ],
          [
           "7-ELEVEN"
          ],
          [
           "CIRCLE K"
          ],
          [
           "SPEEDWAY"
          ],
          [
           "CASEY'S"
          ],
          [
           "7-ELEVEN"
          ],
          [
           "CIRCLE K"
          ],
          [
           "SPEEDWAY"
          ],
          [
           "CIRCLE K"
          ],
          [
           "CIRCLE K"
          ],
          [
           "7-ELEVEN"
          ],
          [
           "SPEEDWAY"
          ],
          [
           "CIRCLE K"
          ],
          [
           "7-ELEVEN"
          ],
          [
           "SPEEDWAY"
          ],
          [
           "CIRCLE K"
          ],
          [
           "CASEY'S"
          ],
          [
           "CASEY'S"
          ],
          [
           "CASEY'S"
          ],
          [
           "SPEEDWAY"
          ],
          [
           "7-ELEVEN"
          ],
          [
           "7-ELEVEN"
          ],
          [
           "7-ELEVEN"
          ],
          [
           "7-ELEVEN"
          ],
          [
           "7-ELEVEN"
          ],
          [
           "CASEY'S"
          ],
          [
           "7-ELEVEN"
          ],
          [
           "CIRCLE K"
          ],
          [
           "SPEEDWAY"
          ],
          [
           "CIRCLE K"
          ],
          [
           "CASEY'S"
          ],
          [
           "7-ELEVEN"
          ],
          [
           "SPEEDWAY"
          ],
          [
           "SPEEDWAY"
          ],
          [
           "7-ELEVEN"
          ],
          [
           "CASEY'S"
          ],
          [
           "SPEEDWAY"
          ],
          [
           "CIRCLE K"
          ],
          [
           "CIRCLE K"
          ],
          [
           "CASEY'S"
          ],
          [
           "SPEEDWAY"
          ],
          [
           "7-ELEVEN"
          ],
          [
           "CASEY'S"
          ],
          [
           "CASEY'S"
          ],
          [
           "CASEY'S"
          ],
          [
           "CIRCLE K"
          ],
          [
           "CIRCLE K"
          ],
          [
           "CIRCLE K"
          ],
          [
           "SPEEDWAY"
          ],
          [
           "CIRCLE K"
          ],
          [
           "CIRCLE K"
          ],
          [
           "SPEEDWAY"
          ],
          [
           "SPEEDWAY"
          ],
          [
           "7-ELEVEN"
          ],
          [
           "CIRCLE K"
          ],
          [
           "7-ELEVEN"
          ],
          [
           "CIRCLE K"
          ],
          [
           "CIRCLE K"
          ],
          [
           "CASEY'S"
          ],
          [
           "CIRCLE K"
          ],
          [
           "CIRCLE K"
          ],
          [
           "CIRCLE K"
          ],
          [
           "SPEEDWAY"
          ],
          [
           "CIRCLE K"
          ],
          [
           "SPEEDWAY"
          ],
          [
           "CIRCLE K"
          ],
          [
           "CIRCLE K"
          ],
          [
           "CIRCLE K"
          ],
          [
           "CIRCLE K"
          ],
          [
           "CIRCLE K"
          ],
          [
           "CIRCLE K"
          ],
          [
           "7-ELEVEN"
          ],
          [
           "7-ELEVEN"
          ],
          [
           "GOODSTOP BY CASEY'S"
          ],
          [
           "CIRCLE K"
          ],
          [
           "7-ELEVEN"
          ],
          [
           "CASEY'S"
          ],
          [
           "CIRCLE K"
          ],
          [
           "7-ELEVEN"
          ],
          [
           "CASEY'S"
          ],
          [
           "CIRCLE K"
          ],
          [
           "CASEY'S"
          ],
          [
           "CIRCLE K"
          ],
          [
           "7-ELEVEN"
          ],
          [
           "SPEEDWAY"
          ],
          [
           "7-ELEVEN"
          ],
          [
           "CASEY'S"
          ],
          [
           "CASEY'S"
          ],
          [
           "CASEY'S"
          ],
          [
           "7-ELEVEN"
          ],
          [
           "SPEEDWAY"
          ],
          [
           "7-ELEVEN"
          ],
          [
           "CASEY'S"
          ],
          [
           "CIRCLE K"
          ],
          [
           "7-ELEVEN"
          ],
          [
           "7-ELEVEN"
          ],
          [
           "7-ELEVEN"
          ],
          [
           "7-ELEVEN"
          ],
          [
           "7-ELEVEN"
          ],
          [
           "CASEY'S"
          ],
          [
           "7-ELEVEN"
          ],
          [
           "7-ELEVEN"
          ],
          [
           "7-ELEVEN"
          ],
          [
           "7-ELEVEN"
          ],
          [
           "SPEEDWAY"
          ],
          [
           "CIRCLE K"
          ],
          [
           "SPEEDWAY"
          ],
          [
           "CIRCLE K"
          ],
          [
           "CASEY'S"
          ],
          [
           "CIRCLE K"
          ],
          [
           "CASEY'S"
          ],
          [
           "CIRCLE K"
          ],
          [
           "CIRCLE K"
          ],
          [
           "CASEY'S"
          ],
          [
           "CASEY'S"
          ],
          [
           "7-ELEVEN"
          ],
          [
           "CASEY'S"
          ],
          [
           "CASEY'S"
          ],
          [
           "7-ELEVEN"
          ],
          [
           "SPEEDWAY"
          ],
          [
           "CASEY'S"
          ],
          [
           "CASEY'S"
          ],
          [
           "CASEY'S"
          ],
          [
           "CASEY'S"
          ],
          [
           "CIRCLE K"
          ],
          [
           "CIRCLE K"
          ],
          [
           "CIRCLE K"
          ],
          [
           "CIRCLE K"
          ],
          [
           "CIRCLE K"
          ],
          [
           "CASEY'S"
          ],
          [
           "CASEY'S"
          ],
          [
           "CASEY'S"
          ],
          [
           "CASEY'S"
          ],
          [
           "7-ELEVEN"
          ],
          [
           "CASEY'S"
          ],
          [
           "SPEEDWAY"
          ],
          [
           "CASEY'S"
          ],
          [
           "7-ELEVEN"
          ],
          [
           "CIRCLE K"
          ],
          [
           "7-ELEVEN"
          ],
          [
           "SPEEDWAY"
          ],
          [
           "CIRCLE K"
          ],
          [
           "CASEY'S"
          ],
          [
           "7-ELEVEN"
          ],
          [
           "7-ELEVEN"
          ],
          [
           "SPEEDWAY"
          ],
          [
           "7-ELEVEN"
          ],
          [
           "CASEY'S"
          ],
          [
           "7-ELEVEN"
          ],
          [
           "7-ELEVEN"
          ],
          [
           "7-ELEVEN"
          ],
          [
           "7-ELEVEN"
          ],
          [
           "7-ELEVEN"
          ],
          [
           "7-ELEVEN"
          ],
          [
           "SPEEDWAY"
          ],
          [
           "7-ELEVEN"
          ],
          [
           "SPEEDWAY"
          ],
          [
           "7-ELEVEN"
          ],
          [
           "CASEY'S"
          ],
          [
           "7-ELEVEN"
          ],
          [
           "7-ELEVEN"
          ],
          [
           "CIRCLE K"
          ],
          [
           "CASEY'S"
          ],
          [
           "SPEEDWAY"
          ],
          [
           "SPEEDWAY"
          ],
          [
           "CIRCLE K"
          ],
          [
           "SPEEDWAY"
          ],
          [
           "7-ELEVEN"
          ],
          [
           "SPEEDWAY"
          ],
          [
           "7-ELEVEN"
          ],
          [
           "7-ELEVEN"
          ],
          [
           "CASEY'S"
          ],
          [
           "7-ELEVEN"
          ],
          [
           "CASEY'S"
          ],
          [
           "7-ELEVEN"
          ],
          [
           "7-ELEVEN"
          ],
          [
           "7-ELEVEN"
          ],
          [
           "CASEY'S"
          ],
          [
           "CASEY'S"
          ],
          [
           "7-ELEVEN"
          ],
          [
           "CASEY'S"
          ],
          [
           "CASEY'S"
          ],
          [
           "CASEY'S"
          ],
          [
           "CIRCLE K"
          ],
          [
           "CASEY'S"
          ],
          [
           "CIRCLE K"
          ],
          [
           "7-ELEVEN"
          ],
          [
           "CASEY'S"
          ],
          [
           "CASEY'S"
          ],
          [
           "CIRCLE K"
          ],
          [
           "CIRCLE K"
          ],
          [
           "CIRCLE K"
          ],
          [
           "CASEY'S"
          ],
          [
           "CIRCLE K"
          ],
          [
           "CASEY'S"
          ],
          [
           "CIRCLE K"
          ],
          [
           "CASEY'S"
          ],
          [
           "CIRCLE K"
          ],
          [
           "CASEY'S"
          ],
          [
           "CASEY'S"
          ],
          [
           "CASEY'S"
          ],
          [
           "CIRCLE K"
          ],
          [
           "CASEY'S"
          ],
          [
           "CIRCLE K"
          ],
          [
           "CASEY'S"
          ],
          [
           "CASEY'S"
          ],
          [
           "CIRCLE K"
          ],
          [
           "CASEY'S"
          ],
          [
           "CASEY'S"
          ],
          [
           "CASEY'S"
          ],
          [
           "CASEY'S"
          ],
          [
           "CASEY'S"
          ],
          [
           "SPEEDWAY"
          ],
          [
           "CASEY'S"
          ],
          [
           "CASEY'S"
          ],
          [
           "CASEY'S"
          ],
          [
           "CIRCLE K"
          ],
          [
           "CASEY'S"
          ],
          [
           "7-ELEVEN"
          ],
          [
           "CIRCLE K"
          ],
          [
           "CASEY'S"
          ],
          [
           "CASEY'S"
          ],
          [
           "SPEEDWAY"
          ],
          [
           "CASEY'S"
          ],
          [
           "7-ELEVEN"
          ],
          [
           "CASEY'S"
          ],
          [
           "CASEY'S"
          ],
          [
           "CASEY'S"
          ],
          [
           "CASEY'S"
          ],
          [
           "CASEY'S"
          ],
          [
           "CASEY'S"
          ],
          [
           "CIRCLE K"
          ],
          [
           "7-ELEVEN"
          ],
          [
           "CASEY'S"
          ],
          [
           "CIRCLE K"
          ],
          [
           "CIRCLE K"
          ],
          [
           "CIRCLE K"
          ],
          [
           "CIRCLE K"
          ],
          [
           "CIRCLE K"
          ],
          [
           "CASEY'S"
          ],
          [
           "7-ELEVEN"
          ],
          [
           "7-ELEVEN"
          ],
          [
           "7-ELEVEN"
          ],
          [
           "CIRCLE K"
          ],
          [
           "7-ELEVEN"
          ],
          [
           "7-ELEVEN"
          ],
          [
           "7-ELEVEN"
          ],
          [
           "SPEEDWAY"
          ],
          [
           "7-ELEVEN"
          ],
          [
           "CIRCLE K"
          ],
          [
           "7-ELEVEN"
          ],
          [
           "7-ELEVEN"
          ],
          [
           "CIRCLE K"
          ],
          [
           "CIRCLE K"
          ],
          [
           "7-ELEVEN"
          ],
          [
           "7-ELEVEN"
          ],
          [
           "CIRCLE K"
          ]
         ],
         "hovertemplate": "LATITUDE=%{lat}<br>LONGITUDE=%{lon}<br>COMPANY=%{customdata[0]}<br>PARENT NUMBER=%{marker.color}<extra></extra>",
         "lat": [
          41.333,
          41.323881,
          41.141578,
          41.333387,
          41.315,
          41.121354,
          41.3573,
          41.355416,
          41.037268,
          41.377743,
          41.120734,
          41.395874,
          41.213018,
          41.554857,
          41.3242,
          41.121161,
          40.70453,
          41.25801,
          41.295236,
          40.663306,
          40.923306,
          40.92463,
          40.406897,
          40.494157,
          41.367329,
          41.688881,
          41.358694,
          41.356459,
          40.618004,
          41.37121,
          41.211336,
          41.118191,
          41.330734,
          41.100878,
          41.056358,
          41.327184,
          40.604782,
          41.32716,
          41.365596,
          40.73912,
          40.408127,
          41.061104,
          40.6905,
          41.714522,
          41.0214,
          41.004601,
          40.69261,
          40.550603,
          41.163905,
          40.9532,
          42.413873,
          40.976162,
          40.558073,
          40.570964,
          40.91805,
          40.702513,
          40.5826,
          40.929118,
          40.52709,
          40.585777,
          42.022631,
          40.747681,
          40.648517,
          40.697836,
          40.4945,
          40.762939,
          42.232,
          42.139267,
          42.247971,
          40.343202,
          40.669097,
          40.474339,
          40.1459,
          40.540394,
          40.219814,
          40.517332,
          40.743558,
          40.782337,
          40.567261,
          40.259345,
          40.482108,
          40.42669,
          40.743568,
          40.517068,
          40.606989,
          40.486862,
          40.513559,
          40.881539,
          40.782945,
          40.450035,
          40.530418,
          42.065905,
          40.448848,
          40.498208,
          40.737549,
          40.147703,
          42.011079,
          40.532307,
          40.130339,
          42.292821,
          40.115693,
          42.2286,
          40.11616,
          40.035339,
          40.241856,
          40.065408,
          42.2286,
          40.643075,
          40.192139,
          40.110247,
          40.1124,
          40.01073,
          40.113791,
          40.132314,
          40.126896,
          39.899971,
          40.107698,
          40.112518,
          40.307859,
          40.028158,
          40.307795,
          39.990566,
          42.05739,
          40.239053,
          40.3159,
          40.131023,
          39.984951,
          40.145177,
          40.312479,
          42.159,
          40.126823,
          40.3063,
          40.023984,
          39.88837,
          40.30568,
          41.863724,
          40.116471,
          40.12658,
          40.039989,
          42.057076,
          41.999695,
          40.10201,
          42.087698,
          42.054761,
          40.112542,
          41.888698,
          42.188036,
          42.139539,
          40.096676,
          39.477554,
          41.899957,
          41.883539,
          41.995915,
          41.995725,
          42.057796,
          39.805305,
          42.058758,
          41.931516,
          42.026254,
          39.01149,
          39.608824,
          39.684845,
          42.046565,
          39.649921,
          38.907524,
          39.1503,
          38.787939,
          41.882813,
          39.092813,
          42.163279,
          39.713982,
          39.860217,
          42.045912,
          41.857303,
          39.13942,
          39.437443,
          42.031629,
          39.251,
          42.176159,
          42.09874,
          41.876186,
          41.992327,
          39.479061,
          38.929731,
          41.950736,
          38.958068,
          41.931107,
          38.888199,
          42.100355,
          39.602802,
          38.898094,
          39.653405,
          39.481851,
          39.596379,
          39.864665,
          39.155773,
          41.919944,
          39.595619,
          39.488531,
          39.14353,
          42.024692,
          41.996798,
          41.972126,
          41.860375,
          39.791996,
          39.60374,
          41.911682,
          39.1787,
          41.858744,
          42.175297,
          38.912701,
          39.169956,
          39.480378,
          39.793997,
          38.682393,
          39.798644,
          42.066756,
          42.07338,
          41.890081,
          41.939617,
          41.982366,
          38.884003,
          42.0215,
          41.887701,
          38.505308,
          38.586726,
          38.526216,
          41.926158,
          38.591805,
          38.8912,
          38.496466,
          38.901138,
          38.2114,
          38.334466,
          38.412613,
          38.437925,
          38.731542,
          38.602291,
          38.310827,
          41.886709,
          41.88828,
          41.861014,
          41.9818,
          42.018677,
          42.058617,
          38.333691,
          41.863721,
          42.021301,
          41.929362,
          41.9049,
          42.09775,
          39.005108,
          41.884617,
          42.016688,
          40.087884,
          39.932006,
          38.570664,
          41.965698,
          38.518299,
          38.673674,
          42.055061,
          40.39674,
          41.923358,
          39.960219,
          40.039486,
          41.934483,
          42.048875,
          38.983487,
          41.944892,
          41.98871,
          38.991516,
          39.272566,
          41.941582,
          38.521019,
          38.716514,
          39.112092,
          41.900444,
          41.945602,
          39.055974,
          39.1125,
          38.729854,
          39.877138,
          39.321955,
          39.305611,
          41.904491,
          38.716249,
          39.979877,
          42.148014,
          39.39135,
          39.2929,
          39.930494,
          38.729785,
          41.83469,
          41.904364,
          39.702265,
          39.552004,
          39.890149,
          38.960943,
          38.731689,
          39.131839,
          40.016407,
          39.002346,
          39.5497,
          39.405843,
          39.402522,
          39.00471,
          38.974007,
          39.59049,
          39.845244,
          39.2929,
          39.84592,
          39.022843,
          39.851297,
          39.590889,
          39.389278,
          39.251846,
          40.083644,
          42.047941,
          40.147177,
          42.015912,
          42.033708,
          39.434163,
          39.493193,
          40.293812,
          42.009291,
          40.117338,
          39.510877,
          40.297046,
          42.08828,
          39.72359,
          41.987977,
          41.9012,
          39.722852,
          39.888072,
          39.779166,
          39.810234,
          39.894026,
          39.588831,
          39.598205,
          39.83153,
          39.591053,
          39.76552,
          39.279411,
          40.013183,
          39.744973,
          41.690756,
          39.817088,
          39.677052,
          39.876953,
          39.830968,
          42.122234,
          39.961084,
          37.764949,
          42.047677,
          39.68755,
          41.112412,
          42.175244,
          38.078233,
          41.964888,
          38.680597,
          38.015091,
          38.260063,
          38.667944,
          41.264814,
          38.314991,
          41.46729,
          41.522927,
          41.53901,
          38.532833,
          41.908428,
          41.894875,
          41.748985,
          41.579858,
          38.616319,
          41.719828,
          41.579716,
          41.7377,
          38.619021,
          38.6142,
          42.052425,
          38.331673,
          41.879589,
          38.76847,
          38.135021,
          41.703566,
          41.46934,
          41.858281,
          37.810508,
          37.968745,
          37.743618,
          41.5885,
          38.09052,
          37.7687,
          37.15861,
          41.323971,
          41.734551,
          41.506744,
          38.374428,
          41.714362,
          41.530382,
          38.413847,
          38.313351,
          41.69969,
          41.879581,
          37.451473,
          41.588165,
          38.30553,
          37.897483,
          38.52754,
          41.830158,
          37.976123,
          41.527573,
          38.00289,
          37.80801,
          38.509656,
          41.55753,
          37.737858,
          41.615435,
          41.583718,
          37.882688,
          37.730419,
          41.4404,
          41.586314,
          41.628954,
          37.699901,
          37.998921,
          41.691072,
          41.901055,
          37.784521,
          41.8441,
          37.417225,
          37.996347,
          37.727728,
          37.893003,
          38.312419,
          41.702354,
          37.898287,
          37.995405,
          37.741613,
          41.556521,
          41.719956,
          41.445211,
          41.497827,
          37.74069,
          41.647029,
          41.54265,
          41.562167,
          37.725426,
          37.7842,
          37.684231,
          41.623762,
          37.821789,
          41.6077,
          41.602337,
          37.827821,
          37.818921,
          37.727867,
          37.725251,
          41.514584,
          37.9069,
          37.459976,
          41.41906,
          41.563032,
          41.530674,
          37.764599,
          41.834202,
          41.454952,
          41.528928,
          41.523526,
          41.535448,
          41.424981,
          41.597386,
          41.528385,
          41.483792,
          41.348444,
          41.241577,
          41.805656,
          41.775258,
          41.784969,
          41.849158,
          41.766997,
          41.781776,
          41.809669,
          41.764446,
          41.794928,
          41.740838,
          41.718273,
          41.801596,
          41.832354,
          41.814348,
          41.809478,
          41.781972,
          41.767676,
          41.769887,
          41.786076,
          41.816928,
          41.792,
          41.796529,
          41.613169,
          41.636305,
          41.804829,
          41.614268,
          41.842755,
          41.802869,
          41.736919,
          41.75151,
          41.846256,
          41.809929,
          41.764317,
          41.516237,
          41.502768,
          41.430737,
          41.652766,
          41.227783,
          41.893847,
          41.96563,
          41.924985,
          41.994679,
          41.932832,
          41.879724,
          41.928998,
          41.932621,
          41.89683,
          41.910333,
          41.918444,
          41.747894,
          41.77784,
          41.618887,
          41.881867,
          41.884083,
          41.721684,
          41.878434,
          41.876792,
          41.777557,
          41.793498,
          42.181238,
          41.938604,
          41.777679,
          41.879374,
          41.699865,
          41.893021,
          41.901702,
          41.942943,
          41.983326,
          41.785679,
          41.953555,
          41.967952,
          41.799193,
          41.986801,
          41.772058,
          41.990654,
          41.795547,
          41.739693,
          41.706124,
          41.976224,
          41.976387,
          41.782812,
          41.886526,
          41.938196,
          41.933312,
          41.982635,
          41.952286,
          41.932913,
          41.749986,
          41.886065,
          41.953498,
          41.930243,
          41.706018,
          41.961493,
          42.005848,
          41.795305,
          41.960856,
          41.961501,
          41.786201,
          41.869534,
          41.949419,
          41.778801,
          41.976559,
          41.758738,
          41.747313,
          41.79286,
          41.691837,
          41.807312,
          42.005585,
          41.921147,
          41.759738,
          41.885294,
          41.896562,
          41.946136,
          41.892319,
          41.849741,
          41.945532,
          41.880554,
          41.847229,
          41.735443,
          41.658344,
          41.908527,
          41.665534,
          41.954328,
          41.639229,
          41.584976,
          41.837382,
          41.726979,
          41.794153,
          41.890259,
          41.713807,
          41.84961,
          41.918083,
          41.715063,
          41.867535,
          41.810625,
          41.874043,
          41.98331,
          41.965887,
          41.765263,
          41.777523,
          41.846811,
          41.492024,
          41.877137,
          41.923634,
          41.61282,
          41.882964,
          41.889874,
          42.267232,
          42.011963,
          42.005402,
          41.779125,
          41.878342,
          41.566353,
          41.724112,
          41.925044,
          41.753902,
          41.939707,
          41.812668,
          41.736951,
          41.947116,
          41.785314,
          41.687695,
          41.783558,
          41.792125,
          41.709219,
          41.83142,
          41.789426,
          41.917892,
          41.745182,
          41.78397,
          41.682454,
          41.68001,
          41.747075,
          41.8749,
          41.712587,
          41.7681,
          41.64481,
          41.998705,
          41.718475,
          41.199175,
          41.443348,
          41.779406,
          41.819889,
          41.918109,
          41.2938,
          41.507712,
          42.25238,
          41.482577,
          41.466328,
          42.307348,
          41.72362,
          42.456735,
          41.878805,
          42.316244,
          41.353489,
          41.200115,
          41.877891,
          41.893357,
          41.499825,
          42.133351,
          42.239838,
          41.503898,
          41.322916,
          42.241775,
          42.154487,
          41.587206,
          41.659857,
          42.254868,
          42.023534,
          41.883393,
          42.320302,
          41.885294,
          41.876564,
          42.365765,
          42.370945,
          42.203457,
          41.3313,
          42.457776,
          41.9599,
          41.807724,
          41.976865,
          42.124516,
          41.969848,
          41.493547,
          42.093149,
          42.317478,
          41.466158,
          41.452096,
          42.254838,
          41.47127,
          42.239823,
          41.464443,
          41.493748,
          42.298954,
          42.046149,
          42.280949,
          41.467297,
          42.247595,
          42.354925,
          42.087626,
          42.349731,
          42.003123,
          41.337,
          42.253043,
          42.410515,
          42.179526,
          40.714914,
          41.881783,
          42.110225,
          40.697301,
          40.717564,
          40.715981,
          40.497589,
          40.028241,
          41.8809,
          40.458057,
          41.946691,
          40.311356,
          41.250155,
          41.946928,
          40.372868,
          40.603843,
          40.921138,
          40.83906,
          40.697353,
          40.793236,
          40.790986,
          40.557423,
          40.778466,
          40.612835,
          40.901949,
          40.947845,
          41.337856,
          40.827281,
          40.390785,
          40.703635,
          40.903187,
          40.492985,
          40.913153,
          40.871223,
          41.17775,
          40.614921,
          40.153755,
          40.91286,
          40.765281,
          40.552123,
          40.489716,
          40.802096,
          42.048097,
          40.622536,
          40.626618,
          40.458929,
          40.912689,
          40.694376,
          40.582921,
          41.221482,
          40.4493,
          41.024325,
          40.590729,
          40.918552,
          40.459449,
          40.7322,
          41.024802,
          42.325608,
          41.0938,
          40.590978,
          40.947847,
          40.467013,
          40.440973,
          40.116078,
          40.702798,
          38.763671,
          42.377901,
          41.871097,
          42.239,
          41.901649,
          40.124658,
          42.1676,
          40.687924,
          41.027401,
          41.95134,
          38.73867,
          40.645487,
          40.500165,
          42.041524,
          40.675505,
          40.741692,
          41.938785,
          38.080887,
          42.088943,
          40.531113,
          40.748524,
          41.965672,
          38.6056,
          41.936254,
          40.513216,
          41.9496,
          42.428052,
          40.04859,
          40.131969,
          41.984575,
          41.931775,
          38.582139,
          38.54749,
          41.921284,
          40.484778,
          39.16003,
          41.912323,
          40.102124,
          41.886879,
          38.808376,
          38.610428,
          40.05051,
          38.605262,
          41.874942,
          40.4255,
          38.46166,
          38.186595,
          38.739256,
          42.16779,
          40.310974,
          41.90769,
          40.089526,
          40.110843,
          40.196273,
          40.146643,
          41.987831,
          40.121487,
          41.8656,
          38.611075,
          38.747904,
          42.062643,
          41.955272,
          42.035086,
          39.0925,
          40.026226,
          40.109931,
          40.307781,
          38.922987,
          40.627443,
          38.534747,
          40.112965,
          40.202682,
          39.431648,
          40.10869,
          41.858643,
          41.921177,
          41.861734,
          42.004719,
          39.03774,
          41.889021,
          42.175813,
          38.723324,
          41.864872,
          40.095058,
          41.962251,
          41.916826,
          39.178535,
          38.825067,
          40.0032,
          41.902951,
          38.731265,
          42.002487,
          39.112157,
          38.701731,
          42.004866,
          38.841232,
          42.0077,
          40.058741,
          39.709205,
          39.129489,
          39.686495,
          39.299801,
          38.183449,
          42.01384,
          41.90073,
          40.305466,
          39.014443,
          42.048933,
          40.158642,
          41.910451,
          39.8023,
          40.192449,
          38.541974,
          42.176445,
          38.254896,
          39.020687,
          41.974159,
          38.200237,
          42.132503,
          38.12137,
          38.006735,
          41.99218,
          41.882778,
          42.149305,
          41.879387,
          39.116043,
          41.910717,
          38.71831,
          40.416446,
          42.091912,
          38.430307,
          38.75281,
          41.87019,
          41.949494,
          38.87013,
          41.288697,
          42.100232,
          38.137449,
          41.9544,
          38.594159,
          38.505876,
          39.606616,
          41.846075,
          40.636202,
          38.594696,
          41.624184,
          41.916098,
          41.8656,
          41.832448,
          41.972955,
          38.637872,
          38.561513,
          38.551329,
          38.513536,
          38.592639,
          41.920167,
          38.593305,
          38.5021,
          41.88661,
          41.601493,
          38.612484,
          41.706321,
          38.534528,
          39.708304,
          39.780753,
          40.635545,
          39.984849,
          41.9917,
          38.344044,
          41.722675,
          38.731708,
          38.502704,
          38.461664,
          39.872353,
          41.536671,
          38.918394,
          40.358784,
          41.9334,
          38.536288,
          41.651172,
          39.823883,
          39.459484,
          41.469522,
          39.3862,
          41.988432,
          40.426103,
          39.5497,
          38.50601,
          38.186078,
          38.701603,
          39.815237,
          39.891439,
          41.718041,
          42.066291,
          37.913651,
          38.54309,
          41.900284,
          41.718834,
          41.355885,
          39.625271,
          41.99276,
          41.304561,
          39.852403,
          39.515309,
          40.5411,
          40.416567,
          41.555511,
          41.859124,
          41.710655,
          39.121698,
          38.370586,
          39.3862,
          39.757705,
          41.523011,
          41.864895,
          38.52488,
          41.674804,
          41.903611,
          41.90338,
          39.917283,
          42.028569,
          41.567742,
          41.63803,
          41.658432,
          39.9552,
          41.717859,
          41.652717,
          41.701156,
          41.418857,
          41.483617,
          39.965473,
          42.094116,
          37.996801,
          40.158736,
          41.9448,
          39.830695,
          39.929371,
          41.483213,
          41.9808,
          41.94026,
          39.822345,
          39.64,
          41.549185,
          41.629666,
          41.687191,
          39.95616,
          39.788987,
          39.592213,
          41.447024,
          41.520938,
          41.626314,
          41.579647,
          41.58079,
          41.949699,
          41.494961,
          41.50652,
          41.566458,
          41.520747,
          39.802335,
          41.737159,
          38.323158,
          41.484017,
          42.2447,
          41.59474,
          38.624445,
          41.600708,
          41.601746,
          41.614871,
          41.628702,
          41.731808,
          41.709998,
          39.758849,
          39.81885,
          37.896888,
          41.097472,
          41.506774,
          41.639596,
          41.843535,
          41.5362,
          41.566152,
          41.454609,
          41.32422,
          41.698657,
          39.714396,
          41.33182,
          41.623077,
          39.802181,
          41.632054,
          41.655026,
          41.87772,
          41.702957,
          39.805657,
          41.599751,
          38.300378,
          41.263504,
          41.371292,
          41.5933,
          41.787678,
          41.76915,
          41.659834,
          41.6472,
          41.556005,
          41.733192,
          41.638112,
          41.768735,
          41.698448,
          41.731243,
          41.803492,
          41.719,
          41.798331,
          41.603312,
          42.067903,
          41.658738,
          41.671452,
          41.656506,
          41.622466,
          41.5088,
          41.629469,
          41.854015,
          41.851373,
          41.572773,
          42.173554,
          42.2694,
          42.415244,
          42.276735,
          42.2626,
          42.383279,
          42.239955,
          42.2,
          42.280588,
          42.15422,
          41.719034,
          41.345852,
          42.338242,
          42.015122,
          42.153727,
          42.161913,
          41.608654,
          42.314317,
          42.042804,
          42.156675,
          41.986817,
          41.230299,
          40.455087,
          42.199409,
          42.024739,
          41.518274,
          42.248322,
          40.378885,
          41.159161,
          42.212419,
          42.033244,
          42.234341,
          42.338476,
          41.651668,
          41.997583,
          41.493431,
          42.010303,
          41.483516,
          41.515331,
          41.11832,
          41.162472,
          41.144233,
          41.106617,
          41.83708,
          42.380988,
          42.092323,
          41.113965,
          42.012103,
          40.458077,
          41.25002,
          41.943925,
          41.166927,
          41.8082,
          42.253855,
          41.16224,
          42.423931,
          41.867338,
          41.987101,
          41.140541,
          41.145672,
          42.280686,
          42.159,
          41.237605,
          41.142901,
          41.251582,
          41.106576,
          40.466175,
          41.779103,
          42.161053,
          42.049439,
          41.661657,
          41.845011,
          41.930643,
          42.336858,
          41.939493,
          42.164394,
          41.373463,
          42.154531,
          41.99217,
          41.99641,
          41.721054,
          41.950539,
          41.185281,
          41.998872,
          41.51559,
          41.494926,
          42.065545,
          41.911651,
          42.058392,
          42.139582,
          42.124858,
          41.557985,
          41.953958,
          42.200242,
          41.695972,
          42.125015,
          41.418144,
          42.02312,
          41.586656,
          42.008775,
          41.51849,
          41.457268,
          41.886089,
          42.3453,
          42.072432,
          42.048259,
          41.093451,
          42.172352,
          42.217572,
          42.095444,
          42.110029,
          42.072616,
          41.434991,
          41.17833,
          42.379006,
          40.776925,
          40.457905,
          41.024644,
          41.70649,
          41.417431,
          41.515465,
          41.502009,
          40.459511,
          40.628411,
          41.848867,
          41.137135,
          41.808564,
          40.76984,
          41.080368,
          40.45603,
          41.177693,
          41.679677,
          42.25206,
          41.951997,
          42.014436,
          42.496399,
          40.9344,
          42.41236,
          41.114526,
          42.113,
          42.12484,
          41.251078,
          41.056728,
          41.766659,
          42.348404,
          40.45899,
          42.389254,
          42.2382,
          41.91682,
          42.4526,
          42.275948,
          41.248084,
          42.261,
          42.026421,
          41.118767,
          40.878102,
          42.456477,
          41.078506,
          40.460052,
          41.864025,
          41.9615,
          42.379089,
          42.399046,
          42.1201,
          42.390547,
          41.770316,
          42.302157,
          41.720786,
          40.714995,
          42.125696,
          41.17249,
          41.120801,
          41.935818,
          41.149063,
          40.7529,
          42.005953,
          41.684558,
          41.909326,
          41.67026,
          41.891352,
          41.829057,
          41.939245,
          41.661835,
          41.885379,
          41.73573,
          41.961304,
          41.973348,
          41.793083,
          41.0601,
          41.935619,
          41.871675,
          41.164798
         ],
         "legendgroup": "",
         "lon": [
          -88.701,
          -89.683015,
          -88.835061,
          -89.087419,
          -88.602,
          -88.822279,
          -89.0146,
          -88.840637,
          -89.228172,
          -89.218094,
          -88.815749,
          -89.467562,
          -89.067662,
          -89.119721,
          -89.3081,
          -88.848118,
          -89.27206,
          -89.221859,
          -89.067758,
          -90.435503,
          -90.648308,
          -90.647827,
          -89.649156,
          -89.662079,
          -89.15361,
          -88.979508,
          -89.737623,
          -88.846516,
          -89.47272,
          -89.471376,
          -90.586321,
          -89.370392,
          -88.70961,
          -90.940542,
          -89.050475,
          -89.138043,
          -89.62155,
          -89.208778,
          -89.582176,
          -89.59376,
          -90.155876,
          -89.772667,
          -89.7903,
          -89.328809,
          -88.7437,
          -89.134598,
          -89.483103,
          -90.034736,
          -90.035306,
          -90.382905,
          -88.61401,
          -90.36473,
          -89.616178,
          -89.648027,
          -89.290412,
          -89.626739,
          -89.8327,
          -89.757079,
          -89.493835,
          -89.640504,
          -87.939329,
          -89.631244,
          -89.593131,
          -89.989839,
          -89.6544,
          -89.653084,
          -87.9665,
          -87.959118,
          -88.297073,
          -88.761435,
          -89.577057,
          -88.984755,
          -88.9746,
          -88.982339,
          -88.963802,
          -88.977335,
          -88.518015,
          -89.66988,
          -88.6138,
          -89.226304,
          -89.008806,
          -88.526915,
          -88.511955,
          -88.95536,
          -88.990424,
          -89.045566,
          -88.952491,
          -88.621836,
          -89.622078,
          -89.019552,
          -89.357535,
          -87.919334,
          -88.991215,
          -88.904999,
          -89.024316,
          -88.963502,
          -87.960271,
          -88.996897,
          -88.198604,
          -88.434675,
          -88.182491,
          -88.3283,
          -88.213288,
          -87.638877,
          -88.632828,
          -87.700994,
          -88.3283,
          -88.793553,
          -88.364612,
          -88.218869,
          -88.243,
          -88.160994,
          -88.315791,
          -87.58937,
          -88.220147,
          -87.651609,
          -87.777861,
          -88.272364,
          -88.156137,
          -88.573568,
          -88.174209,
          -88.262283,
          -88.003494,
          -88.190336,
          -88.154894,
          -88.243982,
          -87.636642,
          -87.612221,
          -88.137068,
          -87.964,
          -88.646126,
          -88.0211,
          -88.573622,
          -88.725885,
          -87.800092,
          -88.111236,
          -87.611931,
          -88.258335,
          -87.958657,
          -88.00255,
          -88.046465,
          -88.244286,
          -87.944257,
          -87.800104,
          -88.285566,
          -88.312863,
          -88.102265,
          -88.014695,
          -87.636054,
          -88.384649,
          -87.941699,
          -87.99383,
          -88.315736,
          -88.146042,
          -87.840749,
          -87.674054,
          -88.267082,
          -88.079294,
          -88.117962,
          -89.791757,
          -87.694523,
          -88.309563,
          -88.126636,
          -88.740685,
          -90.087189,
          -89.4889,
          -89.980255,
          -87.940259,
          -89.800075,
          -88.28318,
          -88.633705,
          -88.160686,
          -88.25527,
          -87.973598,
          -89.107869,
          -88.593784,
          -88.156469,
          -89.3546,
          -88.315079,
          -88.28676,
          -88.341133,
          -88.002539,
          -90.376129,
          -90.214372,
          -88.207097,
          -90.190459,
          -87.940104,
          -90.149597,
          -88.257399,
          -87.701045,
          -90.006668,
          -88.029337,
          -88.365348,
          -88.608903,
          -88.160687,
          -89.476868,
          -88.007781,
          -87.694884,
          -88.377462,
          -89.489927,
          -88.339766,
          -88.317476,
          -88.013292,
          -87.973304,
          -88.283013,
          -87.695192,
          -88.340158,
          -89.6541,
          -88.091508,
          -88.381813,
          -90.150325,
          -89.655043,
          -88.163439,
          -88.288095,
          -90.147927,
          -88.461651,
          -88.039351,
          -88.336372,
          -87.988361,
          -88.136819,
          -88.031584,
          -90.120713,
          -88.1746,
          -88.107342,
          -89.957204,
          -89.947133,
          -90.011452,
          -87.971978,
          -89.931438,
          -89.4109,
          -89.794132,
          -89.400887,
          -89.681,
          -90.148838,
          -89.992445,
          -89.915954,
          -89.893931,
          -89.98373,
          -89.862985,
          -88.277811,
          -87.969482,
          -87.993299,
          -88.0867,
          -88.202576,
          -88.315857,
          -89.381516,
          -87.877962,
          -88.313782,
          -87.865624,
          -88.033157,
          -88.287585,
          -87.758635,
          -87.94931,
          -88.0796,
          -91.291936,
          -91.357885,
          -89.944663,
          -88.720421,
          -89.944191,
          -90.013587,
          -88.080276,
          -91.331451,
          -88.723855,
          -91.37696,
          -91.058939,
          -88.062996,
          -88.080315,
          -88.161445,
          -88.772627,
          -88.688674,
          -88.161568,
          -88.239867,
          -88.749224,
          -88.013229,
          -87.861453,
          -88.535664,
          -88.601853,
          -88.773679,
          -88.746606,
          -88.547264,
          -87.676063,
          -88.954483,
          -88.450865,
          -87.992161,
          -88.041886,
          -87.756204,
          -88.822089,
          -88.510147,
          -88.961462,
          -87.9869,
          -89.054586,
          -87.687423,
          -88.034348,
          -88.061726,
          -89.122122,
          -89.285229,
          -88.983762,
          -89.091547,
          -88.075352,
          -88.478345,
          -89.281672,
          -87.903922,
          -89.298,
          -88.813479,
          -87.689951,
          -87.620891,
          -89.099763,
          -89.653204,
          -88.972401,
          -87.9869,
          -88.956329,
          -88.852955,
          -88.89722,
          -89.42247,
          -89.084641,
          -88.154869,
          -89.7354,
          -87.714644,
          -89.381378,
          -88.079546,
          -87.698885,
          -89.994252,
          -89.769396,
          -90.064035,
          -88.289893,
          -90.565467,
          -89.766867,
          -90.05663,
          -88.289756,
          -90.227367,
          -88.678831,
          -87.8581,
          -90.223293,
          -90.006712,
          -89.667869,
          -89.687608,
          -89.603074,
          -89.759346,
          -89.750119,
          -89.605392,
          -89.955194,
          -89.664722,
          -89.886662,
          -89.846965,
          -90.243832,
          -87.778345,
          -89.629651,
          -89.695213,
          -89.923272,
          -90.555091,
          -88.335968,
          -89.714352,
          -89.318106,
          -87.682608,
          -89.704201,
          -88.413094,
          -88.335993,
          -88.180113,
          -87.989915,
          -88.354995,
          -89.243851,
          -87.996857,
          -88.498787,
          -88.212745,
          -88.924926,
          -87.635164,
          -88.125928,
          -87.635738,
          -89.145948,
          -87.806038,
          -87.781904,
          -87.798737,
          -88.161497,
          -88.946203,
          -87.733709,
          -87.846798,
          -87.8066,
          -89.054816,
          -89.121,
          -87.682755,
          -88.911577,
          -87.787643,
          -88.508478,
          -89.231209,
          -87.817723,
          -87.57825,
          -87.789077,
          -89.027957,
          -89.053228,
          -88.540771,
          -88.0408,
          -89.053906,
          -89.3356,
          -88.734251,
          -87.816464,
          -87.759698,
          -87.802038,
          -88.055527,
          -87.740973,
          -87.889702,
          -87.770244,
          -88.956242,
          -87.73941,
          -87.78482,
          -89.272919,
          -87.738795,
          -88.942862,
          -88.943359,
          -89.122233,
          -87.783334,
          -89.052947,
          -87.731927,
          -89.235619,
          -88.436897,
          -89.139986,
          -87.693805,
          -88.548553,
          -87.862298,
          -87.599686,
          -89.114154,
          -88.955041,
          -87.6021,
          -87.851728,
          -87.911971,
          -89.217988,
          -88.920185,
          -88.086944,
          -87.805511,
          -89.026388,
          -87.7914,
          -88.892654,
          -88.937793,
          -89.202492,
          -89.058524,
          -88.947695,
          -88.125904,
          -88.9123,
          -88.908686,
          -88.948367,
          -87.812736,
          -87.770802,
          -87.671355,
          -87.965979,
          -88.922414,
          -87.77661,
          -87.851237,
          -87.636678,
          -88.932081,
          -89.1193,
          -88.623299,
          -88.124327,
          -88.932502,
          -87.7552,
          -87.846558,
          -89.137491,
          -89.027253,
          -89.185835,
          -89.212054,
          -87.970085,
          -89.2342,
          -89.24131,
          -88.270561,
          -87.890967,
          -87.791185,
          -89.349648,
          -87.866763,
          -88.265846,
          -87.849439,
          -88.199874,
          -88.19839,
          -87.882738,
          -88.025639,
          -87.714057,
          -87.847679,
          -87.620722,
          -88.418396,
          -88.327171,
          -87.974118,
          -88.038475,
          -87.853012,
          -88.099103,
          -88.206444,
          -88.011311,
          -88.185867,
          -87.994324,
          -88.127498,
          -88.32009,
          -88.075452,
          -88.201749,
          -87.834312,
          -88.007649,
          -88.241475,
          -88.876811,
          -87.888899,
          -87.801663,
          -88.167512,
          -87.8733,
          -87.995165,
          -88.201988,
          -88.669537,
          -87.868622,
          -88.799519,
          -87.803841,
          -87.975114,
          -88.011688,
          -87.9736,
          -88.341707,
          -88.302582,
          -88.368416,
          -88.042484,
          -87.887992,
          -88.225418,
          -87.853449,
          -88.259193,
          -87.627985,
          -87.65907,
          -87.662448,
          -87.802458,
          -87.658201,
          -87.636056,
          -87.653994,
          -87.641045,
          -87.637676,
          -87.71621,
          -87.648874,
          -88.20535,
          -88.114155,
          -88.448746,
          -87.626693,
          -87.632608,
          -87.584007,
          -87.634497,
          -87.65661,
          -87.771052,
          -88.282499,
          -87.926915,
          -87.790138,
          -87.790282,
          -87.626506,
          -87.535096,
          -87.617744,
          -87.63035,
          -87.678669,
          -87.713902,
          -87.723174,
          -87.713105,
          -87.739518,
          -88.090772,
          -87.777678,
          -88.03617,
          -87.689491,
          -88.118384,
          -88.249685,
          -87.682642,
          -87.689723,
          -87.674163,
          -87.702891,
          -87.626791,
          -87.775893,
          -87.668226,
          -87.694573,
          -87.816752,
          -87.6535,
          -88.041139,
          -87.629881,
          -87.76725,
          -87.643323,
          -87.70236,
          -87.666287,
          -87.660527,
          -87.762749,
          -87.713793,
          -87.70125,
          -88.073669,
          -87.664614,
          -87.648788,
          -87.735146,
          -87.837098,
          -88.243681,
          -87.936217,
          -87.732127,
          -87.700529,
          -88.349431,
          -87.666144,
          -87.663425,
          -88.243781,
          -87.635698,
          -87.626519,
          -87.727047,
          -87.62248,
          -87.685196,
          -87.74684,
          -87.651654,
          -88.339325,
          -88.27294,
          -88.443481,
          -87.67759,
          -88.204758,
          -87.698608,
          -88.446945,
          -88.920593,
          -87.625502,
          -88.028271,
          -88.28145,
          -87.627825,
          -88.255151,
          -88.30202,
          -87.677943,
          -88.286283,
          -88.297043,
          -87.975295,
          -87.629449,
          -87.657614,
          -87.688632,
          -88.185887,
          -88.282051,
          -87.972935,
          -90.498772,
          -87.628995,
          -87.639573,
          -88.202676,
          -87.634083,
          -87.628184,
          -89.08013,
          -87.698357,
          -87.689674,
          -87.867757,
          -87.626541,
          -88.199867,
          -88.007589,
          -87.700374,
          -88.206794,
          -87.658575,
          -88.278783,
          -88.128733,
          -87.649828,
          -88.146855,
          -88.338486,
          -87.908035,
          -87.786005,
          -88.20648,
          -88.201751,
          -88.320989,
          -87.653149,
          -88.22953,
          -87.909058,
          -88.380951,
          -88.205439,
          -88.166752,
          -87.627141,
          -88.205323,
          -88.8721,
          -88.610618,
          -87.659908,
          -88.318933,
          -90.73401,
          -90.584694,
          -88.24022,
          -88.203466,
          -87.697654,
          -90.2921,
          -90.566071,
          -89.034434,
          -90.511689,
          -90.584251,
          -87.877122,
          -87.942949,
          -89.001873,
          -87.657453,
          -89.095695,
          -90.386276,
          -90.74283,
          -87.644,
          -87.640887,
          -90.424267,
          -88.013832,
          -89.000325,
          -90.537055,
          -90.492121,
          -88.980343,
          -88.12853,
          -89.785552,
          -90.079841,
          -88.969414,
          -87.909624,
          -87.641441,
          -88.958391,
          -87.642347,
          -87.648506,
          -89.014309,
          -87.891899,
          -88.259552,
          -90.6889,
          -87.825638,
          -90.0992,
          -89.956963,
          -87.769736,
          -88.062633,
          -87.761839,
          -90.390509,
          -87.723538,
          -88.982832,
          -90.498696,
          -90.461167,
          -87.979743,
          -90.485816,
          -87.993519,
          -90.158941,
          -90.548042,
          -89.056969,
          -87.883999,
          -88.208297,
          -90.583572,
          -88.344792,
          -88.267973,
          -87.945668,
          -87.874844,
          -88.004289,
          -89.1269,
          -87.900414,
          -87.877779,
          -88.077018,
          -89.560286,
          -87.631832,
          -87.98077,
          -89.679151,
          -89.612537,
          -89.593402,
          -88.99487,
          -88.957152,
          -87.629,
          -90.647109,
          -87.655841,
          -88.985161,
          -89.924414,
          -87.655496,
          -89.539612,
          -89.533411,
          -89.486269,
          -89.882403,
          -90.006432,
          -89.20169,
          -89.374146,
          -90.027083,
          -89.978131,
          -89.46019,
          -89.033596,
          -90.357239,
          -89.120972,
          -89.615677,
          -90.155739,
          -89.395946,
          -90.648056,
          -90.193499,
          -89.490765,
          -88.860596,
          -89.659882,
          -89.46174,
          -88.941683,
          -90.291804,
          -89.473231,
          -90.502166,
          -90.053528,
          -90.401945,
          -88.096127,
          -89.619844,
          -89.46533,
          -90.653111,
          -90.661209,
          -89.474528,
          -90.979173,
          -89.140542,
          -89.7918,
          -89.407975,
          -90.036415,
          -89.487361,
          -90.694442,
          -90.665,
          -89.412102,
          -88.164914,
          -89.8628,
          -89.474491,
          -90.374859,
          -88.976093,
          -89.312617,
          -88.229249,
          -89.641206,
          -90.06676,
          -87.938767,
          -88.157841,
          -87.8569,
          -87.988676,
          -87.635915,
          -88.1442,
          -89.690712,
          -90.278936,
          -87.883484,
          -89.957467,
          -89.670554,
          -88.924694,
          -88.102897,
          -89.534521,
          -88.724024,
          -88.11794,
          -89.391861,
          -88.525574,
          -88.994983,
          -88.411057,
          -87.867302,
          -89.4359,
          -88.07933,
          -88.994557,
          -87.882103,
          -87.87677,
          -87.830541,
          -88.220242,
          -87.980829,
          -87.940157,
          -89.966613,
          -90.071447,
          -88.285105,
          -89.022931,
          -89.494499,
          -88.335104,
          -88.276904,
          -88.01889,
          -89.963464,
          -89.384302,
          -88.56675,
          -89.686182,
          -88.018224,
          -89.4227,
          -90.087484,
          -89.60764,
          -89.687345,
          -88.291837,
          -88.347122,
          -87.896602,
          -87.635701,
          -88.218929,
          -88.36483,
          -87.612221,
          -88.173904,
          -88.243895,
          -88.0626,
          -89.52914,
          -89.987216,
          -88.137527,
          -87.870483,
          -88.259521,
          -89.394844,
          -88.080538,
          -88.239147,
          -88.174267,
          -90.106197,
          -89.328971,
          -89.721868,
          -88.039022,
          -89.695319,
          -90.404075,
          -88.276339,
          -88.116264,
          -88.286156,
          -88.017925,
          -88.084007,
          -90.14432,
          -88.063688,
          -88.339786,
          -89.95704,
          -87.818588,
          -88.1911,
          -87.969243,
          -88.121164,
          -89.661194,
          -90.066613,
          -90.4225,
          -88.059735,
          -90.084808,
          -88.182853,
          -90.320788,
          -90.153005,
          -88.144207,
          -90.096704,
          -88.3152,
          -88.25086,
          -90.229719,
          -89.818564,
          -89.705347,
          -89.2868,
          -89.842415,
          -88.182792,
          -87.857224,
          -89.602419,
          -89.778473,
          -88.099939,
          -88.275887,
          -88.081968,
          -88.4602,
          -88.401596,
          -90.011524,
          -88.306535,
          -89.754553,
          -89.791207,
          -87.865888,
          -89.994339,
          -88.257531,
          -89.713318,
          -89.659421,
          -88.003684,
          -87.805344,
          -88.434397,
          -87.883492,
          -90.339039,
          -88.061869,
          -89.8777,
          -91.142415,
          -88.12229,
          -89.55099,
          -89.680634,
          -87.993118,
          -87.870088,
          -90.090902,
          -88.256027,
          -88.758117,
          -89.703947,
          -87.9452,
          -90.013254,
          -89.927824,
          -90.802833,
          -88.012039,
          -91.167045,
          -89.807143,
          -87.756134,
          -87.88355,
          -88.0626,
          -88.102554,
          -88.183147,
          -89.984761,
          -89.897665,
          -90.036422,
          -89.970477,
          -89.914803,
          -88.688378,
          -90.000834,
          -89.984782,
          -87.792477,
          -87.823903,
          -89.606948,
          -87.760402,
          -90.036482,
          -90.727855,
          -88.870052,
          -91.170141,
          -90.762623,
          -88.6868,
          -89.380089,
          -88.040577,
          -89.898241,
          -89.978146,
          -90.09204,
          -88.972038,
          -88.200096,
          -89.270127,
          -91.434235,
          -88.9648,
          -89.961726,
          -88.084293,
          -88.89289,
          -89.405656,
          -87.635759,
          -88.9598,
          -88.339858,
          -90.794925,
          -89.298,
          -89.999122,
          -89.605558,
          -89.961953,
          -88.855959,
          -88.935911,
          -87.816145,
          -88.03947,
          -89.820884,
          -89.612828,
          -88.735428,
          -87.818334,
          -87.621492,
          -89.005005,
          -87.960096,
          -88.159349,
          -89.623257,
          -89.044011,
          -91.3661,
          -91.13295,
          -88.125968,
          -88.061299,
          -88.068144,
          -88.558467,
          -88.360413,
          -88.9598,
          -89.616061,
          -88.121906,
          -87.788864,
          -89.112968,
          -87.797783,
          -88.04242,
          -88.082487,
          -88.954808,
          -88.060834,
          -87.613155,
          -87.738202,
          -88.124117,
          -90.2172,
          -87.836722,
          -87.854767,
          -88.006781,
          -87.747266,
          -87.874863,
          -89.5616,
          -88.251892,
          -88.94204,
          -89.385277,
          -88.3835,
          -89.604214,
          -88.955032,
          -87.985917,
          -88.1924,
          -88.15107,
          -88.979901,
          -89.1899,
          -87.889516,
          -87.924535,
          -88.067346,
          -89.552246,
          -89.704143,
          -89.582185,
          -87.69235,
          -88.198962,
          -87.996713,
          -87.599894,
          -87.784058,
          -88.031349,
          -88.080097,
          -87.703739,
          -88.143854,
          -87.803064,
          -89.601713,
          -87.88444,
          -88.907346,
          -87.702893,
          -88.6043,
          -88.054413,
          -88.968039,
          -87.929584,
          -87.804337,
          -87.931196,
          -87.931651,
          -87.877988,
          -88.069155,
          -89.611238,
          -89.606128,
          -88.953602,
          -88.420734,
          -87.791056,
          -88.085209,
          -87.792969,
          -88.0547,
          -88.16216,
          -88.270565,
          -87.807871,
          -87.779336,
          -89.638865,
          -87.78571,
          -87.592369,
          -89.610395,
          -87.818743,
          -88.079586,
          -88.235497,
          -87.739984,
          -89.671658,
          -87.910923,
          -88.90257,
          -88.211253,
          -88.434133,
          -88.1865,
          -88.376316,
          -88.756038,
          -88.541314,
          -88.4389,
          -87.89094,
          -87.799651,
          -88.20369,
          -87.820127,
          -87.796238,
          -88.306419,
          -88.059517,
          -88.3148,
          -88.205078,
          -87.75647,
          -87.94593,
          -88.548376,
          -87.777866,
          -88.433098,
          -88.211722,
          -87.9628,
          -87.891762,
          -88.276318,
          -88.311754,
          -88.120224,
          -87.985981,
          -88.3126,
          -88.072462,
          -88.039539,
          -88.0105,
          -87.952904,
          -87.969688,
          -88.0648,
          -87.973475,
          -88.03992,
          -87.811095,
          -87.621841,
          -88.003842,
          -87.980328,
          -87.954567,
          -88.136327,
          -90.334465,
          -88.435209,
          -87.860582,
          -87.915874,
          -87.8362,
          -87.622084,
          -88.099351,
          -87.83313,
          -87.851766,
          -87.983548,
          -88.322778,
          -87.669277,
          -87.663046,
          -88.339092,
          -87.746894,
          -88.834844,
          -88.044722,
          -88.124038,
          -87.747959,
          -90.572233,
          -87.875968,
          -90.363503,
          -90.437668,
          -87.89714,
          -87.894357,
          -87.851154,
          -88.835044,
          -89.497542,
          -88.172596,
          -90.131668,
          -87.86264,
          -87.747517,
          -87.686651,
          -87.845821,
          -87.649045,
          -87.663712,
          -89.7023,
          -88.831553,
          -87.874715,
          -90.444702,
          -89.21756,
          -89.578418,
          -87.851322,
          -87.875387,
          -89.627323,
          -87.964,
          -87.645301,
          -87.850563,
          -87.830617,
          -87.882986,
          -87.687071,
          -89.676194,
          -87.919914,
          -89.431737,
          -87.719682,
          -89.297619,
          -87.806143,
          -88.025126,
          -87.717736,
          -87.931866,
          -88.421412,
          -89.7404,
          -87.863379,
          -87.829857,
          -87.698763,
          -87.708405,
          -88.316616,
          -88.046532,
          -88.125127,
          -88.169763,
          -87.848202,
          -87.679718,
          -88.006805,
          -88.033313,
          -87.967009,
          -87.793637,
          -87.664984,
          -87.831998,
          -88.122287,
          -87.829634,
          -88.266721,
          -87.940125,
          -87.693928,
          -87.901401,
          -87.986511,
          -88.193173,
          -87.625771,
          -88.0282,
          -87.748801,
          -87.74831,
          -88.442397,
          -87.948997,
          -87.820576,
          -87.907306,
          -88.062461,
          -87.818981,
          -90.149855,
          -87.874829,
          -88.102177,
          -87.74088,
          -87.896019,
          -87.72266,
          -87.701963,
          -90.012238,
          -90.425912,
          -90.456294,
          -88.37624,
          -87.697663,
          -89.484464,
          -87.877662,
          -89.69826,
          -87.862289,
          -87.812698,
          -88.375858,
          -87.852077,
          -89.941809,
          -88.822504,
          -89.065294,
          -89.339213,
          -89.990288,
          -87.9301,
          -89.012082,
          -87.868356,
          -89.183,
          -89.264275,
          -87.849617,
          -88.095436,
          -89.689829,
          -90.007217,
          -87.670789,
          -89.520477,
          -88.832,
          -89.069192,
          -89.0803,
          -89.630156,
          -87.833516,
          -88.8524,
          -87.812889,
          -87.838333,
          -88.27072,
          -89.025948,
          -87.868297,
          -88.098105,
          -87.647072,
          -89.7687,
          -89.821411,
          -88.734805,
          -89.8348,
          -89.525706,
          -89.705995,
          -89.632974,
          -87.708329,
          -88.006062,
          -89.257127,
          -87.663283,
          -87.886569,
          -89.035039,
          -87.850394,
          -88.2925,
          -87.901417,
          -87.70019,
          -87.795275,
          -87.739466,
          -87.647807,
          -87.77348,
          -87.687297,
          -87.754288,
          -87.63354,
          -87.689054,
          -87.7276,
          -87.77834,
          -87.723547,
          -87.745,
          -87.726742,
          -87.627264,
          -87.875821
         ],
         "marker": {
          "color": [
           450720289,
           441412723,
           450720289,
           441412723,
           441412723,
           450720289,
           441412723,
           450720289,
           441412723,
           441412723,
           441412723,
           441412723,
           441412723,
           441412723,
           441412723,
           450720289,
           441412723,
           441412723,
           441412723,
           441412723,
           450720289,
           441412723,
           441412723,
           441412723,
           5863311,
           441412723,
           441412723,
           441412723,
           441412723,
           441412723,
           441412723,
           441412723,
           441412723,
           441412723,
           441412723,
           441412723,
           441412723,
           441412723,
           441412723,
           450720289,
           441412723,
           441412723,
           441412723,
           441412723,
           441412723,
           441412723,
           450720289,
           450720289,
           441412723,
           450720289,
           441412723,
           441412723,
           441412723,
           450720289,
           441412723,
           441412723,
           441412723,
           441412723,
           441412723,
           441412723,
           5863311,
           450720289,
           441412723,
           450720289,
           441412723,
           441412723,
           441412723,
           441412723,
           441412723,
           441412723,
           450720289,
           450720289,
           441412723,
           441412723,
           441412723,
           441412723,
           450720289,
           441412723,
           441412723,
           441412723,
           450720289,
           441412723,
           441412723,
           450720289,
           441412723,
           450720289,
           450720289,
           441412723,
           450720289,
           441412723,
           441412723,
           5863311,
           450720289,
           450720289,
           441412723,
           450720289,
           5863311,
           450720289,
           450720289,
           441412723,
           441412723,
           5863311,
           450720289,
           441412723,
           441412723,
           441412723,
           441412723,
           441412723,
           450720289,
           450720289,
           450720289,
           441412723,
           450720289,
           441412723,
           450720289,
           441412723,
           441412723,
           450720289,
           441412723,
           450720289,
           450720289,
           441412723,
           441412723,
           441412723,
           441412723,
           450720289,
           441412723,
           450720289,
           450720289,
           441412723,
           441412723,
           441412723,
           441412723,
           441412723,
           441412723,
           5863311,
           450720289,
           450720289,
           441412723,
           5863311,
           441412723,
           450720289,
           5863311,
           441412723,
           450720289,
           5863311,
           441412723,
           441412723,
           450720289,
           441412723,
           5863311,
           5863311,
           441412723,
           5863311,
           441412723,
           441412723,
           5863311,
           5863311,
           441412723,
           450720289,
           450720289,
           441412723,
           5863311,
           441412723,
           450720289,
           441412723,
           450720289,
           5863311,
           441412723,
           5863311,
           441412723,
           441412723,
           5863311,
           5863311,
           441412723,
           441412723,
           5863311,
           441412723,
           5863311,
           5863311,
           5863311,
           5863311,
           441412723,
           441412723,
           5863311,
           441412723,
           441412723,
           441412723,
           450720289,
           441412723,
           441412723,
           441412723,
           441412723,
           441412723,
           450720289,
           441412723,
           5863311,
           441412723,
           450720289,
           441412723,
           450720289,
           5863311,
           5863311,
           5863311,
           450720289,
           450720289,
           5863311,
           441412723,
           441412723,
           5863311,
           441412723,
           441412723,
           441412723,
           441412723,
           450720289,
           441412723,
           5863311,
           5863311,
           5863311,
           5863311,
           5863311,
           450720289,
           441412723,
           450720289,
           441412723,
           441412723,
           450720289,
           5863311,
           450720289,
           441412723,
           441412723,
           441412723,
           441412723,
           450720289,
           441412723,
           441412723,
           441412723,
           450720289,
           441412723,
           450720289,
           5863311,
           450720289,
           450720289,
           450720289,
           5863311,
           441412723,
           450720289,
           450720289,
           450720289,
           450720289,
           450720289,
           441412723,
           5863311,
           450720289,
           441412723,
           441412723,
           450720289,
           450720289,
           450720289,
           441412723,
           5863311,
           441412723,
           441412723,
           441412723,
           441412723,
           450720289,
           441412723,
           441412723,
           5863311,
           5863311,
           450720289,
           441412723,
           450720289,
           441412723,
           441412723,
           441412723,
           441412723,
           441412723,
           441412723,
           441412723,
           441412723,
           450720289,
           441412723,
           441412723,
           5863311,
           441412723,
           441412723,
           5863311,
           441412723,
           450720289,
           441412723,
           450720289,
           5863311,
           441412723,
           441412723,
           441412723,
           441412723,
           450720289,
           441412723,
           441412723,
           441412723,
           441412723,
           450720289,
           441412723,
           441412723,
           441412723,
           441412723,
           450720289,
           450720289,
           441412723,
           450720289,
           441412723,
           450720289,
           441412723,
           441412723,
           441412723,
           441412723,
           5863311,
           441412723,
           5863311,
           5863311,
           441412723,
           441412723,
           441412723,
           5863311,
           441412723,
           450720289,
           450720289,
           441412723,
           450720289,
           450720289,
           5863311,
           441412723,
           441412723,
           450720289,
           450720289,
           441412723,
           441412723,
           441412723,
           450720289,
           441412723,
           441412723,
           441412723,
           441412723,
           441412723,
           450720289,
           450720289,
           441412723,
           441412723,
           441412723,
           5863311,
           441412723,
           450720289,
           5863311,
           441412723,
           450720289,
           5863311,
           441412723,
           5863311,
           441412723,
           441412723,
           441412723,
           441412723,
           441412723,
           450720289,
           450720289,
           450720289,
           5863311,
           441412723,
           450720289,
           5863311,
           5863311,
           450720289,
           441412723,
           5863311,
           450720289,
           450720289,
           441412723,
           441412723,
           5863311,
           441412723,
           5863311,
           441412723,
           441412723,
           5863311,
           450720289,
           5863311,
           450720289,
           441412723,
           441412723,
           5863311,
           441412723,
           450720289,
           441412723,
           450720289,
           5863311,
           450720289,
           441412723,
           5863311,
           5863311,
           441412723,
           450720289,
           450720289,
           450720289,
           441412723,
           5863311,
           441412723,
           450720289,
           441412723,
           450720289,
           450720289,
           450720289,
           441412723,
           441412723,
           441412723,
           5863311,
           441412723,
           5863311,
           5863311,
           441412723,
           441412723,
           5863311,
           450720289,
           450720289,
           450720289,
           450720289,
           5863311,
           5863311,
           441412723,
           450720289,
           441412723,
           450720289,
           441412723,
           441412723,
           450720289,
           450720289,
           441412723,
           441412723,
           450720289,
           5863311,
           5863311,
           5863311,
           5863311,
           441412723,
           5863311,
           450720289,
           5863311,
           441412723,
           441412723,
           441412723,
           450720289,
           441412723,
           450720289,
           450720289,
           441412723,
           441412723,
           441412723,
           450720289,
           5863311,
           441412723,
           441412723,
           450720289,
           450720289,
           5863311,
           441412723,
           5863311,
           441412723,
           5863311,
           450720289,
           5863311,
           450720289,
           450720289,
           5863311,
           5863311,
           450720289,
           441412723,
           5863311,
           5863311,
           5863311,
           5863311,
           5863311,
           5863311,
           5863311,
           5863311,
           5863311,
           441412723,
           5863311,
           5863311,
           5863311,
           5863311,
           5863311,
           5863311,
           441412723,
           5863311,
           5863311,
           441412723,
           5863311,
           5863311,
           5863311,
           441412723,
           5863311,
           441412723,
           5863311,
           5863311,
           5863311,
           5863311,
           441412723,
           5863311,
           5863311,
           5863311,
           5863311,
           441412723,
           450720289,
           441412723,
           5863311,
           5863311,
           5863311,
           5863311,
           450720289,
           5863311,
           5863311,
           5863311,
           450720289,
           5863311,
           5863311,
           441412723,
           5863311,
           450720289,
           5863311,
           5863311,
           450720289,
           5863311,
           450720289,
           5863311,
           5863311,
           450720289,
           5863311,
           5863311,
           5863311,
           5863311,
           5863311,
           5863311,
           5863311,
           5863311,
           5863311,
           5863311,
           5863311,
           441412723,
           5863311,
           441412723,
           5863311,
           441412723,
           5863311,
           5863311,
           5863311,
           5863311,
           5863311,
           5863311,
           5863311,
           5863311,
           5863311,
           5863311,
           5863311,
           5863311,
           5863311,
           5863311,
           5863311,
           5863311,
           5863311,
           5863311,
           5863311,
           5863311,
           5863311,
           450720289,
           5863311,
           5863311,
           5863311,
           5863311,
           441412723,
           5863311,
           5863311,
           5863311,
           5863311,
           5863311,
           5863311,
           450720289,
           5863311,
           5863311,
           5863311,
           5863311,
           5863311,
           5863311,
           5863311,
           450720289,
           5863311,
           450720289,
           5863311,
           450720289,
           5863311,
           5863311,
           441412723,
           5863311,
           450720289,
           450720289,
           5863311,
           5863311,
           5863311,
           5863311,
           450720289,
           5863311,
           450720289,
           5863311,
           5863311,
           5863311,
           441412723,
           5863311,
           450720289,
           5863311,
           5863311,
           5863311,
           441412723,
           5863311,
           5863311,
           450720289,
           5863311,
           5863311,
           450720289,
           5863311,
           450720289,
           450720289,
           5863311,
           450720289,
           5863311,
           450720289,
           450720289,
           450720289,
           441412723,
           5863311,
           5863311,
           5863311,
           5863311,
           450720289,
           5863311,
           5863311,
           5863311,
           5863311,
           441412723,
           5863311,
           441412723,
           5863311,
           450720289,
           441412723,
           441412723,
           5863311,
           450720289,
           441412723,
           441412723,
           450720289,
           5863311,
           5863311,
           441412723,
           450720289,
           450720289,
           5863311,
           5863311,
           5863311,
           5863311,
           5863311,
           5863311,
           450720289,
           441412723,
           450720289,
           5863311,
           5863311,
           5863311,
           5863311,
           441412723,
           441412723,
           5863311,
           450720289,
           450720289,
           441412723,
           441412723,
           441412723,
           5863311,
           5863311,
           441412723,
           5863311,
           5863311,
           441412723,
           5863311,
           5863311,
           441412723,
           5863311,
           441412723,
           441412723,
           5863311,
           5863311,
           5863311,
           441412723,
           5863311,
           441412723,
           5863311,
           5863311,
           5863311,
           5863311,
           5863311,
           441412723,
           5863311,
           450720289,
           5863311,
           5863311,
           450720289,
           450720289,
           441412723,
           441412723,
           5863311,
           5863311,
           441412723,
           5863311,
           5863311,
           5863311,
           450720289,
           5863311,
           5863311,
           450720289,
           450720289,
           450720289,
           441412723,
           441412723,
           5863311,
           450720289,
           5863311,
           441412723,
           441412723,
           5863311,
           441412723,
           441412723,
           441412723,
           441412723,
           441412723,
           441412723,
           441412723,
           441412723,
           441412723,
           450720289,
           441412723,
           450720289,
           441412723,
           450720289,
           441412723,
           441412723,
           441412723,
           441412723,
           450720289,
           441412723,
           441412723,
           450720289,
           441412723,
           441412723,
           441412723,
           441412723,
           441412723,
           441412723,
           441412723,
           441412723,
           450720289,
           441412723,
           441412723,
           441412723,
           441412723,
           441412723,
           441412723,
           441412723,
           441412723,
           450720289,
           441412723,
           441412723,
           441412723,
           5863311,
           441412723,
           441412723,
           441412723,
           441412723,
           441412723,
           450720289,
           450720289,
           5863311,
           5863311,
           5863311,
           5863311,
           5863311,
           450720289,
           5863311,
           441412723,
           441412723,
           5863311,
           450720289,
           450720289,
           441412723,
           5863311,
           441412723,
           441412723,
           5863311,
           441412723,
           441412723,
           450720289,
           441412723,
           5863311,
           441412723,
           5863311,
           450720289,
           5863311,
           5863311,
           441412723,
           450720289,
           441412723,
           5863311,
           441412723,
           450720289,
           450720289,
           450720289,
           441412723,
           5863311,
           450720289,
           5863311,
           450720289,
           441412723,
           450720289,
           441412723,
           5863311,
           441412723,
           441412723,
           441412723,
           441412723,
           450720289,
           441412723,
           5863311,
           441412723,
           450720289,
           441412723,
           441412723,
           5863311,
           450720289,
           5863311,
           441412723,
           441412723,
           5863311,
           5863311,
           5863311,
           441412723,
           441412723,
           450720289,
           450720289,
           441412723,
           441412723,
           441412723,
           441412723,
           441412723,
           441412723,
           450720289,
           5863311,
           5863311,
           5863311,
           5863311,
           441412723,
           5863311,
           5863311,
           441412723,
           5863311,
           450720289,
           5863311,
           5863311,
           441412723,
           441412723,
           441412723,
           5863311,
           441412723,
           5863311,
           441412723,
           5863311,
           450720289,
           441412723,
           5863311,
           450720289,
           450720289,
           441412723,
           450720289,
           441412723,
           441412723,
           5863311,
           5863311,
           441412723,
           441412723,
           5863311,
           450720289,
           5863311,
           441412723,
           450720289,
           450720289,
           441412723,
           441412723,
           441412723,
           5863311,
           441412723,
           5863311,
           441412723,
           441412723,
           441412723,
           5863311,
           5863311,
           450720289,
           441412723,
           5863311,
           441412723,
           441412723,
           441412723,
           450720289,
           450720289,
           5863311,
           5863311,
           441412723,
           441412723,
           441412723,
           450720289,
           5863311,
           450720289,
           450720289,
           441412723,
           441412723,
           441412723,
           441412723,
           5863311,
           5863311,
           441412723,
           450720289,
           450720289,
           450720289,
           450720289,
           450720289,
           450720289,
           450720289,
           441412723,
           450720289,
           450720289,
           5863311,
           450720289,
           441412723,
           5863311,
           450720289,
           441412723,
           441412723,
           450720289,
           441412723,
           441412723,
           450720289,
           441412723,
           450720289,
           450720289,
           450720289,
           450720289,
           5863311,
           441412723,
           441412723,
           441412723,
           450720289,
           5863311,
           450720289,
           441412723,
           5863311,
           441412723,
           450720289,
           441412723,
           441412723,
           450720289,
           450720289,
           450720289,
           441412723,
           450720289,
           450720289,
           441412723,
           441412723,
           441412723,
           5863311,
           5863311,
           450720289,
           441412723,
           441412723,
           450720289,
           441412723,
           441412723,
           441412723,
           450720289,
           5863311,
           450720289,
           450720289,
           5863311,
           441412723,
           441412723,
           450720289,
           5863311,
           5863311,
           450720289,
           5863311,
           441412723,
           441412723,
           450720289,
           441412723,
           5863311,
           5863311,
           450720289,
           441412723,
           5863311,
           450720289,
           5863311,
           5863311,
           5863311,
           5863311,
           5863311,
           441412723,
           441412723,
           450720289,
           450720289,
           441412723,
           5863311,
           441412723,
           441412723,
           441412723,
           441412723,
           5863311,
           5863311,
           450720289,
           441412723,
           450720289,
           441412723,
           5863311,
           5863311,
           5863311,
           5863311,
           5863311,
           441412723,
           5863311,
           5863311,
           5863311,
           5863311,
           450720289,
           5863311,
           441412723,
           5863311,
           450720289,
           5863311,
           450720289,
           450720289,
           5863311,
           5863311,
           450720289,
           5863311,
           5863311,
           450720289,
           441412723,
           441412723,
           441412723,
           5863311,
           5863311,
           5863311,
           5863311,
           5863311,
           5863311,
           441412723,
           5863311,
           450720289,
           5863311,
           450720289,
           441412723,
           5863311,
           5863311,
           5863311,
           5863311,
           441412723,
           5863311,
           450720289,
           450720289,
           441412723,
           5863311,
           5863311,
           441412723,
           441412723,
           441412723,
           450720289,
           450720289,
           450720289,
           5863311,
           450720289,
           450720289,
           5863311,
           5863311,
           5863311,
           450720289,
           5863311,
           450720289,
           450720289,
           441412723,
           450720289,
           450720289,
           450720289,
           5863311,
           450720289,
           5863311,
           450720289,
           450720289,
           450720289,
           450720289,
           450720289,
           450720289,
           5863311,
           5863311,
           441412723,
           450720289,
           5863311,
           441412723,
           450720289,
           5863311,
           441412723,
           450720289,
           441412723,
           450720289,
           5863311,
           5863311,
           5863311,
           441412723,
           441412723,
           441412723,
           5863311,
           5863311,
           5863311,
           441412723,
           450720289,
           5863311,
           5863311,
           5863311,
           5863311,
           5863311,
           441412723,
           5863311,
           5863311,
           5863311,
           5863311,
           5863311,
           450720289,
           5863311,
           450720289,
           441412723,
           450720289,
           441412723,
           450720289,
           450720289,
           441412723,
           441412723,
           5863311,
           441412723,
           441412723,
           5863311,
           5863311,
           441412723,
           441412723,
           441412723,
           441412723,
           450720289,
           450720289,
           450720289,
           450720289,
           450720289,
           441412723,
           441412723,
           441412723,
           441412723,
           5863311,
           441412723,
           5863311,
           441412723,
           5863311,
           450720289,
           5863311,
           5863311,
           450720289,
           441412723,
           5863311,
           5863311,
           5863311,
           5863311,
           441412723,
           5863311,
           5863311,
           5863311,
           5863311,
           5863311,
           5863311,
           5863311,
           5863311,
           5863311,
           5863311,
           441412723,
           5863311,
           5863311,
           450720289,
           441412723,
           5863311,
           5863311,
           450720289,
           5863311,
           5863311,
           5863311,
           5863311,
           5863311,
           441412723,
           5863311,
           441412723,
           5863311,
           5863311,
           5863311,
           441412723,
           441412723,
           5863311,
           441412723,
           441412723,
           441412723,
           450720289,
           441412723,
           450720289,
           5863311,
           441412723,
           441412723,
           450720289,
           450720289,
           450720289,
           441412723,
           450720289,
           441412723,
           450720289,
           441412723,
           450720289,
           441412723,
           441412723,
           441412723,
           450720289,
           441412723,
           450720289,
           441412723,
           441412723,
           450720289,
           441412723,
           441412723,
           441412723,
           441412723,
           441412723,
           5863311,
           441412723,
           441412723,
           441412723,
           450720289,
           441412723,
           5863311,
           450720289,
           441412723,
           441412723,
           5863311,
           441412723,
           5863311,
           441412723,
           441412723,
           441412723,
           441412723,
           441412723,
           441412723,
           450720289,
           5863311,
           441412723,
           450720289,
           450720289,
           450720289,
           450720289,
           450720289,
           441412723,
           5863311,
           5863311,
           5863311,
           450720289,
           5863311,
           5863311,
           5863311,
           5863311,
           5863311,
           450720289,
           5863311,
           5863311,
           450720289,
           450720289,
           5863311,
           5863311,
           450720289
          ],
          "coloraxis": "coloraxis"
         },
         "mode": "markers",
         "name": "",
         "showlegend": false,
         "subplot": "mapbox",
         "type": "scattermapbox"
        }
       ],
       "layout": {
        "autosize": true,
        "coloraxis": {
         "colorbar": {
          "title": {
           "text": "PARENT NUMBER"
          }
         },
         "colorscale": [
          [
           0,
           "#0d0887"
          ],
          [
           0.1111111111111111,
           "#46039f"
          ],
          [
           0.2222222222222222,
           "#7201a8"
          ],
          [
           0.3333333333333333,
           "#9c179e"
          ],
          [
           0.4444444444444444,
           "#bd3786"
          ],
          [
           0.5555555555555556,
           "#d8576b"
          ],
          [
           0.6666666666666666,
           "#ed7953"
          ],
          [
           0.7777777777777778,
           "#fb9f3a"
          ],
          [
           0.8888888888888888,
           "#fdca26"
          ],
          [
           1,
           "#f0f921"
          ]
         ]
        },
        "legend": {
         "tracegroupgap": 0
        },
        "mapbox": {
         "bearing": 0,
         "center": {
          "lat": 41.275442890572066,
          "lon": -96.50545990007538
         },
         "domain": {
          "x": [
           0,
           1
          ],
          "y": [
           0,
           1
          ]
         },
         "pitch": 0,
         "style": "open-street-map",
         "zoom": 11.522136892441564
        },
        "margin": {
         "t": 60
        },
        "template": {
         "data": {
          "bar": [
           {
            "error_x": {
             "color": "#2a3f5f"
            },
            "error_y": {
             "color": "#2a3f5f"
            },
            "marker": {
             "line": {
              "color": "#E5ECF6",
              "width": 0.5
             },
             "pattern": {
              "fillmode": "overlay",
              "size": 10,
              "solidity": 0.2
             }
            },
            "type": "bar"
           }
          ],
          "barpolar": [
           {
            "marker": {
             "line": {
              "color": "#E5ECF6",
              "width": 0.5
             },
             "pattern": {
              "fillmode": "overlay",
              "size": 10,
              "solidity": 0.2
             }
            },
            "type": "barpolar"
           }
          ],
          "carpet": [
           {
            "aaxis": {
             "endlinecolor": "#2a3f5f",
             "gridcolor": "white",
             "linecolor": "white",
             "minorgridcolor": "white",
             "startlinecolor": "#2a3f5f"
            },
            "baxis": {
             "endlinecolor": "#2a3f5f",
             "gridcolor": "white",
             "linecolor": "white",
             "minorgridcolor": "white",
             "startlinecolor": "#2a3f5f"
            },
            "type": "carpet"
           }
          ],
          "choropleth": [
           {
            "colorbar": {
             "outlinewidth": 0,
             "ticks": ""
            },
            "type": "choropleth"
           }
          ],
          "contour": [
           {
            "colorbar": {
             "outlinewidth": 0,
             "ticks": ""
            },
            "colorscale": [
             [
              0,
              "#0d0887"
             ],
             [
              0.1111111111111111,
              "#46039f"
             ],
             [
              0.2222222222222222,
              "#7201a8"
             ],
             [
              0.3333333333333333,
              "#9c179e"
             ],
             [
              0.4444444444444444,
              "#bd3786"
             ],
             [
              0.5555555555555556,
              "#d8576b"
             ],
             [
              0.6666666666666666,
              "#ed7953"
             ],
             [
              0.7777777777777778,
              "#fb9f3a"
             ],
             [
              0.8888888888888888,
              "#fdca26"
             ],
             [
              1,
              "#f0f921"
             ]
            ],
            "type": "contour"
           }
          ],
          "contourcarpet": [
           {
            "colorbar": {
             "outlinewidth": 0,
             "ticks": ""
            },
            "type": "contourcarpet"
           }
          ],
          "heatmap": [
           {
            "colorbar": {
             "outlinewidth": 0,
             "ticks": ""
            },
            "colorscale": [
             [
              0,
              "#0d0887"
             ],
             [
              0.1111111111111111,
              "#46039f"
             ],
             [
              0.2222222222222222,
              "#7201a8"
             ],
             [
              0.3333333333333333,
              "#9c179e"
             ],
             [
              0.4444444444444444,
              "#bd3786"
             ],
             [
              0.5555555555555556,
              "#d8576b"
             ],
             [
              0.6666666666666666,
              "#ed7953"
             ],
             [
              0.7777777777777778,
              "#fb9f3a"
             ],
             [
              0.8888888888888888,
              "#fdca26"
             ],
             [
              1,
              "#f0f921"
             ]
            ],
            "type": "heatmap"
           }
          ],
          "heatmapgl": [
           {
            "colorbar": {
             "outlinewidth": 0,
             "ticks": ""
            },
            "colorscale": [
             [
              0,
              "#0d0887"
             ],
             [
              0.1111111111111111,
              "#46039f"
             ],
             [
              0.2222222222222222,
              "#7201a8"
             ],
             [
              0.3333333333333333,
              "#9c179e"
             ],
             [
              0.4444444444444444,
              "#bd3786"
             ],
             [
              0.5555555555555556,
              "#d8576b"
             ],
             [
              0.6666666666666666,
              "#ed7953"
             ],
             [
              0.7777777777777778,
              "#fb9f3a"
             ],
             [
              0.8888888888888888,
              "#fdca26"
             ],
             [
              1,
              "#f0f921"
             ]
            ],
            "type": "heatmapgl"
           }
          ],
          "histogram": [
           {
            "marker": {
             "pattern": {
              "fillmode": "overlay",
              "size": 10,
              "solidity": 0.2
             }
            },
            "type": "histogram"
           }
          ],
          "histogram2d": [
           {
            "colorbar": {
             "outlinewidth": 0,
             "ticks": ""
            },
            "colorscale": [
             [
              0,
              "#0d0887"
             ],
             [
              0.1111111111111111,
              "#46039f"
             ],
             [
              0.2222222222222222,
              "#7201a8"
             ],
             [
              0.3333333333333333,
              "#9c179e"
             ],
             [
              0.4444444444444444,
              "#bd3786"
             ],
             [
              0.5555555555555556,
              "#d8576b"
             ],
             [
              0.6666666666666666,
              "#ed7953"
             ],
             [
              0.7777777777777778,
              "#fb9f3a"
             ],
             [
              0.8888888888888888,
              "#fdca26"
             ],
             [
              1,
              "#f0f921"
             ]
            ],
            "type": "histogram2d"
           }
          ],
          "histogram2dcontour": [
           {
            "colorbar": {
             "outlinewidth": 0,
             "ticks": ""
            },
            "colorscale": [
             [
              0,
              "#0d0887"
             ],
             [
              0.1111111111111111,
              "#46039f"
             ],
             [
              0.2222222222222222,
              "#7201a8"
             ],
             [
              0.3333333333333333,
              "#9c179e"
             ],
             [
              0.4444444444444444,
              "#bd3786"
             ],
             [
              0.5555555555555556,
              "#d8576b"
             ],
             [
              0.6666666666666666,
              "#ed7953"
             ],
             [
              0.7777777777777778,
              "#fb9f3a"
             ],
             [
              0.8888888888888888,
              "#fdca26"
             ],
             [
              1,
              "#f0f921"
             ]
            ],
            "type": "histogram2dcontour"
           }
          ],
          "mesh3d": [
           {
            "colorbar": {
             "outlinewidth": 0,
             "ticks": ""
            },
            "type": "mesh3d"
           }
          ],
          "parcoords": [
           {
            "line": {
             "colorbar": {
              "outlinewidth": 0,
              "ticks": ""
             }
            },
            "type": "parcoords"
           }
          ],
          "pie": [
           {
            "automargin": true,
            "type": "pie"
           }
          ],
          "scatter": [
           {
            "fillpattern": {
             "fillmode": "overlay",
             "size": 10,
             "solidity": 0.2
            },
            "type": "scatter"
           }
          ],
          "scatter3d": [
           {
            "line": {
             "colorbar": {
              "outlinewidth": 0,
              "ticks": ""
             }
            },
            "marker": {
             "colorbar": {
              "outlinewidth": 0,
              "ticks": ""
             }
            },
            "type": "scatter3d"
           }
          ],
          "scattercarpet": [
           {
            "marker": {
             "colorbar": {
              "outlinewidth": 0,
              "ticks": ""
             }
            },
            "type": "scattercarpet"
           }
          ],
          "scattergeo": [
           {
            "marker": {
             "colorbar": {
              "outlinewidth": 0,
              "ticks": ""
             }
            },
            "type": "scattergeo"
           }
          ],
          "scattergl": [
           {
            "marker": {
             "colorbar": {
              "outlinewidth": 0,
              "ticks": ""
             }
            },
            "type": "scattergl"
           }
          ],
          "scattermapbox": [
           {
            "marker": {
             "colorbar": {
              "outlinewidth": 0,
              "ticks": ""
             }
            },
            "type": "scattermapbox"
           }
          ],
          "scatterpolar": [
           {
            "marker": {
             "colorbar": {
              "outlinewidth": 0,
              "ticks": ""
             }
            },
            "type": "scatterpolar"
           }
          ],
          "scatterpolargl": [
           {
            "marker": {
             "colorbar": {
              "outlinewidth": 0,
              "ticks": ""
             }
            },
            "type": "scatterpolargl"
           }
          ],
          "scatterternary": [
           {
            "marker": {
             "colorbar": {
              "outlinewidth": 0,
              "ticks": ""
             }
            },
            "type": "scatterternary"
           }
          ],
          "surface": [
           {
            "colorbar": {
             "outlinewidth": 0,
             "ticks": ""
            },
            "colorscale": [
             [
              0,
              "#0d0887"
             ],
             [
              0.1111111111111111,
              "#46039f"
             ],
             [
              0.2222222222222222,
              "#7201a8"
             ],
             [
              0.3333333333333333,
              "#9c179e"
             ],
             [
              0.4444444444444444,
              "#bd3786"
             ],
             [
              0.5555555555555556,
              "#d8576b"
             ],
             [
              0.6666666666666666,
              "#ed7953"
             ],
             [
              0.7777777777777778,
              "#fb9f3a"
             ],
             [
              0.8888888888888888,
              "#fdca26"
             ],
             [
              1,
              "#f0f921"
             ]
            ],
            "type": "surface"
           }
          ],
          "table": [
           {
            "cells": {
             "fill": {
              "color": "#EBF0F8"
             },
             "line": {
              "color": "white"
             }
            },
            "header": {
             "fill": {
              "color": "#C8D4E3"
             },
             "line": {
              "color": "white"
             }
            },
            "type": "table"
           }
          ]
         },
         "layout": {
          "annotationdefaults": {
           "arrowcolor": "#2a3f5f",
           "arrowhead": 0,
           "arrowwidth": 1
          },
          "autotypenumbers": "strict",
          "coloraxis": {
           "colorbar": {
            "outlinewidth": 0,
            "ticks": ""
           }
          },
          "colorscale": {
           "diverging": [
            [
             0,
             "#8e0152"
            ],
            [
             0.1,
             "#c51b7d"
            ],
            [
             0.2,
             "#de77ae"
            ],
            [
             0.3,
             "#f1b6da"
            ],
            [
             0.4,
             "#fde0ef"
            ],
            [
             0.5,
             "#f7f7f7"
            ],
            [
             0.6,
             "#e6f5d0"
            ],
            [
             0.7,
             "#b8e186"
            ],
            [
             0.8,
             "#7fbc41"
            ],
            [
             0.9,
             "#4d9221"
            ],
            [
             1,
             "#276419"
            ]
           ],
           "sequential": [
            [
             0,
             "#0d0887"
            ],
            [
             0.1111111111111111,
             "#46039f"
            ],
            [
             0.2222222222222222,
             "#7201a8"
            ],
            [
             0.3333333333333333,
             "#9c179e"
            ],
            [
             0.4444444444444444,
             "#bd3786"
            ],
            [
             0.5555555555555556,
             "#d8576b"
            ],
            [
             0.6666666666666666,
             "#ed7953"
            ],
            [
             0.7777777777777778,
             "#fb9f3a"
            ],
            [
             0.8888888888888888,
             "#fdca26"
            ],
            [
             1,
             "#f0f921"
            ]
           ],
           "sequentialminus": [
            [
             0,
             "#0d0887"
            ],
            [
             0.1111111111111111,
             "#46039f"
            ],
            [
             0.2222222222222222,
             "#7201a8"
            ],
            [
             0.3333333333333333,
             "#9c179e"
            ],
            [
             0.4444444444444444,
             "#bd3786"
            ],
            [
             0.5555555555555556,
             "#d8576b"
            ],
            [
             0.6666666666666666,
             "#ed7953"
            ],
            [
             0.7777777777777778,
             "#fb9f3a"
            ],
            [
             0.8888888888888888,
             "#fdca26"
            ],
            [
             1,
             "#f0f921"
            ]
           ]
          },
          "colorway": [
           "#636efa",
           "#EF553B",
           "#00cc96",
           "#ab63fa",
           "#FFA15A",
           "#19d3f3",
           "#FF6692",
           "#B6E880",
           "#FF97FF",
           "#FECB52"
          ],
          "font": {
           "color": "#2a3f5f"
          },
          "geo": {
           "bgcolor": "white",
           "lakecolor": "white",
           "landcolor": "#E5ECF6",
           "showlakes": true,
           "showland": true,
           "subunitcolor": "white"
          },
          "hoverlabel": {
           "align": "left"
          },
          "hovermode": "closest",
          "mapbox": {
           "style": "light"
          },
          "paper_bgcolor": "white",
          "plot_bgcolor": "#E5ECF6",
          "polar": {
           "angularaxis": {
            "gridcolor": "white",
            "linecolor": "white",
            "ticks": ""
           },
           "bgcolor": "#E5ECF6",
           "radialaxis": {
            "gridcolor": "white",
            "linecolor": "white",
            "ticks": ""
           }
          },
          "scene": {
           "xaxis": {
            "backgroundcolor": "#E5ECF6",
            "gridcolor": "white",
            "gridwidth": 2,
            "linecolor": "white",
            "showbackground": true,
            "ticks": "",
            "zerolinecolor": "white"
           },
           "yaxis": {
            "backgroundcolor": "#E5ECF6",
            "gridcolor": "white",
            "gridwidth": 2,
            "linecolor": "white",
            "showbackground": true,
            "ticks": "",
            "zerolinecolor": "white"
           },
           "zaxis": {
            "backgroundcolor": "#E5ECF6",
            "gridcolor": "white",
            "gridwidth": 2,
            "linecolor": "white",
            "showbackground": true,
            "ticks": "",
            "zerolinecolor": "white"
           }
          },
          "shapedefaults": {
           "line": {
            "color": "#2a3f5f"
           }
          },
          "ternary": {
           "aaxis": {
            "gridcolor": "white",
            "linecolor": "white",
            "ticks": ""
           },
           "baxis": {
            "gridcolor": "white",
            "linecolor": "white",
            "ticks": ""
           },
           "bgcolor": "#E5ECF6",
           "caxis": {
            "gridcolor": "white",
            "linecolor": "white",
            "ticks": ""
           }
          },
          "title": {
           "x": 0.05
          },
          "xaxis": {
           "automargin": true,
           "gridcolor": "white",
           "linecolor": "white",
           "ticks": "",
           "title": {
            "standoff": 15
           },
           "zerolinecolor": "white",
           "zerolinewidth": 2
          },
          "yaxis": {
           "automargin": true,
           "gridcolor": "white",
           "linecolor": "white",
           "ticks": "",
           "title": {
            "standoff": 15
           },
           "zerolinecolor": "white",
           "zerolinewidth": 2
          }
         }
        }
       }
      },
      "image/png": "[encoded data removed]",
      "text/html": [
       "<div>                            <div id=\"5f9a1fbd-30f0-44c4-9578-63a0cb884d0f\" class=\"plotly-graph-div\" style=\"height:525px; width:100%;\"></div>            <script type=\"text/javascript\">                require([\"plotly\"], function(Plotly) {                    window.PLOTLYENV=window.PLOTLYENV || {};                                    if (document.getElementById(\"5f9a1fbd-30f0-44c4-9578-63a0cb884d0f\")) {                    Plotly.newPlot(                        \"5f9a1fbd-30f0-44c4-9578-63a0cb884d0f\",                        [{\"customdata\":[[\"CIRCLE K\"],[\"CASEY'S\"],[\"CIRCLE K\"],[\"CASEY'S\"],[\"CASEY'S\"],[\"CIRCLE K\"],[\"CASEY'S\"],[\"CIRCLE K\"],[\"CASEY'S\"],[\"CASEY'S\"],[\"CASEY'S\"],[\"CASEY'S\"],[\"CASEY'S\"],[\"CASEY'S\"],[\"CASEY'S\"],[\"CIRCLE K\"],[\"CASEY'S\"],[\"CASEY'S\"],[\"CASEY'S\"],[\"CASEY'S\"],[\"CIRCLE K\"],[\"CASEY'S\"],[\"CASEY'S\"],[\"CASEY'S\"],[\"SPEEDWAY\"],[\"CASEY'S\"],[\"CASEY'S\"],[\"CASEY'S\"],[\"CASEY'S\"],[\"CASEY'S\"],[\"CASEY'S\"],[\"CASEY'S\"],[\"CASEY'S\"],[\"CASEY'S\"],[\"CASEY'S\"],[\"CASEY'S\"],[\"CASEY'S\"],[\"CASEY'S\"],[\"CASEY'S\"],[\"CIRCLE K\"],[\"CASEY'S\"],[\"CASEY'S\"],[\"CASEY'S\"],[\"CASEY'S\"],[\"CASEY'S\"],[\"CASEY'S\"],[\"CIRCLE K\"],[\"CIRCLE K\"],[\"CASEY'S\"],[\"CIRCLE K\"],[\"CASEY'S\"],[\"CASEY'S\"],[\"CASEY'S\"],[\"CIRCLE K\"],[\"CASEY'S\"],[\"CASEY'S\"],[\"CASEY'S\"],[\"CASEY'S\"],[\"CASEY'S\"],[\"CASEY'S\"],[\"7-ELEVEN\"],[\"CIRCLE K\"],[\"CASEY'S\"],[\"CIRCLE K\"],[\"CASEY'S\"],[\"CASEY'S\"],[\"CASEY'S\"],[\"GOODSTOP BY CASEY'S\"],[\"CASEY'S\"],[\"CASEY'S\"],[\"CIRCLE K\"],[\"CIRCLE K\"],[\"CASEY'S\"],[\"CASEY'S\"],[\"CASEY'S\"],[\"CASEY'S\"],[\"CIRCLE K\"],[\"CASEY'S\"],[\"CASEY'S\"],[\"CASEY'S\"],[\"CIRCLE K\"],[\"CASEY'S\"],[\"CASEY'S\"],[\"CIRCLE K\"],[\"CASEY'S\"],[\"CIRCLE K\"],[\"CIRCLE K\"],[\"CASEY'S\"],[\"CIRCLE K\"],[\"CASEY'S\"],[\"CASEY'S\"],[\"7-ELEVEN\"],[\"CIRCLE K\"],[\"CIRCLE K\"],[\"CASEY'S\"],[\"CIRCLE K\"],[\"7-ELEVEN\"],[\"CIRCLE K\"],[\"CIRCLE K\"],[\"CASEY'S\"],[\"CASEY'S\"],[\"7-ELEVEN\"],[\"CIRCLE K\"],[\"CASEY'S\"],[\"CASEY'S\"],[\"CASEY'S\"],[\"CASEY'S\"],[\"CASEY'S\"],[\"CIRCLE K\"],[\"CIRCLE K\"],[\"CIRCLE K\"],[\"CASEY'S\"],[\"CIRCLE K\"],[\"CASEY'S\"],[\"CIRCLE K\"],[\"CASEY'S\"],[\"CASEY'S\"],[\"CIRCLE K\"],[\"CASEY'S\"],[\"CIRCLE K\"],[\"CIRCLE K\"],[\"CASEY'S\"],[\"CASEY'S\"],[\"CASEY'S\"],[\"CASEY'S\"],[\"CIRCLE K\"],[\"CASEY'S\"],[\"CIRCLE K\"],[\"CIRCLE K\"],[\"CASEY'S\"],[\"CASEY'S\"],[\"CASEY'S\"],[\"CASEY'S\"],[\"CASEY'S\"],[\"CASEY'S\"],[\"7-ELEVEN\"],[\"CIRCLE K\"],[\"CIRCLE K\"],[\"CASEY'S\"],[\"7-ELEVEN\"],[\"GOODSTOP BY CASEY'S\"],[\"CIRCLE K\"],[\"7-ELEVEN\"],[\"CASEY'S\"],[\"CIRCLE K\"],[\"7-ELEVEN\"],[\"CASEY'S\"],[\"CASEY'S\"],[\"CIRCLE K\"],[\"CASEY'S\"],[\"7-ELEVEN\"],[\"7-ELEVEN\"],[\"CASEY'S\"],[\"7-ELEVEN\"],[\"CASEY'S\"],[\"CASEY'S\"],[\"SPEEDWAY\"],[\"7-ELEVEN\"],[\"CASEY'S\"],[\"CIRCLE K\"],[\"CIRCLE K\"],[\"CASEY'S\"],[\"7-ELEVEN\"],[\"CASEY'S\"],[\"CIRCLE K\"],[\"CASEY'S\"],[\"CIRCLE K\"],[\"7-ELEVEN\"],[\"CASEY'S\"],[\"7-ELEVEN\"],[\"CASEY'S\"],[\"CASEY'S\"],[\"7-ELEVEN\"],[\"7-ELEVEN\"],[\"CASEY'S\"],[\"CASEY'S\"],[\"7-ELEVEN\"],[\"CASEY'S\"],[\"7-ELEVEN\"],[\"SPEEDWAY\"],[\"7-ELEVEN\"],[\"SPEEDWAY\"],[\"CASEY'S\"],[\"CASEY'S\"],[\"7-ELEVEN\"],[\"CASEY'S\"],[\"CASEY'S\"],[\"CASEY'S\"],[\"CIRCLE K\"],[\"CASEY'S\"],[\"CASEY'S\"],[\"CASEY'S\"],[\"CASEY'S\"],[\"CASEY'S\"],[\"CIRCLE K\"],[\"CASEY'S\"],[\"7-ELEVEN\"],[\"CASEY'S\"],[\"CIRCLE K\"],[\"CASEY'S\"],[\"CIRCLE K\"],[\"7-ELEVEN\"],[\"7-ELEVEN\"],[\"7-ELEVEN\"],[\"CIRCLE K\"],[\"CIRCLE K\"],[\"7-ELEVEN\"],[\"CASEY'S\"],[\"CASEY'S\"],[\"7-ELEVEN\"],[\"CASEY'S\"],[\"CASEY'S\"],[\"CASEY'S\"],[\"CASEY'S\"],[\"CIRCLE K\"],[\"CASEY'S\"],[\"7-ELEVEN\"],[\"7-ELEVEN\"],[\"7-ELEVEN\"],[\"7-ELEVEN\"],[\"7-ELEVEN\"],[\"CIRCLE K\"],[\"CASEY'S\"],[\"CIRCLE K\"],[\"CASEY'S\"],[\"CASEY'S\"],[\"CIRCLE K\"],[\"SPEEDWAY\"],[\"CIRCLE K\"],[\"CASEY'S\"],[\"CASEY'S\"],[\"CASEY'S\"],[\"CASEY'S\"],[\"CIRCLE K\"],[\"CASEY'S\"],[\"CASEY'S\"],[\"CASEY'S\"],[\"CIRCLE K\"],[\"CASEY'S\"],[\"CIRCLE K\"],[\"7-ELEVEN\"],[\"CIRCLE K\"],[\"CIRCLE K\"],[\"CIRCLE K\"],[\"SPEEDWAY\"],[\"CASEY'S\"],[\"CIRCLE K\"],[\"CIRCLE K\"],[\"CIRCLE K\"],[\"CIRCLE K\"],[\"CIRCLE K\"],[\"CASEY'S\"],[\"7-ELEVEN\"],[\"CIRCLE K\"],[\"CASEY'S\"],[\"CASEY'S\"],[\"CIRCLE K\"],[\"CIRCLE K\"],[\"ON THE RUN\"],[\"CASEY'S\"],[\"7-ELEVEN\"],[\"CASEY'S\"],[\"CASEY'S\"],[\"CASEY'S\"],[\"CASEY'S\"],[\"CIRCLE K\"],[\"CASEY'S\"],[\"CASEY'S\"],[\"7-ELEVEN\"],[\"7-ELEVEN\"],[\"CIRCLE K\"],[\"CASEY'S\"],[\"CIRCLE K\"],[\"CASEY'S\"],[\"CASEY'S\"],[\"CASEY'S\"],[\"CASEY'S\"],[\"CASEY'S\"],[\"CASEY'S\"],[\"CASEY'S\"],[\"CASEY'S\"],[\"CIRCLE K\"],[\"CASEY'S\"],[\"CASEY'S\"],[\"SPEEDWAY\"],[\"CASEY'S\"],[\"CASEY'S\"],[\"SPEEDWAY\"],[\"CASEY'S\"],[\"CIRCLE K\"],[\"CASEY'S\"],[\"CIRCLE K\"],[\"7-ELEVEN\"],[\"CASEY'S\"],[\"CASEY'S\"],[\"CASEY'S\"],[\"CASEY'S\"],[\"CIRCLE K\"],[\"CASEY'S\"],[\"CASEY'S\"],[\"CASEY'S\"],[\"CASEY'S\"],[\"CIRCLE K\"],[\"CASEY'S\"],[\"CASEY'S\"],[\"CASEY'S\"],[\"CASEY'S\"],[\"CIRCLE K\"],[\"CIRCLE K\"],[\"CASEY'S\"],[\"CIRCLE K\"],[\"CASEY'S\"],[\"CIRCLE K\"],[\"CASEY'S\"],[\"CASEY'S\"],[\"CASEY'S\"],[\"CASEY'S\"],[\"7-ELEVEN\"],[\"CASEY'S\"],[\"7-ELEVEN\"],[\"7-ELEVEN\"],[\"CASEY'S\"],[\"CASEY'S\"],[\"CASEY'S\"],[\"SPEEDWAY\"],[\"CASEY'S\"],[\"CIRCLE K\"],[\"CIRCLE K\"],[\"CASEY'S\"],[\"CIRCLE K\"],[\"CIRCLE K\"],[\"7-ELEVEN\"],[\"CASEY'S\"],[\"CASEY'S\"],[\"CIRCLE K\"],[\"CIRCLE K\"],[\"CASEY'S\"],[\"CASEY'S\"],[\"CASEY'S\"],[\"CIRCLE K\"],[\"CASEY'S\"],[\"CASEY'S\"],[\"CASEY'S\"],[\"CASEY'S\"],[\"CASEY'S\"],[\"CIRCLE K\"],[\"CIRCLE K\"],[\"CASEY'S\"],[\"CASEY'S\"],[\"CASEY'S\"],[\"7-ELEVEN\"],[\"CASEY'S\"],[\"CIRCLE K\"],[\"7-ELEVEN\"],[\"CASEY'S\"],[\"CIRCLE K\"],[\"7-ELEVEN\"],[\"CASEY'S\"],[\"7-ELEVEN\"],[\"CASEY'S\"],[\"CASEY'S\"],[\"CASEY'S\"],[\"CASEY'S\"],[\"CASEY'S\"],[\"CIRCLE K\"],[\"CIRCLE K\"],[\"CIRCLE K\"],[\"SPEEDWAY\"],[\"CASEY'S\"],[\"CIRCLE K\"],[\"7-ELEVEN\"],[\"SPEEDWAY\"],[\"CIRCLE K\"],[\"CASEY'S\"],[\"7-ELEVEN\"],[\"CIRCLE K\"],[\"CIRCLE K\"],[\"CASEY'S\"],[\"CASEY'S\"],[\"7-ELEVEN\"],[\"CASEY'S\"],[\"7-ELEVEN\"],[\"CASEY'S\"],[\"CASEY'S\"],[\"SPEEDWAY\"],[\"CIRCLE K\"],[\"7-ELEVEN\"],[\"CIRCLE K\"],[\"CASEY'S\"],[\"CASEY'S\"],[\"SPEEDWAY\"],[\"CASEY'S\"],[\"CIRCLE K\"],[\"CASEY'S\"],[\"CIRCLE K\"],[\"7-ELEVEN\"],[\"CIRCLE K\"],[\"CASEY'S\"],[\"SPEEDWAY\"],[\"SPEEDWAY\"],[\"CASEY'S\"],[\"CIRCLE K\"],[\"CIRCLE K\"],[\"CIRCLE K\"],[\"CASEY'S\"],[\"7-ELEVEN\"],[\"CASEY'S\"],[\"CIRCLE K\"],[\"CASEY'S\"],[\"CIRCLE K\"],[\"CIRCLE K\"],[\"CIRCLE K\"],[\"CASEY'S\"],[\"CASEY'S\"],[\"CASEY'S\"],[\"7-ELEVEN\"],[\"CASEY'S\"],[\"7-ELEVEN\"],[\"7-ELEVEN\"],[\"CASEY'S\"],[\"CASEY'S\"],[\"SPEEDWAY\"],[\"CIRCLE K\"],[\"CIRCLE K\"],[\"CIRCLE K\"],[\"CIRCLE K\"],[\"7-ELEVEN\"],[\"7-ELEVEN\"],[\"CASEY'S\"],[\"CIRCLE K\"],[\"CASEY'S\"],[\"CIRCLE K\"],[\"CASEY'S\"],[\"CASEY'S\"],[\"CIRCLE K\"],[\"CIRCLE K\"],[\"CASEY'S\"],[\"CASEY'S\"],[\"CIRCLE K\"],[\"SPEEDWAY\"],[\"SPEEDWAY\"],[\"SPEEDWAY\"],[\"SPEEDWAY\"],[\"CASEY'S\"],[\"7-ELEVEN\"],[\"CIRCLE K\"],[\"SPEEDWAY\"],[\"CASEY'S\"],[\"CASEY'S\"],[\"CASEY'S\"],[\"CIRCLE K\"],[\"CASEY'S\"],[\"CIRCLE K\"],[\"CIRCLE K\"],[\"CASEY'S\"],[\"CASEY'S\"],[\"CASEY'S\"],[\"CIRCLE K\"],[\"SPEEDWAY\"],[\"CASEY'S\"],[\"CASEY'S\"],[\"CIRCLE K\"],[\"CIRCLE K\"],[\"SPEEDWAY\"],[\"CASEY'S\"],[\"7-ELEVEN\"],[\"CASEY'S\"],[\"SPEEDWAY\"],[\"CIRCLE K\"],[\"SPEEDWAY\"],[\"CIRCLE K\"],[\"CIRCLE K\"],[\"SPEEDWAY\"],[\"SPEEDWAY\"],[\"CIRCLE K\"],[\"CASEY'S\"],[\"7-ELEVEN\"],[\"SPEEDWAY\"],[\"7-ELEVEN\"],[\"7-ELEVEN\"],[\"SPEEDWAY\"],[\"SPEEDWAY\"],[\"7-ELEVEN\"],[\"SPEEDWAY\"],[\"7-ELEVEN\"],[\"CASEY'S\"],[\"7-ELEVEN\"],[\"7-ELEVEN\"],[\"SPEEDWAY\"],[\"7-ELEVEN\"],[\"SPEEDWAY\"],[\"7-ELEVEN\"],[\"CASEY'S\"],[\"7-ELEVEN\"],[\"SPEEDWAY\"],[\"GOODSTOP BY CASEY'S\"],[\"7-ELEVEN\"],[\"SPEEDWAY\"],[\"7-ELEVEN\"],[\"CASEY'S\"],[\"7-ELEVEN\"],[\"CASEY'S\"],[\"7-ELEVEN\"],[\"7-ELEVEN\"],[\"SPEEDWAY\"],[\"SPEEDWAY\"],[\"GOODSTOP BY CASEY'S\"],[\"7-ELEVEN\"],[\"7-ELEVEN\"],[\"SPEEDWAY\"],[\"SPEEDWAY\"],[\"CASEY'S\"],[\"CIRCLE K\"],[\"CASEY'S\"],[\"7-ELEVEN\"],[\"7-ELEVEN\"],[\"7-ELEVEN\"],[\"7-ELEVEN\"],[\"CIRCLE K\"],[\"7-ELEVEN\"],[\"7-ELEVEN\"],[\"7-ELEVEN\"],[\"CIRCLE K\"],[\"SPEEDWAY\"],[\"7-ELEVEN\"],[\"CASEY'S\"],[\"7-ELEVEN\"],[\"CIRCLE K\"],[\"7-ELEVEN\"],[\"7-ELEVEN\"],[\"CIRCLE K\"],[\"7-ELEVEN\"],[\"CIRCLE K\"],[\"7-ELEVEN\"],[\"7-ELEVEN\"],[\"CIRCLE K\"],[\"7-ELEVEN\"],[\"7-ELEVEN\"],[\"7-ELEVEN\"],[\"7-ELEVEN\"],[\"7-ELEVEN\"],[\"7-ELEVEN\"],[\"SPEEDWAY\"],[\"7-ELEVEN\"],[\"7-ELEVEN\"],[\"7-ELEVEN\"],[\"7-ELEVEN\"],[\"GOODSTOP BY CASEY'S\"],[\"7-ELEVEN\"],[\"CASEY'S\"],[\"7-ELEVEN\"],[\"CASEY'S\"],[\"7-ELEVEN\"],[\"7-ELEVEN\"],[\"7-ELEVEN\"],[\"7-ELEVEN\"],[\"7-ELEVEN\"],[\"7-ELEVEN\"],[\"7-ELEVEN\"],[\"7-ELEVEN\"],[\"7-ELEVEN\"],[\"7-ELEVEN\"],[\"7-ELEVEN\"],[\"7-ELEVEN\"],[\"7-ELEVEN\"],[\"7-ELEVEN\"],[\"7-ELEVEN\"],[\"7-ELEVEN\"],[\"7-ELEVEN\"],[\"7-ELEVEN\"],[\"7-ELEVEN\"],[\"7-ELEVEN\"],[\"7-ELEVEN\"],[\"CIRCLE K\"],[\"7-ELEVEN\"],[\"7-ELEVEN\"],[\"7-ELEVEN\"],[\"7-ELEVEN\"],[\"CASEY'S\"],[\"7-ELEVEN\"],[\"7-ELEVEN\"],[\"7-ELEVEN\"],[\"SPEEDWAY\"],[\"7-ELEVEN\"],[\"7-ELEVEN\"],[\"CIRCLE K\"],[\"7-ELEVEN\"],[\"7-ELEVEN\"],[\"7-ELEVEN\"],[\"7-ELEVEN\"],[\"SPEEDWAY\"],[\"7-ELEVEN\"],[\"7-ELEVEN\"],[\"CIRCLE K\"],[\"7-ELEVEN\"],[\"CIRCLE K\"],[\"7-ELEVEN\"],[\"CIRCLE K\"],[\"7-ELEVEN\"],[\"SPEEDWAY\"],[\"CASEY'S\"],[\"7-ELEVEN\"],[\"CIRCLE K\"],[\"CIRCLE K\"],[\"7-ELEVEN\"],[\"7-ELEVEN\"],[\"7-ELEVEN\"],[\"7-ELEVEN\"],[\"CIRCLE K\"],[\"7-ELEVEN\"],[\"CIRCLE K\"],[\"7-ELEVEN\"],[\"7-ELEVEN\"],[\"7-ELEVEN\"],[\"CASEY'S\"],[\"SPEEDWAY\"],[\"CIRCLE K\"],[\"7-ELEVEN\"],[\"7-ELEVEN\"],[\"7-ELEVEN\"],[\"CASEY'S\"],[\"7-ELEVEN\"],[\"7-ELEVEN\"],[\"CIRCLE K\"],[\"7-ELEVEN\"],[\"7-ELEVEN\"],[\"CIRCLE K\"],[\"7-ELEVEN\"],[\"CIRCLE K\"],[\"CIRCLE K\"],[\"7-ELEVEN\"],[\"CIRCLE K\"],[\"7-ELEVEN\"],[\"CIRCLE K\"],[\"CIRCLE K\"],[\"CIRCLE K\"],[\"CASEY'S\"],[\"SPEEDWAY\"],[\"7-ELEVEN\"],[\"7-ELEVEN\"],[\"SPEEDWAY\"],[\"CIRCLE K\"],[\"SPEEDWAY\"],[\"7-ELEVEN\"],[\"7-ELEVEN\"],[\"7-ELEVEN\"],[\"CASEY'S\"],[\"SPEEDWAY\"],[\"CASEY'S\"],[\"7-ELEVEN\"],[\"CIRCLE K\"],[\"CASEY'S\"],[\"CASEY'S\"],[\"7-ELEVEN\"],[\"CIRCLE K\"],[\"CASEY'S\"],[\"CASEY'S\"],[\"CIRCLE K\"],[\"SPEEDWAY\"],[\"7-ELEVEN\"],[\"CASEY'S\"],[\"CIRCLE K\"],[\"CIRCLE K\"],[\"7-ELEVEN\"],[\"7-ELEVEN\"],[\"SPEEDWAY\"],[\"SPEEDWAY\"],[\"SPEEDWAY\"],[\"7-ELEVEN\"],[\"CIRCLE K\"],[\"CASEY'S\"],[\"CIRCLE K\"],[\"7-ELEVEN\"],[\"7-ELEVEN\"],[\"7-ELEVEN\"],[\"SPEEDWAY\"],[\"CASEY'S\"],[\"CASEY'S\"],[\"7-ELEVEN\"],[\"CIRCLE K\"],[\"CIRCLE K\"],[\"CASEY'S\"],[\"CASEY'S\"],[\"CASEY'S\"],[\"7-ELEVEN\"],[\"7-ELEVEN\"],[\"CASEY'S\"],[\"7-ELEVEN\"],[\"7-ELEVEN\"],[\"CASEY'S\"],[\"SPEEDWAY\"],[\"7-ELEVEN\"],[\"CASEY'S\"],[\"7-ELEVEN\"],[\"CASEY'S\"],[\"CASEY'S\"],[\"7-ELEVEN\"],[\"7-ELEVEN\"],[\"7-ELEVEN\"],[\"CASEY'S\"],[\"7-ELEVEN\"],[\"CASEY'S\"],[\"7-ELEVEN\"],[\"7-ELEVEN\"],[\"7-ELEVEN\"],[\"7-ELEVEN\"],[\"SPEEDWAY\"],[\"CASEY'S\"],[\"7-ELEVEN\"],[\"CIRCLE K\"],[\"7-ELEVEN\"],[\"7-ELEVEN\"],[\"CIRCLE K\"],[\"CIRCLE K\"],[\"CASEY'S\"],[\"CASEY'S\"],[\"SPEEDWAY\"],[\"7-ELEVEN\"],[\"CASEY'S\"],[\"7-ELEVEN\"],[\"7-ELEVEN\"],[\"7-ELEVEN\"],[\"CIRCLE K\"],[\"7-ELEVEN\"],[\"SPEEDWAY\"],[\"CIRCLE K\"],[\"CIRCLE K\"],[\"CIRCLE K\"],[\"CASEY'S\"],[\"CASEY'S\"],[\"7-ELEVEN\"],[\"CIRCLE K\"],[\"7-ELEVEN\"],[\"CASEY'S\"],[\"CASEY'S\"],[\"7-ELEVEN\"],[\"CASEY'S\"],[\"CASEY'S\"],[\"CASEY'S\"],[\"CASEY'S\"],[\"CASEY'S\"],[\"CASEY'S\"],[\"CASEY'S\"],[\"CASEY'S\"],[\"CASEY'S\"],[\"CIRCLE K\"],[\"CASEY'S\"],[\"CIRCLE K\"],[\"CASEY'S\"],[\"CIRCLE K\"],[\"CASEY'S\"],[\"CASEY'S\"],[\"CASEY'S\"],[\"CASEY'S\"],[\"CIRCLE K\"],[\"CASEY'S\"],[\"CASEY'S\"],[\"CIRCLE K\"],[\"CASEY'S\"],[\"CASEY'S\"],[\"CASEY'S\"],[\"CASEY'S\"],[\"CASEY'S\"],[\"CASEY'S\"],[\"CASEY'S\"],[\"CASEY'S\"],[\"CIRCLE K\"],[\"CASEY'S\"],[\"CASEY'S\"],[\"CASEY'S\"],[\"CASEY'S\"],[\"CASEY'S\"],[\"CASEY'S\"],[\"CASEY'S\"],[\"CASEY'S\"],[\"CIRCLE K\"],[\"CASEY'S\"],[\"CASEY'S\"],[\"CASEY'S\"],[\"SPEEDWAY\"],[\"CASEY'S\"],[\"CASEY'S\"],[\"CASEY'S\"],[\"CASEY'S\"],[\"CASEY'S\"],[\"CIRCLE K\"],[\"CIRCLE K\"],[\"SPEEDWAY\"],[\"SPEEDWAY\"],[\"7-ELEVEN\"],[\"7-ELEVEN\"],[\"7-ELEVEN\"],[\"CIRCLE K\"],[\"SPEEDWAY\"],[\"CASEY'S\"],[\"CASEY'S\"],[\"7-ELEVEN\"],[\"CIRCLE K\"],[\"CIRCLE K\"],[\"CASEY'S\"],[\"7-ELEVEN\"],[\"CASEY'S\"],[\"CASEY'S\"],[\"SPEEDWAY\"],[\"CASEY'S\"],[\"CASEY'S\"],[\"CIRCLE K\"],[\"CASEY'S\"],[\"7-ELEVEN\"],[\"CASEY'S\"],[\"7-ELEVEN\"],[\"CIRCLE K\"],[\"7-ELEVEN\"],[\"SPEEDWAY\"],[\"CASEY'S\"],[\"CIRCLE K\"],[\"GOODSTOP BY CASEY'S\"],[\"7-ELEVEN\"],[\"CASEY'S\"],[\"CIRCLE K\"],[\"CIRCLE K\"],[\"CIRCLE K\"],[\"CASEY'S\"],[\"7-ELEVEN\"],[\"CIRCLE K\"],[\"7-ELEVEN\"],[\"CIRCLE K\"],[\"CASEY'S\"],[\"CIRCLE K\"],[\"CASEY'S\"],[\"7-ELEVEN\"],[\"CASEY'S\"],[\"CASEY'S\"],[\"CASEY'S\"],[\"CASEY'S\"],[\"CIRCLE K\"],[\"CASEY'S\"],[\"7-ELEVEN\"],[\"CASEY'S\"],[\"CIRCLE K\"],[\"CASEY'S\"],[\"CASEY'S\"],[\"7-ELEVEN\"],[\"CIRCLE K\"],[\"7-ELEVEN\"],[\"CASEY'S\"],[\"CASEY'S\"],[\"7-ELEVEN\"],[\"7-ELEVEN\"],[\"7-ELEVEN\"],[\"CASEY'S\"],[\"CASEY'S\"],[\"CIRCLE K\"],[\"CIRCLE K\"],[\"CASEY'S\"],[\"CASEY'S\"],[\"CASEY'S\"],[\"CASEY'S\"],[\"CASEY'S\"],[\"CASEY'S\"],[\"CIRCLE K\"],[\"7-ELEVEN\"],[\"7-ELEVEN\"],[\"SPEEDWAY\"],[\"7-ELEVEN\"],[\"CASEY'S\"],[\"7-ELEVEN\"],[\"SPEEDWAY\"],[\"CASEY'S\"],[\"7-ELEVEN\"],[\"CIRCLE K\"],[\"7-ELEVEN\"],[\"7-ELEVEN\"],[\"CASEY'S\"],[\"CASEY'S\"],[\"CASEY'S\"],[\"SPEEDWAY\"],[\"CASEY'S\"],[\"7-ELEVEN\"],[\"CASEY'S\"],[\"7-ELEVEN\"],[\"CIRCLE K\"],[\"CASEY'S\"],[\"7-ELEVEN\"],[\"CIRCLE K\"],[\"CIRCLE K\"],[\"CASEY'S\"],[\"CIRCLE K\"],[\"CASEY'S\"],[\"CASEY'S\"],[\"7-ELEVEN\"],[\"7-ELEVEN\"],[\"CASEY'S\"],[\"CASEY'S\"],[\"7-ELEVEN\"],[\"CIRCLE K\"],[\"7-ELEVEN\"],[\"CASEY'S\"],[\"CIRCLE K\"],[\"CIRCLE K\"],[\"CASEY'S\"],[\"CASEY'S\"],[\"CASEY'S\"],[\"7-ELEVEN\"],[\"CASEY'S\"],[\"7-ELEVEN\"],[\"CASEY'S\"],[\"CASEY'S\"],[\"CASEY'S\"],[\"7-ELEVEN\"],[\"7-ELEVEN\"],[\"ON THE RUN\"],[\"CASEY'S\"],[\"7-ELEVEN\"],[\"CASEY'S\"],[\"CASEY'S\"],[\"CASEY'S\"],[\"CIRCLE K\"],[\"CIRCLE K\"],[\"7-ELEVEN\"],[\"7-ELEVEN\"],[\"CASEY'S\"],[\"CASEY'S\"],[\"CASEY'S\"],[\"CIRCLE K\"],[\"SPEEDWAY\"],[\"CIRCLE K\"],[\"CIRCLE K\"],[\"CASEY'S\"],[\"CASEY'S\"],[\"CASEY'S\"],[\"CASEY'S\"],[\"7-ELEVEN\"],[\"SPEEDWAY\"],[\"CASEY'S\"],[\"CIRCLE K\"],[\"CIRCLE K\"],[\"CIRCLE K\"],[\"CIRCLE K\"],[\"CIRCLE K\"],[\"CIRCLE K\"],[\"CIRCLE K\"],[\"CASEY'S\"],[\"CIRCLE K\"],[\"CIRCLE K\"],[\"7-ELEVEN\"],[\"CIRCLE K\"],[\"CASEY'S\"],[\"7-ELEVEN\"],[\"CIRCLE K\"],[\"CASEY'S\"],[\"CASEY'S\"],[\"CIRCLE K\"],[\"CASEY'S\"],[\"CASEY'S\"],[\"CIRCLE K\"],[\"CASEY'S\"],[\"CIRCLE K\"],[\"CIRCLE K\"],[\"CIRCLE K\"],[\"CIRCLE K\"],[\"SPEEDWAY\"],[\"CASEY'S\"],[\"CASEY'S\"],[\"CASEY'S\"],[\"CIRCLE K\"],[\"7-ELEVEN\"],[\"CIRCLE K\"],[\"CASEY'S\"],[\"7-ELEVEN\"],[\"CASEY'S\"],[\"CIRCLE K\"],[\"CASEY'S\"],[\"CASEY'S\"],[\"CIRCLE K\"],[\"CIRCLE K\"],[\"CIRCLE K\"],[\"CASEY'S\"],[\"CIRCLE K\"],[\"CIRCLE K\"],[\"CASEY'S\"],[\"CASEY'S\"],[\"CASEY'S\"],[\"7-ELEVEN\"],[\"SPEEDWAY\"],[\"CIRCLE K\"],[\"CASEY'S\"],[\"CASEY'S\"],[\"CIRCLE K\"],[\"CASEY'S\"],[\"CASEY'S\"],[\"CASEY'S\"],[\"CIRCLE K\"],[\"7-ELEVEN\"],[\"CIRCLE K\"],[\"CIRCLE K\"],[\"SPEEDWAY\"],[\"CASEY'S\"],[\"CASEY'S\"],[\"CIRCLE K\"],[\"SPEEDWAY\"],[\"7-ELEVEN\"],[\"CIRCLE K\"],[\"7-ELEVEN\"],[\"CASEY'S\"],[\"CASEY'S\"],[\"CIRCLE K\"],[\"CASEY'S\"],[\"7-ELEVEN\"],[\"SPEEDWAY\"],[\"CIRCLE K\"],[\"CASEY'S\"],[\"SPEEDWAY\"],[\"CIRCLE K\"],[\"SPEEDWAY\"],[\"7-ELEVEN\"],[\"SPEEDWAY\"],[\"SPEEDWAY\"],[\"SPEEDWAY\"],[\"CASEY'S\"],[\"CASEY'S\"],[\"CIRCLE K\"],[\"CIRCLE K\"],[\"CASEY'S\"],[\"7-ELEVEN\"],[\"CASEY'S\"],[\"CASEY'S\"],[\"CASEY'S\"],[\"CASEY'S\"],[\"SPEEDWAY\"],[\"SPEEDWAY\"],[\"CIRCLE K\"],[\"CASEY'S\"],[\"CIRCLE K\"],[\"CASEY'S\"],[\"SPEEDWAY\"],[\"7-ELEVEN\"],[\"SPEEDWAY\"],[\"7-ELEVEN\"],[\"7-ELEVEN\"],[\"CASEY'S\"],[\"SPEEDWAY\"],[\"SPEEDWAY\"],[\"SPEEDWAY\"],[\"7-ELEVEN\"],[\"CIRCLE K\"],[\"SPEEDWAY\"],[\"CASEY'S\"],[\"7-ELEVEN\"],[\"CIRCLE K\"],[\"SPEEDWAY\"],[\"CIRCLE K\"],[\"CIRCLE K\"],[\"7-ELEVEN\"],[\"SPEEDWAY\"],[\"CIRCLE K\"],[\"7-ELEVEN\"],[\"SPEEDWAY\"],[\"CIRCLE K\"],[\"CASEY'S\"],[\"CASEY'S\"],[\"CASEY'S\"],[\"SPEEDWAY\"],[\"7-ELEVEN\"],[\"7-ELEVEN\"],[\"7-ELEVEN\"],[\"7-ELEVEN\"],[\"7-ELEVEN\"],[\"CASEY'S\"],[\"7-ELEVEN\"],[\"CIRCLE K\"],[\"SPEEDWAY\"],[\"CIRCLE K\"],[\"CASEY'S\"],[\"7-ELEVEN\"],[\"SPEEDWAY\"],[\"SPEEDWAY\"],[\"7-ELEVEN\"],[\"CASEY'S\"],[\"SPEEDWAY\"],[\"CIRCLE K\"],[\"CIRCLE K\"],[\"CASEY'S\"],[\"SPEEDWAY\"],[\"7-ELEVEN\"],[\"CASEY'S\"],[\"CASEY'S\"],[\"CASEY'S\"],[\"CIRCLE K\"],[\"CIRCLE K\"],[\"CIRCLE K\"],[\"SPEEDWAY\"],[\"CIRCLE K\"],[\"CIRCLE K\"],[\"SPEEDWAY\"],[\"SPEEDWAY\"],[\"7-ELEVEN\"],[\"CIRCLE K\"],[\"7-ELEVEN\"],[\"CIRCLE K\"],[\"CIRCLE K\"],[\"CASEY'S\"],[\"CIRCLE K\"],[\"CIRCLE K\"],[\"CIRCLE K\"],[\"SPEEDWAY\"],[\"CIRCLE K\"],[\"SPEEDWAY\"],[\"CIRCLE K\"],[\"CIRCLE K\"],[\"CIRCLE K\"],[\"CIRCLE K\"],[\"CIRCLE K\"],[\"CIRCLE K\"],[\"7-ELEVEN\"],[\"7-ELEVEN\"],[\"GOODSTOP BY CASEY'S\"],[\"CIRCLE K\"],[\"7-ELEVEN\"],[\"CASEY'S\"],[\"CIRCLE K\"],[\"7-ELEVEN\"],[\"CASEY'S\"],[\"CIRCLE K\"],[\"CASEY'S\"],[\"CIRCLE K\"],[\"7-ELEVEN\"],[\"SPEEDWAY\"],[\"7-ELEVEN\"],[\"CASEY'S\"],[\"CASEY'S\"],[\"CASEY'S\"],[\"7-ELEVEN\"],[\"SPEEDWAY\"],[\"7-ELEVEN\"],[\"CASEY'S\"],[\"CIRCLE K\"],[\"7-ELEVEN\"],[\"7-ELEVEN\"],[\"7-ELEVEN\"],[\"7-ELEVEN\"],[\"7-ELEVEN\"],[\"CASEY'S\"],[\"7-ELEVEN\"],[\"7-ELEVEN\"],[\"7-ELEVEN\"],[\"7-ELEVEN\"],[\"SPEEDWAY\"],[\"CIRCLE K\"],[\"SPEEDWAY\"],[\"CIRCLE K\"],[\"CASEY'S\"],[\"CIRCLE K\"],[\"CASEY'S\"],[\"CIRCLE K\"],[\"CIRCLE K\"],[\"CASEY'S\"],[\"CASEY'S\"],[\"7-ELEVEN\"],[\"CASEY'S\"],[\"CASEY'S\"],[\"7-ELEVEN\"],[\"SPEEDWAY\"],[\"CASEY'S\"],[\"CASEY'S\"],[\"CASEY'S\"],[\"CASEY'S\"],[\"CIRCLE K\"],[\"CIRCLE K\"],[\"CIRCLE K\"],[\"CIRCLE K\"],[\"CIRCLE K\"],[\"CASEY'S\"],[\"CASEY'S\"],[\"CASEY'S\"],[\"CASEY'S\"],[\"7-ELEVEN\"],[\"CASEY'S\"],[\"SPEEDWAY\"],[\"CASEY'S\"],[\"7-ELEVEN\"],[\"CIRCLE K\"],[\"7-ELEVEN\"],[\"SPEEDWAY\"],[\"CIRCLE K\"],[\"CASEY'S\"],[\"7-ELEVEN\"],[\"7-ELEVEN\"],[\"SPEEDWAY\"],[\"7-ELEVEN\"],[\"CASEY'S\"],[\"7-ELEVEN\"],[\"7-ELEVEN\"],[\"7-ELEVEN\"],[\"7-ELEVEN\"],[\"7-ELEVEN\"],[\"7-ELEVEN\"],[\"SPEEDWAY\"],[\"7-ELEVEN\"],[\"SPEEDWAY\"],[\"7-ELEVEN\"],[\"CASEY'S\"],[\"7-ELEVEN\"],[\"7-ELEVEN\"],[\"CIRCLE K\"],[\"CASEY'S\"],[\"SPEEDWAY\"],[\"SPEEDWAY\"],[\"CIRCLE K\"],[\"SPEEDWAY\"],[\"7-ELEVEN\"],[\"SPEEDWAY\"],[\"7-ELEVEN\"],[\"7-ELEVEN\"],[\"CASEY'S\"],[\"7-ELEVEN\"],[\"CASEY'S\"],[\"7-ELEVEN\"],[\"7-ELEVEN\"],[\"7-ELEVEN\"],[\"CASEY'S\"],[\"CASEY'S\"],[\"7-ELEVEN\"],[\"CASEY'S\"],[\"CASEY'S\"],[\"CASEY'S\"],[\"CIRCLE K\"],[\"CASEY'S\"],[\"CIRCLE K\"],[\"7-ELEVEN\"],[\"CASEY'S\"],[\"CASEY'S\"],[\"CIRCLE K\"],[\"CIRCLE K\"],[\"CIRCLE K\"],[\"CASEY'S\"],[\"CIRCLE K\"],[\"CASEY'S\"],[\"CIRCLE K\"],[\"CASEY'S\"],[\"CIRCLE K\"],[\"CASEY'S\"],[\"CASEY'S\"],[\"CASEY'S\"],[\"CIRCLE K\"],[\"CASEY'S\"],[\"CIRCLE K\"],[\"CASEY'S\"],[\"CASEY'S\"],[\"CIRCLE K\"],[\"CASEY'S\"],[\"CASEY'S\"],[\"CASEY'S\"],[\"CASEY'S\"],[\"CASEY'S\"],[\"SPEEDWAY\"],[\"CASEY'S\"],[\"CASEY'S\"],[\"CASEY'S\"],[\"CIRCLE K\"],[\"CASEY'S\"],[\"7-ELEVEN\"],[\"CIRCLE K\"],[\"CASEY'S\"],[\"CASEY'S\"],[\"SPEEDWAY\"],[\"CASEY'S\"],[\"7-ELEVEN\"],[\"CASEY'S\"],[\"CASEY'S\"],[\"CASEY'S\"],[\"CASEY'S\"],[\"CASEY'S\"],[\"CASEY'S\"],[\"CIRCLE K\"],[\"7-ELEVEN\"],[\"CASEY'S\"],[\"CIRCLE K\"],[\"CIRCLE K\"],[\"CIRCLE K\"],[\"CIRCLE K\"],[\"CIRCLE K\"],[\"CASEY'S\"],[\"7-ELEVEN\"],[\"7-ELEVEN\"],[\"7-ELEVEN\"],[\"CIRCLE K\"],[\"7-ELEVEN\"],[\"7-ELEVEN\"],[\"7-ELEVEN\"],[\"SPEEDWAY\"],[\"7-ELEVEN\"],[\"CIRCLE K\"],[\"7-ELEVEN\"],[\"7-ELEVEN\"],[\"CIRCLE K\"],[\"CIRCLE K\"],[\"7-ELEVEN\"],[\"7-ELEVEN\"],[\"CIRCLE K\"]],\"hovertemplate\":\"LATITUDE=%{lat}\\u003cbr\\u003eLONGITUDE=%{lon}\\u003cbr\\u003eCOMPANY=%{customdata[0]}\\u003cbr\\u003ePARENT NUMBER=%{marker.color}\\u003cextra\\u003e\\u003c\\u002fextra\\u003e\",\"lat\":[41.333,41.323881,41.141578,41.333387,41.315,41.121354,41.3573,41.355416,41.037268,41.377743,41.120734,41.395874,41.213018,41.554857,41.3242,41.121161,40.70453,41.25801,41.295236,40.663306,40.923306,40.92463,40.406897,40.494157,41.367329,41.688881,41.358694,41.356459,40.618004,41.37121,41.211336,41.118191,41.330734,41.100878,41.056358,41.327184,40.604782,41.32716,41.365596,40.73912,40.408127,41.061104,40.6905,41.714522,41.0214,41.004601,40.69261,40.550603,41.163905,40.9532,42.413873,40.976162,40.558073,40.570964,40.91805,40.702513,40.5826,40.929118,40.52709,40.585777,42.022631,40.747681,40.648517,40.697836,40.4945,40.762939,42.232,42.139267,42.247971,40.343202,40.669097,40.474339,40.1459,40.540394,40.219814,40.517332,40.743558,40.782337,40.567261,40.259345,40.482108,40.42669,40.743568,40.517068,40.606989,40.486862,40.513559,40.881539,40.782945,40.450035,40.530418,42.065905,40.448848,40.498208,40.737549,40.147703,42.011079,40.532307,40.130339,42.292821,40.115693,42.2286,40.11616,40.035339,40.241856,40.065408,42.2286,40.643075,40.192139,40.110247,40.1124,40.01073,40.113791,40.132314,40.126896,39.899971,40.107698,40.112518,40.307859,40.028158,40.307795,39.990566,42.05739,40.239053,40.3159,40.131023,39.984951,40.145177,40.312479,42.159,40.126823,40.3063,40.023984,39.88837,40.30568,41.863724,40.116471,40.12658,40.039989,42.057076,41.999695,40.10201,42.087698,42.054761,40.112542,41.888698,42.188036,42.139539,40.096676,39.477554,41.899957,41.883539,41.995915,41.995725,42.057796,39.805305,42.058758,41.931516,42.026254,39.01149,39.608824,39.684845,42.046565,39.649921,38.907524,39.1503,38.787939,41.882813,39.092813,42.163279,39.713982,39.860217,42.045912,41.857303,39.13942,39.437443,42.031629,39.251,42.176159,42.09874,41.876186,41.992327,39.479061,38.929731,41.950736,38.958068,41.931107,38.888199,42.100355,39.602802,38.898094,39.653405,39.481851,39.596379,39.864665,39.155773,41.919944,39.595619,39.488531,39.14353,42.024692,41.996798,41.972126,41.860375,39.791996,39.60374,41.911682,39.1787,41.858744,42.175297,38.912701,39.169956,39.480378,39.793997,38.682393,39.798644,42.066756,42.07338,41.890081,41.939617,41.982366,38.884003,42.0215,41.887701,38.505308,38.586726,38.526216,41.926158,38.591805,38.8912,38.496466,38.901138,38.2114,38.334466,38.412613,38.437925,38.731542,38.602291,38.310827,41.886709,41.88828,41.861014,41.9818,42.018677,42.058617,38.333691,41.863721,42.021301,41.929362,41.9049,42.09775,39.005108,41.884617,42.016688,40.087884,39.932006,38.570664,41.965698,38.518299,38.673674,42.055061,40.39674,41.923358,39.960219,40.039486,41.934483,42.048875,38.983487,41.944892,41.98871,38.991516,39.272566,41.941582,38.521019,38.716514,39.112092,41.900444,41.945602,39.055974,39.1125,38.729854,39.877138,39.321955,39.305611,41.904491,38.716249,39.979877,42.148014,39.39135,39.2929,39.930494,38.729785,41.83469,41.904364,39.702265,39.552004,39.890149,38.960943,38.731689,39.131839,40.016407,39.002346,39.5497,39.405843,39.402522,39.00471,38.974007,39.59049,39.845244,39.2929,39.84592,39.022843,39.851297,39.590889,39.389278,39.251846,40.083644,42.047941,40.147177,42.015912,42.033708,39.434163,39.493193,40.293812,42.009291,40.117338,39.510877,40.297046,42.08828,39.72359,41.987977,41.9012,39.722852,39.888072,39.779166,39.810234,39.894026,39.588831,39.598205,39.83153,39.591053,39.76552,39.279411,40.013183,39.744973,41.690756,39.817088,39.677052,39.876953,39.830968,42.122234,39.961084,37.764949,42.047677,39.68755,41.112412,42.175244,38.078233,41.964888,38.680597,38.015091,38.260063,38.667944,41.264814,38.314991,41.46729,41.522927,41.53901,38.532833,41.908428,41.894875,41.748985,41.579858,38.616319,41.719828,41.579716,41.7377,38.619021,38.6142,42.052425,38.331673,41.879589,38.76847,38.135021,41.703566,41.46934,41.858281,37.810508,37.968745,37.743618,41.5885,38.09052,37.7687,37.15861,41.323971,41.734551,41.506744,38.374428,41.714362,41.530382,38.413847,38.313351,41.69969,41.879581,37.451473,41.588165,38.30553,37.897483,38.52754,41.830158,37.976123,41.527573,38.00289,37.80801,38.509656,41.55753,37.737858,41.615435,41.583718,37.882688,37.730419,41.4404,41.586314,41.628954,37.699901,37.998921,41.691072,41.901055,37.784521,41.8441,37.417225,37.996347,37.727728,37.893003,38.312419,41.702354,37.898287,37.995405,37.741613,41.556521,41.719956,41.445211,41.497827,37.74069,41.647029,41.54265,41.562167,37.725426,37.7842,37.684231,41.623762,37.821789,41.6077,41.602337,37.827821,37.818921,37.727867,37.725251,41.514584,37.9069,37.459976,41.41906,41.563032,41.530674,37.764599,41.834202,41.454952,41.528928,41.523526,41.535448,41.424981,41.597386,41.528385,41.483792,41.348444,41.241577,41.805656,41.775258,41.784969,41.849158,41.766997,41.781776,41.809669,41.764446,41.794928,41.740838,41.718273,41.801596,41.832354,41.814348,41.809478,41.781972,41.767676,41.769887,41.786076,41.816928,41.792,41.796529,41.613169,41.636305,41.804829,41.614268,41.842755,41.802869,41.736919,41.75151,41.846256,41.809929,41.764317,41.516237,41.502768,41.430737,41.652766,41.227783,41.893847,41.96563,41.924985,41.994679,41.932832,41.879724,41.928998,41.932621,41.89683,41.910333,41.918444,41.747894,41.77784,41.618887,41.881867,41.884083,41.721684,41.878434,41.876792,41.777557,41.793498,42.181238,41.938604,41.777679,41.879374,41.699865,41.893021,41.901702,41.942943,41.983326,41.785679,41.953555,41.967952,41.799193,41.986801,41.772058,41.990654,41.795547,41.739693,41.706124,41.976224,41.976387,41.782812,41.886526,41.938196,41.933312,41.982635,41.952286,41.932913,41.749986,41.886065,41.953498,41.930243,41.706018,41.961493,42.005848,41.795305,41.960856,41.961501,41.786201,41.869534,41.949419,41.778801,41.976559,41.758738,41.747313,41.79286,41.691837,41.807312,42.005585,41.921147,41.759738,41.885294,41.896562,41.946136,41.892319,41.849741,41.945532,41.880554,41.847229,41.735443,41.658344,41.908527,41.665534,41.954328,41.639229,41.584976,41.837382,41.726979,41.794153,41.890259,41.713807,41.84961,41.918083,41.715063,41.867535,41.810625,41.874043,41.98331,41.965887,41.765263,41.777523,41.846811,41.492024,41.877137,41.923634,41.61282,41.882964,41.889874,42.267232,42.011963,42.005402,41.779125,41.878342,41.566353,41.724112,41.925044,41.753902,41.939707,41.812668,41.736951,41.947116,41.785314,41.687695,41.783558,41.792125,41.709219,41.83142,41.789426,41.917892,41.745182,41.78397,41.682454,41.68001,41.747075,41.8749,41.712587,41.7681,41.64481,41.998705,41.718475,41.199175,41.443348,41.779406,41.819889,41.918109,41.2938,41.507712,42.25238,41.482577,41.466328,42.307348,41.72362,42.456735,41.878805,42.316244,41.353489,41.200115,41.877891,41.893357,41.499825,42.133351,42.239838,41.503898,41.322916,42.241775,42.154487,41.587206,41.659857,42.254868,42.023534,41.883393,42.320302,41.885294,41.876564,42.365765,42.370945,42.203457,41.3313,42.457776,41.9599,41.807724,41.976865,42.124516,41.969848,41.493547,42.093149,42.317478,41.466158,41.452096,42.254838,41.47127,42.239823,41.464443,41.493748,42.298954,42.046149,42.280949,41.467297,42.247595,42.354925,42.087626,42.349731,42.003123,41.337,42.253043,42.410515,42.179526,40.714914,41.881783,42.110225,40.697301,40.717564,40.715981,40.497589,40.028241,41.8809,40.458057,41.946691,40.311356,41.250155,41.946928,40.372868,40.603843,40.921138,40.83906,40.697353,40.793236,40.790986,40.557423,40.778466,40.612835,40.901949,40.947845,41.337856,40.827281,40.390785,40.703635,40.903187,40.492985,40.913153,40.871223,41.17775,40.614921,40.153755,40.91286,40.765281,40.552123,40.489716,40.802096,42.048097,40.622536,40.626618,40.458929,40.912689,40.694376,40.582921,41.221482,40.4493,41.024325,40.590729,40.918552,40.459449,40.7322,41.024802,42.325608,41.0938,40.590978,40.947847,40.467013,40.440973,40.116078,40.702798,38.763671,42.377901,41.871097,42.239,41.901649,40.124658,42.1676,40.687924,41.027401,41.95134,38.73867,40.645487,40.500165,42.041524,40.675505,40.741692,41.938785,38.080887,42.088943,40.531113,40.748524,41.965672,38.6056,41.936254,40.513216,41.9496,42.428052,40.04859,40.131969,41.984575,41.931775,38.582139,38.54749,41.921284,40.484778,39.16003,41.912323,40.102124,41.886879,38.808376,38.610428,40.05051,38.605262,41.874942,40.4255,38.46166,38.186595,38.739256,42.16779,40.310974,41.90769,40.089526,40.110843,40.196273,40.146643,41.987831,40.121487,41.8656,38.611075,38.747904,42.062643,41.955272,42.035086,39.0925,40.026226,40.109931,40.307781,38.922987,40.627443,38.534747,40.112965,40.202682,39.431648,40.10869,41.858643,41.921177,41.861734,42.004719,39.03774,41.889021,42.175813,38.723324,41.864872,40.095058,41.962251,41.916826,39.178535,38.825067,40.0032,41.902951,38.731265,42.002487,39.112157,38.701731,42.004866,38.841232,42.0077,40.058741,39.709205,39.129489,39.686495,39.299801,38.183449,42.01384,41.90073,40.305466,39.014443,42.048933,40.158642,41.910451,39.8023,40.192449,38.541974,42.176445,38.254896,39.020687,41.974159,38.200237,42.132503,38.12137,38.006735,41.99218,41.882778,42.149305,41.879387,39.116043,41.910717,38.71831,40.416446,42.091912,38.430307,38.75281,41.87019,41.949494,38.87013,41.288697,42.100232,38.137449,41.9544,38.594159,38.505876,39.606616,41.846075,40.636202,38.594696,41.624184,41.916098,41.8656,41.832448,41.972955,38.637872,38.561513,38.551329,38.513536,38.592639,41.920167,38.593305,38.5021,41.88661,41.601493,38.612484,41.706321,38.534528,39.708304,39.780753,40.635545,39.984849,41.9917,38.344044,41.722675,38.731708,38.502704,38.461664,39.872353,41.536671,38.918394,40.358784,41.9334,38.536288,41.651172,39.823883,39.459484,41.469522,39.3862,41.988432,40.426103,39.5497,38.50601,38.186078,38.701603,39.815237,39.891439,41.718041,42.066291,37.913651,38.54309,41.900284,41.718834,41.355885,39.625271,41.99276,41.304561,39.852403,39.515309,40.5411,40.416567,41.555511,41.859124,41.710655,39.121698,38.370586,39.3862,39.757705,41.523011,41.864895,38.52488,41.674804,41.903611,41.90338,39.917283,42.028569,41.567742,41.63803,41.658432,39.9552,41.717859,41.652717,41.701156,41.418857,41.483617,39.965473,42.094116,37.996801,40.158736,41.9448,39.830695,39.929371,41.483213,41.9808,41.94026,39.822345,39.64,41.549185,41.629666,41.687191,39.95616,39.788987,39.592213,41.447024,41.520938,41.626314,41.579647,41.58079,41.949699,41.494961,41.50652,41.566458,41.520747,39.802335,41.737159,38.323158,41.484017,42.2447,41.59474,38.624445,41.600708,41.601746,41.614871,41.628702,41.731808,41.709998,39.758849,39.81885,37.896888,41.097472,41.506774,41.639596,41.843535,41.5362,41.566152,41.454609,41.32422,41.698657,39.714396,41.33182,41.623077,39.802181,41.632054,41.655026,41.87772,41.702957,39.805657,41.599751,38.300378,41.263504,41.371292,41.5933,41.787678,41.76915,41.659834,41.6472,41.556005,41.733192,41.638112,41.768735,41.698448,41.731243,41.803492,41.719,41.798331,41.603312,42.067903,41.658738,41.671452,41.656506,41.622466,41.5088,41.629469,41.854015,41.851373,41.572773,42.173554,42.2694,42.415244,42.276735,42.2626,42.383279,42.239955,42.2,42.280588,42.15422,41.719034,41.345852,42.338242,42.015122,42.153727,42.161913,41.608654,42.314317,42.042804,42.156675,41.986817,41.230299,40.455087,42.199409,42.024739,41.518274,42.248322,40.378885,41.159161,42.212419,42.033244,42.234341,42.338476,41.651668,41.997583,41.493431,42.010303,41.483516,41.515331,41.11832,41.162472,41.144233,41.106617,41.83708,42.380988,42.092323,41.113965,42.012103,40.458077,41.25002,41.943925,41.166927,41.8082,42.253855,41.16224,42.423931,41.867338,41.987101,41.140541,41.145672,42.280686,42.159,41.237605,41.142901,41.251582,41.106576,40.466175,41.779103,42.161053,42.049439,41.661657,41.845011,41.930643,42.336858,41.939493,42.164394,41.373463,42.154531,41.99217,41.99641,41.721054,41.950539,41.185281,41.998872,41.51559,41.494926,42.065545,41.911651,42.058392,42.139582,42.124858,41.557985,41.953958,42.200242,41.695972,42.125015,41.418144,42.02312,41.586656,42.008775,41.51849,41.457268,41.886089,42.3453,42.072432,42.048259,41.093451,42.172352,42.217572,42.095444,42.110029,42.072616,41.434991,41.17833,42.379006,40.776925,40.457905,41.024644,41.70649,41.417431,41.515465,41.502009,40.459511,40.628411,41.848867,41.137135,41.808564,40.76984,41.080368,40.45603,41.177693,41.679677,42.25206,41.951997,42.014436,42.496399,40.9344,42.41236,41.114526,42.113,42.12484,41.251078,41.056728,41.766659,42.348404,40.45899,42.389254,42.2382,41.91682,42.4526,42.275948,41.248084,42.261,42.026421,41.118767,40.878102,42.456477,41.078506,40.460052,41.864025,41.9615,42.379089,42.399046,42.1201,42.390547,41.770316,42.302157,41.720786,40.714995,42.125696,41.17249,41.120801,41.935818,41.149063,40.7529,42.005953,41.684558,41.909326,41.67026,41.891352,41.829057,41.939245,41.661835,41.885379,41.73573,41.961304,41.973348,41.793083,41.0601,41.935619,41.871675,41.164798],\"legendgroup\":\"\",\"lon\":[-88.701,-89.683015,-88.835061,-89.087419,-88.602,-88.822279,-89.0146,-88.840637,-89.228172,-89.218094,-88.815749,-89.467562,-89.067662,-89.119721,-89.3081,-88.848118,-89.27206,-89.221859,-89.067758,-90.435503,-90.648308,-90.647827,-89.649156,-89.662079,-89.15361,-88.979508,-89.737623,-88.846516,-89.47272,-89.471376,-90.586321,-89.370392,-88.70961,-90.940542,-89.050475,-89.138043,-89.62155,-89.208778,-89.582176,-89.59376,-90.155876,-89.772667,-89.7903,-89.328809,-88.7437,-89.134598,-89.483103,-90.034736,-90.035306,-90.382905,-88.61401,-90.36473,-89.616178,-89.648027,-89.290412,-89.626739,-89.8327,-89.757079,-89.493835,-89.640504,-87.939329,-89.631244,-89.593131,-89.989839,-89.6544,-89.653084,-87.9665,-87.959118,-88.297073,-88.761435,-89.577057,-88.984755,-88.9746,-88.982339,-88.963802,-88.977335,-88.518015,-89.66988,-88.6138,-89.226304,-89.008806,-88.526915,-88.511955,-88.95536,-88.990424,-89.045566,-88.952491,-88.621836,-89.622078,-89.019552,-89.357535,-87.919334,-88.991215,-88.904999,-89.024316,-88.963502,-87.960271,-88.996897,-88.198604,-88.434675,-88.182491,-88.3283,-88.213288,-87.638877,-88.632828,-87.700994,-88.3283,-88.793553,-88.364612,-88.218869,-88.243,-88.160994,-88.315791,-87.58937,-88.220147,-87.651609,-87.777861,-88.272364,-88.156137,-88.573568,-88.174209,-88.262283,-88.003494,-88.190336,-88.154894,-88.243982,-87.636642,-87.612221,-88.137068,-87.964,-88.646126,-88.0211,-88.573622,-88.725885,-87.800092,-88.111236,-87.611931,-88.258335,-87.958657,-88.00255,-88.046465,-88.244286,-87.944257,-87.800104,-88.285566,-88.312863,-88.102265,-88.014695,-87.636054,-88.384649,-87.941699,-87.99383,-88.315736,-88.146042,-87.840749,-87.674054,-88.267082,-88.079294,-88.117962,-89.791757,-87.694523,-88.309563,-88.126636,-88.740685,-90.087189,-89.4889,-89.980255,-87.940259,-89.800075,-88.28318,-88.633705,-88.160686,-88.25527,-87.973598,-89.107869,-88.593784,-88.156469,-89.3546,-88.315079,-88.28676,-88.341133,-88.002539,-90.376129,-90.214372,-88.207097,-90.190459,-87.940104,-90.149597,-88.257399,-87.701045,-90.006668,-88.029337,-88.365348,-88.608903,-88.160687,-89.476868,-88.007781,-87.694884,-88.377462,-89.489927,-88.339766,-88.317476,-88.013292,-87.973304,-88.283013,-87.695192,-88.340158,-89.6541,-88.091508,-88.381813,-90.150325,-89.655043,-88.163439,-88.288095,-90.147927,-88.461651,-88.039351,-88.336372,-87.988361,-88.136819,-88.031584,-90.120713,-88.1746,-88.107342,-89.957204,-89.947133,-90.011452,-87.971978,-89.931438,-89.4109,-89.794132,-89.400887,-89.681,-90.148838,-89.992445,-89.915954,-89.893931,-89.98373,-89.862985,-88.277811,-87.969482,-87.993299,-88.0867,-88.202576,-88.315857,-89.381516,-87.877962,-88.313782,-87.865624,-88.033157,-88.287585,-87.758635,-87.94931,-88.0796,-91.291936,-91.357885,-89.944663,-88.720421,-89.944191,-90.013587,-88.080276,-91.331451,-88.723855,-91.37696,-91.058939,-88.062996,-88.080315,-88.161445,-88.772627,-88.688674,-88.161568,-88.239867,-88.749224,-88.013229,-87.861453,-88.535664,-88.601853,-88.773679,-88.746606,-88.547264,-87.676063,-88.954483,-88.450865,-87.992161,-88.041886,-87.756204,-88.822089,-88.510147,-88.961462,-87.9869,-89.054586,-87.687423,-88.034348,-88.061726,-89.122122,-89.285229,-88.983762,-89.091547,-88.075352,-88.478345,-89.281672,-87.903922,-89.298,-88.813479,-87.689951,-87.620891,-89.099763,-89.653204,-88.972401,-87.9869,-88.956329,-88.852955,-88.89722,-89.42247,-89.084641,-88.154869,-89.7354,-87.714644,-89.381378,-88.079546,-87.698885,-89.994252,-89.769396,-90.064035,-88.289893,-90.565467,-89.766867,-90.05663,-88.289756,-90.227367,-88.678831,-87.8581,-90.223293,-90.006712,-89.667869,-89.687608,-89.603074,-89.759346,-89.750119,-89.605392,-89.955194,-89.664722,-89.886662,-89.846965,-90.243832,-87.778345,-89.629651,-89.695213,-89.923272,-90.555091,-88.335968,-89.714352,-89.318106,-87.682608,-89.704201,-88.413094,-88.335993,-88.180113,-87.989915,-88.354995,-89.243851,-87.996857,-88.498787,-88.212745,-88.924926,-87.635164,-88.125928,-87.635738,-89.145948,-87.806038,-87.781904,-87.798737,-88.161497,-88.946203,-87.733709,-87.846798,-87.8066,-89.054816,-89.121,-87.682755,-88.911577,-87.787643,-88.508478,-89.231209,-87.817723,-87.57825,-87.789077,-89.027957,-89.053228,-88.540771,-88.0408,-89.053906,-89.3356,-88.734251,-87.816464,-87.759698,-87.802038,-88.055527,-87.740973,-87.889702,-87.770244,-88.956242,-87.73941,-87.78482,-89.272919,-87.738795,-88.942862,-88.943359,-89.122233,-87.783334,-89.052947,-87.731927,-89.235619,-88.436897,-89.139986,-87.693805,-88.548553,-87.862298,-87.599686,-89.114154,-88.955041,-87.6021,-87.851728,-87.911971,-89.217988,-88.920185,-88.086944,-87.805511,-89.026388,-87.7914,-88.892654,-88.937793,-89.202492,-89.058524,-88.947695,-88.125904,-88.9123,-88.908686,-88.948367,-87.812736,-87.770802,-87.671355,-87.965979,-88.922414,-87.77661,-87.851237,-87.636678,-88.932081,-89.1193,-88.623299,-88.124327,-88.932502,-87.7552,-87.846558,-89.137491,-89.027253,-89.185835,-89.212054,-87.970085,-89.2342,-89.24131,-88.270561,-87.890967,-87.791185,-89.349648,-87.866763,-88.265846,-87.849439,-88.199874,-88.19839,-87.882738,-88.025639,-87.714057,-87.847679,-87.620722,-88.418396,-88.327171,-87.974118,-88.038475,-87.853012,-88.099103,-88.206444,-88.011311,-88.185867,-87.994324,-88.127498,-88.32009,-88.075452,-88.201749,-87.834312,-88.007649,-88.241475,-88.876811,-87.888899,-87.801663,-88.167512,-87.8733,-87.995165,-88.201988,-88.669537,-87.868622,-88.799519,-87.803841,-87.975114,-88.011688,-87.9736,-88.341707,-88.302582,-88.368416,-88.042484,-87.887992,-88.225418,-87.853449,-88.259193,-87.627985,-87.65907,-87.662448,-87.802458,-87.658201,-87.636056,-87.653994,-87.641045,-87.637676,-87.71621,-87.648874,-88.20535,-88.114155,-88.448746,-87.626693,-87.632608,-87.584007,-87.634497,-87.65661,-87.771052,-88.282499,-87.926915,-87.790138,-87.790282,-87.626506,-87.535096,-87.617744,-87.63035,-87.678669,-87.713902,-87.723174,-87.713105,-87.739518,-88.090772,-87.777678,-88.03617,-87.689491,-88.118384,-88.249685,-87.682642,-87.689723,-87.674163,-87.702891,-87.626791,-87.775893,-87.668226,-87.694573,-87.816752,-87.6535,-88.041139,-87.629881,-87.76725,-87.643323,-87.70236,-87.666287,-87.660527,-87.762749,-87.713793,-87.70125,-88.073669,-87.664614,-87.648788,-87.735146,-87.837098,-88.243681,-87.936217,-87.732127,-87.700529,-88.349431,-87.666144,-87.663425,-88.243781,-87.635698,-87.626519,-87.727047,-87.62248,-87.685196,-87.74684,-87.651654,-88.339325,-88.27294,-88.443481,-87.67759,-88.204758,-87.698608,-88.446945,-88.920593,-87.625502,-88.028271,-88.28145,-87.627825,-88.255151,-88.30202,-87.677943,-88.286283,-88.297043,-87.975295,-87.629449,-87.657614,-87.688632,-88.185887,-88.282051,-87.972935,-90.498772,-87.628995,-87.639573,-88.202676,-87.634083,-87.628184,-89.08013,-87.698357,-87.689674,-87.867757,-87.626541,-88.199867,-88.007589,-87.700374,-88.206794,-87.658575,-88.278783,-88.128733,-87.649828,-88.146855,-88.338486,-87.908035,-87.786005,-88.20648,-88.201751,-88.320989,-87.653149,-88.22953,-87.909058,-88.380951,-88.205439,-88.166752,-87.627141,-88.205323,-88.8721,-88.610618,-87.659908,-88.318933,-90.73401,-90.584694,-88.24022,-88.203466,-87.697654,-90.2921,-90.566071,-89.034434,-90.511689,-90.584251,-87.877122,-87.942949,-89.001873,-87.657453,-89.095695,-90.386276,-90.74283,-87.644,-87.640887,-90.424267,-88.013832,-89.000325,-90.537055,-90.492121,-88.980343,-88.12853,-89.785552,-90.079841,-88.969414,-87.909624,-87.641441,-88.958391,-87.642347,-87.648506,-89.014309,-87.891899,-88.259552,-90.6889,-87.825638,-90.0992,-89.956963,-87.769736,-88.062633,-87.761839,-90.390509,-87.723538,-88.982832,-90.498696,-90.461167,-87.979743,-90.485816,-87.993519,-90.158941,-90.548042,-89.056969,-87.883999,-88.208297,-90.583572,-88.344792,-88.267973,-87.945668,-87.874844,-88.004289,-89.1269,-87.900414,-87.877779,-88.077018,-89.560286,-87.631832,-87.98077,-89.679151,-89.612537,-89.593402,-88.99487,-88.957152,-87.629,-90.647109,-87.655841,-88.985161,-89.924414,-87.655496,-89.539612,-89.533411,-89.486269,-89.882403,-90.006432,-89.20169,-89.374146,-90.027083,-89.978131,-89.46019,-89.033596,-90.357239,-89.120972,-89.615677,-90.155739,-89.395946,-90.648056,-90.193499,-89.490765,-88.860596,-89.659882,-89.46174,-88.941683,-90.291804,-89.473231,-90.502166,-90.053528,-90.401945,-88.096127,-89.619844,-89.46533,-90.653111,-90.661209,-89.474528,-90.979173,-89.140542,-89.7918,-89.407975,-90.036415,-89.487361,-90.694442,-90.665,-89.412102,-88.164914,-89.8628,-89.474491,-90.374859,-88.976093,-89.312617,-88.229249,-89.641206,-90.06676,-87.938767,-88.157841,-87.8569,-87.988676,-87.635915,-88.1442,-89.690712,-90.278936,-87.883484,-89.957467,-89.670554,-88.924694,-88.102897,-89.534521,-88.724024,-88.11794,-89.391861,-88.525574,-88.994983,-88.411057,-87.867302,-89.4359,-88.07933,-88.994557,-87.882103,-87.87677,-87.830541,-88.220242,-87.980829,-87.940157,-89.966613,-90.071447,-88.285105,-89.022931,-89.494499,-88.335104,-88.276904,-88.01889,-89.963464,-89.384302,-88.56675,-89.686182,-88.018224,-89.4227,-90.087484,-89.60764,-89.687345,-88.291837,-88.347122,-87.896602,-87.635701,-88.218929,-88.36483,-87.612221,-88.173904,-88.243895,-88.0626,-89.52914,-89.987216,-88.137527,-87.870483,-88.259521,-89.394844,-88.080538,-88.239147,-88.174267,-90.106197,-89.328971,-89.721868,-88.039022,-89.695319,-90.404075,-88.276339,-88.116264,-88.286156,-88.017925,-88.084007,-90.14432,-88.063688,-88.339786,-89.95704,-87.818588,-88.1911,-87.969243,-88.121164,-89.661194,-90.066613,-90.4225,-88.059735,-90.084808,-88.182853,-90.320788,-90.153005,-88.144207,-90.096704,-88.3152,-88.25086,-90.229719,-89.818564,-89.705347,-89.2868,-89.842415,-88.182792,-87.857224,-89.602419,-89.778473,-88.099939,-88.275887,-88.081968,-88.4602,-88.401596,-90.011524,-88.306535,-89.754553,-89.791207,-87.865888,-89.994339,-88.257531,-89.713318,-89.659421,-88.003684,-87.805344,-88.434397,-87.883492,-90.339039,-88.061869,-89.8777,-91.142415,-88.12229,-89.55099,-89.680634,-87.993118,-87.870088,-90.090902,-88.256027,-88.758117,-89.703947,-87.9452,-90.013254,-89.927824,-90.802833,-88.012039,-91.167045,-89.807143,-87.756134,-87.88355,-88.0626,-88.102554,-88.183147,-89.984761,-89.897665,-90.036422,-89.970477,-89.914803,-88.688378,-90.000834,-89.984782,-87.792477,-87.823903,-89.606948,-87.760402,-90.036482,-90.727855,-88.870052,-91.170141,-90.762623,-88.6868,-89.380089,-88.040577,-89.898241,-89.978146,-90.09204,-88.972038,-88.200096,-89.270127,-91.434235,-88.9648,-89.961726,-88.084293,-88.89289,-89.405656,-87.635759,-88.9598,-88.339858,-90.794925,-89.298,-89.999122,-89.605558,-89.961953,-88.855959,-88.935911,-87.816145,-88.03947,-89.820884,-89.612828,-88.735428,-87.818334,-87.621492,-89.005005,-87.960096,-88.159349,-89.623257,-89.044011,-91.3661,-91.13295,-88.125968,-88.061299,-88.068144,-88.558467,-88.360413,-88.9598,-89.616061,-88.121906,-87.788864,-89.112968,-87.797783,-88.04242,-88.082487,-88.954808,-88.060834,-87.613155,-87.738202,-88.124117,-90.2172,-87.836722,-87.854767,-88.006781,-87.747266,-87.874863,-89.5616,-88.251892,-88.94204,-89.385277,-88.3835,-89.604214,-88.955032,-87.985917,-88.1924,-88.15107,-88.979901,-89.1899,-87.889516,-87.924535,-88.067346,-89.552246,-89.704143,-89.582185,-87.69235,-88.198962,-87.996713,-87.599894,-87.784058,-88.031349,-88.080097,-87.703739,-88.143854,-87.803064,-89.601713,-87.88444,-88.907346,-87.702893,-88.6043,-88.054413,-88.968039,-87.929584,-87.804337,-87.931196,-87.931651,-87.877988,-88.069155,-89.611238,-89.606128,-88.953602,-88.420734,-87.791056,-88.085209,-87.792969,-88.0547,-88.16216,-88.270565,-87.807871,-87.779336,-89.638865,-87.78571,-87.592369,-89.610395,-87.818743,-88.079586,-88.235497,-87.739984,-89.671658,-87.910923,-88.90257,-88.211253,-88.434133,-88.1865,-88.376316,-88.756038,-88.541314,-88.4389,-87.89094,-87.799651,-88.20369,-87.820127,-87.796238,-88.306419,-88.059517,-88.3148,-88.205078,-87.75647,-87.94593,-88.548376,-87.777866,-88.433098,-88.211722,-87.9628,-87.891762,-88.276318,-88.311754,-88.120224,-87.985981,-88.3126,-88.072462,-88.039539,-88.0105,-87.952904,-87.969688,-88.0648,-87.973475,-88.03992,-87.811095,-87.621841,-88.003842,-87.980328,-87.954567,-88.136327,-90.334465,-88.435209,-87.860582,-87.915874,-87.8362,-87.622084,-88.099351,-87.83313,-87.851766,-87.983548,-88.322778,-87.669277,-87.663046,-88.339092,-87.746894,-88.834844,-88.044722,-88.124038,-87.747959,-90.572233,-87.875968,-90.363503,-90.437668,-87.89714,-87.894357,-87.851154,-88.835044,-89.497542,-88.172596,-90.131668,-87.86264,-87.747517,-87.686651,-87.845821,-87.649045,-87.663712,-89.7023,-88.831553,-87.874715,-90.444702,-89.21756,-89.578418,-87.851322,-87.875387,-89.627323,-87.964,-87.645301,-87.850563,-87.830617,-87.882986,-87.687071,-89.676194,-87.919914,-89.431737,-87.719682,-89.297619,-87.806143,-88.025126,-87.717736,-87.931866,-88.421412,-89.7404,-87.863379,-87.829857,-87.698763,-87.708405,-88.316616,-88.046532,-88.125127,-88.169763,-87.848202,-87.679718,-88.006805,-88.033313,-87.967009,-87.793637,-87.664984,-87.831998,-88.122287,-87.829634,-88.266721,-87.940125,-87.693928,-87.901401,-87.986511,-88.193173,-87.625771,-88.0282,-87.748801,-87.74831,-88.442397,-87.948997,-87.820576,-87.907306,-88.062461,-87.818981,-90.149855,-87.874829,-88.102177,-87.74088,-87.896019,-87.72266,-87.701963,-90.012238,-90.425912,-90.456294,-88.37624,-87.697663,-89.484464,-87.877662,-89.69826,-87.862289,-87.812698,-88.375858,-87.852077,-89.941809,-88.822504,-89.065294,-89.339213,-89.990288,-87.9301,-89.012082,-87.868356,-89.183,-89.264275,-87.849617,-88.095436,-89.689829,-90.007217,-87.670789,-89.520477,-88.832,-89.069192,-89.0803,-89.630156,-87.833516,-88.8524,-87.812889,-87.838333,-88.27072,-89.025948,-87.868297,-88.098105,-87.647072,-89.7687,-89.821411,-88.734805,-89.8348,-89.525706,-89.705995,-89.632974,-87.708329,-88.006062,-89.257127,-87.663283,-87.886569,-89.035039,-87.850394,-88.2925,-87.901417,-87.70019,-87.795275,-87.739466,-87.647807,-87.77348,-87.687297,-87.754288,-87.63354,-87.689054,-87.7276,-87.77834,-87.723547,-87.745,-87.726742,-87.627264,-87.875821],\"marker\":{\"color\":[450720289.0,441412723.0,450720289.0,441412723.0,441412723.0,450720289.0,441412723.0,450720289.0,441412723.0,441412723.0,441412723.0,441412723.0,441412723.0,441412723.0,441412723.0,450720289.0,441412723.0,441412723.0,441412723.0,441412723.0,450720289.0,441412723.0,441412723.0,441412723.0,5863311.0,441412723.0,441412723.0,441412723.0,441412723.0,441412723.0,441412723.0,441412723.0,441412723.0,441412723.0,441412723.0,441412723.0,441412723.0,441412723.0,441412723.0,450720289.0,441412723.0,441412723.0,441412723.0,441412723.0,441412723.0,441412723.0,450720289.0,450720289.0,441412723.0,450720289.0,441412723.0,441412723.0,441412723.0,450720289.0,441412723.0,441412723.0,441412723.0,441412723.0,441412723.0,441412723.0,5863311.0,450720289.0,441412723.0,450720289.0,441412723.0,441412723.0,441412723.0,441412723.0,441412723.0,441412723.0,450720289.0,450720289.0,441412723.0,441412723.0,441412723.0,441412723.0,450720289.0,441412723.0,441412723.0,441412723.0,450720289.0,441412723.0,441412723.0,450720289.0,441412723.0,450720289.0,450720289.0,441412723.0,450720289.0,441412723.0,441412723.0,5863311.0,450720289.0,450720289.0,441412723.0,450720289.0,5863311.0,450720289.0,450720289.0,441412723.0,441412723.0,5863311.0,450720289.0,441412723.0,441412723.0,441412723.0,441412723.0,441412723.0,450720289.0,450720289.0,450720289.0,441412723.0,450720289.0,441412723.0,450720289.0,441412723.0,441412723.0,450720289.0,441412723.0,450720289.0,450720289.0,441412723.0,441412723.0,441412723.0,441412723.0,450720289.0,441412723.0,450720289.0,450720289.0,441412723.0,441412723.0,441412723.0,441412723.0,441412723.0,441412723.0,5863311.0,450720289.0,450720289.0,441412723.0,5863311.0,441412723.0,450720289.0,5863311.0,441412723.0,450720289.0,5863311.0,441412723.0,441412723.0,450720289.0,441412723.0,5863311.0,5863311.0,441412723.0,5863311.0,441412723.0,441412723.0,5863311.0,5863311.0,441412723.0,450720289.0,450720289.0,441412723.0,5863311.0,441412723.0,450720289.0,441412723.0,450720289.0,5863311.0,441412723.0,5863311.0,441412723.0,441412723.0,5863311.0,5863311.0,441412723.0,441412723.0,5863311.0,441412723.0,5863311.0,5863311.0,5863311.0,5863311.0,441412723.0,441412723.0,5863311.0,441412723.0,441412723.0,441412723.0,450720289.0,441412723.0,441412723.0,441412723.0,441412723.0,441412723.0,450720289.0,441412723.0,5863311.0,441412723.0,450720289.0,441412723.0,450720289.0,5863311.0,5863311.0,5863311.0,450720289.0,450720289.0,5863311.0,441412723.0,441412723.0,5863311.0,441412723.0,441412723.0,441412723.0,441412723.0,450720289.0,441412723.0,5863311.0,5863311.0,5863311.0,5863311.0,5863311.0,450720289.0,441412723.0,450720289.0,441412723.0,441412723.0,450720289.0,5863311.0,450720289.0,441412723.0,441412723.0,441412723.0,441412723.0,450720289.0,441412723.0,441412723.0,441412723.0,450720289.0,441412723.0,450720289.0,5863311.0,450720289.0,450720289.0,450720289.0,5863311.0,441412723.0,450720289.0,450720289.0,450720289.0,450720289.0,450720289.0,441412723.0,5863311.0,450720289.0,441412723.0,441412723.0,450720289.0,450720289.0,450720289.0,441412723.0,5863311.0,441412723.0,441412723.0,441412723.0,441412723.0,450720289.0,441412723.0,441412723.0,5863311.0,5863311.0,450720289.0,441412723.0,450720289.0,441412723.0,441412723.0,441412723.0,441412723.0,441412723.0,441412723.0,441412723.0,441412723.0,450720289.0,441412723.0,441412723.0,5863311.0,441412723.0,441412723.0,5863311.0,441412723.0,450720289.0,441412723.0,450720289.0,5863311.0,441412723.0,441412723.0,441412723.0,441412723.0,450720289.0,441412723.0,441412723.0,441412723.0,441412723.0,450720289.0,441412723.0,441412723.0,441412723.0,441412723.0,450720289.0,450720289.0,441412723.0,450720289.0,441412723.0,450720289.0,441412723.0,441412723.0,441412723.0,441412723.0,5863311.0,441412723.0,5863311.0,5863311.0,441412723.0,441412723.0,441412723.0,5863311.0,441412723.0,450720289.0,450720289.0,441412723.0,450720289.0,450720289.0,5863311.0,441412723.0,441412723.0,450720289.0,450720289.0,441412723.0,441412723.0,441412723.0,450720289.0,441412723.0,441412723.0,441412723.0,441412723.0,441412723.0,450720289.0,450720289.0,441412723.0,441412723.0,441412723.0,5863311.0,441412723.0,450720289.0,5863311.0,441412723.0,450720289.0,5863311.0,441412723.0,5863311.0,441412723.0,441412723.0,441412723.0,441412723.0,441412723.0,450720289.0,450720289.0,450720289.0,5863311.0,441412723.0,450720289.0,5863311.0,5863311.0,450720289.0,441412723.0,5863311.0,450720289.0,450720289.0,441412723.0,441412723.0,5863311.0,441412723.0,5863311.0,441412723.0,441412723.0,5863311.0,450720289.0,5863311.0,450720289.0,441412723.0,441412723.0,5863311.0,441412723.0,450720289.0,441412723.0,450720289.0,5863311.0,450720289.0,441412723.0,5863311.0,5863311.0,441412723.0,450720289.0,450720289.0,450720289.0,441412723.0,5863311.0,441412723.0,450720289.0,441412723.0,450720289.0,450720289.0,450720289.0,441412723.0,441412723.0,441412723.0,5863311.0,441412723.0,5863311.0,5863311.0,441412723.0,441412723.0,5863311.0,450720289.0,450720289.0,450720289.0,450720289.0,5863311.0,5863311.0,441412723.0,450720289.0,441412723.0,450720289.0,441412723.0,441412723.0,450720289.0,450720289.0,441412723.0,441412723.0,450720289.0,5863311.0,5863311.0,5863311.0,5863311.0,441412723.0,5863311.0,450720289.0,5863311.0,441412723.0,441412723.0,441412723.0,450720289.0,441412723.0,450720289.0,450720289.0,441412723.0,441412723.0,441412723.0,450720289.0,5863311.0,441412723.0,441412723.0,450720289.0,450720289.0,5863311.0,441412723.0,5863311.0,441412723.0,5863311.0,450720289.0,5863311.0,450720289.0,450720289.0,5863311.0,5863311.0,450720289.0,441412723.0,5863311.0,5863311.0,5863311.0,5863311.0,5863311.0,5863311.0,5863311.0,5863311.0,5863311.0,441412723.0,5863311.0,5863311.0,5863311.0,5863311.0,5863311.0,5863311.0,441412723.0,5863311.0,5863311.0,441412723.0,5863311.0,5863311.0,5863311.0,441412723.0,5863311.0,441412723.0,5863311.0,5863311.0,5863311.0,5863311.0,441412723.0,5863311.0,5863311.0,5863311.0,5863311.0,441412723.0,450720289.0,441412723.0,5863311.0,5863311.0,5863311.0,5863311.0,450720289.0,5863311.0,5863311.0,5863311.0,450720289.0,5863311.0,5863311.0,441412723.0,5863311.0,450720289.0,5863311.0,5863311.0,450720289.0,5863311.0,450720289.0,5863311.0,5863311.0,450720289.0,5863311.0,5863311.0,5863311.0,5863311.0,5863311.0,5863311.0,5863311.0,5863311.0,5863311.0,5863311.0,5863311.0,441412723.0,5863311.0,441412723.0,5863311.0,441412723.0,5863311.0,5863311.0,5863311.0,5863311.0,5863311.0,5863311.0,5863311.0,5863311.0,5863311.0,5863311.0,5863311.0,5863311.0,5863311.0,5863311.0,5863311.0,5863311.0,5863311.0,5863311.0,5863311.0,5863311.0,5863311.0,450720289.0,5863311.0,5863311.0,5863311.0,5863311.0,441412723.0,5863311.0,5863311.0,5863311.0,5863311.0,5863311.0,5863311.0,450720289.0,5863311.0,5863311.0,5863311.0,5863311.0,5863311.0,5863311.0,5863311.0,450720289.0,5863311.0,450720289.0,5863311.0,450720289.0,5863311.0,5863311.0,441412723.0,5863311.0,450720289.0,450720289.0,5863311.0,5863311.0,5863311.0,5863311.0,450720289.0,5863311.0,450720289.0,5863311.0,5863311.0,5863311.0,441412723.0,5863311.0,450720289.0,5863311.0,5863311.0,5863311.0,441412723.0,5863311.0,5863311.0,450720289.0,5863311.0,5863311.0,450720289.0,5863311.0,450720289.0,450720289.0,5863311.0,450720289.0,5863311.0,450720289.0,450720289.0,450720289.0,441412723.0,5863311.0,5863311.0,5863311.0,5863311.0,450720289.0,5863311.0,5863311.0,5863311.0,5863311.0,441412723.0,5863311.0,441412723.0,5863311.0,450720289.0,441412723.0,441412723.0,5863311.0,450720289.0,441412723.0,441412723.0,450720289.0,5863311.0,5863311.0,441412723.0,450720289.0,450720289.0,5863311.0,5863311.0,5863311.0,5863311.0,5863311.0,5863311.0,450720289.0,441412723.0,450720289.0,5863311.0,5863311.0,5863311.0,5863311.0,441412723.0,441412723.0,5863311.0,450720289.0,450720289.0,441412723.0,441412723.0,441412723.0,5863311.0,5863311.0,441412723.0,5863311.0,5863311.0,441412723.0,5863311.0,5863311.0,441412723.0,5863311.0,441412723.0,441412723.0,5863311.0,5863311.0,5863311.0,441412723.0,5863311.0,441412723.0,5863311.0,5863311.0,5863311.0,5863311.0,5863311.0,441412723.0,5863311.0,450720289.0,5863311.0,5863311.0,450720289.0,450720289.0,441412723.0,441412723.0,5863311.0,5863311.0,441412723.0,5863311.0,5863311.0,5863311.0,450720289.0,5863311.0,5863311.0,450720289.0,450720289.0,450720289.0,441412723.0,441412723.0,5863311.0,450720289.0,5863311.0,441412723.0,441412723.0,5863311.0,441412723.0,441412723.0,441412723.0,441412723.0,441412723.0,441412723.0,441412723.0,441412723.0,441412723.0,450720289.0,441412723.0,450720289.0,441412723.0,450720289.0,441412723.0,441412723.0,441412723.0,441412723.0,450720289.0,441412723.0,441412723.0,450720289.0,441412723.0,441412723.0,441412723.0,441412723.0,441412723.0,441412723.0,441412723.0,441412723.0,450720289.0,441412723.0,441412723.0,441412723.0,441412723.0,441412723.0,441412723.0,441412723.0,441412723.0,450720289.0,441412723.0,441412723.0,441412723.0,5863311.0,441412723.0,441412723.0,441412723.0,441412723.0,441412723.0,450720289.0,450720289.0,5863311.0,5863311.0,5863311.0,5863311.0,5863311.0,450720289.0,5863311.0,441412723.0,441412723.0,5863311.0,450720289.0,450720289.0,441412723.0,5863311.0,441412723.0,441412723.0,5863311.0,441412723.0,441412723.0,450720289.0,441412723.0,5863311.0,441412723.0,5863311.0,450720289.0,5863311.0,5863311.0,441412723.0,450720289.0,441412723.0,5863311.0,441412723.0,450720289.0,450720289.0,450720289.0,441412723.0,5863311.0,450720289.0,5863311.0,450720289.0,441412723.0,450720289.0,441412723.0,5863311.0,441412723.0,441412723.0,441412723.0,441412723.0,450720289.0,441412723.0,5863311.0,441412723.0,450720289.0,441412723.0,441412723.0,5863311.0,450720289.0,5863311.0,441412723.0,441412723.0,5863311.0,5863311.0,5863311.0,441412723.0,441412723.0,450720289.0,450720289.0,441412723.0,441412723.0,441412723.0,441412723.0,441412723.0,441412723.0,450720289.0,5863311.0,5863311.0,5863311.0,5863311.0,441412723.0,5863311.0,5863311.0,441412723.0,5863311.0,450720289.0,5863311.0,5863311.0,441412723.0,441412723.0,441412723.0,5863311.0,441412723.0,5863311.0,441412723.0,5863311.0,450720289.0,441412723.0,5863311.0,450720289.0,450720289.0,441412723.0,450720289.0,441412723.0,441412723.0,5863311.0,5863311.0,441412723.0,441412723.0,5863311.0,450720289.0,5863311.0,441412723.0,450720289.0,450720289.0,441412723.0,441412723.0,441412723.0,5863311.0,441412723.0,5863311.0,441412723.0,441412723.0,441412723.0,5863311.0,5863311.0,450720289.0,441412723.0,5863311.0,441412723.0,441412723.0,441412723.0,450720289.0,450720289.0,5863311.0,5863311.0,441412723.0,441412723.0,441412723.0,450720289.0,5863311.0,450720289.0,450720289.0,441412723.0,441412723.0,441412723.0,441412723.0,5863311.0,5863311.0,441412723.0,450720289.0,450720289.0,450720289.0,450720289.0,450720289.0,450720289.0,450720289.0,441412723.0,450720289.0,450720289.0,5863311.0,450720289.0,441412723.0,5863311.0,450720289.0,441412723.0,441412723.0,450720289.0,441412723.0,441412723.0,450720289.0,441412723.0,450720289.0,450720289.0,450720289.0,450720289.0,5863311.0,441412723.0,441412723.0,441412723.0,450720289.0,5863311.0,450720289.0,441412723.0,5863311.0,441412723.0,450720289.0,441412723.0,441412723.0,450720289.0,450720289.0,450720289.0,441412723.0,450720289.0,450720289.0,441412723.0,441412723.0,441412723.0,5863311.0,5863311.0,450720289.0,441412723.0,441412723.0,450720289.0,441412723.0,441412723.0,441412723.0,450720289.0,5863311.0,450720289.0,450720289.0,5863311.0,441412723.0,441412723.0,450720289.0,5863311.0,5863311.0,450720289.0,5863311.0,441412723.0,441412723.0,450720289.0,441412723.0,5863311.0,5863311.0,450720289.0,441412723.0,5863311.0,450720289.0,5863311.0,5863311.0,5863311.0,5863311.0,5863311.0,441412723.0,441412723.0,450720289.0,450720289.0,441412723.0,5863311.0,441412723.0,441412723.0,441412723.0,441412723.0,5863311.0,5863311.0,450720289.0,441412723.0,450720289.0,441412723.0,5863311.0,5863311.0,5863311.0,5863311.0,5863311.0,441412723.0,5863311.0,5863311.0,5863311.0,5863311.0,450720289.0,5863311.0,441412723.0,5863311.0,450720289.0,5863311.0,450720289.0,450720289.0,5863311.0,5863311.0,450720289.0,5863311.0,5863311.0,450720289.0,441412723.0,441412723.0,441412723.0,5863311.0,5863311.0,5863311.0,5863311.0,5863311.0,5863311.0,441412723.0,5863311.0,450720289.0,5863311.0,450720289.0,441412723.0,5863311.0,5863311.0,5863311.0,5863311.0,441412723.0,5863311.0,450720289.0,450720289.0,441412723.0,5863311.0,5863311.0,441412723.0,441412723.0,441412723.0,450720289.0,450720289.0,450720289.0,5863311.0,450720289.0,450720289.0,5863311.0,5863311.0,5863311.0,450720289.0,5863311.0,450720289.0,450720289.0,441412723.0,450720289.0,450720289.0,450720289.0,5863311.0,450720289.0,5863311.0,450720289.0,450720289.0,450720289.0,450720289.0,450720289.0,450720289.0,5863311.0,5863311.0,441412723.0,450720289.0,5863311.0,441412723.0,450720289.0,5863311.0,441412723.0,450720289.0,441412723.0,450720289.0,5863311.0,5863311.0,5863311.0,441412723.0,441412723.0,441412723.0,5863311.0,5863311.0,5863311.0,441412723.0,450720289.0,5863311.0,5863311.0,5863311.0,5863311.0,5863311.0,441412723.0,5863311.0,5863311.0,5863311.0,5863311.0,5863311.0,450720289.0,5863311.0,450720289.0,441412723.0,450720289.0,441412723.0,450720289.0,450720289.0,441412723.0,441412723.0,5863311.0,441412723.0,441412723.0,5863311.0,5863311.0,441412723.0,441412723.0,441412723.0,441412723.0,450720289.0,450720289.0,450720289.0,450720289.0,450720289.0,441412723.0,441412723.0,441412723.0,441412723.0,5863311.0,441412723.0,5863311.0,441412723.0,5863311.0,450720289.0,5863311.0,5863311.0,450720289.0,441412723.0,5863311.0,5863311.0,5863311.0,5863311.0,441412723.0,5863311.0,5863311.0,5863311.0,5863311.0,5863311.0,5863311.0,5863311.0,5863311.0,5863311.0,5863311.0,441412723.0,5863311.0,5863311.0,450720289.0,441412723.0,5863311.0,5863311.0,450720289.0,5863311.0,5863311.0,5863311.0,5863311.0,5863311.0,441412723.0,5863311.0,441412723.0,5863311.0,5863311.0,5863311.0,441412723.0,441412723.0,5863311.0,441412723.0,441412723.0,441412723.0,450720289.0,441412723.0,450720289.0,5863311.0,441412723.0,441412723.0,450720289.0,450720289.0,450720289.0,441412723.0,450720289.0,441412723.0,450720289.0,441412723.0,450720289.0,441412723.0,441412723.0,441412723.0,450720289.0,441412723.0,450720289.0,441412723.0,441412723.0,450720289.0,441412723.0,441412723.0,441412723.0,441412723.0,441412723.0,5863311.0,441412723.0,441412723.0,441412723.0,450720289.0,441412723.0,5863311.0,450720289.0,441412723.0,441412723.0,5863311.0,441412723.0,5863311.0,441412723.0,441412723.0,441412723.0,441412723.0,441412723.0,441412723.0,450720289.0,5863311.0,441412723.0,450720289.0,450720289.0,450720289.0,450720289.0,450720289.0,441412723.0,5863311.0,5863311.0,5863311.0,450720289.0,5863311.0,5863311.0,5863311.0,5863311.0,5863311.0,450720289.0,5863311.0,5863311.0,450720289.0,450720289.0,5863311.0,5863311.0,450720289.0],\"coloraxis\":\"coloraxis\"},\"mode\":\"markers\",\"name\":\"\",\"showlegend\":false,\"subplot\":\"mapbox\",\"type\":\"scattermapbox\"}],                        {\"template\":{\"data\":{\"histogram2dcontour\":[{\"type\":\"histogram2dcontour\",\"colorbar\":{\"outlinewidth\":0,\"ticks\":\"\"},\"colorscale\":[[0.0,\"#0d0887\"],[0.1111111111111111,\"#46039f\"],[0.2222222222222222,\"#7201a8\"],[0.3333333333333333,\"#9c179e\"],[0.4444444444444444,\"#bd3786\"],[0.5555555555555556,\"#d8576b\"],[0.6666666666666666,\"#ed7953\"],[0.7777777777777778,\"#fb9f3a\"],[0.8888888888888888,\"#fdca26\"],[1.0,\"#f0f921\"]]}],\"choropleth\":[{\"type\":\"choropleth\",\"colorbar\":{\"outlinewidth\":0,\"ticks\":\"\"}}],\"histogram2d\":[{\"type\":\"histogram2d\",\"colorbar\":{\"outlinewidth\":0,\"ticks\":\"\"},\"colorscale\":[[0.0,\"#0d0887\"],[0.1111111111111111,\"#46039f\"],[0.2222222222222222,\"#7201a8\"],[0.3333333333333333,\"#9c179e\"],[0.4444444444444444,\"#bd3786\"],[0.5555555555555556,\"#d8576b\"],[0.6666666666666666,\"#ed7953\"],[0.7777777777777778,\"#fb9f3a\"],[0.8888888888888888,\"#fdca26\"],[1.0,\"#f0f921\"]]}],\"heatmap\":[{\"type\":\"heatmap\",\"colorbar\":{\"outlinewidth\":0,\"ticks\":\"\"},\"colorscale\":[[0.0,\"#0d0887\"],[0.1111111111111111,\"#46039f\"],[0.2222222222222222,\"#7201a8\"],[0.3333333333333333,\"#9c179e\"],[0.4444444444444444,\"#bd3786\"],[0.5555555555555556,\"#d8576b\"],[0.6666666666666666,\"#ed7953\"],[0.7777777777777778,\"#fb9f3a\"],[0.8888888888888888,\"#fdca26\"],[1.0,\"#f0f921\"]]}],\"heatmapgl\":[{\"type\":\"heatmapgl\",\"colorbar\":{\"outlinewidth\":0,\"ticks\":\"\"},\"colorscale\":[[0.0,\"#0d0887\"],[0.1111111111111111,\"#46039f\"],[0.2222222222222222,\"#7201a8\"],[0.3333333333333333,\"#9c179e\"],[0.4444444444444444,\"#bd3786\"],[0.5555555555555556,\"#d8576b\"],[0.6666666666666666,\"#ed7953\"],[0.7777777777777778,\"#fb9f3a\"],[0.8888888888888888,\"#fdca26\"],[1.0,\"#f0f921\"]]}],\"contourcarpet\":[{\"type\":\"contourcarpet\",\"colorbar\":{\"outlinewidth\":0,\"ticks\":\"\"}}],\"contour\":[{\"type\":\"contour\",\"colorbar\":{\"outlinewidth\":0,\"ticks\":\"\"},\"colorscale\":[[0.0,\"#0d0887\"],[0.1111111111111111,\"#46039f\"],[0.2222222222222222,\"#7201a8\"],[0.3333333333333333,\"#9c179e\"],[0.4444444444444444,\"#bd3786\"],[0.5555555555555556,\"#d8576b\"],[0.6666666666666666,\"#ed7953\"],[0.7777777777777778,\"#fb9f3a\"],[0.8888888888888888,\"#fdca26\"],[1.0,\"#f0f921\"]]}],\"surface\":[{\"type\":\"surface\",\"colorbar\":{\"outlinewidth\":0,\"ticks\":\"\"},\"colorscale\":[[0.0,\"#0d0887\"],[0.1111111111111111,\"#46039f\"],[0.2222222222222222,\"#7201a8\"],[0.3333333333333333,\"#9c179e\"],[0.4444444444444444,\"#bd3786\"],[0.5555555555555556,\"#d8576b\"],[0.6666666666666666,\"#ed7953\"],[0.7777777777777778,\"#fb9f3a\"],[0.8888888888888888,\"#fdca26\"],[1.0,\"#f0f921\"]]}],\"mesh3d\":[{\"type\":\"mesh3d\",\"colorbar\":{\"outlinewidth\":0,\"ticks\":\"\"}}],\"scatter\":[{\"fillpattern\":{\"fillmode\":\"overlay\",\"size\":10,\"solidity\":0.2},\"type\":\"scatter\"}],\"parcoords\":[{\"type\":\"parcoords\",\"line\":{\"colorbar\":{\"outlinewidth\":0,\"ticks\":\"\"}}}],\"scatterpolargl\":[{\"type\":\"scatterpolargl\",\"marker\":{\"colorbar\":{\"outlinewidth\":0,\"ticks\":\"\"}}}],\"bar\":[{\"error_x\":{\"color\":\"#2a3f5f\"},\"error_y\":{\"color\":\"#2a3f5f\"},\"marker\":{\"line\":{\"color\":\"#E5ECF6\",\"width\":0.5},\"pattern\":{\"fillmode\":\"overlay\",\"size\":10,\"solidity\":0.2}},\"type\":\"bar\"}],\"scattergeo\":[{\"type\":\"scattergeo\",\"marker\":{\"colorbar\":{\"outlinewidth\":0,\"ticks\":\"\"}}}],\"scatterpolar\":[{\"type\":\"scatterpolar\",\"marker\":{\"colorbar\":{\"outlinewidth\":0,\"ticks\":\"\"}}}],\"histogram\":[{\"marker\":{\"pattern\":{\"fillmode\":\"overlay\",\"size\":10,\"solidity\":0.2}},\"type\":\"histogram\"}],\"scattergl\":[{\"type\":\"scattergl\",\"marker\":{\"colorbar\":{\"outlinewidth\":0,\"ticks\":\"\"}}}],\"scatter3d\":[{\"type\":\"scatter3d\",\"line\":{\"colorbar\":{\"outlinewidth\":0,\"ticks\":\"\"}},\"marker\":{\"colorbar\":{\"outlinewidth\":0,\"ticks\":\"\"}}}],\"scattermapbox\":[{\"type\":\"scattermapbox\",\"marker\":{\"colorbar\":{\"outlinewidth\":0,\"ticks\":\"\"}}}],\"scatterternary\":[{\"type\":\"scatterternary\",\"marker\":{\"colorbar\":{\"outlinewidth\":0,\"ticks\":\"\"}}}],\"scattercarpet\":[{\"type\":\"scattercarpet\",\"marker\":{\"colorbar\":{\"outlinewidth\":0,\"ticks\":\"\"}}}],\"carpet\":[{\"aaxis\":{\"endlinecolor\":\"#2a3f5f\",\"gridcolor\":\"white\",\"linecolor\":\"white\",\"minorgridcolor\":\"white\",\"startlinecolor\":\"#2a3f5f\"},\"baxis\":{\"endlinecolor\":\"#2a3f5f\",\"gridcolor\":\"white\",\"linecolor\":\"white\",\"minorgridcolor\":\"white\",\"startlinecolor\":\"#2a3f5f\"},\"type\":\"carpet\"}],\"table\":[{\"cells\":{\"fill\":{\"color\":\"#EBF0F8\"},\"line\":{\"color\":\"white\"}},\"header\":{\"fill\":{\"color\":\"#C8D4E3\"},\"line\":{\"color\":\"white\"}},\"type\":\"table\"}],\"barpolar\":[{\"marker\":{\"line\":{\"color\":\"#E5ECF6\",\"width\":0.5},\"pattern\":{\"fillmode\":\"overlay\",\"size\":10,\"solidity\":0.2}},\"type\":\"barpolar\"}],\"pie\":[{\"automargin\":true,\"type\":\"pie\"}]},\"layout\":{\"autotypenumbers\":\"strict\",\"colorway\":[\"#636efa\",\"#EF553B\",\"#00cc96\",\"#ab63fa\",\"#FFA15A\",\"#19d3f3\",\"#FF6692\",\"#B6E880\",\"#FF97FF\",\"#FECB52\"],\"font\":{\"color\":\"#2a3f5f\"},\"hovermode\":\"closest\",\"hoverlabel\":{\"align\":\"left\"},\"paper_bgcolor\":\"white\",\"plot_bgcolor\":\"#E5ECF6\",\"polar\":{\"bgcolor\":\"#E5ECF6\",\"angularaxis\":{\"gridcolor\":\"white\",\"linecolor\":\"white\",\"ticks\":\"\"},\"radialaxis\":{\"gridcolor\":\"white\",\"linecolor\":\"white\",\"ticks\":\"\"}},\"ternary\":{\"bgcolor\":\"#E5ECF6\",\"aaxis\":{\"gridcolor\":\"white\",\"linecolor\":\"white\",\"ticks\":\"\"},\"baxis\":{\"gridcolor\":\"white\",\"linecolor\":\"white\",\"ticks\":\"\"},\"caxis\":{\"gridcolor\":\"white\",\"linecolor\":\"white\",\"ticks\":\"\"}},\"coloraxis\":{\"colorbar\":{\"outlinewidth\":0,\"ticks\":\"\"}},\"colorscale\":{\"sequential\":[[0.0,\"#0d0887\"],[0.1111111111111111,\"#46039f\"],[0.2222222222222222,\"#7201a8\"],[0.3333333333333333,\"#9c179e\"],[0.4444444444444444,\"#bd3786\"],[0.5555555555555556,\"#d8576b\"],[0.6666666666666666,\"#ed7953\"],[0.7777777777777778,\"#fb9f3a\"],[0.8888888888888888,\"#fdca26\"],[1.0,\"#f0f921\"]],\"sequentialminus\":[[0.0,\"#0d0887\"],[0.1111111111111111,\"#46039f\"],[0.2222222222222222,\"#7201a8\"],[0.3333333333333333,\"#9c179e\"],[0.4444444444444444,\"#bd3786\"],[0.5555555555555556,\"#d8576b\"],[0.6666666666666666,\"#ed7953\"],[0.7777777777777778,\"#fb9f3a\"],[0.8888888888888888,\"#fdca26\"],[1.0,\"#f0f921\"]],\"diverging\":[[0,\"#8e0152\"],[0.1,\"#c51b7d\"],[0.2,\"#de77ae\"],[0.3,\"#f1b6da\"],[0.4,\"#fde0ef\"],[0.5,\"#f7f7f7\"],[0.6,\"#e6f5d0\"],[0.7,\"#b8e186\"],[0.8,\"#7fbc41\"],[0.9,\"#4d9221\"],[1,\"#276419\"]]},\"xaxis\":{\"gridcolor\":\"white\",\"linecolor\":\"white\",\"ticks\":\"\",\"title\":{\"standoff\":15},\"zerolinecolor\":\"white\",\"automargin\":true,\"zerolinewidth\":2},\"yaxis\":{\"gridcolor\":\"white\",\"linecolor\":\"white\",\"ticks\":\"\",\"title\":{\"standoff\":15},\"zerolinecolor\":\"white\",\"automargin\":true,\"zerolinewidth\":2},\"scene\":{\"xaxis\":{\"backgroundcolor\":\"#E5ECF6\",\"gridcolor\":\"white\",\"linecolor\":\"white\",\"showbackground\":true,\"ticks\":\"\",\"zerolinecolor\":\"white\",\"gridwidth\":2},\"yaxis\":{\"backgroundcolor\":\"#E5ECF6\",\"gridcolor\":\"white\",\"linecolor\":\"white\",\"showbackground\":true,\"ticks\":\"\",\"zerolinecolor\":\"white\",\"gridwidth\":2},\"zaxis\":{\"backgroundcolor\":\"#E5ECF6\",\"gridcolor\":\"white\",\"linecolor\":\"white\",\"showbackground\":true,\"ticks\":\"\",\"zerolinecolor\":\"white\",\"gridwidth\":2}},\"shapedefaults\":{\"line\":{\"color\":\"#2a3f5f\"}},\"annotationdefaults\":{\"arrowcolor\":\"#2a3f5f\",\"arrowhead\":0,\"arrowwidth\":1},\"geo\":{\"bgcolor\":\"white\",\"landcolor\":\"#E5ECF6\",\"subunitcolor\":\"white\",\"showland\":true,\"showlakes\":true,\"lakecolor\":\"white\"},\"title\":{\"x\":0.05},\"mapbox\":{\"style\":\"light\"}}},\"mapbox\":{\"domain\":{\"x\":[0.0,1.0],\"y\":[0.0,1.0]},\"center\":{\"lat\":40.94100473307692,\"lon\":-88.62004793076923},\"zoom\":8,\"style\":\"open-street-map\"},\"coloraxis\":{\"colorbar\":{\"title\":{\"text\":\"PARENT NUMBER\"}},\"colorscale\":[[0.0,\"#0d0887\"],[0.1111111111111111,\"#46039f\"],[0.2222222222222222,\"#7201a8\"],[0.3333333333333333,\"#9c179e\"],[0.4444444444444444,\"#bd3786\"],[0.5555555555555556,\"#d8576b\"],[0.6666666666666666,\"#ed7953\"],[0.7777777777777778,\"#fb9f3a\"],[0.8888888888888888,\"#fdca26\"],[1.0,\"#f0f921\"]]},\"legend\":{\"tracegroupgap\":0},\"margin\":{\"t\":60}},                        {\"responsive\": true}                    ).then(function(){\n",
       "                            \n",
       "var gd = document.getElementById('5f9a1fbd-30f0-44c4-9578-63a0cb884d0f');\n",
       "var x = new MutationObserver(function (mutations, observer) {{\n",
       "        var display = window.getComputedStyle(gd).display;\n",
       "        if (!display || display === 'none') {{\n",
       "            console.log([gd, 'removed!']);\n",
       "            Plotly.purge(gd);\n",
       "            observer.disconnect();\n",
       "        }}\n",
       "}});\n",
       "\n",
       "// Listen for the removal of the full notebook cells\n",
       "var notebookContainer = gd.closest('#notebook-container');\n",
       "if (notebookContainer) {{\n",
       "    x.observe(notebookContainer, {childList: true});\n",
       "}}\n",
       "\n",
       "// Listen for the clearing of the current output cell\n",
       "var outputEl = gd.closest('.output');\n",
       "if (outputEl) {{\n",
       "    x.observe(outputEl, {childList: true});\n",
       "}}\n",
       "\n",
       "                        })                };                });            </script>        </div>"
      ]
     },
     "metadata": {},
     "output_type": "display_data"
    }
   ],
   "source": [
    "import plotly.express as px\n",
    "\n",
    "# Create a scattermapbox plot\n",
    "fig = px.scatter_mapbox(topthree_il, lat=\"LATITUDE\", lon=\"LONGITUDE\", hover_data=[\"COMPANY\"], color=\"PARENT NUMBER\", color_discrete_sequence=[\"blue\", \"green\", \"red\"], mapbox_style=\"open-street-map\")\n",
    "#fig.update_layout(margin={\"r\":0,\"t\":0,\"l\":0,\"b\":0})\n",
    "fig.show()"
   ]
  },
  {
   "cell_type": "code",
   "execution_count": 18,
   "id": "e73368a4-7de2-4be8-ad16-8503003e1231",
   "metadata": {
    "collapsed": true,
    "jupyter": {
     "outputs_hidden": true,
     "source_hidden": true
    },
    "tags": []
   },
   "outputs": [
    {
     "data": {
      "text/html": [
       "<div>\n",
       "<style scoped>\n",
       "    .dataframe tbody tr th:only-of-type {\n",
       "        vertical-align: middle;\n",
       "    }\n",
       "\n",
       "    .dataframe tbody tr th {\n",
       "        vertical-align: top;\n",
       "    }\n",
       "\n",
       "    .dataframe thead th {\n",
       "        text-align: right;\n",
       "    }\n",
       "</style>\n",
       "<table border=\"1\" class=\"dataframe\">\n",
       "  <thead>\n",
       "    <tr style=\"text-align: right;\">\n",
       "      <th></th>\n",
       "      <th>COMPANY</th>\n",
       "      <th>ADDRESS LINE 1</th>\n",
       "      <th>CITY</th>\n",
       "      <th>STATE</th>\n",
       "      <th>ZIPCODE</th>\n",
       "      <th>ZIP4</th>\n",
       "      <th>COUNTY CODE</th>\n",
       "      <th>AREA CODE</th>\n",
       "      <th>IDCODE</th>\n",
       "      <th>LOCATION EMPLOYEE SIZE CODE</th>\n",
       "      <th>LOCATION SALES VOLUME CODE</th>\n",
       "      <th>PRIMARY SIC CODE</th>\n",
       "      <th>SIC6_DESCRIPTIONS</th>\n",
       "      <th>PRIMARY NAICS CODE</th>\n",
       "      <th>NAICS8 DESCRIPTIONS</th>\n",
       "      <th>SIC CODE</th>\n",
       "      <th>SIC6_DESCRIPTIONS (SIC)</th>\n",
       "      <th>SIC CODE 1</th>\n",
       "      <th>SIC6_DESCRIPTIONS (SIC1)</th>\n",
       "      <th>SIC CODE 2</th>\n",
       "      <th>SIC6_DESCRIPTIONS(SIC2)</th>\n",
       "      <th>SIC CODE 3</th>\n",
       "      <th>SIC6_DESCRIPTIONS(SIC3)</th>\n",
       "      <th>SIC CODE 4</th>\n",
       "      <th>SIC6_DESCRIPTIONS(SIC4)</th>\n",
       "      <th>ARCHIVE VERSION YEAR</th>\n",
       "      <th>YELLOW PAGE CODE</th>\n",
       "      <th>EMPLOYEE SIZE (5) - LOCATION</th>\n",
       "      <th>SALES VOLUME (9) - LOCATION</th>\n",
       "      <th>BUSINESS STATUS CODE</th>\n",
       "      <th>INDUSTRY SPECIFIC FIRST BYTE</th>\n",
       "      <th>YEAR ESTABLISHED</th>\n",
       "      <th>OFFICE SIZE CODE</th>\n",
       "      <th>COMPANY HOLDING STATUS</th>\n",
       "      <th>ABI</th>\n",
       "      <th>SUBSIDIARY NUMBER</th>\n",
       "      <th>PARENT NUMBER</th>\n",
       "      <th>PARENT ACTUAL EMPLOYEE SIZE</th>\n",
       "      <th>PARENT ACTUAL SALES VOLUME</th>\n",
       "      <th>PARENT EMPLOYEE SIZE CODE</th>\n",
       "      <th>PARENT SALES VOLUME CODE</th>\n",
       "      <th>SITE NUMBER</th>\n",
       "      <th>ADDRESS TYPE INDICATOR</th>\n",
       "      <th>POPULATION CODE</th>\n",
       "      <th>CENSUS TRACT</th>\n",
       "      <th>CENSUS BLOCK</th>\n",
       "      <th>LATITUDE</th>\n",
       "      <th>LONGITUDE</th>\n",
       "      <th>MATCH CODE</th>\n",
       "      <th>CBSA CODE</th>\n",
       "      <th>CBSA LEVEL</th>\n",
       "      <th>CSA CODE</th>\n",
       "      <th>FIPS CODE</th>\n",
       "    </tr>\n",
       "  </thead>\n",
       "  <tbody>\n",
       "    <tr>\n",
       "      <th>13</th>\n",
       "      <td>KROGER</td>\n",
       "      <td>301 E MCKINLEY RD</td>\n",
       "      <td>OTTAWA</td>\n",
       "      <td>IL</td>\n",
       "      <td>61350</td>\n",
       "      <td>4805.0</td>\n",
       "      <td>99.0</td>\n",
       "      <td>815</td>\n",
       "      <td>2</td>\n",
       "      <td>E</td>\n",
       "      <td>F</td>\n",
       "      <td>541105</td>\n",
       "      <td>GROCERS-RETAIL</td>\n",
       "      <td>44511003.0</td>\n",
       "      <td>SUPERMARKETS/OTHER GROCERY (EXC CONVENIENCE) STRS</td>\n",
       "      <td>NaN</td>\n",
       "      <td>NaN</td>\n",
       "      <td>NaN</td>\n",
       "      <td>NaN</td>\n",
       "      <td>NaN</td>\n",
       "      <td>NaN</td>\n",
       "      <td>NaN</td>\n",
       "      <td>NaN</td>\n",
       "      <td>NaN</td>\n",
       "      <td>NaN</td>\n",
       "      <td>2022</td>\n",
       "      <td>39106.0</td>\n",
       "      <td>70.0</td>\n",
       "      <td>14158.0</td>\n",
       "      <td>2</td>\n",
       "      <td>P</td>\n",
       "      <td>NaN</td>\n",
       "      <td>NaN</td>\n",
       "      <td>NaN</td>\n",
       "      <td>152123287</td>\n",
       "      <td>NaN</td>\n",
       "      <td>7521503.0</td>\n",
       "      <td>1200.0</td>\n",
       "      <td>137888000.0</td>\n",
       "      <td>I</td>\n",
       "      <td>I</td>\n",
       "      <td>152123287.0</td>\n",
       "      <td>NaN</td>\n",
       "      <td>7</td>\n",
       "      <td>963500.0</td>\n",
       "      <td>1.0</td>\n",
       "      <td>41.323858</td>\n",
       "      <td>-88.836271</td>\n",
       "      <td>P</td>\n",
       "      <td>36837.0</td>\n",
       "      <td>1.0</td>\n",
       "      <td>176.0</td>\n",
       "      <td>17099.0</td>\n",
       "    </tr>\n",
       "    <tr>\n",
       "      <th>86</th>\n",
       "      <td>CIRCLE K</td>\n",
       "      <td>290 MAIN ST</td>\n",
       "      <td>MARSEILLES</td>\n",
       "      <td>IL</td>\n",
       "      <td>61341</td>\n",
       "      <td>NaN</td>\n",
       "      <td>99.0</td>\n",
       "      <td>815</td>\n",
       "      <td>2</td>\n",
       "      <td>C</td>\n",
       "      <td>C</td>\n",
       "      <td>541103</td>\n",
       "      <td>CONVENIENCE STORES</td>\n",
       "      <td>44512001.0</td>\n",
       "      <td>CONVENIENCE STORES</td>\n",
       "      <td>554101.0</td>\n",
       "      <td>SERVICE STATIONS-GASOLINE &amp; OIL</td>\n",
       "      <td>554110.0</td>\n",
       "      <td>ALTERNATIVE FUELS</td>\n",
       "      <td>NaN</td>\n",
       "      <td>NaN</td>\n",
       "      <td>NaN</td>\n",
       "      <td>NaN</td>\n",
       "      <td>NaN</td>\n",
       "      <td>NaN</td>\n",
       "      <td>2022</td>\n",
       "      <td>21303.0</td>\n",
       "      <td>11.0</td>\n",
       "      <td>2225.0</td>\n",
       "      <td>2</td>\n",
       "      <td>F</td>\n",
       "      <td>NaN</td>\n",
       "      <td>NaN</td>\n",
       "      <td>NaN</td>\n",
       "      <td>312709629</td>\n",
       "      <td>NaN</td>\n",
       "      <td>450720289.0</td>\n",
       "      <td>650.0</td>\n",
       "      <td>4981020.0</td>\n",
       "      <td>H</td>\n",
       "      <td>J</td>\n",
       "      <td>NaN</td>\n",
       "      <td>NaN</td>\n",
       "      <td>5</td>\n",
       "      <td>962400.0</td>\n",
       "      <td>2.0</td>\n",
       "      <td>41.333000</td>\n",
       "      <td>-88.701000</td>\n",
       "      <td>X</td>\n",
       "      <td>36837.0</td>\n",
       "      <td>1.0</td>\n",
       "      <td>176.0</td>\n",
       "      <td>17099.0</td>\n",
       "    </tr>\n",
       "    <tr>\n",
       "      <th>199</th>\n",
       "      <td>SPRING VALLEY SUPERMARKET</td>\n",
       "      <td>117 S SPALDING ST</td>\n",
       "      <td>SPRING VALLEY</td>\n",
       "      <td>IL</td>\n",
       "      <td>61362</td>\n",
       "      <td>2097.0</td>\n",
       "      <td>11.0</td>\n",
       "      <td>815</td>\n",
       "      <td>2</td>\n",
       "      <td>E</td>\n",
       "      <td>E</td>\n",
       "      <td>541105</td>\n",
       "      <td>GROCERS-RETAIL</td>\n",
       "      <td>44511003.0</td>\n",
       "      <td>SUPERMARKETS/OTHER GROCERY (EXC CONVENIENCE) STRS</td>\n",
       "      <td>542107.0</td>\n",
       "      <td>MEAT-RETAIL</td>\n",
       "      <td>NaN</td>\n",
       "      <td>NaN</td>\n",
       "      <td>NaN</td>\n",
       "      <td>NaN</td>\n",
       "      <td>NaN</td>\n",
       "      <td>NaN</td>\n",
       "      <td>NaN</td>\n",
       "      <td>NaN</td>\n",
       "      <td>2022</td>\n",
       "      <td>39106.0</td>\n",
       "      <td>60.0</td>\n",
       "      <td>8908.0</td>\n",
       "      <td>9</td>\n",
       "      <td>NaN</td>\n",
       "      <td>NaN</td>\n",
       "      <td>NaN</td>\n",
       "      <td>NaN</td>\n",
       "      <td>2994101</td>\n",
       "      <td>NaN</td>\n",
       "      <td>NaN</td>\n",
       "      <td>NaN</td>\n",
       "      <td>NaN</td>\n",
       "      <td>NaN</td>\n",
       "      <td>NaN</td>\n",
       "      <td>NaN</td>\n",
       "      <td>NaN</td>\n",
       "      <td>5</td>\n",
       "      <td>965200.0</td>\n",
       "      <td>2.0</td>\n",
       "      <td>41.323951</td>\n",
       "      <td>-89.199282</td>\n",
       "      <td>P</td>\n",
       "      <td>36837.0</td>\n",
       "      <td>1.0</td>\n",
       "      <td>176.0</td>\n",
       "      <td>17011.0</td>\n",
       "    </tr>\n",
       "    <tr>\n",
       "      <th>238</th>\n",
       "      <td>FREEDOM OIL CO</td>\n",
       "      <td>402 N MAIN ST</td>\n",
       "      <td>TOLUCA</td>\n",
       "      <td>IL</td>\n",
       "      <td>61369</td>\n",
       "      <td>9025.0</td>\n",
       "      <td>123.0</td>\n",
       "      <td>815</td>\n",
       "      <td>2</td>\n",
       "      <td>B</td>\n",
       "      <td>C</td>\n",
       "      <td>541103</td>\n",
       "      <td>CONVENIENCE STORES</td>\n",
       "      <td>44512001.0</td>\n",
       "      <td>CONVENIENCE STORES</td>\n",
       "      <td>554101.0</td>\n",
       "      <td>SERVICE STATIONS-GASOLINE &amp; OIL</td>\n",
       "      <td>NaN</td>\n",
       "      <td>NaN</td>\n",
       "      <td>NaN</td>\n",
       "      <td>NaN</td>\n",
       "      <td>NaN</td>\n",
       "      <td>NaN</td>\n",
       "      <td>NaN</td>\n",
       "      <td>NaN</td>\n",
       "      <td>2022</td>\n",
       "      <td>NaN</td>\n",
       "      <td>7.0</td>\n",
       "      <td>1545.0</td>\n",
       "      <td>2</td>\n",
       "      <td>NaN</td>\n",
       "      <td>NaN</td>\n",
       "      <td>NaN</td>\n",
       "      <td>NaN</td>\n",
       "      <td>308353358</td>\n",
       "      <td>NaN</td>\n",
       "      <td>452637325.0</td>\n",
       "      <td>17.0</td>\n",
       "      <td>52200.0</td>\n",
       "      <td>C</td>\n",
       "      <td>H</td>\n",
       "      <td>NaN</td>\n",
       "      <td>NaN</td>\n",
       "      <td>3</td>\n",
       "      <td>961500.0</td>\n",
       "      <td>2.0</td>\n",
       "      <td>41.005092</td>\n",
       "      <td>-89.133807</td>\n",
       "      <td>P</td>\n",
       "      <td>37900.0</td>\n",
       "      <td>2.0</td>\n",
       "      <td>0.0</td>\n",
       "      <td>17123.0</td>\n",
       "    </tr>\n",
       "    <tr>\n",
       "      <th>316</th>\n",
       "      <td>SENECA FOOD MART</td>\n",
       "      <td>271 S MAIN ST</td>\n",
       "      <td>SENECA</td>\n",
       "      <td>IL</td>\n",
       "      <td>61360</td>\n",
       "      <td>9415.0</td>\n",
       "      <td>99.0</td>\n",
       "      <td>815</td>\n",
       "      <td>2</td>\n",
       "      <td>B</td>\n",
       "      <td>C</td>\n",
       "      <td>541105</td>\n",
       "      <td>GROCERS-RETAIL</td>\n",
       "      <td>44511003.0</td>\n",
       "      <td>SUPERMARKETS/OTHER GROCERY (EXC CONVENIENCE) STRS</td>\n",
       "      <td>209903.0</td>\n",
       "      <td>FOOD PRODUCTS &amp; MANUFACTURERS</td>\n",
       "      <td>NaN</td>\n",
       "      <td>NaN</td>\n",
       "      <td>NaN</td>\n",
       "      <td>NaN</td>\n",
       "      <td>NaN</td>\n",
       "      <td>NaN</td>\n",
       "      <td>NaN</td>\n",
       "      <td>NaN</td>\n",
       "      <td>2022</td>\n",
       "      <td>39106.0</td>\n",
       "      <td>8.0</td>\n",
       "      <td>1618.0</td>\n",
       "      <td>2</td>\n",
       "      <td>NaN</td>\n",
       "      <td>NaN</td>\n",
       "      <td>NaN</td>\n",
       "      <td>NaN</td>\n",
       "      <td>152142808</td>\n",
       "      <td>NaN</td>\n",
       "      <td>558247.0</td>\n",
       "      <td>75.0</td>\n",
       "      <td>1385280.0</td>\n",
       "      <td>E</td>\n",
       "      <td>K</td>\n",
       "      <td>NaN</td>\n",
       "      <td>NaN</td>\n",
       "      <td>4</td>\n",
       "      <td>963700.0</td>\n",
       "      <td>1.0</td>\n",
       "      <td>41.306622</td>\n",
       "      <td>-88.610207</td>\n",
       "      <td>P</td>\n",
       "      <td>36837.0</td>\n",
       "      <td>1.0</td>\n",
       "      <td>176.0</td>\n",
       "      <td>17099.0</td>\n",
       "    </tr>\n",
       "    <tr>\n",
       "      <th>...</th>\n",
       "      <td>...</td>\n",
       "      <td>...</td>\n",
       "      <td>...</td>\n",
       "      <td>...</td>\n",
       "      <td>...</td>\n",
       "      <td>...</td>\n",
       "      <td>...</td>\n",
       "      <td>...</td>\n",
       "      <td>...</td>\n",
       "      <td>...</td>\n",
       "      <td>...</td>\n",
       "      <td>...</td>\n",
       "      <td>...</td>\n",
       "      <td>...</td>\n",
       "      <td>...</td>\n",
       "      <td>...</td>\n",
       "      <td>...</td>\n",
       "      <td>...</td>\n",
       "      <td>...</td>\n",
       "      <td>...</td>\n",
       "      <td>...</td>\n",
       "      <td>...</td>\n",
       "      <td>...</td>\n",
       "      <td>...</td>\n",
       "      <td>...</td>\n",
       "      <td>...</td>\n",
       "      <td>...</td>\n",
       "      <td>...</td>\n",
       "      <td>...</td>\n",
       "      <td>...</td>\n",
       "      <td>...</td>\n",
       "      <td>...</td>\n",
       "      <td>...</td>\n",
       "      <td>...</td>\n",
       "      <td>...</td>\n",
       "      <td>...</td>\n",
       "      <td>...</td>\n",
       "      <td>...</td>\n",
       "      <td>...</td>\n",
       "      <td>...</td>\n",
       "      <td>...</td>\n",
       "      <td>...</td>\n",
       "      <td>...</td>\n",
       "      <td>...</td>\n",
       "      <td>...</td>\n",
       "      <td>...</td>\n",
       "      <td>...</td>\n",
       "      <td>...</td>\n",
       "      <td>...</td>\n",
       "      <td>...</td>\n",
       "      <td>...</td>\n",
       "      <td>...</td>\n",
       "      <td>...</td>\n",
       "    </tr>\n",
       "    <tr>\n",
       "      <th>203321</th>\n",
       "      <td>AL A CARTE FOOD</td>\n",
       "      <td>2620 W CERMAK RD</td>\n",
       "      <td>CHICAGO</td>\n",
       "      <td>IL</td>\n",
       "      <td>60608</td>\n",
       "      <td>6171.0</td>\n",
       "      <td>31.0</td>\n",
       "      <td>773</td>\n",
       "      <td>2</td>\n",
       "      <td>A</td>\n",
       "      <td>B</td>\n",
       "      <td>541103</td>\n",
       "      <td>CONVENIENCE STORES</td>\n",
       "      <td>44512001.0</td>\n",
       "      <td>CONVENIENCE STORES</td>\n",
       "      <td>NaN</td>\n",
       "      <td>NaN</td>\n",
       "      <td>NaN</td>\n",
       "      <td>NaN</td>\n",
       "      <td>NaN</td>\n",
       "      <td>NaN</td>\n",
       "      <td>NaN</td>\n",
       "      <td>NaN</td>\n",
       "      <td>NaN</td>\n",
       "      <td>NaN</td>\n",
       "      <td>2022</td>\n",
       "      <td>21303.0</td>\n",
       "      <td>2.0</td>\n",
       "      <td>512.0</td>\n",
       "      <td>9</td>\n",
       "      <td>NaN</td>\n",
       "      <td>NaN</td>\n",
       "      <td>NaN</td>\n",
       "      <td>NaN</td>\n",
       "      <td>404191958</td>\n",
       "      <td>NaN</td>\n",
       "      <td>NaN</td>\n",
       "      <td>NaN</td>\n",
       "      <td>NaN</td>\n",
       "      <td>NaN</td>\n",
       "      <td>NaN</td>\n",
       "      <td>NaN</td>\n",
       "      <td>NaN</td>\n",
       "      <td>8</td>\n",
       "      <td>840700.0</td>\n",
       "      <td>3.0</td>\n",
       "      <td>41.852085</td>\n",
       "      <td>-87.691277</td>\n",
       "      <td>4</td>\n",
       "      <td>16980.0</td>\n",
       "      <td>2.0</td>\n",
       "      <td>176.0</td>\n",
       "      <td>17031.0</td>\n",
       "    </tr>\n",
       "    <tr>\n",
       "      <th>203333</th>\n",
       "      <td>LAKEVIEW FOODS INC</td>\n",
       "      <td>4106 N SHERIDAN RD</td>\n",
       "      <td>CHICAGO</td>\n",
       "      <td>IL</td>\n",
       "      <td>60613</td>\n",
       "      <td>2007.0</td>\n",
       "      <td>31.0</td>\n",
       "      <td>773</td>\n",
       "      <td>2</td>\n",
       "      <td>B</td>\n",
       "      <td>C</td>\n",
       "      <td>541105</td>\n",
       "      <td>GROCERS-RETAIL</td>\n",
       "      <td>44511003.0</td>\n",
       "      <td>SUPERMARKETS/OTHER GROCERY (EXC CONVENIENCE) STRS</td>\n",
       "      <td>NaN</td>\n",
       "      <td>NaN</td>\n",
       "      <td>NaN</td>\n",
       "      <td>NaN</td>\n",
       "      <td>NaN</td>\n",
       "      <td>NaN</td>\n",
       "      <td>NaN</td>\n",
       "      <td>NaN</td>\n",
       "      <td>NaN</td>\n",
       "      <td>NaN</td>\n",
       "      <td>2022</td>\n",
       "      <td>39106.0</td>\n",
       "      <td>5.0</td>\n",
       "      <td>1278.0</td>\n",
       "      <td>9</td>\n",
       "      <td>NaN</td>\n",
       "      <td>NaN</td>\n",
       "      <td>NaN</td>\n",
       "      <td>NaN</td>\n",
       "      <td>151164688</td>\n",
       "      <td>NaN</td>\n",
       "      <td>NaN</td>\n",
       "      <td>NaN</td>\n",
       "      <td>NaN</td>\n",
       "      <td>NaN</td>\n",
       "      <td>NaN</td>\n",
       "      <td>NaN</td>\n",
       "      <td>NaN</td>\n",
       "      <td>7</td>\n",
       "      <td>32100.0</td>\n",
       "      <td>3.0</td>\n",
       "      <td>41.956971</td>\n",
       "      <td>-87.654794</td>\n",
       "      <td>P</td>\n",
       "      <td>16980.0</td>\n",
       "      <td>2.0</td>\n",
       "      <td>176.0</td>\n",
       "      <td>17031.0</td>\n",
       "    </tr>\n",
       "    <tr>\n",
       "      <th>203352</th>\n",
       "      <td>THORNDALE MART INC</td>\n",
       "      <td>1104 W THORNDALE AVE</td>\n",
       "      <td>CHICAGO</td>\n",
       "      <td>IL</td>\n",
       "      <td>60660</td>\n",
       "      <td>3516.0</td>\n",
       "      <td>31.0</td>\n",
       "      <td>773</td>\n",
       "      <td>2</td>\n",
       "      <td>A</td>\n",
       "      <td>A</td>\n",
       "      <td>541103</td>\n",
       "      <td>CONVENIENCE STORES</td>\n",
       "      <td>44512001.0</td>\n",
       "      <td>CONVENIENCE STORES</td>\n",
       "      <td>NaN</td>\n",
       "      <td>NaN</td>\n",
       "      <td>NaN</td>\n",
       "      <td>NaN</td>\n",
       "      <td>NaN</td>\n",
       "      <td>NaN</td>\n",
       "      <td>NaN</td>\n",
       "      <td>NaN</td>\n",
       "      <td>NaN</td>\n",
       "      <td>NaN</td>\n",
       "      <td>2022</td>\n",
       "      <td>21303.0</td>\n",
       "      <td>1.0</td>\n",
       "      <td>256.0</td>\n",
       "      <td>9</td>\n",
       "      <td>NaN</td>\n",
       "      <td>NaN</td>\n",
       "      <td>NaN</td>\n",
       "      <td>NaN</td>\n",
       "      <td>427743704</td>\n",
       "      <td>NaN</td>\n",
       "      <td>NaN</td>\n",
       "      <td>NaN</td>\n",
       "      <td>NaN</td>\n",
       "      <td>NaN</td>\n",
       "      <td>NaN</td>\n",
       "      <td>NaN</td>\n",
       "      <td>NaN</td>\n",
       "      <td>7</td>\n",
       "      <td>30101.0</td>\n",
       "      <td>1.0</td>\n",
       "      <td>41.990189</td>\n",
       "      <td>-87.658514</td>\n",
       "      <td>P</td>\n",
       "      <td>16980.0</td>\n",
       "      <td>2.0</td>\n",
       "      <td>176.0</td>\n",
       "      <td>17031.0</td>\n",
       "    </tr>\n",
       "    <tr>\n",
       "      <th>203353</th>\n",
       "      <td>SMITH &amp; SMITH</td>\n",
       "      <td>S CHICAGO</td>\n",
       "      <td>CHICAGO</td>\n",
       "      <td>IL</td>\n",
       "      <td>60641</td>\n",
       "      <td>NaN</td>\n",
       "      <td>31.0</td>\n",
       "      <td>773</td>\n",
       "      <td>2</td>\n",
       "      <td>A</td>\n",
       "      <td>B</td>\n",
       "      <td>541105</td>\n",
       "      <td>GROCERS-RETAIL</td>\n",
       "      <td>44511003.0</td>\n",
       "      <td>SUPERMARKETS/OTHER GROCERY (EXC CONVENIENCE) STRS</td>\n",
       "      <td>NaN</td>\n",
       "      <td>NaN</td>\n",
       "      <td>NaN</td>\n",
       "      <td>NaN</td>\n",
       "      <td>NaN</td>\n",
       "      <td>NaN</td>\n",
       "      <td>NaN</td>\n",
       "      <td>NaN</td>\n",
       "      <td>NaN</td>\n",
       "      <td>NaN</td>\n",
       "      <td>2022</td>\n",
       "      <td>39106.0</td>\n",
       "      <td>3.0</td>\n",
       "      <td>767.0</td>\n",
       "      <td>9</td>\n",
       "      <td>NaN</td>\n",
       "      <td>NaN</td>\n",
       "      <td>NaN</td>\n",
       "      <td>NaN</td>\n",
       "      <td>427025988</td>\n",
       "      <td>NaN</td>\n",
       "      <td>NaN</td>\n",
       "      <td>NaN</td>\n",
       "      <td>NaN</td>\n",
       "      <td>NaN</td>\n",
       "      <td>NaN</td>\n",
       "      <td>NaN</td>\n",
       "      <td>NaN</td>\n",
       "      <td>8</td>\n",
       "      <td>831700.0</td>\n",
       "      <td>1.0</td>\n",
       "      <td>41.948300</td>\n",
       "      <td>-87.743900</td>\n",
       "      <td>X</td>\n",
       "      <td>16980.0</td>\n",
       "      <td>2.0</td>\n",
       "      <td>176.0</td>\n",
       "      <td>17031.0</td>\n",
       "    </tr>\n",
       "    <tr>\n",
       "      <th>203442</th>\n",
       "      <td>SOUTH LOOP MARKET</td>\n",
       "      <td>1720 S MICHIGAN AVE # 115</td>\n",
       "      <td>CHICAGO</td>\n",
       "      <td>IL</td>\n",
       "      <td>60616</td>\n",
       "      <td>5371.0</td>\n",
       "      <td>31.0</td>\n",
       "      <td>312</td>\n",
       "      <td>2</td>\n",
       "      <td>A</td>\n",
       "      <td>B</td>\n",
       "      <td>541105</td>\n",
       "      <td>GROCERS-RETAIL</td>\n",
       "      <td>44511003.0</td>\n",
       "      <td>SUPERMARKETS/OTHER GROCERY (EXC CONVENIENCE) STRS</td>\n",
       "      <td>NaN</td>\n",
       "      <td>NaN</td>\n",
       "      <td>NaN</td>\n",
       "      <td>NaN</td>\n",
       "      <td>NaN</td>\n",
       "      <td>NaN</td>\n",
       "      <td>NaN</td>\n",
       "      <td>NaN</td>\n",
       "      <td>NaN</td>\n",
       "      <td>NaN</td>\n",
       "      <td>2022</td>\n",
       "      <td>39106.0</td>\n",
       "      <td>3.0</td>\n",
       "      <td>767.0</td>\n",
       "      <td>9</td>\n",
       "      <td>NaN</td>\n",
       "      <td>2009.0</td>\n",
       "      <td>NaN</td>\n",
       "      <td>NaN</td>\n",
       "      <td>425080898</td>\n",
       "      <td>NaN</td>\n",
       "      <td>NaN</td>\n",
       "      <td>NaN</td>\n",
       "      <td>NaN</td>\n",
       "      <td>NaN</td>\n",
       "      <td>NaN</td>\n",
       "      <td>NaN</td>\n",
       "      <td>NaN</td>\n",
       "      <td>7</td>\n",
       "      <td>330100.0</td>\n",
       "      <td>2.0</td>\n",
       "      <td>41.858455</td>\n",
       "      <td>-87.624430</td>\n",
       "      <td>P</td>\n",
       "      <td>16980.0</td>\n",
       "      <td>2.0</td>\n",
       "      <td>176.0</td>\n",
       "      <td>17031.0</td>\n",
       "    </tr>\n",
       "  </tbody>\n",
       "</table>\n",
       "<p>5191 rows × 53 columns</p>\n",
       "</div>"
      ],
      "text/plain": [
       "                          COMPANY             ADDRESS LINE 1           CITY  \\\n",
       "13                         KROGER          301 E MCKINLEY RD         OTTAWA   \n",
       "86                       CIRCLE K                290 MAIN ST     MARSEILLES   \n",
       "199     SPRING VALLEY SUPERMARKET          117 S SPALDING ST  SPRING VALLEY   \n",
       "238                FREEDOM OIL CO              402 N MAIN ST         TOLUCA   \n",
       "316              SENECA FOOD MART              271 S MAIN ST         SENECA   \n",
       "...                           ...                        ...            ...   \n",
       "203321            AL A CARTE FOOD           2620 W CERMAK RD        CHICAGO   \n",
       "203333         LAKEVIEW FOODS INC         4106 N SHERIDAN RD        CHICAGO   \n",
       "203352         THORNDALE MART INC       1104 W THORNDALE AVE        CHICAGO   \n",
       "203353              SMITH & SMITH                  S CHICAGO        CHICAGO   \n",
       "203442          SOUTH LOOP MARKET  1720 S MICHIGAN AVE # 115        CHICAGO   \n",
       "\n",
       "       STATE  ZIPCODE    ZIP4  COUNTY CODE  AREA CODE  IDCODE  \\\n",
       "13        IL    61350  4805.0         99.0        815       2   \n",
       "86        IL    61341     NaN         99.0        815       2   \n",
       "199       IL    61362  2097.0         11.0        815       2   \n",
       "238       IL    61369  9025.0        123.0        815       2   \n",
       "316       IL    61360  9415.0         99.0        815       2   \n",
       "...      ...      ...     ...          ...        ...     ...   \n",
       "203321    IL    60608  6171.0         31.0        773       2   \n",
       "203333    IL    60613  2007.0         31.0        773       2   \n",
       "203352    IL    60660  3516.0         31.0        773       2   \n",
       "203353    IL    60641     NaN         31.0        773       2   \n",
       "203442    IL    60616  5371.0         31.0        312       2   \n",
       "\n",
       "       LOCATION EMPLOYEE SIZE CODE LOCATION SALES VOLUME CODE  \\\n",
       "13                               E                          F   \n",
       "86                               C                          C   \n",
       "199                              E                          E   \n",
       "238                              B                          C   \n",
       "316                              B                          C   \n",
       "...                            ...                        ...   \n",
       "203321                           A                          B   \n",
       "203333                           B                          C   \n",
       "203352                           A                          A   \n",
       "203353                           A                          B   \n",
       "203442                           A                          B   \n",
       "\n",
       "        PRIMARY SIC CODE   SIC6_DESCRIPTIONS  PRIMARY NAICS CODE  \\\n",
       "13                541105      GROCERS-RETAIL          44511003.0   \n",
       "86                541103  CONVENIENCE STORES          44512001.0   \n",
       "199               541105      GROCERS-RETAIL          44511003.0   \n",
       "238               541103  CONVENIENCE STORES          44512001.0   \n",
       "316               541105      GROCERS-RETAIL          44511003.0   \n",
       "...                  ...                 ...                 ...   \n",
       "203321            541103  CONVENIENCE STORES          44512001.0   \n",
       "203333            541105      GROCERS-RETAIL          44511003.0   \n",
       "203352            541103  CONVENIENCE STORES          44512001.0   \n",
       "203353            541105      GROCERS-RETAIL          44511003.0   \n",
       "203442            541105      GROCERS-RETAIL          44511003.0   \n",
       "\n",
       "                                      NAICS8 DESCRIPTIONS  SIC CODE  \\\n",
       "13      SUPERMARKETS/OTHER GROCERY (EXC CONVENIENCE) STRS       NaN   \n",
       "86                                     CONVENIENCE STORES  554101.0   \n",
       "199     SUPERMARKETS/OTHER GROCERY (EXC CONVENIENCE) STRS  542107.0   \n",
       "238                                    CONVENIENCE STORES  554101.0   \n",
       "316     SUPERMARKETS/OTHER GROCERY (EXC CONVENIENCE) STRS  209903.0   \n",
       "...                                                   ...       ...   \n",
       "203321                                 CONVENIENCE STORES       NaN   \n",
       "203333  SUPERMARKETS/OTHER GROCERY (EXC CONVENIENCE) STRS       NaN   \n",
       "203352                                 CONVENIENCE STORES       NaN   \n",
       "203353  SUPERMARKETS/OTHER GROCERY (EXC CONVENIENCE) STRS       NaN   \n",
       "203442  SUPERMARKETS/OTHER GROCERY (EXC CONVENIENCE) STRS       NaN   \n",
       "\n",
       "                SIC6_DESCRIPTIONS (SIC)  SIC CODE 1 SIC6_DESCRIPTIONS (SIC1)  \\\n",
       "13                                  NaN         NaN                      NaN   \n",
       "86      SERVICE STATIONS-GASOLINE & OIL    554110.0        ALTERNATIVE FUELS   \n",
       "199                         MEAT-RETAIL         NaN                      NaN   \n",
       "238     SERVICE STATIONS-GASOLINE & OIL         NaN                      NaN   \n",
       "316       FOOD PRODUCTS & MANUFACTURERS         NaN                      NaN   \n",
       "...                                 ...         ...                      ...   \n",
       "203321                              NaN         NaN                      NaN   \n",
       "203333                              NaN         NaN                      NaN   \n",
       "203352                              NaN         NaN                      NaN   \n",
       "203353                              NaN         NaN                      NaN   \n",
       "203442                              NaN         NaN                      NaN   \n",
       "\n",
       "        SIC CODE 2 SIC6_DESCRIPTIONS(SIC2)  SIC CODE 3  \\\n",
       "13             NaN                     NaN         NaN   \n",
       "86             NaN                     NaN         NaN   \n",
       "199            NaN                     NaN         NaN   \n",
       "238            NaN                     NaN         NaN   \n",
       "316            NaN                     NaN         NaN   \n",
       "...            ...                     ...         ...   \n",
       "203321         NaN                     NaN         NaN   \n",
       "203333         NaN                     NaN         NaN   \n",
       "203352         NaN                     NaN         NaN   \n",
       "203353         NaN                     NaN         NaN   \n",
       "203442         NaN                     NaN         NaN   \n",
       "\n",
       "       SIC6_DESCRIPTIONS(SIC3)  SIC CODE 4 SIC6_DESCRIPTIONS(SIC4)  \\\n",
       "13                         NaN         NaN                     NaN   \n",
       "86                         NaN         NaN                     NaN   \n",
       "199                        NaN         NaN                     NaN   \n",
       "238                        NaN         NaN                     NaN   \n",
       "316                        NaN         NaN                     NaN   \n",
       "...                        ...         ...                     ...   \n",
       "203321                     NaN         NaN                     NaN   \n",
       "203333                     NaN         NaN                     NaN   \n",
       "203352                     NaN         NaN                     NaN   \n",
       "203353                     NaN         NaN                     NaN   \n",
       "203442                     NaN         NaN                     NaN   \n",
       "\n",
       "        ARCHIVE VERSION YEAR  YELLOW PAGE CODE  EMPLOYEE SIZE (5) - LOCATION  \\\n",
       "13                      2022           39106.0                          70.0   \n",
       "86                      2022           21303.0                          11.0   \n",
       "199                     2022           39106.0                          60.0   \n",
       "238                     2022               NaN                           7.0   \n",
       "316                     2022           39106.0                           8.0   \n",
       "...                      ...               ...                           ...   \n",
       "203321                  2022           21303.0                           2.0   \n",
       "203333                  2022           39106.0                           5.0   \n",
       "203352                  2022           21303.0                           1.0   \n",
       "203353                  2022           39106.0                           3.0   \n",
       "203442                  2022           39106.0                           3.0   \n",
       "\n",
       "        SALES VOLUME (9) - LOCATION  BUSINESS STATUS CODE  \\\n",
       "13                          14158.0                     2   \n",
       "86                           2225.0                     2   \n",
       "199                          8908.0                     9   \n",
       "238                          1545.0                     2   \n",
       "316                          1618.0                     2   \n",
       "...                             ...                   ...   \n",
       "203321                        512.0                     9   \n",
       "203333                       1278.0                     9   \n",
       "203352                        256.0                     9   \n",
       "203353                        767.0                     9   \n",
       "203442                        767.0                     9   \n",
       "\n",
       "       INDUSTRY SPECIFIC FIRST BYTE  YEAR ESTABLISHED  OFFICE SIZE CODE  \\\n",
       "13                                P               NaN               NaN   \n",
       "86                                F               NaN               NaN   \n",
       "199                             NaN               NaN               NaN   \n",
       "238                             NaN               NaN               NaN   \n",
       "316                             NaN               NaN               NaN   \n",
       "...                             ...               ...               ...   \n",
       "203321                          NaN               NaN               NaN   \n",
       "203333                          NaN               NaN               NaN   \n",
       "203352                          NaN               NaN               NaN   \n",
       "203353                          NaN               NaN               NaN   \n",
       "203442                          NaN            2009.0               NaN   \n",
       "\n",
       "        COMPANY HOLDING STATUS        ABI  SUBSIDIARY NUMBER  PARENT NUMBER  \\\n",
       "13                         NaN  152123287                NaN      7521503.0   \n",
       "86                         NaN  312709629                NaN    450720289.0   \n",
       "199                        NaN    2994101                NaN            NaN   \n",
       "238                        NaN  308353358                NaN    452637325.0   \n",
       "316                        NaN  152142808                NaN       558247.0   \n",
       "...                        ...        ...                ...            ...   \n",
       "203321                     NaN  404191958                NaN            NaN   \n",
       "203333                     NaN  151164688                NaN            NaN   \n",
       "203352                     NaN  427743704                NaN            NaN   \n",
       "203353                     NaN  427025988                NaN            NaN   \n",
       "203442                     NaN  425080898                NaN            NaN   \n",
       "\n",
       "        PARENT ACTUAL EMPLOYEE SIZE  PARENT ACTUAL SALES VOLUME  \\\n",
       "13                           1200.0                 137888000.0   \n",
       "86                            650.0                   4981020.0   \n",
       "199                             NaN                         NaN   \n",
       "238                            17.0                     52200.0   \n",
       "316                            75.0                   1385280.0   \n",
       "...                             ...                         ...   \n",
       "203321                          NaN                         NaN   \n",
       "203333                          NaN                         NaN   \n",
       "203352                          NaN                         NaN   \n",
       "203353                          NaN                         NaN   \n",
       "203442                          NaN                         NaN   \n",
       "\n",
       "       PARENT EMPLOYEE SIZE CODE PARENT SALES VOLUME CODE  SITE NUMBER  \\\n",
       "13                             I                        I  152123287.0   \n",
       "86                             H                        J          NaN   \n",
       "199                          NaN                      NaN          NaN   \n",
       "238                            C                        H          NaN   \n",
       "316                            E                        K          NaN   \n",
       "...                          ...                      ...          ...   \n",
       "203321                       NaN                      NaN          NaN   \n",
       "203333                       NaN                      NaN          NaN   \n",
       "203352                       NaN                      NaN          NaN   \n",
       "203353                       NaN                      NaN          NaN   \n",
       "203442                       NaN                      NaN          NaN   \n",
       "\n",
       "       ADDRESS TYPE INDICATOR  POPULATION CODE  CENSUS TRACT  CENSUS BLOCK  \\\n",
       "13                        NaN                7      963500.0           1.0   \n",
       "86                        NaN                5      962400.0           2.0   \n",
       "199                       NaN                5      965200.0           2.0   \n",
       "238                       NaN                3      961500.0           2.0   \n",
       "316                       NaN                4      963700.0           1.0   \n",
       "...                       ...              ...           ...           ...   \n",
       "203321                    NaN                8      840700.0           3.0   \n",
       "203333                    NaN                7       32100.0           3.0   \n",
       "203352                    NaN                7       30101.0           1.0   \n",
       "203353                    NaN                8      831700.0           1.0   \n",
       "203442                    NaN                7      330100.0           2.0   \n",
       "\n",
       "         LATITUDE  LONGITUDE MATCH CODE  CBSA CODE  CBSA LEVEL  CSA CODE  \\\n",
       "13      41.323858 -88.836271          P    36837.0         1.0     176.0   \n",
       "86      41.333000 -88.701000          X    36837.0         1.0     176.0   \n",
       "199     41.323951 -89.199282          P    36837.0         1.0     176.0   \n",
       "238     41.005092 -89.133807          P    37900.0         2.0       0.0   \n",
       "316     41.306622 -88.610207          P    36837.0         1.0     176.0   \n",
       "...           ...        ...        ...        ...         ...       ...   \n",
       "203321  41.852085 -87.691277          4    16980.0         2.0     176.0   \n",
       "203333  41.956971 -87.654794          P    16980.0         2.0     176.0   \n",
       "203352  41.990189 -87.658514          P    16980.0         2.0     176.0   \n",
       "203353  41.948300 -87.743900          X    16980.0         2.0     176.0   \n",
       "203442  41.858455 -87.624430          P    16980.0         2.0     176.0   \n",
       "\n",
       "        FIPS CODE  \n",
       "13        17099.0  \n",
       "86        17099.0  \n",
       "199       17011.0  \n",
       "238       17123.0  \n",
       "316       17099.0  \n",
       "...           ...  \n",
       "203321    17031.0  \n",
       "203333    17031.0  \n",
       "203352    17031.0  \n",
       "203353    17031.0  \n",
       "203442    17031.0  \n",
       "\n",
       "[5191 rows x 53 columns]"
      ]
     },
     "execution_count": 18,
     "metadata": {},
     "output_type": "execute_result"
    }
   ],
   "source": [
    "il = grocery_sic.loc[grocery_sic[\"STATE\"] == 'IL']\n",
    "il\n",
    "groc_ind_il = il.groupby('PARENT NUMBER', dropna=False).sum().reset_index()[['PARENT NUMBER','SALES VOLUME (9) - LOCATION']]\n"
   ]
  },
  {
   "cell_type": "code",
   "execution_count": null,
   "id": "da0e310a-fa9e-4f06-85fa-dc924aa5ae6e",
   "metadata": {
    "jupyter": {
     "source_hidden": true
    },
    "tags": []
   },
   "outputs": [],
   "source": [
    "plt.bar(x, y)\n",
    "plt.xlabel('Store')\n",
    "plt.ylabel('Sales')\n",
    "plt.title('Sales by Store')\n",
    "plt.xticks(rotation=90)  # Rotate x-axis labels if needed\n",
    "plt.show("
   ]
  }
 ],
 "metadata": {
  "kernelspec": {
   "display_name": "Python 3 (ipykernel)",
   "language": "python",
   "name": "python3"
  },
  "language_info": {
   "codemirror_mode": {
    "name": "ipython",
    "version": 3
   },
   "file_extension": ".py",
   "mimetype": "text/x-python",
   "name": "python",
   "nbconvert_exporter": "python",
   "pygments_lexer": "ipython3",
   "version": "3.9.7"
  }
 },
 "nbformat": 4,
 "nbformat_minor": 5
}
