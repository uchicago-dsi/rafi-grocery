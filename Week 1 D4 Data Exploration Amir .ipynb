{
 "cells": [
  {
   "cell_type": "code",
   "execution_count": null,
   "id": "29364119-2b88-40a0-8c55-29ab56a05aab",
   "metadata": {
    "tags": []
   },
   "outputs": [],
   "source": [
    "import pandas as pd\n",
    "import numpy as np \n",
    "import geopandas as gpd\n",
    "import matplotlib \n",
    "from matplotlib import pyplot as plt \n",
    "pd.set_option('display.max_columns',None)\n",
    "import seaborn as sns \n",
    "from shapely.geometry import Point, Polygon \n",
    "\n",
    "\n",
    "dataset = pd.read_csv('/srv/data/my_shared_data_folder/rafi/2022_Business_Academic_QCQ_grocery.csv')\n",
    "dataset.drop(['Unnamed: 0'],inplace=True,axis=1)\n",
    "dataset "
   ]
  },
  {
   "cell_type": "code",
   "execution_count": null,
   "id": "8beb2095-2bc4-4279-b7d4-e5288790937b",
   "metadata": {
    "tags": []
   },
   "outputs": [],
   "source": [
    "stores_2022 = pd.read_csv('/srv/data/my_shared_data_folder/rafi/2022_Business_Academic_QCQ_grocery.csv')\n",
    "stores_2022.drop(['Unnamed: 0'],inplace=True,axis=1)\n",
    "territories = ['PR', 'FM', 'MP', 'GU', 'VI', 'MH']\n",
    "stores_2022 = stores_2022.drop(stores_2022[stores_2022['STATE'].isin(territories)].index)\n",
    "stores_2022"
   ]
  },
  {
   "cell_type": "code",
   "execution_count": null,
   "id": "3d2a9cee-ecbd-4acd-b452-c022a34b08a4",
   "metadata": {
    "tags": []
   },
   "outputs": [],
   "source": [
    "stores_2022 = pd.read_csv('/srv/data/my_shared_data_folder/rafi/2022_Business_Academic_QCQ_grocery.csv')\n",
    "stores_2022.drop(['Unnamed: 0'],inplace=True,axis=1)\n",
    "territories = ['PR', 'FM', 'MP', 'GU', 'VI', 'MH']\n",
    "stores_2022 = stores_2022.drop(stores_2022[stores_2022['STATE'].isin(territories)].index)\n",
    "stores_2022.head()\n",
    "#Filter Grocery stores by sic (starting with 5411)\n",
    "grocery_sic = stores_2022.loc[stores_2022[['PRIMARY SIC CODE', 'SIC CODE', 'SIC CODE 1', 'SIC CODE 2', 'SIC CODE 3', 'SIC CODE 4']].astype(str).apply(lambda x: x.str.startswith('5411','5311')).any(axis=1)]\n",
    "grocery_sic.head()"
   ]
  },
  {
   "cell_type": "code",
   "execution_count": null,
   "id": "6595901b-b44d-49b1-a61b-ea62c1199ea7",
   "metadata": {
    "tags": []
   },
   "outputs": [],
   "source": [
    "#Filter Grocery stores by sic (starting with 5411)\n",
    "grocery_sic = stores_2022.loc[stores_2022[['PRIMARY SIC CODE', 'SIC CODE', 'SIC CODE 1', 'SIC CODE 2', 'SIC CODE 3', 'SIC CODE 4']].astype(str).apply(lambda x: x.str.startswith('5411')).any(axis=1)]\n",
    "grocery_sic.head()\n",
    "#Find top ten parent companies\n",
    "grocery_t10_22 = grocery_sic.groupby('PARENT NUMBER', dropna=False).size().reset_index(name='COUNT')\n",
    "grocery_t10_22.sort_values('COUNT', ascending=False, inplace=True)\n",
    "grocery_t10_22.reset_index(drop=True,inplace=True)\n",
    "# Create other row\n",
    "other_row = grocery_t10_22.iloc[11:]\n",
    "other_column = other_row['COUNT'].sum()\n",
    "# Remove other rows\n",
    "grocery_t10_22 = grocery_t10_22.iloc[:11]\n",
    "grocery_t10_22.loc[len(grocery_t10_22)] = [\"Other\", other_column]\n",
    "grocery_t10_22['PARENT NUMBER'] = grocery_t10_22['PARENT NUMBER'].astype(str)\n",
    "grocery_t10_22['Percent'] = grocery_t10_22['COUNT'] / len(grocery_sic) * 100\n",
    "grocery_t10_22.head(20) "
   ]
  },
  {
   "cell_type": "code",
   "execution_count": null,
   "id": "79a24b47-3bf2-4f91-9034-f51ab284a1b6",
   "metadata": {
    "tags": []
   },
   "outputs": [],
   "source": [
    "#Filter Grocery stores by sic (starting with 5411)\n",
    "grocery_sic = stores_2022.loc[stores_2022[['PRIMARY SIC CODE', 'SIC CODE', 'SIC CODE 1', 'SIC CODE 2', 'SIC CODE 3', 'SIC CODE 4']].astype(str).apply(lambda x: x.str.startswith('5411')).any(axis=1)]\n",
    "grocery_sic.head()\n",
    "#Find top ten parent companies\n",
    "grocery_t10_22 = grocery_sic.groupby('PARENT NUMBER', dropna=False).size().reset_index(name='COUNT')\n",
    "grocery_t10_22.sort_values('COUNT', ascending=False, inplace=True)\n",
    "grocery_t10_22.reset_index(drop=True,inplace=True)\n",
    "# Create other row\n",
    "other_row = grocery_t10_22.iloc[11:]\n",
    "other_column = other_row['COUNT'].sum()\n",
    "# Remove other rows\n",
    "grocery_t10_22 = grocery_t10_22.iloc[:11]\n",
    "grocery_t10_22.loc[len(grocery_t10_22)] = [\"Other\", other_column]\n",
    "grocery_t10_22['PARENT NUMBER'] = grocery_t10_22['PARENT NUMBER'].astype(str)\n",
    "grocery_t10_22['Percent'] = grocery_t10_22['COUNT'] / len(grocery_sic) * 100\n",
    "grocery_t10_22.head(20) \n",
    "#trying to add column of the employee number \n",
    "EmployeeNumber = grocery_sic['LOCATION EMPLOYEE SIZE CODE']\n",
    "#EmployeeNumber.append(grocery_sic)\n",
    "#EmployeeNumber\n",
    "EmployeeNumber['LOCATION EMPLOYEE SIZE CODE'] = grocery_t10_22['LOCATION EMPLOYEE SIZE CODE']\n",
    "EmployeeNumber\n"
   ]
  },
  {
   "cell_type": "code",
   "execution_count": null,
   "id": "cdf428d3-8074-4f9e-a36a-95b1bbf5dd0d",
   "metadata": {
    "tags": []
   },
   "outputs": [],
   "source": [
    "import matplotlib.pyplot as plt\n",
    "\n",
    "fig, ax = plt.subplots()\n",
    "\n",
    "#parent number would be on the  x-axis, percentage would be on the y-axis \n",
    "PARENTNUMBER = ['nan', '586331.0', '450730389.0', '5889993.0','7521503.0','441412723.0','5995907.0','200026573.0','238136725.0','714232249.0','433922353.0','other']\n",
    "COUNT = [77818, 11939, 6814, 4397, 3574,2499,2493,2217,2105,1760,1755,40514]\n",
    "\n",
    "#bar_labels = ['red']\n",
    "#bar_colors = ['tab:red', 'tab:blue', 'tab:red', 'tab:orange']\n",
    "\n",
    "#ax.bar(fruits, counts, label=bar_labels, color=bar_colors)\n",
    "ax.set_xlabel('PARENT NUMBER')\n",
    "ax.set_ylabel('COUNT')\n",
    "ax.set_title(' GRAPH')\n",
    "#ax.legend(title='Fruit color')\n",
    "\n",
    "plt.show()\n",
    "\n"
   ]
  },
  {
   "cell_type": "code",
   "execution_count": null,
   "id": "29fcc893-5e60-456b-b04a-e43af9c8340e",
   "metadata": {
    "tags": []
   },
   "outputs": [],
   "source": [
    "import matplotlib.pyplot as plt\n",
    "\n",
    "fig, ax = plt.subplots()\n",
    "\n",
    "#parent number would be on the  x-axis, percentage would be on the y-axis \n",
    "PARENTNUMBER = ['nan', '586331.0', '450730389.0', '5889993.0','7521503.0','441412723.0','5995907.0','200026573.0','238136725.0','714232249.0','433922353.0','other']\n",
    "COUNT = [77818, 11939, 6814, 4397, 3574,2499,2493,2217,2105,1760,1755,40514]\n",
    "\n",
    "# Add the bar graph\n",
    "ax.bar(PARENTNUMBER, COUNT)\n",
    "\n",
    "ax.set_xlabel('PARENT NUMBER')\n",
    "ax.set_ylabel('COUNT')\n",
    "ax.set_title(' Count of Stores throughout the Country')\n",
    "\n",
    "# Rotate the x-axis labels for better visibility\n",
    "plt.xticks(rotation=45, ha='right')\n",
    "\n",
    "plt.show()\n"
   ]
  },
  {
   "cell_type": "code",
   "execution_count": null,
   "id": "19ae8b7e-07fd-4ddf-99fc-556a67850c3e",
   "metadata": {
    "tags": []
   },
   "outputs": [],
   "source": [
    "x = grocery_t10_22['PARENT NUMBER']\n",
    "y = grocery_t10_22['COUNT']\n",
    "\n",
    "\n",
    "\n",
    "plt.bar(x, y)\n",
    "plt.xlabel('PARENT NUMBER')\n",
    "plt.ylabel('COUNT')\n",
    "plt.title('Sales by Store Throughout Country')\n",
    "plt.xticks(rotation=90)  # Rotate x-axis labels if needed\n",
    "plt.show()"
   ]
  },
  {
   "cell_type": "code",
   "execution_count": null,
   "id": "733fda8d-6722-421f-884e-344d4bcf6a0a",
   "metadata": {},
   "outputs": [],
   "source": [
    "x = grocery_t10_22['PARENT NUMBER']\n",
    "y = grocery_t10_22['COUNT']\n",
    "\n",
    "\n",
    "plt.bar(x, y)\n",
    "plt.xlabel('PARENT NUMBER')\n",
    "plt.ylabel('COUNT')\n",
    "plt.title('Sales by Store Throughout Country')\n",
    "plt.xticks(rotation=90)  # Rotate x-axis labels if needed\n",
    "plt.show()"
   ]
  },
  {
   "cell_type": "code",
   "execution_count": null,
   "id": "ad6ef1b8-650f-4bb7-8ec9-bf3884f452df",
   "metadata": {
    "tags": []
   },
   "outputs": [],
   "source": [
    "dataset.count()"
   ]
  },
  {
   "cell_type": "code",
   "execution_count": null,
   "id": "68b6ed74-4be2-47e5-9fc7-340bd2d661ec",
   "metadata": {},
   "outputs": [],
   "source": []
  },
  {
   "cell_type": "code",
   "execution_count": null,
   "id": "2670157c-c21c-4184-aec8-76e8541c1644",
   "metadata": {
    "tags": []
   },
   "outputs": [],
   "source": [
    "dataset_group = dataset.groupby(['COMPANY','PARENT NUMBER']).tail().count()\n",
    "#dataset.drop(columns=['Unnamed: 0'])\n",
    "dataset_group\n",
    "#Do a bar chart to see how the market share is divided by parent company "
   ]
  },
  {
   "cell_type": "code",
   "execution_count": null,
   "id": "791300ab-788f-4002-899e-da9bcd5bf388",
   "metadata": {
    "tags": []
   },
   "outputs": [],
   "source": [
    "StateData = dataset.groupby(['STATE','PARENT NUMBER']).count()\n",
    "#StateData = df[df['STATE'] == 'GA']\n",
    "StateData\n"
   ]
  },
  {
   "cell_type": "code",
   "execution_count": null,
   "id": "3f27c477-470c-411e-b0bd-222d67440f96",
   "metadata": {
    "tags": []
   },
   "outputs": [],
   "source": [
    "StateData = dataset.groupby(['STATE']).count()\n",
    "plt.figure(figsize=(17,6))\n",
    "plt.bar(StateData[STATE],StateData[PARENTNUMBER])\n",
    "plt.title('Grocery Stores By State')\n",
    "plt.xlabel('STATE')\n",
    "plt.ylabel('PARENT NUMBER')\n",
    "plt.show()"
   ]
  },
  {
   "cell_type": "code",
   "execution_count": null,
   "id": "9e49371d-d292-46f2-874d-89343d2e1461",
   "metadata": {
    "tags": []
   },
   "outputs": [],
   "source": [
    "GroceryStoresInGA = StateData.groupby('COMPANY')\n",
    "GroceryStoresInGA"
   ]
  },
  {
   "cell_type": "code",
   "execution_count": null,
   "id": "4a1dd2c8-4c25-49f0-9bbd-fcdee73f2f69",
   "metadata": {},
   "outputs": [],
   "source": [
    "\n",
    "\n",
    "#Filter Grocery stores by sic (starting with 5411)\n",
    "grocery_sic = stores_2022.loc[stores_2022[['PRIMARY SIC CODE', 'SIC CODE', 'SIC CODE 1', 'SIC CODE 2', 'SIC CODE 3', 'SIC CODE 4']].astype(str).apply(lambda x: x.str.startswith('5411')).any(axis=1)]\n",
    "grocery_sic.head()\n",
    "#Find top ten parent companies\n",
    "grocery_t10_22 = grocery_sic.groupby('PARENT NUMBER', dropna=False).size().reset_index(name='COUNT')\n",
    "grocery_t10_22.sort_values('COUNT', ascending=False, inplace=True)\n",
    "grocery_t10_22.reset_index(drop=True,inplace=True)\n",
    "# Create other row\n",
    "other_row = grocery_t10_22.iloc[11:]\n",
    "other_column = other_row['COUNT'].sum()\n",
    "# Remove other rows\n",
    "grocery_t10_22 = grocery_t10_22.iloc[:11]\n",
    "grocery_t10_22.loc[len(grocery_t10_22)] = [\"Other\", other_column]\n",
    "grocery_t10_22['PARENT NUMBER'] = grocery_t10_22['PARENT NUMBER'].astype(str)\n",
    "grocery_t10_22['Percent'] = grocery_t10_22['COUNT'] / len(grocery_sic) * 100\n",
    "grocery_t10_22.head(20) "
   ]
  },
  {
   "cell_type": "code",
   "execution_count": null,
   "id": "1acdcd38-dfb0-4d53-884e-9add89e652d1",
   "metadata": {},
   "outputs": [],
   "source": [
    "#Filter Grocery stores by sic (starting with 5411)\n",
    "grocery_sic = stores_2022.loc[stores_2022[['PRIMARY SIC CODE', 'SIC CODE', 'SIC CODE 1', 'SIC CODE 2', 'SIC CODE 3', 'SIC CODE 4']].astype(str).apply(lambda x: x.str.startswith('5411')).any(axis=1)]\n",
    "grocery_sic.head()\n",
    "#Find top ten parent companies\n",
    "grocery_t10_22 = grocery_sic.groupby('PARENT NUMBER', dropna=False).size().reset_index(name='COUNT')\n",
    "grocery_t10_22.sort_values('COUNT', ascending=False, inplace=True)\n",
    "grocery_t10_22.reset_index(drop=True,inplace=True)\n",
    "# Create other row\n",
    "other_row = grocery_t10_22.iloc[11:]\n",
    "other_column = other_row['COUNT'].sum()\n",
    "# Remove other rows\n",
    "grocery_t10_22 = grocery_t10_22.iloc[:11]\n",
    "grocery_t10_22.loc[len(grocery_t10_22)] = [\"Other\", other_column]\n",
    "grocery_t10_22['PARENT NUMBER'] = grocery_t10_22['PARENT NUMBER'].astype(str)\n",
    "grocery_t10_22['Percent'] = grocery_t10_22['COUNT'] / len(grocery_sic) * 100\n",
    "grocery_t10_22.head(20) \n",
    "\n"
   ]
  },
  {
   "cell_type": "code",
   "execution_count": null,
   "id": "02c17b9a-d394-48a6-9603-d03556f8718d",
   "metadata": {},
   "outputs": [],
   "source": [
    "x = grocery_t10_22['PARENT NUMBER']\n",
    "y = stores_2022['PARENT ACTUAL SALES VOLUME']\n",
    "\n",
    "\n",
    "\n",
    "plt.bar(x,y)\n",
    "plt.xlabel('PARENT NUMBER')\n",
    "plt.ylabel('PARENT ACTUAL SALES VOLUME')\n",
    "plt.title('Sales by Store Throughout Country')\n",
    "plt.xticks(rotation=90)  # Rotate x-axis labels if needed\n",
    "plt.show()\n"
   ]
  },
  {
   "cell_type": "code",
   "execution_count": null,
   "id": "b65a12ff-4e9b-457f-92fd-05a7c7a3dc0a",
   "metadata": {
    "tags": []
   },
   "outputs": [],
   "source": [
    "IL_SIC3 = grocery_sic[(grocery_sic['PARENT NUMBER']== 5995907.0) & (grocery_sic['STATE'] == 'IL')]\n",
    "IL_SIC3\n"
   ]
  },
  {
   "cell_type": "code",
   "execution_count": null,
   "id": "a0f1a896-6953-4183-8d19-ac1d4cff7501",
   "metadata": {
    "tags": []
   },
   "outputs": [],
   "source": [
    "il = grocery_sic.loc[grocery_sic[\"STATE\"] == 'IL']\n",
    "il.loc[il[\"PARENT NUMBER\"] == 238136725.0]"
   ]
  },
  {
   "cell_type": "code",
   "execution_count": null,
   "id": "f899cfb1-ce0c-4226-afb2-5bddcdd0feca",
   "metadata": {},
   "outputs": [],
   "source": [
    "#FINDS IL employee size per parent company \n",
    "groc_emp_il = il.groupby('PARENT NUMBER', dropna=False).sum().reset_index()[['PARENT NUMBER','EMPLOYEE SIZE (5) - LOCATION']]\n",
    "groc_emp_il.sort_values('EMPLOYEE SIZE (5) - LOCATION', ascending=False, inplace=True)\n",
    "groc_emp_il.reset_index(drop=True,inplace=True)\n",
    "groc_emp_il['PARENT NUMBER'] = groc_emp_il['PARENT NUMBER'].astype('str')\n",
    "\n",
    "test = groc_emp_il.head(10)"
   ]
  },
  {
   "cell_type": "code",
   "execution_count": null,
   "id": "99109645-a0e4-4288-8588-d01fa8a79117",
   "metadata": {
    "tags": []
   },
   "outputs": [],
   "source": [
    "test"
   ]
  },
  {
   "cell_type": "code",
   "execution_count": null,
   "id": "e735203a-8043-4161-a1de-ef36ea3c5c5b",
   "metadata": {
    "tags": []
   },
   "outputs": [],
   "source": [
    "x = test['PARENT NUMBER']\n",
    "y = test['EMPLOYEE SIZE (5) - LOCATION']\n",
    "# Fill missing values with a constant\n",
    "x"
   ]
  },
  {
   "cell_type": "code",
   "execution_count": null,
   "id": "026fd212-6744-453b-a3fa-203b86c3bb1b",
   "metadata": {
    "tags": []
   },
   "outputs": [],
   "source": [
    "#x = groc_emp_il['PARENT NUMBER']\n",
    "#y = groc_emp_il['EMPLOYEE SIZE (5) - LOCATION']\n",
    "# Fill missing values with a constant\n",
    "\n",
    "\n",
    "#plotting the data\n",
    "plt.bar(x, y)\n",
    "plt.xlabel('PARENT NUMBER')\n",
    "plt.ylabel('EMPLOYEE SIZE (5) - LOCATION')\n",
    "plt.title('Employee Size by Store Throughout Country')\n",
    "plt.xticks(rotation=90)  # Rotate x-axis labels if needed\n",
    "plt.show()\n",
    "\n",
    "\n",
    "#checking to see if the data types were the same \n",
    "'''print(groc_emp_il.dtypes)'''\n"
   ]
  },
  {
   "cell_type": "code",
   "execution_count": null,
   "id": "98ef8ffc-2d41-4cec-a70b-fc98e6a93fbc",
   "metadata": {
    "tags": []
   },
   "outputs": [],
   "source": [
    "y"
   ]
  },
  {
   "cell_type": "code",
   "execution_count": null,
   "id": "2d52589e-6456-4b69-bf2f-795646888e87",
   "metadata": {
    "tags": []
   },
   "outputs": [],
   "source": [
    "# top 10 parent companies, with amount of \n",
    "\n",
    "groc_il = il.groupby('PARENT NUMBER', dropna=False).count().reset_index()[['PARENT NUMBER','COMPANY']]\n",
    "groc_il.sort_values('COMPANY', ascending=False, inplace=True)\n",
    "groc_il.reset_index(drop=True,inplace=True)\n",
    "\n",
    "groc_tp10_il = groc_il.iloc[:11]\n",
    "other_groc = groc_il['COMPANY'].sum() - groc_tp10_il['COMPANY'].sum()\n",
    "\n",
    "# groc_tp10_il.iloc[11, :] = {'PARENT NUMBER': 'Other', 'COMPANY': other_groc}\n",
    "\n",
    "groc_tp10_il.loc[len(groc_tp10_il.index)] = [\"Other\", other_groc]\n",
    "groc_tp10_il['PARENT NUMBER'] = groc_tp10_il['PARENT NUMBER'].astype(str)\n",
    "groc_tp10_il.loc[:, 'Percent'] = groc_tp10_il.loc[:, 'COMPANY'] / len(il) * 100\n",
    "#len(il)\n",
    "groc_tp10_il.rename(columns={\"COMPANY\":\"COUNT\"})\n",
    "#il.head()"
   ]
  },
  {
   "cell_type": "code",
   "execution_count": null,
   "id": "e80c1a24-66da-4328-b867-a008f02e3c6b",
   "metadata": {
    "tags": []
   },
   "outputs": [],
   "source": [
    "il"
   ]
  },
  {
   "cell_type": "code",
   "execution_count": null,
   "id": "fbb67823-2f23-4712-8b76-bea054fd1ac4",
   "metadata": {
    "tags": []
   },
   "outputs": [],
   "source": [
    "#FINDS IL employee size per parent company \n",
    "groc_sales_il = il.groupby('PARENT NUMBER', dropna=False).sum().reset_index()[['PARENT NUMBER','PARENT ACTUAL SALES VOLUME']]\n",
    "groc_sales_il.sort_values('PARENT ACTUAL SALES VOLUME', ascending=False, inplace=True)\n",
    "groc_sales_il.reset_index(drop=True,inplace=True)\n",
    "\n",
    "groc_sales_il.head(10)\n",
    "\n",
    "groc_sales_il['PARENT NUMBER'] = top10_sales_il['PARENT NUMBER'].astype('str') \n",
    "\n",
    "top10_sales_il = groc_sales_il.head(10)"
   ]
  },
  {
   "cell_type": "code",
   "execution_count": null,
   "id": "e6b33fdf-d7c8-45fe-aa96-1a6e679edebe",
   "metadata": {
    "tags": []
   },
   "outputs": [],
   "source": [
    "groc_sales_il.head(30)\n"
   ]
  },
  {
   "cell_type": "code",
   "execution_count": null,
   "id": "cc201085-9a5b-44d9-81ff-d5ea12ec3f3f",
   "metadata": {
    "tags": []
   },
   "outputs": [],
   "source": [
    "#changes the Parent number into a catergory\n",
    "#top10_sales_il['PARENT NUMBER'] = top10_sales_il['PARENT NUMBER'].astype('str')   \n",
    "\n",
    "x = top10_sales_il['PARENT NUMBER']\n",
    "y = top10_sales_il['PARENT ACTUAL SALES VOLUME']\n",
    "# Fill missing values with a constant\n",
    "\n",
    "#plotting the data\n",
    "plt.bar(x, y)\n",
    "plt.xlabel('PARENT NUMBER')\n",
    "plt.ylabel('PARENT ACTUAL SALES VOLUME')\n",
    "plt.title('Company Sales Throughout Country')\n",
    "plt.xticks(rotation=90)  # Rotate x-axis labels if needed\n",
    "plt.show()"
   ]
  },
  {
   "cell_type": "code",
   "execution_count": null,
   "id": "f47199b9-2033-46b0-ab60-700bfafc1205",
   "metadata": {},
   "outputs": [],
   "source": [
    "# creating a list\n",
    "Walmart_Owned_Stores = ['Asda','Jet','Massmart','Bare necessities',\n",
    "'Vudu','Equate','Moosejaw','Eloquii','ModCloth','Flipkart','Subsidiary','Parcel'\n",
    "]\n",
    "#most the stores owned by walmart aren't grocery stores\n",
    "#walmart inc isn't exclusively a grocery store, they contain clothing, etc\n",
    "#'Asda' is a grocery store. It's a UK-based supermarket retailer owned by Walmart. 'Massmart' is also a South African-based retail group owned by Walmart, it consists of several chains, some of which include grocery stores.\n",
    "\n",
    "\n",
    "\n",
    "\n",
    "Costco_Owned_Stores = ['Kirkland Signature','Starbucks Coffee','Perrigo','Zanetti','Duracell','Bumble Bee','Keurig','Niagara Bottling','Jelly Belly','Sonova','Grey Goose Vodka'\n",
    "]\n",
    "#most of these aren't grocery stores\n",
    "#Kirkland Signature' represents a brand directly associated with Costco as it is Costco's private label brand everything else isn't a grocery store\n",
    "\n",
    "\n",
    "\n",
    "\n",
    "Kroger_Owned_Store = ['City Market','Dillons','Food 4 Less','Foods Co','Fred Meyer','Frys','Gerbes','Jay C Food Store','King Soopers','Kroger','Metro Market','Pay-Less Super Markets','QFC','Ralphs','Ruler','Bakers','Pay-less Super Markets,','Pickn Save','QFC','Ralphs','Ruler Food','Smiths Food and Drug']\n",
    "\n",
    "#all of these are grocery stores\n",
    "#some of these contain 's in the name but I didn't include it\n",
    "#those are baker's,fry's,& Mariano's, Pickn' Save, Smith's Food and Drug\n",
    "\n",
    "\n",
    "\n",
    "Albertsons_Owned_Stores= ['Safeway','Tom Thumb','Randalls','Carrs','Vons','Carrs-Safeway','Pavillions','United Supermarkets','Shaw’s','Plated','Jewel-Osco','Acme Markets','Star Market','Haggen']\n",
    "#Plated is a meal kit service\n",
    "#balducci's,Shaw's, don't have the '\n",
    "print(Kroger_Owned_Store)\n"
   ]
  },
  {
   "cell_type": "code",
   "execution_count": null,
   "id": "aa65ad29-6037-45be-86c3-e13c1fc89f19",
   "metadata": {},
   "outputs": [],
   "source": [
    "'2 AMIGOS',\n",
    "'AMIGOS UNITED',\n",
    "'LOS AMIGOS MARKET',\n",
    "'LOS AMIGOS SUPERMARKET',\n",
    "\n"
   ]
  },
  {
   "cell_type": "code",
   "execution_count": null,
   "id": "67fb44bb-d7ec-4566-9072-e089df14b0e4",
   "metadata": {},
   "outputs": [],
   "source": [
    "stores_2022.loc[stores_2022['COMPANY'] == \"TIENDA LOS AMIGOS\"]\n",
    "\n",
    "#so if not franchise remove,send list of franchise to david\n",
    "#lucky change to the store names your looking up"
   ]
  },
  {
   "cell_type": "code",
   "execution_count": null,
   "id": "ad6710a8-261c-44fc-bebe-192ddeccb11c",
   "metadata": {
    "tags": []
   },
   "outputs": [],
   "source": []
  },
  {
   "cell_type": "code",
   "execution_count": null,
   "id": "0d9f8135-9718-4757-8a54-89875cc764a1",
   "metadata": {},
   "outputs": [],
   "source": []
  }
 ],
 "metadata": {
  "kernelspec": {
   "display_name": "Python 3 (ipykernel)",
   "language": "python",
   "name": "python3"
  },
  "language_info": {
   "codemirror_mode": {
    "name": "ipython",
    "version": 3
   },
   "file_extension": ".py",
   "mimetype": "text/x-python",
   "name": "python",
   "nbconvert_exporter": "python",
   "pygments_lexer": "ipython3",
   "version": "3.9.7"
  }
 },
 "nbformat": 4,
 "nbformat_minor": 5
}
