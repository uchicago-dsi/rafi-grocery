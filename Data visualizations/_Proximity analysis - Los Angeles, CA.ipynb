{
 "cells": [
  {
   "cell_type": "markdown",
   "id": "2d028c6c-4828-44ed-abc3-650e6f8c5983",
   "metadata": {},
   "source": [
    "### Data Visualizations of 2022 Business Data - County Maps \n",
    "\n",
    "Goal:\n",
    "\n",
    "A Jupyter notebook that produces a map dividing an area of interest into regions according to how many grocery stores the population has access to."
   ]
  },
  {
   "cell_type": "code",
   "execution_count": 5,
   "id": "651e8668-3e6c-49df-955a-7afd4a129d71",
   "metadata": {},
   "outputs": [],
   "source": [
    "import simulation as sim \n",
    "import marketmaker as mm \n",
    "import pandas as pd\n",
    "import geopandas as gpd \n",
    "import folium\n",
    "import plotly.express as px\n",
    "import warnings\n",
    "warnings.filterwarnings('ignore')\n",
    "pd.set_option('display.max_columns', None)"
   ]
  },
  {
   "cell_type": "code",
   "execution_count": null,
   "id": "28fdf529-29e2-444d-bcc9-72b399c36070",
   "metadata": {},
   "outputs": [],
   "source": [
    "#reading in dataset that uses marketmaker function that cleans the dataset and locates just the grocery stores\n",
    "grocery22 = mm.supermarket_generator('/srv/data/my_shared_data_folder/rafi/2022_Business_Academic_QCQ_grocery.csv','costco_2022.csv','2022_Business_Academic_QCQ_supercenters.csv')\n",
    "supermarket22 = mm.group(grocery22)"
   ]
  },
  {
   "cell_type": "markdown",
   "id": "7205b3a1-1880-45e9-b3ca-7dc8456041b8",
   "metadata": {},
   "source": [
    "# Los Angeles, CA Area Analysis \n",
    "\n",
    "### WEST COAST"
   ]
  },
  {
   "cell_type": "code",
   "execution_count": null,
   "id": "29f26138-1b29-4a42-b4fe-ceeb56dd31e4",
   "metadata": {},
   "outputs": [],
   "source": [
    "#read in the census data file \n",
    "census_counties = gpd.read_file('../../rafi-grocery/Data/County Boundaries /cb_2018_us_county_20m.shp')\n",
    "census_counties.head()"
   ]
  },
  {
   "cell_type": "code",
   "execution_count": null,
   "id": "a2cf3f07-ebd7-42ab-9b32-1fa8fea5c772",
   "metadata": {},
   "outputs": [],
   "source": [
    "#removing US territories \n",
    "territories = ['72', '69', '66', '78','60','02','15']\n",
    "updated_census_counties = census_counties.drop(census_counties[census_counties['STATEFP'].isin(territories)].index)\n",
    "updated_census_counties.head()\n",
    "\n",
    "updated_census_counties['COUNTYFP'] = updated_census_counties['COUNTYFP'].astype(float)\n",
    "updated_census_counties.head()"
   ]
  },
  {
   "cell_type": "code",
   "execution_count": null,
   "id": "f2f34157-f300-41ac-810a-55ba1ea1e3bc",
   "metadata": {},
   "outputs": [],
   "source": [
    "#States with their numbers and abbreviations \n",
    "num_abb =  {\n",
    "    '01': 'AL',\n",
    "    '02': 'AK',\n",
    "    '04': 'AZ',\n",
    "    '05': 'AR',\n",
    "    '06': 'CA',\n",
    "    '08': 'CO',\n",
    "    '09': 'CT',\n",
    "    '10': 'DE',\n",
    "    '12': 'FL',\n",
    "    '13': 'GA',\n",
    "    '15': 'HI',\n",
    "    '16': 'ID',\n",
    "    '17': 'IL',\n",
    "    '18': 'IN',\n",
    "    '19': 'IA',\n",
    "    '20': 'KS',\n",
    "    '21': 'KY',\n",
    "    '22': 'LA',\n",
    "    '23': 'ME',\n",
    "    '24': 'MD',\n",
    "    '25': 'MA',\n",
    "    '26': 'MI',\n",
    "    '27': 'MN',\n",
    "    '28': 'MS',\n",
    "    '29': 'MO',\n",
    "    '30': 'MT',\n",
    "    '31': 'NE',\n",
    "    '32': 'NV',\n",
    "    '33': 'NH',\n",
    "    '34': 'NJ',\n",
    "    '35': 'NM',\n",
    "    '36': 'NY',\n",
    "    '37': 'NC',\n",
    "    '38': 'ND',\n",
    "    '39': 'OH',\n",
    "    '40': 'OK',\n",
    "    '41': 'OR',\n",
    "    '42': 'PA',\n",
    "    '44': 'RI',\n",
    "    '45': 'SC',\n",
    "    '46': 'SD',\n",
    "    '47': 'TN',\n",
    "    '48': 'TX',\n",
    "    '49': 'UT',\n",
    "    '50': 'VT',\n",
    "    '51': 'VA',\n",
    "    '53': 'WA',\n",
    "    '54': 'WV',\n",
    "    '55': 'WI',\n",
    "    '56': 'WY',\n",
    "    '11': 'DC',\n",
    "    }\n"
   ]
  },
  {
   "cell_type": "code",
   "execution_count": null,
   "id": "f109cc2c-a76d-4fa5-b0fe-0b43571fd77f",
   "metadata": {},
   "outputs": [],
   "source": [
    "#replaces the STATEFP column values with state abbreviations from our data\n",
    "updated_census_counties['STATEFP'] = updated_census_counties['STATEFP'].replace(num_abb)\n",
    "updated_census_counties.head()"
   ]
  },
  {
   "cell_type": "code",
   "execution_count": null,
   "id": "619cfddd-1225-4409-ace7-d3016ad31a32",
   "metadata": {},
   "outputs": [],
   "source": [
    "#merging census data with our supermarkets data\n",
    "#first line of code renames the STATEFP and COUNTYFP columns to match our data \n",
    "census_counties_2 = updated_census_counties.rename(columns={'STATEFP': 'STATE','COUNTYFP': 'COUNTY CODE'})\n",
    "censusboundaries= pd.merge(census_counties_2, supermarkets, on=['STATE', 'COUNTY CODE'], how='left')\n",
    "censusboundaries"
   ]
  },
  {
   "cell_type": "code",
   "execution_count": null,
   "id": "8d2c7761-57bf-4970-8fa8-cd90a7a81902",
   "metadata": {
    "tags": []
   },
   "outputs": [],
   "source": [
    "#filtering dataframe to just california \n",
    "cali_data =censusboundaries[censusboundaries['STATE'] == 'CA']\n",
    "cali_data.plot()"
   ]
  },
  {
   "cell_type": "code",
   "execution_count": null,
   "id": "2cbae48d-3a4f-4e16-91e0-996a822566ec",
   "metadata": {
    "tags": []
   },
   "outputs": [],
   "source": [
    "cali_data.NAME.unique()"
   ]
  },
  {
   "cell_type": "code",
   "execution_count": null,
   "id": "9879fb2c-67df-4739-8e7d-f7b768622c78",
   "metadata": {
    "tags": []
   },
   "outputs": [],
   "source": [
    "#picking the desrired counties for the LA area - Los Angeles, Orange, Riverside, San Bernadino, Ventura\n",
    "desired_counties = ['Los Angeles', 'Orange', 'Riverside','San Bernardino', 'Ventura']  \n",
    "\n",
    "#Filtering original dataframe by these desired counties for just LA and plotting\n",
    "la_data = cali_data[cali_data['NAME'].isin(desired_counties)]\n",
    "la_data.plot()\n",
    "\n"
   ]
  },
  {
   "cell_type": "code",
   "execution_count": null,
   "id": "b2df2030-f328-4156-967a-6d11f39dd571",
   "metadata": {
    "tags": []
   },
   "outputs": [],
   "source": [
    "#plotting the above map using plotly \n",
    "fig, ax = plt.subplots(figsize=(10, 10))\n",
    "la_data.plot(ax=ax, column='NAME', cmap='Blues', edgecolor='gray', linewidth=0.8)\n",
    "ax.set_title('Los Angeles desired counties')\n",
    "ax.set_axis_off()\n",
    "plt.show()"
   ]
  },
  {
   "cell_type": "code",
   "execution_count": null,
   "id": "a02baece-13cc-4bc1-a455-07b8a2950297",
   "metadata": {
    "tags": []
   },
   "outputs": [],
   "source": [
    "## Kroger Stores only  in LA \n",
    "\n",
    "kro_la = la_data.query(\"`STORE TYPE` == 'KROGER'\")"
   ]
  },
  {
   "cell_type": "code",
   "execution_count": null,
   "id": "cec4129b-4a53-489d-af0f-3860d9c4d574",
   "metadata": {
    "tags": []
   },
   "outputs": [],
   "source": [
    "## Albertson Stores only in LA \n",
    "\n",
    "alb_la = la_data.query(\"`STORE TYPE` == 'ALBERTSONS'\")"
   ]
  },
  {
   "cell_type": "markdown",
   "id": "1d167772-23f3-4da5-8b74-4ca9c6e24a94",
   "metadata": {},
   "source": [
    "# Proximity Analysis "
   ]
  },
  {
   "cell_type": "markdown",
   "id": "a981f9d3-4d5d-46be-a6af-90a8dc2ca638",
   "metadata": {},
   "source": [
    "### Data Visualizations of 2022 Business Data - County Maps \n",
    "\n",
    "\n",
    "Goal:\n",
    "\n",
    "A Jupyter notebook that produces a proximity analysis of Kroger-albertsons stores after the merger for a specific region"
   ]
  },
  {
   "cell_type": "code",
   "execution_count": null,
   "id": "eef6db3d-e2cb-4b58-8735-798c12b1d13b",
   "metadata": {},
   "outputs": [],
   "source": [
    "import folium\n",
    "from folium import Marker, GeoJson\n",
    "from folium.plugins import HeatMap\n",
    "\n",
    "import pandas as pd\n",
    "import geopandas as gpd"
   ]
  },
  {
   "cell_type": "code",
   "execution_count": null,
   "id": "5e99e97e-3aee-44df-a1b1-bee71c3f5d85",
   "metadata": {
    "tags": []
   },
   "outputs": [],
   "source": [
    "#making sure the geodataframe using the same coordinate reference system(crs)\n",
    "#however crs is not suitable for measuring distance \n",
    "print(kro_la.crs)\n",
    "print(alb_la.crs)"
   ]
  },
  {
   "cell_type": "code",
   "execution_count": null,
   "id": "dcf7011c-52cc-4e0b-b737-7c8ba26ba9a2",
   "metadata": {
    "tags": []
   },
   "outputs": [],
   "source": [
    "kro_la=kro_la.set_crs(2229,allow_override=True)\n",
    "alb_la=alb_la.set_crs(2229,allow_override=True)"
   ]
  },
  {
   "cell_type": "code",
   "execution_count": null,
   "id": "9c3125f0-fbfc-4577-9284-859bd3fd34bc",
   "metadata": {
    "tags": []
   },
   "outputs": [],
   "source": [
    "kro_la.crs"
   ]
  },
  {
   "cell_type": "code",
   "execution_count": null,
   "id": "791bc988-846b-45d1-b22d-650b962f6c87",
   "metadata": {
    "tags": []
   },
   "outputs": [],
   "source": [
    "#Creating a GeoSeries two_half_mile_buffer (2.5*5280 feet) \n",
    "\n",
    "distance=2.5*5280\n",
    "two_half_mile_buffer = kro_la.geometry.buffer(distance)\n",
    "two_half_mile_buffer.plot()"
   ]
  },
  {
   "cell_type": "markdown",
   "id": "f43dc5e0-b7a2-4d5d-be52-89935e9b8bb6",
   "metadata": {},
   "source": [
    "# Albertsons-Kroger Stores Locations - Los Angeles, CA"
   ]
  },
  {
   "cell_type": "code",
   "execution_count": null,
   "id": "ab3a6a25-891c-481e-aaff-832db64f0927",
   "metadata": {},
   "outputs": [],
   "source": [
    "# Create map with kroger and albertson stores \n",
    "\n",
    "m = folium.Map(location=[34.052235,-118.243683], zoom_start=11)\n",
    "\n",
    "\n",
    "for idx, row in kro_la.iterrows():\n",
    "    Marker([row['LATITUDE'], row['LONGITUDE']],popup='Kroger',icon=folium.Icon(color='darkblue',icon='K')).add_to(m)\n",
    "\n",
    "for idx, row in alb_la.iterrows():\n",
    "    Marker([row['LATITUDE'], row['LONGITUDE']],popup='Albertsons',icon=folium.Icon(color='darkred',icon='A')).add_to(m)\n",
    "    \n",
    "\n",
    "# Show the map\n",
    "m"
   ]
  },
  {
   "cell_type": "markdown",
   "id": "f4629d10-6627-4e4b-9f65-4a56ac8dea77",
   "metadata": {},
   "source": [
    "# 2.5 Mile Radius Analysis "
   ]
  },
  {
   "cell_type": "code",
   "execution_count": null,
   "id": "d4bce2d0-816f-4ba6-ad26-286bb3e3d11c",
   "metadata": {
    "tags": []
   },
   "outputs": [],
   "source": [
    "# Create map with kroger and albertson stores with 2.5 mile radius circles applied \n",
    "\n",
    "m = folium.Map(location=[34.052235,-118.243683], zoom_start=11)\n",
    "\n",
    "\n",
    "for idx, row in kro_la.iterrows():\n",
    "    folium.Marker([row['LATITUDE'], row['LONGITUDE']],popup='Kroger',icon=folium.Icon(color='darkblue',icon='K')).add_to(m)\n",
    "    folium.Circle(location=[row['LATITUDE'], row['LONGITUDE']],fill_color=\"#008080\",radius=distance,weight=1,color=\"#008080\").add_to(m)\n",
    "\n",
    "for idx, row in alb_la.iterrows():\n",
    "    folium.Marker([row['LATITUDE'], row['LONGITUDE']],popup='Albertsons',icon=folium.Icon(color='red',icon='A')).add_to(m)\n",
    "    \n",
    "# Plot each polygon on the map\n",
    "#folium.GeoJson(two_half_mile_buffer.to_crs(epsg=2229)).add_to(m)\n",
    "\n",
    "# Show the map\n",
    "m"
   ]
  },
  {
   "cell_type": "markdown",
   "id": "7be1c461-514a-4166-b934-b6b171d94f7e",
   "metadata": {},
   "source": [
    "From the map above, a 2.5 mile radius was used to examine proximity and we can see that many Kroger-Albertsons stores fall within this boundary."
   ]
  }
 ],
 "metadata": {
  "kernelspec": {
   "display_name": "Python 3 (ipykernel)",
   "language": "python",
   "name": "python3"
  },
  "language_info": {
   "codemirror_mode": {
    "name": "ipython",
    "version": 3
   },
   "file_extension": ".py",
   "mimetype": "text/x-python",
   "name": "python",
   "nbconvert_exporter": "python",
   "pygments_lexer": "ipython3",
   "version": "3.9.7"
  }
 },
 "nbformat": 4,
 "nbformat_minor": 5
}
